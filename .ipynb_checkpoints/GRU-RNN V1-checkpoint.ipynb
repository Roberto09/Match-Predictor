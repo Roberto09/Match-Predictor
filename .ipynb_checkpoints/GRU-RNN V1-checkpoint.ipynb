{
 "cells": [
  {
   "cell_type": "markdown",
   "metadata": {
    "heading_collapsed": true
   },
   "source": [
    "# Data Gathering"
   ]
  },
  {
   "cell_type": "code",
   "execution_count": 115,
   "metadata": {
    "hidden": true
   },
   "outputs": [],
   "source": [
    "from fastai.tabular import *"
   ]
  },
  {
   "cell_type": "code",
   "execution_count": 116,
   "metadata": {
    "hidden": true
   },
   "outputs": [],
   "source": [
    "df = pd.read_pickle('./data/ligamx/WLT2')"
   ]
  },
  {
   "cell_type": "code",
   "execution_count": 117,
   "metadata": {
    "hidden": true
   },
   "outputs": [],
   "source": [
    "df_ns = pd.read_pickle('./data/ligamx/WLT_new_season')"
   ]
  },
  {
   "cell_type": "code",
   "execution_count": 118,
   "metadata": {
    "hidden": true
   },
   "outputs": [],
   "source": [
    "df = pd.concat([df, df_ns])\n",
    "df.reset_index(drop = True, inplace = True)"
   ]
  },
  {
   "cell_type": "code",
   "execution_count": 119,
   "metadata": {
    "hidden": true
   },
   "outputs": [],
   "source": [
    "df.at[4948, \"JRD\"] = 4\n",
    "df.at[4949, \"JRD\"] = 4"
   ]
  },
  {
   "cell_type": "code",
   "execution_count": 120,
   "metadata": {
    "hidden": true
   },
   "outputs": [],
   "source": [
    "df.drop(df.index[range(4950, 4959)], inplace=True)\n",
    "df.reset_index(drop=True, inplace=True)"
   ]
  },
  {
   "cell_type": "code",
   "execution_count": 121,
   "metadata": {
    "hidden": true,
    "scrolled": true
   },
   "outputs": [],
   "source": [
    "# sorting\n",
    "import numpy as np\n",
    "df['sort_val'] = df.ANO + df.JRD/1000 + (df.TIPO == 'apertura')/10\n",
    "df = df.sort_values('sort_val').drop('sort_val', 1)"
   ]
  },
  {
   "cell_type": "code",
   "execution_count": 122,
   "metadata": {
    "hidden": true
   },
   "outputs": [],
   "source": [
    "df.reset_index(drop=True, inplace=True)"
   ]
  },
  {
   "cell_type": "code",
   "execution_count": 123,
   "metadata": {
    "hidden": true,
    "scrolled": true
   },
   "outputs": [],
   "source": [
    "teams = []\n",
    "\n",
    "for name in df.LOC.unique():\n",
    "    curr_df_loc = df[df.LOC == name].copy()\n",
    "    curr_df_loc[\"ES_LOC\"] = True\n",
    "    curr_df_loc['EQUIPO'] = curr_df_loc.LOC\n",
    "    curr_df_loc['EQUIPO_C'] = curr_df_loc.VIS\n",
    "    del curr_df_loc['LOC']\n",
    "    del curr_df_loc['VIS']\n",
    "    \n",
    "    curr_df_vis = df[df.VIS == name].copy()\n",
    "    curr_df_vis[\"ES_LOC\"] = False\n",
    "    curr_df_vis['EQUIPO'] = curr_df_vis.VIS\n",
    "    curr_df_vis['EQUIPO_C'] = curr_df_vis.LOC\n",
    "    del curr_df_vis['LOC']\n",
    "    del curr_df_vis['VIS']\n",
    "    \n",
    "    curr_df_vis['is_cero'] = curr_df_vis.RES == 0\n",
    "    curr_df_vis['is_two'] = curr_df_vis.RES == 2\n",
    "    \n",
    "    curr_df_vis.loc[curr_df_vis.is_cero == True, 'RES'] = 2\n",
    "    curr_df_vis.loc[curr_df_vis.is_two == True, 'RES'] = 0\n",
    "    \n",
    "    del curr_df_vis['is_cero']\n",
    "    del curr_df_vis['is_two']\n",
    "    \n",
    "    curr_df = pd.concat([curr_df_loc, curr_df_vis]).copy()\n",
    "    curr_df['sort_val'] = curr_df.ANO + curr_df.JRD/1000 + (curr_df.TIPO == 'apertura')/10\n",
    "    curr_df = curr_df.sort_values('sort_val').drop('sort_val', 1)\n",
    "    curr_df.reset_index(drop = True, inplace = True)\n",
    "    teams.append(curr_df)"
   ]
  },
  {
   "cell_type": "code",
   "execution_count": 124,
   "metadata": {
    "hidden": true
   },
   "outputs": [
    {
     "data": {
      "text/html": [
       "<div>\n",
       "<style scoped>\n",
       "    .dataframe tbody tr th:only-of-type {\n",
       "        vertical-align: middle;\n",
       "    }\n",
       "\n",
       "    .dataframe tbody tr th {\n",
       "        vertical-align: top;\n",
       "    }\n",
       "\n",
       "    .dataframe thead th {\n",
       "        text-align: right;\n",
       "    }\n",
       "</style>\n",
       "<table border=\"1\" class=\"dataframe\">\n",
       "  <thead>\n",
       "    <tr style=\"text-align: right;\">\n",
       "      <th></th>\n",
       "      <th>JRD</th>\n",
       "      <th>ANO</th>\n",
       "      <th>TIPO</th>\n",
       "      <th>L_POS</th>\n",
       "      <th>L_JJ</th>\n",
       "      <th>L_R_JG_JJ</th>\n",
       "      <th>L_R_JE_JJ</th>\n",
       "      <th>L_R_JP_JJ</th>\n",
       "      <th>L_R_GF_JJ</th>\n",
       "      <th>L_R_GC_JJ</th>\n",
       "      <th>...</th>\n",
       "      <th>V_R_JE_JJ</th>\n",
       "      <th>V_R_JP_JJ</th>\n",
       "      <th>V_R_GF_JJ</th>\n",
       "      <th>V_R_GC_JJ</th>\n",
       "      <th>V_R_DIF_JJ</th>\n",
       "      <th>V_R_PTS_JJ</th>\n",
       "      <th>RES</th>\n",
       "      <th>ES_LOC</th>\n",
       "      <th>EQUIPO</th>\n",
       "      <th>EQUIPO_C</th>\n",
       "    </tr>\n",
       "  </thead>\n",
       "  <tbody>\n",
       "    <tr>\n",
       "      <th>545</th>\n",
       "      <td>19.0</td>\n",
       "      <td>2019</td>\n",
       "      <td>apertura</td>\n",
       "      <td>8.0</td>\n",
       "      <td>17.0</td>\n",
       "      <td>0.411765</td>\n",
       "      <td>0.176471</td>\n",
       "      <td>0.411765</td>\n",
       "      <td>1.470588</td>\n",
       "      <td>1.352941</td>\n",
       "      <td>...</td>\n",
       "      <td>0.176471</td>\n",
       "      <td>0.470588</td>\n",
       "      <td>1.117647</td>\n",
       "      <td>1.411765</td>\n",
       "      <td>-0.294118</td>\n",
       "      <td>1.235294</td>\n",
       "      <td>0</td>\n",
       "      <td>False</td>\n",
       "      <td>atlas</td>\n",
       "      <td>monterrey</td>\n",
       "    </tr>\n",
       "    <tr>\n",
       "      <th>546</th>\n",
       "      <td>1.0</td>\n",
       "      <td>2020</td>\n",
       "      <td>clausura</td>\n",
       "      <td>0.0</td>\n",
       "      <td>0.0</td>\n",
       "      <td>0.000000</td>\n",
       "      <td>0.000000</td>\n",
       "      <td>0.000000</td>\n",
       "      <td>0.000000</td>\n",
       "      <td>0.000000</td>\n",
       "      <td>...</td>\n",
       "      <td>0.000000</td>\n",
       "      <td>0.000000</td>\n",
       "      <td>0.000000</td>\n",
       "      <td>0.000000</td>\n",
       "      <td>0.000000</td>\n",
       "      <td>0.000000</td>\n",
       "      <td>2</td>\n",
       "      <td>False</td>\n",
       "      <td>atlas</td>\n",
       "      <td>cruz azul</td>\n",
       "    </tr>\n",
       "    <tr>\n",
       "      <th>547</th>\n",
       "      <td>2.0</td>\n",
       "      <td>2020</td>\n",
       "      <td>clausura</td>\n",
       "      <td>3.0</td>\n",
       "      <td>1.0</td>\n",
       "      <td>1.000000</td>\n",
       "      <td>0.000000</td>\n",
       "      <td>0.000000</td>\n",
       "      <td>2.000000</td>\n",
       "      <td>1.000000</td>\n",
       "      <td>...</td>\n",
       "      <td>0.000000</td>\n",
       "      <td>1.000000</td>\n",
       "      <td>0.000000</td>\n",
       "      <td>1.000000</td>\n",
       "      <td>-1.000000</td>\n",
       "      <td>0.000000</td>\n",
       "      <td>0</td>\n",
       "      <td>True</td>\n",
       "      <td>atlas</td>\n",
       "      <td>puebla</td>\n",
       "    </tr>\n",
       "    <tr>\n",
       "      <th>548</th>\n",
       "      <td>3.0</td>\n",
       "      <td>2020</td>\n",
       "      <td>clausura</td>\n",
       "      <td>16.0</td>\n",
       "      <td>2.0</td>\n",
       "      <td>0.000000</td>\n",
       "      <td>0.500000</td>\n",
       "      <td>0.500000</td>\n",
       "      <td>0.000000</td>\n",
       "      <td>0.500000</td>\n",
       "      <td>...</td>\n",
       "      <td>0.000000</td>\n",
       "      <td>0.500000</td>\n",
       "      <td>1.000000</td>\n",
       "      <td>1.000000</td>\n",
       "      <td>0.000000</td>\n",
       "      <td>1.500000</td>\n",
       "      <td>0</td>\n",
       "      <td>False</td>\n",
       "      <td>atlas</td>\n",
       "      <td>tigres</td>\n",
       "    </tr>\n",
       "    <tr>\n",
       "      <th>549</th>\n",
       "      <td>4.0</td>\n",
       "      <td>2020</td>\n",
       "      <td>clausura</td>\n",
       "      <td>13.0</td>\n",
       "      <td>3.0</td>\n",
       "      <td>0.333333</td>\n",
       "      <td>0.000000</td>\n",
       "      <td>0.666667</td>\n",
       "      <td>1.000000</td>\n",
       "      <td>1.333333</td>\n",
       "      <td>...</td>\n",
       "      <td>0.333333</td>\n",
       "      <td>0.333333</td>\n",
       "      <td>0.666667</td>\n",
       "      <td>1.333333</td>\n",
       "      <td>-0.666667</td>\n",
       "      <td>1.333333</td>\n",
       "      <td>2</td>\n",
       "      <td>True</td>\n",
       "      <td>atlas</td>\n",
       "      <td>tijuana</td>\n",
       "    </tr>\n",
       "  </tbody>\n",
       "</table>\n",
       "<p>5 rows × 25 columns</p>\n",
       "</div>"
      ],
      "text/plain": [
       "      JRD   ANO      TIPO  L_POS  L_JJ  L_R_JG_JJ  L_R_JE_JJ  L_R_JP_JJ  \\\n",
       "545  19.0  2019  apertura    8.0  17.0   0.411765   0.176471   0.411765   \n",
       "546   1.0  2020  clausura    0.0   0.0   0.000000   0.000000   0.000000   \n",
       "547   2.0  2020  clausura    3.0   1.0   1.000000   0.000000   0.000000   \n",
       "548   3.0  2020  clausura   16.0   2.0   0.000000   0.500000   0.500000   \n",
       "549   4.0  2020  clausura   13.0   3.0   0.333333   0.000000   0.666667   \n",
       "\n",
       "     L_R_GF_JJ  L_R_GC_JJ  ...  V_R_JE_JJ  V_R_JP_JJ  V_R_GF_JJ  V_R_GC_JJ  \\\n",
       "545   1.470588   1.352941  ...   0.176471   0.470588   1.117647   1.411765   \n",
       "546   0.000000   0.000000  ...   0.000000   0.000000   0.000000   0.000000   \n",
       "547   2.000000   1.000000  ...   0.000000   1.000000   0.000000   1.000000   \n",
       "548   0.000000   0.500000  ...   0.000000   0.500000   1.000000   1.000000   \n",
       "549   1.000000   1.333333  ...   0.333333   0.333333   0.666667   1.333333   \n",
       "\n",
       "     V_R_DIF_JJ  V_R_PTS_JJ  RES  ES_LOC  EQUIPO   EQUIPO_C  \n",
       "545   -0.294118    1.235294    0   False   atlas  monterrey  \n",
       "546    0.000000    0.000000    2   False   atlas  cruz azul  \n",
       "547   -1.000000    0.000000    0    True   atlas     puebla  \n",
       "548    0.000000    1.500000    0   False   atlas     tigres  \n",
       "549   -0.666667    1.333333    2    True   atlas    tijuana  \n",
       "\n",
       "[5 rows x 25 columns]"
      ]
     },
     "execution_count": 124,
     "metadata": {},
     "output_type": "execute_result"
    }
   ],
   "source": [
    "teams[4].tail()"
   ]
  },
  {
   "cell_type": "code",
   "execution_count": 125,
   "metadata": {
    "hidden": true
   },
   "outputs": [],
   "source": [
    "n_teams = []\n",
    "for sub_t in teams:\n",
    "    if(len(sub_t[sub_t.ANO == 2020]) > 0): n_teams.append(sub_t)\n",
    "teams = n_teams"
   ]
  },
  {
   "cell_type": "code",
   "execution_count": 126,
   "metadata": {
    "hidden": true
   },
   "outputs": [
    {
     "data": {
      "text/plain": [
       "18"
      ]
     },
     "execution_count": 126,
     "metadata": {},
     "output_type": "execute_result"
    }
   ],
   "source": [
    "len(n_teams)"
   ]
  },
  {
   "cell_type": "markdown",
   "metadata": {
    "hidden": true
   },
   "source": [
    "## Data analyzis"
   ]
  },
  {
   "cell_type": "code",
   "execution_count": 127,
   "metadata": {
    "hidden": true
   },
   "outputs": [],
   "source": [
    "a = {}\n",
    "b = {}\n",
    "for sub_t in teams:\n",
    "    if(len(sub_t) >= 300): a[sub_t.EQUIPO.unique()[0]] = len(sub_t)\n",
    "    else: b[sub_t.EQUIPO.unique()[0]] = len(sub_t)"
   ]
  },
  {
   "cell_type": "code",
   "execution_count": 128,
   "metadata": {
    "hidden": true
   },
   "outputs": [
    {
     "data": {
      "text/plain": [
       "{'morelia': 559,\n",
       " 'monterrey': 560,\n",
       " 'atlas': 550,\n",
       " 'america': 441,\n",
       " 'santos': 560,\n",
       " 'puebla': 480,\n",
       " 'unam': 554,\n",
       " 'necaxa': 345,\n",
       " 'tigres': 562,\n",
       " 'cruz azul': 559,\n",
       " 'toluca': 558,\n",
       " 'guadalajara': 553,\n",
       " 'pachuca': 557,\n",
       " 'queretaro': 401,\n",
       " 'tijuana': 301}"
      ]
     },
     "execution_count": 128,
     "metadata": {},
     "output_type": "execute_result"
    }
   ],
   "source": [
    "a"
   ]
  },
  {
   "cell_type": "code",
   "execution_count": 129,
   "metadata": {
    "hidden": true
   },
   "outputs": [
    {
     "data": {
      "text/plain": [
       "{'leon': 269, 'atletico de san luis': 22, 'fc juarez': 22}"
      ]
     },
     "execution_count": 129,
     "metadata": {},
     "output_type": "execute_result"
    }
   ],
   "source": [
    "b"
   ]
  },
  {
   "cell_type": "markdown",
   "metadata": {},
   "source": [
    "# Data Prep"
   ]
  },
  {
   "cell_type": "code",
   "execution_count": 130,
   "metadata": {},
   "outputs": [],
   "source": [
    "from fastai import *\n",
    "from fastai.text import *\n",
    "from fastai.tabular import *\n",
    "from fastai import *"
   ]
  },
  {
   "cell_type": "code",
   "execution_count": 131,
   "metadata": {},
   "outputs": [],
   "source": [
    "deep_vars = ['RES']\n",
    "#categorical values\n",
    "cat_names = ['EQUIPO', 'EQUIPO_C', 'ES_LOC']\n",
    "#continious variables\n",
    "cont_names = ['L_POS', 'L_R_JG_JJ', 'L_R_JE_JJ', 'L_R_JP_JJ', 'L_R_GF_JJ', 'L_R_GC_JJ', 'L_R_DIF_JJ', 'L_R_PTS_JJ',\n",
    "              'V_POS', 'V_R_JG_JJ', 'V_R_JE_JJ', 'V_R_JP_JJ', 'V_R_GF_JJ', 'V_R_GC_JJ', 'V_R_DIF_JJ', 'V_R_PTS_JJ']\n",
    "procs = [Categorify, Normalize]"
   ]
  },
  {
   "cell_type": "code",
   "execution_count": 132,
   "metadata": {},
   "outputs": [
    {
     "name": "stdout",
     "output_type": "stream",
     "text": [
      "28\n"
     ]
    }
   ],
   "source": [
    "def get_dif(a, b):\n",
    "    # a - b\n",
    "    dif_arr = []\n",
    "    curr_set = {}\n",
    "    for x in b: curr_set[x] = 1\n",
    "    for x in a:\n",
    "        if x not in curr_set: dif_arr.append(x)\n",
    "    return dif_arr\n",
    "\n",
    "equipos_set = {}\n",
    "\n",
    "for cdf in teams:\n",
    "    for nm in cdf.EQUIPO.unique(): equipos_set[nm] = True\n",
    "    for nm in cdf.EQUIPO_C.unique(): equipos_set[nm] = True\n",
    "\n",
    "print(len(equipos_set))\n",
    "all_equipos = list(equipos_set.keys())"
   ]
  },
  {
   "cell_type": "code",
   "execution_count": 133,
   "metadata": {},
   "outputs": [],
   "source": [
    "def my_create(train_ds:Dataset, valid_ds:Dataset, test_ds:Optional[Dataset]=None, path:PathOrStr='.', bs:int=64,\n",
    "           val_bs:int=None, num_workers:int=defaults.cpus, dl_tfms:Optional[Collection[Callable]]=None,\n",
    "           device:torch.device=None, collate_fn:Callable=data_collate, no_check:bool=False, **dl_kwargs)->'DataBunch':\n",
    "    \"Create a `DataBunch` from `train_ds`, `valid_ds` and maybe `test_ds` with a batch size of `bs`. Passes `**dl_kwargs` to `DataLoader()`\"\n",
    "    datasets = DataBunch._init_ds(train_ds, valid_ds, test_ds)\n",
    "    val_bs = ifnone(val_bs, bs)\n",
    "    dls = [DataLoader(d, b, shuffle=s, drop_last=s, num_workers=num_workers, **dl_kwargs) for d,b,s in zip(datasets, (bs,val_bs,val_bs,val_bs), (False,False,False,False)) if d is not None]\n",
    "    return DataBunch(*dls, path=path, device=device, dl_tfms=dl_tfms, collate_fn=collate_fn, no_check=no_check)"
   ]
  },
  {
   "cell_type": "code",
   "execution_count": 134,
   "metadata": {
    "scrolled": true
   },
   "outputs": [],
   "source": [
    "ds_teams = []\n",
    "datas = []\n",
    "\n",
    "all_equipos.sort()\n",
    "order_equipos = []\n",
    "for cdf in teams:\n",
    "    order_equipos.append(cdf.EQUIPO.unique())\n",
    "    dif_equipo = get_dif(all_equipos, list(cdf.EQUIPO.unique()))\n",
    "    dif_equipo_c = get_dif(all_equipos, list(cdf.EQUIPO_C.unique()))\n",
    "#     print(dif_equipo)\n",
    "    \n",
    "    cdf.EQUIPO = cdf.EQUIPO.astype('category')\n",
    "    cdf.EQUIPO.cat.add_categories(dif_equipo, inplace=True)\n",
    "    cdf.EQUIPO.cat.reorder_categories(all_equipos, inplace=True)\n",
    "    \n",
    "    cdf.EQUIPO_C = cdf.EQUIPO_C.astype('category')\n",
    "    cdf.EQUIPO_C.cat.add_categories(dif_equipo_c, inplace=True)\n",
    "    cdf.EQUIPO_C.cat.reorder_categories(all_equipos, inplace=True)\n",
    "    \n",
    "    data = (TabularList.from_df(cdf, path=\"./data/ligamx\", cat_names=cat_names, cont_names=cont_names, procs=procs)\n",
    "       .split_none()\n",
    "       .label_from_df(cols=deep_vars))\n",
    "    data.x._bunch.create = my_create\n",
    "    data = data.databunch(bs=len(cdf))\n",
    "    ds_teams.append(next(iter(data.train_dl)))\n",
    "    datas.append(data)"
   ]
  },
  {
   "cell_type": "code",
   "execution_count": 135,
   "metadata": {},
   "outputs": [
    {
     "data": {
      "text/plain": [
       "tensor([0, 0, 2, 0, 0, 0, 2, 0, 2, 1, 1, 0, 2, 0, 0, 2, 1, 0, 0, 1, 2, 2])"
      ]
     },
     "execution_count": 135,
     "metadata": {},
     "output_type": "execute_result"
    }
   ],
   "source": [
    "ds_teams[17][1]"
   ]
  },
  {
   "cell_type": "code",
   "execution_count": 136,
   "metadata": {},
   "outputs": [],
   "source": [
    "ds_teams_valid = []\n",
    "n_valid_bptt = 2\n",
    "\n",
    "for tm in range(len(teams)):\n",
    "    sz = len(ds_teams[tm][1])\n",
    "    ds_teams_valid.append( ((ds_teams[tm][0][0][sz-n_valid_bptt :],ds_teams[tm][0][1][sz-n_valid_bptt :]), ds_teams[tm][1][sz-n_valid_bptt :]) )\n",
    "    ds_teams[tm] = ((ds_teams[tm][0][0][:sz-n_valid_bptt ],ds_teams[tm][0][1][:sz-n_valid_bptt ]), ds_teams[tm][1][:sz-n_valid_bptt ])\n"
   ]
  },
  {
   "cell_type": "code",
   "execution_count": 137,
   "metadata": {},
   "outputs": [
    {
     "data": {
      "text/html": [
       "<div>\n",
       "<style scoped>\n",
       "    .dataframe tbody tr th:only-of-type {\n",
       "        vertical-align: middle;\n",
       "    }\n",
       "\n",
       "    .dataframe tbody tr th {\n",
       "        vertical-align: top;\n",
       "    }\n",
       "\n",
       "    .dataframe thead th {\n",
       "        text-align: right;\n",
       "    }\n",
       "</style>\n",
       "<table border=\"1\" class=\"dataframe\">\n",
       "  <thead>\n",
       "    <tr style=\"text-align: right;\">\n",
       "      <th></th>\n",
       "      <th>JRD</th>\n",
       "      <th>ANO</th>\n",
       "      <th>TIPO</th>\n",
       "      <th>L_POS</th>\n",
       "      <th>L_JJ</th>\n",
       "      <th>L_R_JG_JJ</th>\n",
       "      <th>L_R_JE_JJ</th>\n",
       "      <th>L_R_JP_JJ</th>\n",
       "      <th>L_R_GF_JJ</th>\n",
       "      <th>L_R_GC_JJ</th>\n",
       "      <th>...</th>\n",
       "      <th>V_R_JE_JJ</th>\n",
       "      <th>V_R_JP_JJ</th>\n",
       "      <th>V_R_GF_JJ</th>\n",
       "      <th>V_R_GC_JJ</th>\n",
       "      <th>V_R_DIF_JJ</th>\n",
       "      <th>V_R_PTS_JJ</th>\n",
       "      <th>RES</th>\n",
       "      <th>ES_LOC</th>\n",
       "      <th>EQUIPO</th>\n",
       "      <th>EQUIPO_C</th>\n",
       "    </tr>\n",
       "  </thead>\n",
       "  <tbody>\n",
       "    <tr>\n",
       "      <th>17</th>\n",
       "      <td>19.0</td>\n",
       "      <td>2019</td>\n",
       "      <td>apertura</td>\n",
       "      <td>16.0</td>\n",
       "      <td>17.0</td>\n",
       "      <td>0.294118</td>\n",
       "      <td>0.176471</td>\n",
       "      <td>0.529412</td>\n",
       "      <td>0.941176</td>\n",
       "      <td>1.470588</td>\n",
       "      <td>...</td>\n",
       "      <td>0.470588</td>\n",
       "      <td>0.117647</td>\n",
       "      <td>1.411765</td>\n",
       "      <td>0.764706</td>\n",
       "      <td>0.647059</td>\n",
       "      <td>1.705882</td>\n",
       "      <td>0</td>\n",
       "      <td>True</td>\n",
       "      <td>fc juarez</td>\n",
       "      <td>tigres</td>\n",
       "    </tr>\n",
       "    <tr>\n",
       "      <th>18</th>\n",
       "      <td>1.0</td>\n",
       "      <td>2020</td>\n",
       "      <td>clausura</td>\n",
       "      <td>0.0</td>\n",
       "      <td>0.0</td>\n",
       "      <td>0.000000</td>\n",
       "      <td>0.000000</td>\n",
       "      <td>0.000000</td>\n",
       "      <td>0.000000</td>\n",
       "      <td>0.000000</td>\n",
       "      <td>...</td>\n",
       "      <td>0.000000</td>\n",
       "      <td>0.000000</td>\n",
       "      <td>0.000000</td>\n",
       "      <td>0.000000</td>\n",
       "      <td>0.000000</td>\n",
       "      <td>0.000000</td>\n",
       "      <td>0</td>\n",
       "      <td>False</td>\n",
       "      <td>fc juarez</td>\n",
       "      <td>guadalajara</td>\n",
       "    </tr>\n",
       "    <tr>\n",
       "      <th>19</th>\n",
       "      <td>2.0</td>\n",
       "      <td>2020</td>\n",
       "      <td>clausura</td>\n",
       "      <td>18.0</td>\n",
       "      <td>1.0</td>\n",
       "      <td>0.000000</td>\n",
       "      <td>0.000000</td>\n",
       "      <td>1.000000</td>\n",
       "      <td>0.000000</td>\n",
       "      <td>2.000000</td>\n",
       "      <td>...</td>\n",
       "      <td>0.000000</td>\n",
       "      <td>0.000000</td>\n",
       "      <td>2.000000</td>\n",
       "      <td>1.000000</td>\n",
       "      <td>1.000000</td>\n",
       "      <td>3.000000</td>\n",
       "      <td>1</td>\n",
       "      <td>True</td>\n",
       "      <td>fc juarez</td>\n",
       "      <td>unam</td>\n",
       "    </tr>\n",
       "    <tr>\n",
       "      <th>20</th>\n",
       "      <td>3.0</td>\n",
       "      <td>2020</td>\n",
       "      <td>clausura</td>\n",
       "      <td>17.0</td>\n",
       "      <td>2.0</td>\n",
       "      <td>0.000000</td>\n",
       "      <td>0.500000</td>\n",
       "      <td>0.500000</td>\n",
       "      <td>2.000000</td>\n",
       "      <td>3.000000</td>\n",
       "      <td>...</td>\n",
       "      <td>0.500000</td>\n",
       "      <td>0.500000</td>\n",
       "      <td>1.000000</td>\n",
       "      <td>1.500000</td>\n",
       "      <td>-0.500000</td>\n",
       "      <td>0.500000</td>\n",
       "      <td>2</td>\n",
       "      <td>True</td>\n",
       "      <td>fc juarez</td>\n",
       "      <td>morelia</td>\n",
       "    </tr>\n",
       "    <tr>\n",
       "      <th>21</th>\n",
       "      <td>4.0</td>\n",
       "      <td>2020</td>\n",
       "      <td>clausura</td>\n",
       "      <td>2.0</td>\n",
       "      <td>3.0</td>\n",
       "      <td>0.666667</td>\n",
       "      <td>0.333333</td>\n",
       "      <td>0.000000</td>\n",
       "      <td>0.666667</td>\n",
       "      <td>0.000000</td>\n",
       "      <td>...</td>\n",
       "      <td>0.333333</td>\n",
       "      <td>0.333333</td>\n",
       "      <td>2.333333</td>\n",
       "      <td>2.000000</td>\n",
       "      <td>0.333333</td>\n",
       "      <td>1.333333</td>\n",
       "      <td>2</td>\n",
       "      <td>False</td>\n",
       "      <td>fc juarez</td>\n",
       "      <td>america</td>\n",
       "    </tr>\n",
       "  </tbody>\n",
       "</table>\n",
       "<p>5 rows × 25 columns</p>\n",
       "</div>"
      ],
      "text/plain": [
       "     JRD   ANO      TIPO  L_POS  L_JJ  L_R_JG_JJ  L_R_JE_JJ  L_R_JP_JJ  \\\n",
       "17  19.0  2019  apertura   16.0  17.0   0.294118   0.176471   0.529412   \n",
       "18   1.0  2020  clausura    0.0   0.0   0.000000   0.000000   0.000000   \n",
       "19   2.0  2020  clausura   18.0   1.0   0.000000   0.000000   1.000000   \n",
       "20   3.0  2020  clausura   17.0   2.0   0.000000   0.500000   0.500000   \n",
       "21   4.0  2020  clausura    2.0   3.0   0.666667   0.333333   0.000000   \n",
       "\n",
       "    L_R_GF_JJ  L_R_GC_JJ  ...  V_R_JE_JJ  V_R_JP_JJ  V_R_GF_JJ  V_R_GC_JJ  \\\n",
       "17   0.941176   1.470588  ...   0.470588   0.117647   1.411765   0.764706   \n",
       "18   0.000000   0.000000  ...   0.000000   0.000000   0.000000   0.000000   \n",
       "19   0.000000   2.000000  ...   0.000000   0.000000   2.000000   1.000000   \n",
       "20   2.000000   3.000000  ...   0.500000   0.500000   1.000000   1.500000   \n",
       "21   0.666667   0.000000  ...   0.333333   0.333333   2.333333   2.000000   \n",
       "\n",
       "    V_R_DIF_JJ  V_R_PTS_JJ  RES  ES_LOC     EQUIPO     EQUIPO_C  \n",
       "17    0.647059    1.705882    0    True  fc juarez       tigres  \n",
       "18    0.000000    0.000000    0   False  fc juarez  guadalajara  \n",
       "19    1.000000    3.000000    1    True  fc juarez         unam  \n",
       "20   -0.500000    0.500000    2    True  fc juarez      morelia  \n",
       "21    0.333333    1.333333    2   False  fc juarez      america  \n",
       "\n",
       "[5 rows x 25 columns]"
      ]
     },
     "execution_count": 137,
     "metadata": {},
     "output_type": "execute_result"
    }
   ],
   "source": [
    "teams[17].tail()"
   ]
  },
  {
   "cell_type": "code",
   "execution_count": 138,
   "metadata": {},
   "outputs": [],
   "source": [
    "teams_set = {}\n",
    "for i in range(len(ds_teams)):\n",
    "    assert(ds_teams[i][0][0][0][0].item() not in teams_set)\n",
    "    teams_set[ds_teams[0][0][0][0][0].item()] = True"
   ]
  },
  {
   "cell_type": "markdown",
   "metadata": {
    "heading_collapsed": true
   },
   "source": [
    "## General Statistics"
   ]
  },
  {
   "cell_type": "code",
   "execution_count": 139,
   "metadata": {
    "hidden": true
   },
   "outputs": [
    {
     "name": "stdout",
     "output_type": "stream",
     "text": [
      "0.4484848484848485 0.282020202020202 0.2694949494949495\n"
     ]
    }
   ],
   "source": [
    "loc_wins, tie, vis_wins = len(df[df.RES == 2]), len(df[df.RES == 1]), len(df[df.RES==0])\n",
    "\n",
    "assert(loc_wins + tie + vis_wins == len(df))\n",
    "\n",
    "print(loc_wins/len(df), tie/len(df), vis_wins/len(df))"
   ]
  },
  {
   "cell_type": "markdown",
   "metadata": {
    "heading_collapsed": true
   },
   "source": [
    "## Custom dataset and dataloader"
   ]
  },
  {
   "cell_type": "code",
   "execution_count": 140,
   "metadata": {
    "hidden": true
   },
   "outputs": [],
   "source": [
    "import math\n",
    "class RNNTabDataset(Dataset):\n",
    "    def __init__(self, dfs, bptt):\n",
    "        self.dfs = dfs\n",
    "        self.bs = len(dfs)\n",
    "        self.bptt = bptt\n",
    "        \n",
    "        self.largest= -1;\n",
    "        for i in range(self.bs): self.largest=max(self.largest, len(dfs[i][0][0]))\n",
    "        \n",
    "        self.fix_bptt()\n",
    "        self.process()\n",
    "        \n",
    "    def __getitem__(self, idx):\n",
    "        #return ((self.data[0][0][idx], self.data[0][1][idx]), self.data[1][idx])\n",
    "        return self.data[idx]\n",
    "        \n",
    "    def __len__(self):\n",
    "        return len(self.data)\n",
    "    \n",
    "    def get_split(self, sub_df, batch, ttl_batches):\n",
    "        ttl = len(sub_df)\n",
    "        \n",
    "        pos_btchs = math.ceil(ttl / float(self.bptt))\n",
    "        incomplete_btchs = ttl_batches - pos_btchs\n",
    "        partial_to_use =  ttl % self.bptt\n",
    "        partial_to_fake = self.bptt - partial_to_use\n",
    "        repl = sub_df[0] # may be changed by an average function later\n",
    "        \n",
    "        #pure repl\n",
    "        if batch <= incomplete_btchs : return torch.stack([repl] * self.bptt)\n",
    "        \n",
    "        #partial repl\n",
    "        elif batch == incomplete_btchs + 1 and partial_to_use != 0:\n",
    "            return torch.cat( (torch.stack([repl] * partial_to_fake), sub_df[0:partial_to_use]), 0)\n",
    "            \n",
    "        #no repl\n",
    "        start = (batch-1-incomplete_btchs) * self.bptt#(\n",
    "        end = (batch-incomplete_btchs) * self.bptt #]\n",
    "        \n",
    "        if partial_to_use != 0:\n",
    "            start = start - partial_to_fake\n",
    "            end = end - partial_to_fake\n",
    "        \n",
    "        if(start >= ttl): print(\"xd\")\n",
    "        return sub_df[start : end]\n",
    "    \n",
    "    def process(self):\n",
    "        self.data = []\n",
    "        ttl_batches = math.ceil(self.largest / float(self.bptt))\n",
    "        for batch in range(1, ttl_batches+1):\n",
    "            for b in range(self.bs):\n",
    "                cat = self.get_split(self.dfs[b][0][0], batch, ttl_batches)\n",
    "                cont = self.get_split(self.dfs[b][0][1], batch, ttl_batches)\n",
    "                y = self.get_split(self.dfs[b][1], batch, ttl_batches)\n",
    "                if(len(y) != self.bptt): print(batch, b)\n",
    "                self.data.append(((cat, cont), y))\n",
    "    \n",
    "    def prnt(self):\n",
    "        print(self.data)\n",
    "    \n",
    "    def fix_bptt(self):\n",
    "        #TODO\n",
    "        self.ds_len = math.ceil(self.largest / float(self.bptt)) * self.bs * self.bptt"
   ]
  },
  {
   "cell_type": "code",
   "execution_count": 141,
   "metadata": {
    "hidden": true
   },
   "outputs": [],
   "source": [
    "rnn_tab_ds = RNNTabDataset(ds_teams, 20)"
   ]
  },
  {
   "cell_type": "code",
   "execution_count": 142,
   "metadata": {
    "hidden": true
   },
   "outputs": [],
   "source": [
    "rnn_tab_ds_valid = RNNTabDataset(ds_teams_valid, n_valid_bptt)"
   ]
  },
  {
   "cell_type": "code",
   "execution_count": 143,
   "metadata": {
    "hidden": true
   },
   "outputs": [
    {
     "data": {
      "text/plain": [
       "18"
      ]
     },
     "execution_count": 143,
     "metadata": {},
     "output_type": "execute_result"
    }
   ],
   "source": [
    "batches = len(teams); batches"
   ]
  },
  {
   "cell_type": "code",
   "execution_count": 144,
   "metadata": {
    "hidden": true
   },
   "outputs": [],
   "source": [
    "curr_dl = DataLoader(rnn_tab_ds, batches, shuffle=False, drop_last = False)"
   ]
  },
  {
   "cell_type": "code",
   "execution_count": 145,
   "metadata": {
    "hidden": true
   },
   "outputs": [],
   "source": [
    "curr_dl_valid = DataLoader(rnn_tab_ds_valid, batches, shuffle=False, drop_last = False)"
   ]
  },
  {
   "cell_type": "markdown",
   "metadata": {},
   "source": [
    "# Model"
   ]
  },
  {
   "cell_type": "markdown",
   "metadata": {
    "heading_collapsed": true
   },
   "source": [
    "## Creation"
   ]
  },
  {
   "cell_type": "code",
   "execution_count": 146,
   "metadata": {
    "hidden": true
   },
   "outputs": [],
   "source": [
    "class RnnTabularModel(nn.Module):\n",
    "    \"Basic model for tabular data.\"\n",
    "    def __init__(self, emb_szs:ListSizes, n_cont:int, out_sz:int, lyrs:int, bs:int, ps:float=0.,\n",
    "                 emb_drop:float=0., y_range:OptRange=None):\n",
    "        super().__init__()\n",
    "        self.embeds = nn.ModuleList([embedding(ni, nf) for ni,nf in emb_szs])\n",
    "        self.emb_drop = nn.Dropout(emb_drop)\n",
    "        self.bn_cont = nn.BatchNorm1d(n_cont)\n",
    "        n_emb = sum(e.embedding_dim for e in self.embeds)\n",
    "        self.n_emb,self.n_cont,self.y_range = n_emb,n_cont,y_range\n",
    "\n",
    "        #rnn stuff\n",
    "        self.nh = n_cont\n",
    "        for ni, nf in emb_szs: self.nh += nf\n",
    "        self.rnn = nn.GRU(self.nh, self.nh, lyrs, batch_first=True, dropout=ps)\n",
    "        self.h_o = nn.Linear(self.nh,out_sz)\n",
    "        self.bn = BatchNorm1dFlat(self.nh)\n",
    "        \n",
    "        self.lyrs = lyrs\n",
    "        self.bs = bs\n",
    "        self.reset_h()\n",
    "\n",
    "\n",
    "    def forward(self, x_cat:Tensor, x_cont:Tensor) -> Tensor:\n",
    "        i_proc = torch.zeros(x_cat.shape[0], x_cat.shape[1], self.nh);\n",
    "        \n",
    "        for i_bptt in range(x_cat.shape[1]):\n",
    "            curr_cat = x_cat[:,i_bptt,:]\n",
    "            curr_cont = x_cont[:,i_bptt,:]\n",
    "            \n",
    "            if self.n_emb != 0:\n",
    "                x = [e(curr_cat[:,i]) for i,e in enumerate(self.embeds)]\n",
    "                x = torch.cat(x, 1)\n",
    "                x = self.emb_drop(x)\n",
    "            if self.n_cont != 0:\n",
    "                curr_cont = self.bn_cont(curr_cont)\n",
    "                x = torch.cat([x, curr_cont], 1) if self.n_emb != 0 else curr_cont\n",
    "            i_proc[:, i_bptt] = x\n",
    "            \n",
    "        res,h = self.rnn(i_proc, self.h)\n",
    "        if self.training: self.h = h.detach()\n",
    "        return self.h_o(self.bn(res))\n",
    "    \n",
    "    def reset_h(self):\n",
    "        self.h = torch.zeros(self.lyrs, self.bs, self.nh)"
   ]
  },
  {
   "cell_type": "markdown",
   "metadata": {
    "heading_collapsed": true
   },
   "source": [
    "## Setup"
   ]
  },
  {
   "cell_type": "code",
   "execution_count": 147,
   "metadata": {
    "hidden": true
   },
   "outputs": [
    {
     "name": "stdout",
     "output_type": "stream",
     "text": [
      "GPU not available, CPU used\n"
     ]
    }
   ],
   "source": [
    "# torch.cuda.is_available() checks and returns a Boolean True if a GPU is available, else it'll return False\n",
    "is_cuda = torch.cuda.is_available()\n",
    "\n",
    "# If we have a GPU available, we'll set our device to GPU. We'll use this device variable later in our code.\n",
    "if is_cuda:\n",
    "    device = torch.device(\"cuda\")\n",
    "    print(\"GPU is available\")\n",
    "else:\n",
    "    device = torch.device(\"cpu\")\n",
    "    print(\"GPU not available, CPU used\")"
   ]
  },
  {
   "cell_type": "markdown",
   "metadata": {
    "heading_collapsed": true
   },
   "source": [
    "## Validation setup"
   ]
  },
  {
   "cell_type": "code",
   "execution_count": 148,
   "metadata": {
    "hidden": true
   },
   "outputs": [],
   "source": [
    "# This function takes in the model and character as arguments and returns the next character prediction and hidden state\n",
    "def get_loss(model, data_cat, data_cont, data_res):\n",
    "#     print(model.h)\n",
    "    model.eval()\n",
    "    out = model(data_cat.to(device), data_cont.to(device))\n",
    "    curr_crit = nn.CrossEntropyLoss()\n",
    "    loss_x = curr_crit(out.view(data_cat.shape[0] * data_cat.shape[1],3), data_res.view(-1).long())\n",
    "    return loss_x\n",
    "    \n",
    "def pred(model, data_cat, data_cont, data_res):\n",
    "#     print(model.h)\n",
    "    model.eval()\n",
    "    m_out = model(data_cat.to(device), data_cont.to(device))\n",
    "    prob = nn.functional.softmax(m_out.view(data_cat.shape[0] * data_cat.shape[1], 3), dim=1).data\n",
    "    # Taking the class with the highest probability score from the output\n",
    "    out = torch.max(prob, dim=1)[1]\n",
    "    return out, prob, m_out\n",
    "\n",
    "def accuracy(model, data_cat, data_cont, data_res):\n",
    "    out, _, _= pred(model, data_cat, data_cont, data_res)\n",
    "    ttl = 0\n",
    "    for i in range(len(out)):\n",
    "        if(data_res.view(-1)[i] == out[i]): ttl += 1;\n",
    "    return ttl/len(out)"
   ]
  },
  {
   "cell_type": "code",
   "execution_count": 149,
   "metadata": {
    "hidden": true
   },
   "outputs": [
    {
     "data": {
      "text/plain": [
       "torch.Size([18, 2, 3])"
      ]
     },
     "execution_count": 149,
     "metadata": {},
     "output_type": "execute_result"
    }
   ],
   "source": [
    "curr_it = iter(curr_dl_valid)\n",
    "tst = next(curr_it)\n",
    "\n",
    "sample_cat = tst[0][0]\n",
    "sample_cont = tst[0][1]\n",
    "sample_res = tst[1]\n",
    "\n",
    "sample_cat.shape"
   ]
  },
  {
   "cell_type": "code",
   "execution_count": 150,
   "metadata": {
    "hidden": true
   },
   "outputs": [],
   "source": [
    "# # last batch validation\n",
    "# curr_it = iter(curr_dl)\n",
    "# for i in range(len(curr_dl)):\n",
    "#     x = next(curr_it)\n",
    "    \n",
    "# sample_cat = x[0][0]\n",
    "# sample_cont = x[0][1]\n",
    "# sample_res = x[1]"
   ]
  },
  {
   "cell_type": "markdown",
   "metadata": {
    "heading_collapsed": true
   },
   "source": [
    "## Training setup and model creation"
   ]
  },
  {
   "cell_type": "code",
   "execution_count": 151,
   "metadata": {
    "hidden": true
   },
   "outputs": [],
   "source": [
    "deep_vars = ['RES']\n",
    "#categorical values\n",
    "cat_names = ['EQUIPO', 'EQUIPO_C', 'ES_LOC']\n",
    "#continious variables\n",
    "cont_names = ['L_POS', 'L_R_JG_JJ', 'L_R_JE_JJ', 'L_R_JP_JJ', 'L_R_GF_JJ', 'L_R_GC_JJ', 'L_R_DIF_JJ', 'L_R_PTS_JJ',\n",
    "              'V_POS', 'V_R_JG_JJ', 'V_R_JE_JJ', 'V_R_JP_JJ', 'V_R_GF_JJ', 'V_R_GC_JJ', 'V_R_DIF_JJ', 'V_R_PTS_JJ']\n",
    "\n",
    "emb_szs = [(29, 18), (29, 18), (3, 3)]\n",
    "n_cont =len(cont_names)\n",
    "out_sz = 3 #total possibilities\n",
    "lyrs = 2\n",
    "bs = batches\n",
    "dropout_embeds = 0.3\n",
    "dropout_reg = 0.3\n",
    "\n",
    "wd = 0."
   ]
  },
  {
   "cell_type": "code",
   "execution_count": 152,
   "metadata": {
    "hidden": true
   },
   "outputs": [],
   "source": [
    "# Instantiate the model with hyperparameters\n",
    "model = RnnTabularModel(emb_szs, n_cont, out_sz, lyrs, bs, dropout_reg, dropout_embeds)\n",
    "\n",
    "# We'll also set the model to the device that we defined earlier (default is CPU)\n",
    "model.to(device)\n",
    "\n",
    "# Define hyperparameters\n",
    "n_epochs = 30\n",
    "lr=1e-2\n",
    "\n",
    "# Define Loss, Optimizer\n",
    "criterion = nn.CrossEntropyLoss()\n",
    "optimizer = torch.optim.Adam(model.parameters(), lr=lr, weight_decay = wd)"
   ]
  },
  {
   "cell_type": "markdown",
   "metadata": {
    "heading_collapsed": true
   },
   "source": [
    "## Training"
   ]
  },
  {
   "cell_type": "code",
   "execution_count": 153,
   "metadata": {
    "hidden": true,
    "scrolled": false
   },
   "outputs": [
    {
     "name": "stdout",
     "output_type": "stream",
     "text": [
      "Epoch: 1/30....... Train Loss: 1.1548...... Valid Loss: 1.1408...... Valid acc: 0.2778\n",
      "Epoch: 2/30....... Train Loss: 1.1924...... Valid Loss: 1.0988...... Valid acc: 0.3611\n",
      "Epoch: 3/30....... Train Loss: 1.2235...... Valid Loss: 1.4108...... Valid acc: 0.3889\n",
      "Epoch: 4/30....... Train Loss: 1.1668...... Valid Loss: 1.1290...... Valid acc: 0.3056\n",
      "Epoch: 5/30....... Train Loss: 1.1605...... Valid Loss: 1.1813...... Valid acc: 0.3611\n",
      "Epoch: 6/30....... Train Loss: 1.1340...... Valid Loss: 1.1256...... Valid acc: 0.4167\n",
      "Epoch: 7/30....... Train Loss: 1.1593...... Valid Loss: 1.2651...... Valid acc: 0.4167\n",
      "Epoch: 8/30....... Train Loss: 1.1004...... Valid Loss: 1.0970...... Valid acc: 0.3889\n",
      "Epoch: 9/30....... Train Loss: 1.0553...... Valid Loss: 1.1344...... Valid acc: 0.4167\n",
      "Epoch: 10/30....... Train Loss: 1.0777...... Valid Loss: 1.1071...... Valid acc: 0.4444\n",
      "Epoch: 11/30....... Train Loss: 1.0741...... Valid Loss: 1.1378...... Valid acc: 0.4167\n",
      "Epoch: 12/30....... Train Loss: 1.0397...... Valid Loss: 1.1431...... Valid acc: 0.3889\n",
      "Epoch: 13/30....... Train Loss: 1.0273...... Valid Loss: 1.1049...... Valid acc: 0.3889\n",
      "Epoch: 14/30....... Train Loss: 1.0296...... Valid Loss: 1.1219...... Valid acc: 0.4722\n",
      "Epoch: 15/30....... Train Loss: 1.0250...... Valid Loss: 1.1144...... Valid acc: 0.5000\n",
      "Epoch: 16/30....... Train Loss: 1.0041...... Valid Loss: 1.1792...... Valid acc: 0.4444\n",
      "Epoch: 17/30....... Train Loss: 0.9880...... Valid Loss: 1.1257...... Valid acc: 0.4167\n",
      "Epoch: 18/30....... Train Loss: 0.9549...... Valid Loss: 1.1601...... Valid acc: 0.4167\n",
      "Epoch: 19/30....... Train Loss: 0.9567...... Valid Loss: 1.1457...... Valid acc: 0.3889\n",
      "Epoch: 20/30....... Train Loss: 0.9316...... Valid Loss: 1.1086...... Valid acc: 0.5556\n",
      "Epoch: 21/30....... Train Loss: 0.9352...... Valid Loss: 1.0859...... Valid acc: 0.4167\n",
      "Epoch: 22/30....... Train Loss: 0.9288...... Valid Loss: 1.1279...... Valid acc: 0.4722\n",
      "Epoch: 23/30....... Train Loss: 0.9507...... Valid Loss: 1.0775...... Valid acc: 0.4722\n",
      "Epoch: 24/30....... Train Loss: 0.9621...... Valid Loss: 1.0217...... Valid acc: 0.4444\n",
      "Epoch: 25/30....... Train Loss: 0.9138...... Valid Loss: 1.1314...... Valid acc: 0.4722\n",
      "Epoch: 26/30....... Train Loss: 0.9015...... Valid Loss: 1.1105...... Valid acc: 0.3611\n",
      "Epoch: 27/30....... Train Loss: 0.9355...... Valid Loss: 1.1129...... Valid acc: 0.3611\n",
      "Epoch: 28/30....... Train Loss: 0.9565...... Valid Loss: 1.2220...... Valid acc: 0.3333\n",
      "Epoch: 29/30....... Train Loss: 0.8838...... Valid Loss: 1.2566...... Valid acc: 0.3333\n",
      "Epoch: 30/30....... Train Loss: 0.8950...... Valid Loss: 1.1261...... Valid acc: 0.3611\n"
     ]
    }
   ],
   "source": [
    "# Training Run\n",
    "for epoch in range(1, n_epochs + 1):\n",
    "    dl_it = iter(curr_dl)    \n",
    "    \n",
    "    model.reset_h()\n",
    "    model.train()\n",
    "    for i_batch in range(len(dl_it)):\n",
    "        curr_batch = next(dl_it)\n",
    "        \n",
    "        optimizer.zero_grad() # Clears existing gradients from previous epoch\n",
    "        x_cat, x_cont, res = curr_batch[0][0].to(device), curr_batch[0][1].to(device), curr_batch[1].to(device)\n",
    "        output = model(x_cat, x_cont)\n",
    "        \n",
    "        loss = criterion(output.view(x_cat.shape[0] * x_cat.shape[1],3), res.view(-1).long())\n",
    "        loss.backward() # Does backpropagation and calculates gradients\n",
    "        optimizer.step() # Updates the weights accordingly\n",
    "        \n",
    "        if i_batch == len(dl_it)-1:\n",
    "            loss_valid = get_loss(model, sample_cat, sample_cont, sample_res)\n",
    "            accuracy_valid = accuracy(model, sample_cat, sample_cont, sample_res)\n",
    "    \n",
    "    if epoch%1 == 0:\n",
    "        print(\"Epoch: {}/{}.......\".format(epoch, n_epochs), end=' ')\n",
    "        print(\"Train Loss: {:.4f}......\".format(loss.item()), end = ' ')\n",
    "        #print('')\n",
    "        print(\"Valid Loss: {:.4f}......\".format(loss_valid.item()), end=' ')\n",
    "        print(\"Valid acc: {:.4f}\".format(accuracy_valid))"
   ]
  },
  {
   "cell_type": "markdown",
   "metadata": {
    "heading_collapsed": true
   },
   "source": [
    "## Validation Results"
   ]
  },
  {
   "cell_type": "code",
   "execution_count": 154,
   "metadata": {
    "hidden": true
   },
   "outputs": [],
   "source": [
    "sample_pred, probs_, m_out= pred(model, sample_cat, sample_cont, sample_res)"
   ]
  },
  {
   "cell_type": "code",
   "execution_count": 155,
   "metadata": {
    "hidden": true
   },
   "outputs": [],
   "source": [
    "acc = accuracy(model, sample_cat, sample_cont, sample_res)"
   ]
  },
  {
   "cell_type": "code",
   "execution_count": 156,
   "metadata": {
    "hidden": true
   },
   "outputs": [
    {
     "data": {
      "text/plain": [
       "0.3611111111111111"
      ]
     },
     "execution_count": 156,
     "metadata": {},
     "output_type": "execute_result"
    }
   ],
   "source": [
    "acc"
   ]
  },
  {
   "cell_type": "code",
   "execution_count": 157,
   "metadata": {
    "hidden": true
   },
   "outputs": [
    {
     "data": {
      "text/plain": [
       "tensor([1, 1, 1, 1, 0, 2, 2, 1, 1, 2, 1, 1, 0, 2, 1, 1, 1, 1, 2, 1, 1, 0, 1, 0,\n",
       "        1, 2, 2, 1, 2, 0, 2, 2, 0, 0, 0, 1])"
      ]
     },
     "execution_count": 157,
     "metadata": {},
     "output_type": "execute_result"
    }
   ],
   "source": [
    "sample_pred"
   ]
  },
  {
   "cell_type": "code",
   "execution_count": 158,
   "metadata": {
    "hidden": true
   },
   "outputs": [
    {
     "data": {
      "text/plain": [
       "tensor([0, 0, 0, 1, 0, 2, 0, 2, 0, 1, 0, 0, 2, 1, 2, 1, 2, 0, 2, 1, 1, 1, 1, 1,\n",
       "        0, 2, 2, 2, 1, 0, 2, 2, 1, 1, 2, 2])"
      ]
     },
     "execution_count": 158,
     "metadata": {},
     "output_type": "execute_result"
    }
   ],
   "source": [
    "sample_res.view(-1)"
   ]
  },
  {
   "cell_type": "code",
   "execution_count": 159,
   "metadata": {
    "hidden": true
   },
   "outputs": [
    {
     "name": "stdout",
     "output_type": "stream",
     "text": [
      "[2, 5, 6]\n",
      "[11, 12, 13]\n"
     ]
    }
   ],
   "source": [
    "res = [0, 0, 0]\n",
    "ttl = [0, 0, 0]\n",
    "for i in range(len(sample_pred)):\n",
    "    if(sample_pred[i] == sample_res.view(-1)[i]): res[sample_pred[i]] += 1\n",
    "        \n",
    "for i in range(len(sample_res.view(-1))):\n",
    "    ttl[sample_res.view(-1)[i]] += 1\n",
    "        \n",
    "print(res)\n",
    "print(ttl)"
   ]
  },
  {
   "cell_type": "markdown",
   "metadata": {
    "heading_collapsed": true
   },
   "source": [
    "## Retraining with last batches"
   ]
  },
  {
   "cell_type": "code",
   "execution_count": 161,
   "metadata": {
    "hidden": true
   },
   "outputs": [],
   "source": [
    "lr = 1e-3\n",
    "optimizer = torch.optim.Adam(model.parameters(), lr=lr)"
   ]
  },
  {
   "cell_type": "code",
   "execution_count": 165,
   "metadata": {
    "hidden": true
   },
   "outputs": [],
   "source": [
    "n_epochs_ret = 200"
   ]
  },
  {
   "cell_type": "code",
   "execution_count": 166,
   "metadata": {
    "hidden": true,
    "scrolled": true
   },
   "outputs": [
    {
     "name": "stdout",
     "output_type": "stream",
     "text": [
      "Epoch: 1/30....... Train Loss: 0.5595...... Valid Loss: 1.6161...... Valid acc: 0.3611\n",
      "Epoch: 2/30....... Train Loss: 0.5992...... Valid Loss: 1.6918...... Valid acc: 0.3611\n",
      "Epoch: 3/30....... Train Loss: 0.6330...... Valid Loss: 1.5372...... Valid acc: 0.3611\n",
      "Epoch: 4/30....... Train Loss: 0.5691...... Valid Loss: 1.6981...... Valid acc: 0.3056\n",
      "Epoch: 5/30....... Train Loss: 0.5694...... Valid Loss: 1.5228...... Valid acc: 0.3889\n",
      "Epoch: 6/30....... Train Loss: 0.5910...... Valid Loss: 1.8182...... Valid acc: 0.3056\n",
      "Epoch: 7/30....... Train Loss: 0.5690...... Valid Loss: 1.7447...... Valid acc: 0.3333\n",
      "Epoch: 8/30....... Train Loss: 0.5671...... Valid Loss: 1.9101...... Valid acc: 0.2500\n",
      "Epoch: 9/30....... Train Loss: 0.5512...... Valid Loss: 1.6716...... Valid acc: 0.3333\n",
      "Epoch: 10/30....... Train Loss: 0.5988...... Valid Loss: 1.6889...... Valid acc: 0.2500\n",
      "Epoch: 11/30....... Train Loss: 0.5829...... Valid Loss: 1.6646...... Valid acc: 0.3333\n",
      "Epoch: 12/30....... Train Loss: 0.5969...... Valid Loss: 1.8381...... Valid acc: 0.3333\n",
      "Epoch: 13/30....... Train Loss: 0.5258...... Valid Loss: 1.6706...... Valid acc: 0.3333\n",
      "Epoch: 14/30....... Train Loss: 0.6087...... Valid Loss: 1.6541...... Valid acc: 0.3333\n",
      "Epoch: 15/30....... Train Loss: 0.4963...... Valid Loss: 1.5517...... Valid acc: 0.3889\n",
      "Epoch: 16/30....... Train Loss: 0.4902...... Valid Loss: 1.7884...... Valid acc: 0.3333\n",
      "Epoch: 17/30....... Train Loss: 0.5442...... Valid Loss: 1.6078...... Valid acc: 0.3333\n",
      "Epoch: 18/30....... Train Loss: 0.5726...... Valid Loss: 1.7400...... Valid acc: 0.3056\n",
      "Epoch: 19/30....... Train Loss: 0.5651...... Valid Loss: 1.8189...... Valid acc: 0.2778\n",
      "Epoch: 20/30....... Train Loss: 0.5711...... Valid Loss: 1.7375...... Valid acc: 0.3889\n",
      "Epoch: 21/30....... Train Loss: 0.5174...... Valid Loss: 1.7485...... Valid acc: 0.3889\n",
      "Epoch: 22/30....... Train Loss: 0.5348...... Valid Loss: 1.7408...... Valid acc: 0.3889\n",
      "Epoch: 23/30....... Train Loss: 0.5479...... Valid Loss: 1.8260...... Valid acc: 0.2500\n",
      "Epoch: 24/30....... Train Loss: 0.5713...... Valid Loss: 1.7500...... Valid acc: 0.3611\n",
      "Epoch: 25/30....... Train Loss: 0.5346...... Valid Loss: 1.8522...... Valid acc: 0.3611\n",
      "Epoch: 26/30....... Train Loss: 0.5309...... Valid Loss: 1.7633...... Valid acc: 0.3611\n",
      "Epoch: 27/30....... Train Loss: 0.5257...... Valid Loss: 1.8191...... Valid acc: 0.3056\n",
      "Epoch: 28/30....... Train Loss: 0.5312...... Valid Loss: 1.8893...... Valid acc: 0.3056\n",
      "Epoch: 29/30....... Train Loss: 0.5226...... Valid Loss: 1.8766...... Valid acc: 0.3611\n",
      "Epoch: 30/30....... Train Loss: 0.5555...... Valid Loss: 1.7141...... Valid acc: 0.3611\n",
      "Epoch: 31/30....... Train Loss: 0.5022...... Valid Loss: 1.5277...... Valid acc: 0.3333\n",
      "Epoch: 32/30....... Train Loss: 0.4769...... Valid Loss: 1.9171...... Valid acc: 0.2778\n",
      "Epoch: 33/30....... Train Loss: 0.5512...... Valid Loss: 1.9749...... Valid acc: 0.3611\n",
      "Epoch: 34/30....... Train Loss: 0.5254...... Valid Loss: 1.8127...... Valid acc: 0.3333\n",
      "Epoch: 35/30....... Train Loss: 0.5388...... Valid Loss: 1.7998...... Valid acc: 0.3333\n",
      "Epoch: 36/30....... Train Loss: 0.5011...... Valid Loss: 1.7816...... Valid acc: 0.3611\n",
      "Epoch: 37/30....... Train Loss: 0.5323...... Valid Loss: 1.8983...... Valid acc: 0.3333\n",
      "Epoch: 38/30....... Train Loss: 0.5403...... Valid Loss: 1.6993...... Valid acc: 0.3611\n",
      "Epoch: 39/30....... Train Loss: 0.5297...... Valid Loss: 1.7962...... Valid acc: 0.3611\n",
      "Epoch: 40/30....... Train Loss: 0.4872...... Valid Loss: 1.6352...... Valid acc: 0.3333\n",
      "Epoch: 41/30....... Train Loss: 0.5280...... Valid Loss: 1.8730...... Valid acc: 0.3056\n",
      "Epoch: 42/30....... Train Loss: 0.4574...... Valid Loss: 1.9687...... Valid acc: 0.3056\n",
      "Epoch: 43/30....... Train Loss: 0.5110...... Valid Loss: 1.6020...... Valid acc: 0.3889\n",
      "Epoch: 44/30....... Train Loss: 0.5411...... Valid Loss: 1.8598...... Valid acc: 0.3889\n",
      "Epoch: 45/30....... Train Loss: 0.4709...... Valid Loss: 1.8010...... Valid acc: 0.3889\n",
      "Epoch: 46/30....... Train Loss: 0.5092...... Valid Loss: 1.7954...... Valid acc: 0.3889\n",
      "Epoch: 47/30....... Train Loss: 0.5060...... Valid Loss: 1.7666...... Valid acc: 0.3611\n",
      "Epoch: 48/30....... Train Loss: 0.5142...... Valid Loss: 1.9128...... Valid acc: 0.3333\n",
      "Epoch: 49/30....... Train Loss: 0.4811...... Valid Loss: 1.9476...... Valid acc: 0.3056\n",
      "Epoch: 50/30....... Train Loss: 0.4742...... Valid Loss: 1.7535...... Valid acc: 0.3611\n",
      "Epoch: 51/30....... Train Loss: 0.4654...... Valid Loss: 1.8229...... Valid acc: 0.3611\n",
      "Epoch: 52/30....... Train Loss: 0.5123...... Valid Loss: 1.6871...... Valid acc: 0.4167\n",
      "Epoch: 53/30....... Train Loss: 0.4669...... Valid Loss: 1.7429...... Valid acc: 0.3889\n",
      "Epoch: 54/30....... Train Loss: 0.5175...... Valid Loss: 1.6913...... Valid acc: 0.3333\n",
      "Epoch: 55/30....... Train Loss: 0.4324...... Valid Loss: 1.9171...... Valid acc: 0.3333\n",
      "Epoch: 56/30....... Train Loss: 0.4409...... Valid Loss: 1.8113...... Valid acc: 0.3611\n",
      "Epoch: 57/30....... Train Loss: 0.4751...... Valid Loss: 1.7537...... Valid acc: 0.3889\n",
      "Epoch: 58/30....... Train Loss: 0.4898...... Valid Loss: 2.0556...... Valid acc: 0.3333\n",
      "Epoch: 59/30....... Train Loss: 0.4486...... Valid Loss: 1.7746...... Valid acc: 0.4167\n",
      "Epoch: 60/30....... Train Loss: 0.4314...... Valid Loss: 1.9717...... Valid acc: 0.3889\n",
      "Epoch: 61/30....... Train Loss: 0.4329...... Valid Loss: 1.7386...... Valid acc: 0.3611\n",
      "Epoch: 62/30....... Train Loss: 0.4391...... Valid Loss: 1.8218...... Valid acc: 0.4444\n",
      "Epoch: 63/30....... Train Loss: 0.5000...... Valid Loss: 2.0243...... Valid acc: 0.3333\n",
      "Epoch: 64/30....... Train Loss: 0.5158...... Valid Loss: 1.7966...... Valid acc: 0.3611\n",
      "Epoch: 65/30....... Train Loss: 0.4395...... Valid Loss: 1.8879...... Valid acc: 0.3889\n",
      "Epoch: 66/30....... Train Loss: 0.4696...... Valid Loss: 1.8708...... Valid acc: 0.3611\n",
      "Epoch: 67/30....... Train Loss: 0.4449...... Valid Loss: 1.9467...... Valid acc: 0.3333\n",
      "Epoch: 68/30....... Train Loss: 0.4703...... Valid Loss: 1.8462...... Valid acc: 0.4167\n",
      "Epoch: 69/30....... Train Loss: 0.4283...... Valid Loss: 1.8487...... Valid acc: 0.3611\n",
      "Epoch: 70/30....... Train Loss: 0.5090...... Valid Loss: 1.9080...... Valid acc: 0.2778\n",
      "Epoch: 71/30....... Train Loss: 0.4199...... Valid Loss: 1.9597...... Valid acc: 0.2778\n",
      "Epoch: 72/30....... Train Loss: 0.4924...... Valid Loss: 1.9197...... Valid acc: 0.3889\n",
      "Epoch: 73/30....... Train Loss: 0.5148...... Valid Loss: 1.9055...... Valid acc: 0.3611\n",
      "Epoch: 74/30....... Train Loss: 0.4694...... Valid Loss: 2.1061...... Valid acc: 0.3611\n",
      "Epoch: 75/30....... Train Loss: 0.4436...... Valid Loss: 2.0341...... Valid acc: 0.3611\n",
      "Epoch: 76/30....... Train Loss: 0.4527...... Valid Loss: 2.1144...... Valid acc: 0.3056\n",
      "Epoch: 77/30....... Train Loss: 0.4770...... Valid Loss: 1.9530...... Valid acc: 0.3056\n",
      "Epoch: 78/30....... Train Loss: 0.4829...... Valid Loss: 1.6827...... Valid acc: 0.3889\n",
      "Epoch: 79/30....... Train Loss: 0.4311...... Valid Loss: 1.9996...... Valid acc: 0.3333\n",
      "Epoch: 80/30....... Train Loss: 0.4374...... Valid Loss: 1.7876...... Valid acc: 0.3611\n",
      "Epoch: 81/30....... Train Loss: 0.4752...... Valid Loss: 2.0017...... Valid acc: 0.3333\n",
      "Epoch: 82/30....... Train Loss: 0.4270...... Valid Loss: 1.8463...... Valid acc: 0.3889\n",
      "Epoch: 83/30....... Train Loss: 0.4742...... Valid Loss: 2.1267...... Valid acc: 0.3333\n",
      "Epoch: 84/30....... Train Loss: 0.4181...... Valid Loss: 1.7847...... Valid acc: 0.3611\n",
      "Epoch: 85/30....... Train Loss: 0.4921...... Valid Loss: 1.9391...... Valid acc: 0.3611\n",
      "Epoch: 86/30....... Train Loss: 0.4348...... Valid Loss: 2.0184...... Valid acc: 0.3889\n",
      "Epoch: 87/30....... Train Loss: 0.4104...... Valid Loss: 2.0113...... Valid acc: 0.3056\n",
      "Epoch: 88/30....... Train Loss: 0.4777...... Valid Loss: 2.0140...... Valid acc: 0.3333\n",
      "Epoch: 89/30....... Train Loss: 0.4502...... Valid Loss: 2.0578...... Valid acc: 0.3611\n",
      "Epoch: 90/30....... Train Loss: 0.4391...... Valid Loss: 1.8351...... Valid acc: 0.3889\n",
      "Epoch: 91/30....... Train Loss: 0.4370...... Valid Loss: 1.9700...... Valid acc: 0.3333\n",
      "Epoch: 92/30....... Train Loss: 0.4448...... Valid Loss: 2.1132...... Valid acc: 0.3056\n",
      "Epoch: 93/30....... Train Loss: 0.3809...... Valid Loss: 2.0237...... Valid acc: 0.2778\n",
      "Epoch: 94/30....... Train Loss: 0.4271...... Valid Loss: 2.0114...... Valid acc: 0.3889\n"
     ]
    },
    {
     "name": "stdout",
     "output_type": "stream",
     "text": [
      "Epoch: 95/30....... Train Loss: 0.4034...... Valid Loss: 2.0128...... Valid acc: 0.2222\n",
      "Epoch: 96/30....... Train Loss: 0.4030...... Valid Loss: 1.9703...... Valid acc: 0.3611\n",
      "Epoch: 97/30....... Train Loss: 0.4111...... Valid Loss: 1.9005...... Valid acc: 0.3889\n",
      "Epoch: 98/30....... Train Loss: 0.3984...... Valid Loss: 2.1052...... Valid acc: 0.3333\n",
      "Epoch: 99/30....... Train Loss: 0.4007...... Valid Loss: 2.1184...... Valid acc: 0.3056\n",
      "Epoch: 100/30....... Train Loss: 0.4213...... Valid Loss: 2.0565...... Valid acc: 0.3333\n",
      "Epoch: 101/30....... Train Loss: 0.4530...... Valid Loss: 1.9014...... Valid acc: 0.4444\n",
      "Epoch: 102/30....... Train Loss: 0.3762...... Valid Loss: 1.8565...... Valid acc: 0.4167\n",
      "Epoch: 103/30....... Train Loss: 0.3955...... Valid Loss: 1.9519...... Valid acc: 0.3889\n",
      "Epoch: 104/30....... Train Loss: 0.3899...... Valid Loss: 1.9173...... Valid acc: 0.3889\n",
      "Epoch: 105/30....... Train Loss: 0.4044...... Valid Loss: 1.9531...... Valid acc: 0.2778\n",
      "Epoch: 106/30....... Train Loss: 0.3739...... Valid Loss: 1.9931...... Valid acc: 0.3056\n",
      "Epoch: 107/30....... Train Loss: 0.3797...... Valid Loss: 2.0473...... Valid acc: 0.2778\n",
      "Epoch: 108/30....... Train Loss: 0.4415...... Valid Loss: 2.1285...... Valid acc: 0.3056\n",
      "Epoch: 109/30....... Train Loss: 0.3940...... Valid Loss: 2.0676...... Valid acc: 0.3611\n",
      "Epoch: 110/30....... Train Loss: 0.4067...... Valid Loss: 2.2809...... Valid acc: 0.1944\n",
      "Epoch: 111/30....... Train Loss: 0.3510...... Valid Loss: 2.0052...... Valid acc: 0.3889\n",
      "Epoch: 112/30....... Train Loss: 0.4214...... Valid Loss: 2.0343...... Valid acc: 0.3333\n",
      "Epoch: 113/30....... Train Loss: 0.4740...... Valid Loss: 2.1948...... Valid acc: 0.3611\n",
      "Epoch: 114/30....... Train Loss: 0.4626...... Valid Loss: 2.1563...... Valid acc: 0.3056\n",
      "Epoch: 115/30....... Train Loss: 0.4277...... Valid Loss: 2.2080...... Valid acc: 0.3611\n",
      "Epoch: 116/30....... Train Loss: 0.4352...... Valid Loss: 2.0228...... Valid acc: 0.3889\n",
      "Epoch: 117/30....... Train Loss: 0.4440...... Valid Loss: 2.1538...... Valid acc: 0.3333\n",
      "Epoch: 118/30....... Train Loss: 0.4238...... Valid Loss: 1.9275...... Valid acc: 0.4167\n",
      "Epoch: 119/30....... Train Loss: 0.3957...... Valid Loss: 2.1130...... Valid acc: 0.2778\n",
      "Epoch: 120/30....... Train Loss: 0.4334...... Valid Loss: 2.1223...... Valid acc: 0.2778\n",
      "Epoch: 121/30....... Train Loss: 0.3708...... Valid Loss: 1.8626...... Valid acc: 0.3611\n",
      "Epoch: 122/30....... Train Loss: 0.4439...... Valid Loss: 2.3915...... Valid acc: 0.2222\n",
      "Epoch: 123/30....... Train Loss: 0.3935...... Valid Loss: 1.9232...... Valid acc: 0.3611\n",
      "Epoch: 124/30....... Train Loss: 0.4306...... Valid Loss: 2.1868...... Valid acc: 0.3611\n",
      "Epoch: 125/30....... Train Loss: 0.3824...... Valid Loss: 2.0660...... Valid acc: 0.4167\n",
      "Epoch: 126/30....... Train Loss: 0.4013...... Valid Loss: 2.1169...... Valid acc: 0.3056\n",
      "Epoch: 127/30....... Train Loss: 0.3952...... Valid Loss: 2.0182...... Valid acc: 0.4722\n",
      "Epoch: 128/30....... Train Loss: 0.4194...... Valid Loss: 2.0266...... Valid acc: 0.4167\n",
      "Epoch: 129/30....... Train Loss: 0.3644...... Valid Loss: 2.1991...... Valid acc: 0.3889\n",
      "Epoch: 130/30....... Train Loss: 0.3753...... Valid Loss: 1.8103...... Valid acc: 0.3611\n",
      "Epoch: 131/30....... Train Loss: 0.3517...... Valid Loss: 2.1185...... Valid acc: 0.3333\n",
      "Epoch: 132/30....... Train Loss: 0.3975...... Valid Loss: 2.0584...... Valid acc: 0.4167\n",
      "Epoch: 133/30....... Train Loss: 0.3984...... Valid Loss: 2.3734...... Valid acc: 0.3611\n",
      "Epoch: 134/30....... Train Loss: 0.3909...... Valid Loss: 2.2479...... Valid acc: 0.3333\n",
      "Epoch: 135/30....... Train Loss: 0.3637...... Valid Loss: 2.2325...... Valid acc: 0.2778\n",
      "Epoch: 136/30....... Train Loss: 0.3961...... Valid Loss: 2.1825...... Valid acc: 0.3056\n",
      "Epoch: 137/30....... Train Loss: 0.3123...... Valid Loss: 2.2710...... Valid acc: 0.3333\n",
      "Epoch: 138/30....... Train Loss: 0.3488...... Valid Loss: 2.3264...... Valid acc: 0.3611\n",
      "Epoch: 139/30....... Train Loss: 0.3445...... Valid Loss: 2.2850...... Valid acc: 0.3333\n",
      "Epoch: 140/30....... Train Loss: 0.3895...... Valid Loss: 2.2969...... Valid acc: 0.3333\n",
      "Epoch: 141/30....... Train Loss: 0.4491...... Valid Loss: 2.0073...... Valid acc: 0.3611\n",
      "Epoch: 142/30....... Train Loss: 0.3690...... Valid Loss: 1.9134...... Valid acc: 0.2778\n",
      "Epoch: 143/30....... Train Loss: 0.3980...... Valid Loss: 2.4432...... Valid acc: 0.3889\n",
      "Epoch: 144/30....... Train Loss: 0.3671...... Valid Loss: 2.1114...... Valid acc: 0.3611\n",
      "Epoch: 145/30....... Train Loss: 0.3293...... Valid Loss: 2.2035...... Valid acc: 0.4722\n",
      "Epoch: 146/30....... Train Loss: 0.3688...... Valid Loss: 2.2138...... Valid acc: 0.2778\n",
      "Epoch: 147/30....... Train Loss: 0.3713...... Valid Loss: 2.3484...... Valid acc: 0.3333\n",
      "Epoch: 148/30....... Train Loss: 0.3297...... Valid Loss: 2.3228...... Valid acc: 0.3333\n",
      "Epoch: 149/30....... Train Loss: 0.3766...... Valid Loss: 2.0482...... Valid acc: 0.4167\n",
      "Epoch: 150/30....... Train Loss: 0.3230...... Valid Loss: 1.9891...... Valid acc: 0.3333\n",
      "Epoch: 151/30....... Train Loss: 0.3841...... Valid Loss: 2.1234...... Valid acc: 0.3611\n",
      "Epoch: 152/30....... Train Loss: 0.4378...... Valid Loss: 2.0222...... Valid acc: 0.3056\n",
      "Epoch: 153/30....... Train Loss: 0.3597...... Valid Loss: 2.3421...... Valid acc: 0.3611\n",
      "Epoch: 154/30....... Train Loss: 0.3636...... Valid Loss: 2.1507...... Valid acc: 0.3889\n",
      "Epoch: 155/30....... Train Loss: 0.3843...... Valid Loss: 2.2316...... Valid acc: 0.3333\n",
      "Epoch: 156/30....... Train Loss: 0.3847...... Valid Loss: 2.2984...... Valid acc: 0.3889\n",
      "Epoch: 157/30....... Train Loss: 0.3782...... Valid Loss: 2.2875...... Valid acc: 0.3333\n",
      "Epoch: 158/30....... Train Loss: 0.3511...... Valid Loss: 1.9991...... Valid acc: 0.3889\n",
      "Epoch: 159/30....... Train Loss: 0.3597...... Valid Loss: 2.2727...... Valid acc: 0.3056\n",
      "Epoch: 160/30....... Train Loss: 0.3574...... Valid Loss: 2.1878...... Valid acc: 0.3611\n",
      "Epoch: 161/30....... Train Loss: 0.4169...... Valid Loss: 2.2156...... Valid acc: 0.3333\n",
      "Epoch: 162/30....... Train Loss: 0.3391...... Valid Loss: 2.1146...... Valid acc: 0.3889\n",
      "Epoch: 163/30....... Train Loss: 0.2883...... Valid Loss: 2.3562...... Valid acc: 0.3056\n",
      "Epoch: 164/30....... Train Loss: 0.3821...... Valid Loss: 2.2690...... Valid acc: 0.2778\n",
      "Epoch: 165/30....... Train Loss: 0.3678...... Valid Loss: 2.3886...... Valid acc: 0.3056\n",
      "Epoch: 166/30....... Train Loss: 0.3815...... Valid Loss: 2.3916...... Valid acc: 0.3611\n",
      "Epoch: 167/30....... Train Loss: 0.3504...... Valid Loss: 2.2225...... Valid acc: 0.3889\n",
      "Epoch: 168/30....... Train Loss: 0.3274...... Valid Loss: 1.9267...... Valid acc: 0.3889\n",
      "Epoch: 169/30....... Train Loss: 0.3090...... Valid Loss: 2.0692...... Valid acc: 0.3333\n",
      "Epoch: 170/30....... Train Loss: 0.3004...... Valid Loss: 2.3515...... Valid acc: 0.2778\n",
      "Epoch: 171/30....... Train Loss: 0.2815...... Valid Loss: 2.2147...... Valid acc: 0.3611\n",
      "Epoch: 172/30....... Train Loss: 0.4008...... Valid Loss: 2.0162...... Valid acc: 0.3056\n",
      "Epoch: 173/30....... Train Loss: 0.3627...... Valid Loss: 2.3219...... Valid acc: 0.3611\n",
      "Epoch: 174/30....... Train Loss: 0.3567...... Valid Loss: 2.3898...... Valid acc: 0.3333\n",
      "Epoch: 175/30....... Train Loss: 0.3234...... Valid Loss: 1.9209...... Valid acc: 0.4167\n",
      "Epoch: 176/30....... Train Loss: 0.4603...... Valid Loss: 2.2272...... Valid acc: 0.3611\n",
      "Epoch: 177/30....... Train Loss: 0.3543...... Valid Loss: 2.0292...... Valid acc: 0.4167\n",
      "Epoch: 178/30....... Train Loss: 0.3150...... Valid Loss: 2.2641...... Valid acc: 0.3056\n",
      "Epoch: 179/30....... Train Loss: 0.3206...... Valid Loss: 2.1050...... Valid acc: 0.3611\n",
      "Epoch: 180/30....... Train Loss: 0.3634...... Valid Loss: 2.5325...... Valid acc: 0.3333\n",
      "Epoch: 181/30....... Train Loss: 0.3238...... Valid Loss: 2.3686...... Valid acc: 0.3056\n",
      "Epoch: 182/30....... Train Loss: 0.2984...... Valid Loss: 2.3148...... Valid acc: 0.3056\n",
      "Epoch: 183/30....... Train Loss: 0.3225...... Valid Loss: 2.3774...... Valid acc: 0.2778\n",
      "Epoch: 184/30....... Train Loss: 0.3222...... Valid Loss: 2.3123...... Valid acc: 0.2778\n",
      "Epoch: 185/30....... Train Loss: 0.3185...... Valid Loss: 2.1916...... Valid acc: 0.4167\n",
      "Epoch: 186/30....... Train Loss: 0.2745...... Valid Loss: 2.5719...... Valid acc: 0.3056\n",
      "Epoch: 187/30....... Train Loss: 0.3341...... Valid Loss: 2.0451...... Valid acc: 0.3611\n"
     ]
    },
    {
     "name": "stdout",
     "output_type": "stream",
     "text": [
      "Epoch: 188/30....... Train Loss: 0.3555...... Valid Loss: 2.2906...... Valid acc: 0.3611\n",
      "Epoch: 189/30....... Train Loss: 0.3670...... Valid Loss: 2.0955...... Valid acc: 0.4167\n",
      "Epoch: 190/30....... Train Loss: 0.2987...... Valid Loss: 2.0691...... Valid acc: 0.3889\n",
      "Epoch: 191/30....... Train Loss: 0.3158...... Valid Loss: 2.1519...... Valid acc: 0.3333\n",
      "Epoch: 192/30....... Train Loss: 0.2721...... Valid Loss: 2.2915...... Valid acc: 0.2778\n",
      "Epoch: 193/30....... Train Loss: 0.2911...... Valid Loss: 2.0623...... Valid acc: 0.3333\n",
      "Epoch: 194/30....... Train Loss: 0.3144...... Valid Loss: 2.3506...... Valid acc: 0.2778\n",
      "Epoch: 195/30....... Train Loss: 0.3486...... Valid Loss: 2.5849...... Valid acc: 0.3056\n",
      "Epoch: 196/30....... Train Loss: 0.2999...... Valid Loss: 2.2754...... Valid acc: 0.2500\n",
      "Epoch: 197/30....... Train Loss: 0.2896...... Valid Loss: 2.0094...... Valid acc: 0.3889\n",
      "Epoch: 198/30....... Train Loss: 0.3454...... Valid Loss: 2.1444...... Valid acc: 0.3056\n",
      "Epoch: 199/30....... Train Loss: 0.3963...... Valid Loss: 2.1469...... Valid acc: 0.4167\n",
      "Epoch: 200/30....... Train Loss: 0.3391...... Valid Loss: 2.2154...... Valid acc: 0.2778\n"
     ]
    }
   ],
   "source": [
    "# Training Run\n",
    "for epoch in range(1, n_epochs_ret + 1):\n",
    "    dl_it = iter(curr_dl)    \n",
    "    \n",
    "    model.reset_h()\n",
    "    model.train()\n",
    "    for i_batch in range(len(dl_it)):\n",
    "        curr_batch = next(dl_it)\n",
    "        if i_batch <= 20: continue\n",
    "        \n",
    "        optimizer.zero_grad() # Clears existing gradients from previous epoch\n",
    "        x_cat, x_cont, res = curr_batch[0][0].to(device), curr_batch[0][1].to(device), curr_batch[1].to(device)\n",
    "        output = model(x_cat, x_cont)\n",
    "        \n",
    "        loss = criterion(output.view(x_cat.shape[0] * x_cat.shape[1],3), res.view(-1).long())\n",
    "        loss.backward() # Does backpropagation and calculates gradients\n",
    "        optimizer.step() # Updates the weights accordingly\n",
    "        \n",
    "        if i_batch == len(dl_it)-1:\n",
    "            loss_valid = get_loss(model, sample_cat, sample_cont, sample_res)\n",
    "            accuracy_valid = accuracy(model, sample_cat, sample_cont, sample_res)\n",
    "    \n",
    "    if epoch%1 == 0:\n",
    "        print(\"Epoch: {}/{}.......\".format(epoch, n_epochs), end=' ')\n",
    "        print(\"Train Loss: {:.4f}......\".format(loss.item()), end = ' ')\n",
    "        #print('')\n",
    "        print(\"Valid Loss: {:.4f}......\".format(loss_valid.item()), end=' ')\n",
    "        print(\"Valid acc: {:.4f}\".format(accuracy_valid))"
   ]
  },
  {
   "cell_type": "markdown",
   "metadata": {
    "heading_collapsed": true
   },
   "source": [
    "## Validation Results"
   ]
  },
  {
   "cell_type": "code",
   "execution_count": 127,
   "metadata": {
    "hidden": true
   },
   "outputs": [],
   "source": [
    "sample_pred, probs_, m_out= pred(model, sample_cat, sample_cont, sample_res)\n",
    "acc = accuracy(model, sample_cat, sample_cont, sample_res)"
   ]
  },
  {
   "cell_type": "code",
   "execution_count": 128,
   "metadata": {
    "hidden": true
   },
   "outputs": [
    {
     "data": {
      "text/plain": [
       "0.3888888888888889"
      ]
     },
     "execution_count": 128,
     "metadata": {},
     "output_type": "execute_result"
    }
   ],
   "source": [
    "acc"
   ]
  },
  {
   "cell_type": "code",
   "execution_count": 113,
   "metadata": {
    "hidden": true
   },
   "outputs": [
    {
     "data": {
      "text/plain": [
       "tensor([2, 0, 1, 1, 2, 2, 0, 0, 1, 0, 0, 0, 2, 2, 1, 1, 1, 1, 2, 1, 1, 1, 2, 0,\n",
       "        1, 0, 1, 2, 1, 0, 0, 2, 0, 2, 1, 0])"
      ]
     },
     "execution_count": 113,
     "metadata": {},
     "output_type": "execute_result"
    }
   ],
   "source": [
    "sample_pred"
   ]
  },
  {
   "cell_type": "code",
   "execution_count": 104,
   "metadata": {
    "hidden": true
   },
   "outputs": [
    {
     "data": {
      "text/plain": [
       "tensor([[0, 0, 0, 0, 2, 2, 0, 2, 2, 0, 0, 0, 2, 0, 1, 1, 0, 0, 0, 1],\n",
       "        [0, 2, 0, 0, 2, 1, 2, 2, 2, 0, 0, 2, 1, 2, 1, 2, 0, 1, 0, 1],\n",
       "        [0, 2, 2, 2, 0, 2, 0, 0, 2, 1, 0, 0, 1, 2, 1, 2, 2, 2, 1, 0],\n",
       "        [2, 2, 0, 2, 0, 0, 1, 2, 0, 0, 1, 2, 1, 2, 0, 0, 0, 0, 2, 0],\n",
       "        [1, 2, 2, 2, 1, 1, 0, 1, 1, 1, 2, 0, 1, 2, 2, 0, 2, 0, 2, 1],\n",
       "        [2, 0, 0, 0, 2, 1, 0, 2, 1, 0, 0, 2, 1, 2, 2, 0, 2, 0, 0, 0],\n",
       "        [2, 2, 2, 0, 2, 1, 1, 2, 2, 0, 0, 2, 1, 2, 2, 2, 1, 0, 0, 2],\n",
       "        [0, 1, 0, 0, 1, 2, 1, 0, 0, 2, 2, 1, 0, 0, 0, 1, 0, 2, 2, 0],\n",
       "        [2, 2, 0, 0, 2, 0, 0, 2, 1, 1, 2, 1, 0, 0, 2, 1, 1, 0, 2, 1],\n",
       "        [0, 2, 0, 2, 2, 1, 2, 2, 0, 2, 1, 2, 1, 2, 0, 2, 0, 2, 2, 1],\n",
       "        [0, 2, 2, 1, 1, 1, 1, 1, 0, 2, 2, 2, 1, 2, 1, 1, 2, 2, 1, 0],\n",
       "        [0, 0, 0, 0, 0, 0, 0, 0, 0, 0, 0, 1, 0, 0, 1, 1, 0, 0, 2, 1],\n",
       "        [1, 1, 0, 2, 2, 1, 0, 1, 1, 1, 1, 0, 2, 0, 1, 2, 0, 2, 0, 0],\n",
       "        [0, 1, 0, 0, 0, 2, 1, 0, 0, 2, 2, 1, 1, 2, 0, 0, 0, 1, 2, 0],\n",
       "        [0, 2, 1, 2, 0, 0, 1, 2, 0, 0, 0, 1, 1, 2, 0, 2, 2, 2, 2, 1],\n",
       "        [1, 0, 0, 0, 2, 2, 1, 0, 1, 2, 2, 2, 0, 0, 0, 2, 1, 2, 0, 1],\n",
       "        [1, 2, 2, 2, 0, 2, 1, 1, 0, 0, 2, 2, 2, 0, 1, 0, 2, 0, 0, 2],\n",
       "        [2, 1, 0, 2, 0, 2, 0, 1, 0, 2, 2, 1, 0, 2, 2, 0, 0, 0, 2, 0]])"
      ]
     },
     "execution_count": 104,
     "metadata": {},
     "output_type": "execute_result"
    }
   ],
   "source": [
    "sample_res"
   ]
  },
  {
   "cell_type": "code",
   "execution_count": 129,
   "metadata": {
    "hidden": true
   },
   "outputs": [
    {
     "name": "stdout",
     "output_type": "stream",
     "text": [
      "15 11 10\n",
      "0.4166666666666667 0.3055555555555556 0.2777777777777778\n"
     ]
    }
   ],
   "source": [
    "c, o, t = 0,0,0\n",
    "for x in sample_res.view(-1):\n",
    "    if x == 0: c +=1\n",
    "    elif x == 1: o += 1\n",
    "    else: t += 1\n",
    "print(c, o, t)\n",
    "print(c/len(sample_res.view(-1)), o/len(sample_res.view(-1)), t/len(sample_res.view(-1)))"
   ]
  },
  {
   "cell_type": "code",
   "execution_count": 130,
   "metadata": {
    "hidden": true
   },
   "outputs": [
    {
     "name": "stdout",
     "output_type": "stream",
     "text": [
      "12 14 10\n",
      "0.3333333333333333 0.3888888888888889 0.2777777777777778\n"
     ]
    }
   ],
   "source": [
    "c, o, t = 0,0,0\n",
    "for x in sample_pred.view(-1):\n",
    "    if x == 0: c +=1\n",
    "    elif x == 1: o += 1\n",
    "    else: t += 1\n",
    "print(c, o, t)\n",
    "print(c/len(sample_res.view(-1)), o/len(sample_res.view(-1)), t/len(sample_res.view(-1)))"
   ]
  },
  {
   "cell_type": "markdown",
   "metadata": {
    "heading_collapsed": true
   },
   "source": [
    "## Validating data"
   ]
  },
  {
   "cell_type": "code",
   "execution_count": 105,
   "metadata": {
    "hidden": true
   },
   "outputs": [
    {
     "data": {
      "text/plain": [
       "tensor([[0, 0, 0, 0, 2, 2, 0, 2, 2, 0, 0, 0, 2, 0, 1, 1, 0, 0, 0, 1],\n",
       "        [0, 2, 0, 0, 2, 1, 2, 2, 2, 0, 0, 2, 1, 2, 1, 2, 0, 1, 0, 1],\n",
       "        [0, 2, 2, 2, 0, 2, 0, 0, 2, 1, 0, 0, 1, 2, 1, 2, 2, 2, 1, 0],\n",
       "        [2, 2, 0, 2, 0, 0, 1, 2, 0, 0, 1, 2, 1, 2, 0, 0, 0, 0, 2, 0],\n",
       "        [1, 2, 2, 2, 1, 1, 0, 1, 1, 1, 2, 0, 1, 2, 2, 0, 2, 0, 2, 1],\n",
       "        [2, 0, 0, 0, 2, 1, 0, 2, 1, 0, 0, 2, 1, 2, 2, 0, 2, 0, 0, 0],\n",
       "        [2, 2, 2, 0, 2, 1, 1, 2, 2, 0, 0, 2, 1, 2, 2, 2, 1, 0, 0, 2],\n",
       "        [0, 1, 0, 0, 1, 2, 1, 0, 0, 2, 2, 1, 0, 0, 0, 1, 0, 2, 2, 0],\n",
       "        [2, 2, 0, 0, 2, 0, 0, 2, 1, 1, 2, 1, 0, 0, 2, 1, 1, 0, 2, 1],\n",
       "        [0, 2, 0, 2, 2, 1, 2, 2, 0, 2, 1, 2, 1, 2, 0, 2, 0, 2, 2, 1],\n",
       "        [0, 2, 2, 1, 1, 1, 1, 1, 0, 2, 2, 2, 1, 2, 1, 1, 2, 2, 1, 0],\n",
       "        [0, 0, 0, 0, 0, 0, 0, 0, 0, 0, 0, 1, 0, 0, 1, 1, 0, 0, 2, 1],\n",
       "        [1, 1, 0, 2, 2, 1, 0, 1, 1, 1, 1, 0, 2, 0, 1, 2, 0, 2, 0, 0],\n",
       "        [0, 1, 0, 0, 0, 2, 1, 0, 0, 2, 2, 1, 1, 2, 0, 0, 0, 1, 2, 0],\n",
       "        [0, 2, 1, 2, 0, 0, 1, 2, 0, 0, 0, 1, 1, 2, 0, 2, 2, 2, 2, 1],\n",
       "        [1, 0, 0, 0, 2, 2, 1, 0, 1, 2, 2, 2, 0, 0, 0, 2, 1, 2, 0, 1],\n",
       "        [1, 2, 2, 2, 0, 2, 1, 1, 0, 0, 2, 2, 2, 0, 1, 0, 2, 0, 0, 2],\n",
       "        [2, 1, 0, 2, 0, 2, 0, 1, 0, 2, 2, 1, 0, 2, 2, 0, 0, 0, 2, 0]])"
      ]
     },
     "execution_count": 105,
     "metadata": {},
     "output_type": "execute_result"
    }
   ],
   "source": [
    "sample_res"
   ]
  },
  {
   "cell_type": "code",
   "execution_count": 142,
   "metadata": {
    "hidden": true
   },
   "outputs": [
    {
     "data": {
      "text/plain": [
       "[array(['chiapas'], dtype=object),\n",
       " array(['morelia'], dtype=object),\n",
       " array(['monterrey'], dtype=object),\n",
       " array(['atlas'], dtype=object),\n",
       " array(['america'], dtype=object),\n",
       " array(['atlante'], dtype=object),\n",
       " array(['santos'], dtype=object),\n",
       " array(['puebla'], dtype=object),\n",
       " array(['unam'], dtype=object),\n",
       " array(['necaxa'], dtype=object),\n",
       " array(['tigres'], dtype=object),\n",
       " array(['veracruz'], dtype=object),\n",
       " array(['cruz azul'], dtype=object),\n",
       " array(['toluca'], dtype=object),\n",
       " array(['guadalajara'], dtype=object),\n",
       " array(['pachuca'], dtype=object),\n",
       " array(['queretaro'], dtype=object),\n",
       " array(['tijuana'], dtype=object)]"
      ]
     },
     "execution_count": 142,
     "metadata": {},
     "output_type": "execute_result"
    }
   ],
   "source": [
    "order_equipos"
   ]
  },
  {
   "cell_type": "code",
   "execution_count": 313,
   "metadata": {
    "hidden": true
   },
   "outputs": [
    {
     "data": {
      "text/html": [
       "<div>\n",
       "<style scoped>\n",
       "    .dataframe tbody tr th:only-of-type {\n",
       "        vertical-align: middle;\n",
       "    }\n",
       "\n",
       "    .dataframe tbody tr th {\n",
       "        vertical-align: top;\n",
       "    }\n",
       "\n",
       "    .dataframe thead th {\n",
       "        text-align: right;\n",
       "    }\n",
       "</style>\n",
       "<table border=\"1\" class=\"dataframe\">\n",
       "  <thead>\n",
       "    <tr style=\"text-align: right;\">\n",
       "      <th></th>\n",
       "      <th>JRD</th>\n",
       "      <th>ANO</th>\n",
       "      <th>TIPO</th>\n",
       "      <th>L_POS</th>\n",
       "      <th>L_JJ</th>\n",
       "      <th>L_R_JG_JJ</th>\n",
       "      <th>L_R_JE_JJ</th>\n",
       "      <th>L_R_JP_JJ</th>\n",
       "      <th>L_R_GF_JJ</th>\n",
       "      <th>L_R_GC_JJ</th>\n",
       "      <th>...</th>\n",
       "      <th>V_R_JE_JJ</th>\n",
       "      <th>V_R_JP_JJ</th>\n",
       "      <th>V_R_GF_JJ</th>\n",
       "      <th>V_R_GC_JJ</th>\n",
       "      <th>V_R_DIF_JJ</th>\n",
       "      <th>V_R_PTS_JJ</th>\n",
       "      <th>RES</th>\n",
       "      <th>ES_LOC</th>\n",
       "      <th>EQUIPO</th>\n",
       "      <th>EQUIPO_C</th>\n",
       "    </tr>\n",
       "  </thead>\n",
       "  <tbody>\n",
       "    <tr>\n",
       "      <th>379</th>\n",
       "      <td>2.0</td>\n",
       "      <td>2019</td>\n",
       "      <td>apertura</td>\n",
       "      <td>5.0</td>\n",
       "      <td>1.0</td>\n",
       "      <td>1.000000</td>\n",
       "      <td>0.000000</td>\n",
       "      <td>0.000000</td>\n",
       "      <td>3.000000</td>\n",
       "      <td>1.000000</td>\n",
       "      <td>...</td>\n",
       "      <td>0.000000</td>\n",
       "      <td>0.000000</td>\n",
       "      <td>2.000000</td>\n",
       "      <td>0.000000</td>\n",
       "      <td>2.000000</td>\n",
       "      <td>3.000000</td>\n",
       "      <td>1</td>\n",
       "      <td>False</td>\n",
       "      <td>queretaro</td>\n",
       "      <td>tijuana</td>\n",
       "    </tr>\n",
       "    <tr>\n",
       "      <th>380</th>\n",
       "      <td>3.0</td>\n",
       "      <td>2019</td>\n",
       "      <td>apertura</td>\n",
       "      <td>7.0</td>\n",
       "      <td>2.0</td>\n",
       "      <td>0.500000</td>\n",
       "      <td>0.500000</td>\n",
       "      <td>0.000000</td>\n",
       "      <td>1.500000</td>\n",
       "      <td>0.500000</td>\n",
       "      <td>...</td>\n",
       "      <td>1.000000</td>\n",
       "      <td>0.000000</td>\n",
       "      <td>0.500000</td>\n",
       "      <td>0.500000</td>\n",
       "      <td>0.000000</td>\n",
       "      <td>1.000000</td>\n",
       "      <td>2</td>\n",
       "      <td>True</td>\n",
       "      <td>queretaro</td>\n",
       "      <td>cruz azul</td>\n",
       "    </tr>\n",
       "    <tr>\n",
       "      <th>381</th>\n",
       "      <td>4.0</td>\n",
       "      <td>2019</td>\n",
       "      <td>apertura</td>\n",
       "      <td>2.0</td>\n",
       "      <td>3.0</td>\n",
       "      <td>0.666667</td>\n",
       "      <td>0.333333</td>\n",
       "      <td>0.000000</td>\n",
       "      <td>2.000000</td>\n",
       "      <td>0.333333</td>\n",
       "      <td>...</td>\n",
       "      <td>0.333333</td>\n",
       "      <td>0.666667</td>\n",
       "      <td>1.666667</td>\n",
       "      <td>2.666667</td>\n",
       "      <td>-1.000000</td>\n",
       "      <td>0.333333</td>\n",
       "      <td>2</td>\n",
       "      <td>True</td>\n",
       "      <td>queretaro</td>\n",
       "      <td>pachuca</td>\n",
       "    </tr>\n",
       "    <tr>\n",
       "      <th>382</th>\n",
       "      <td>5.0</td>\n",
       "      <td>2019</td>\n",
       "      <td>apertura</td>\n",
       "      <td>14.0</td>\n",
       "      <td>4.0</td>\n",
       "      <td>0.250000</td>\n",
       "      <td>0.000000</td>\n",
       "      <td>0.750000</td>\n",
       "      <td>0.500000</td>\n",
       "      <td>1.500000</td>\n",
       "      <td>...</td>\n",
       "      <td>0.250000</td>\n",
       "      <td>0.000000</td>\n",
       "      <td>2.000000</td>\n",
       "      <td>0.500000</td>\n",
       "      <td>1.500000</td>\n",
       "      <td>2.500000</td>\n",
       "      <td>2</td>\n",
       "      <td>False</td>\n",
       "      <td>queretaro</td>\n",
       "      <td>fc juarez</td>\n",
       "    </tr>\n",
       "    <tr>\n",
       "      <th>383</th>\n",
       "      <td>6.0</td>\n",
       "      <td>2019</td>\n",
       "      <td>apertura</td>\n",
       "      <td>1.0</td>\n",
       "      <td>5.0</td>\n",
       "      <td>0.800000</td>\n",
       "      <td>0.200000</td>\n",
       "      <td>0.000000</td>\n",
       "      <td>2.000000</td>\n",
       "      <td>0.400000</td>\n",
       "      <td>...</td>\n",
       "      <td>0.250000</td>\n",
       "      <td>0.250000</td>\n",
       "      <td>2.250000</td>\n",
       "      <td>1.750000</td>\n",
       "      <td>0.500000</td>\n",
       "      <td>1.750000</td>\n",
       "      <td>0</td>\n",
       "      <td>True</td>\n",
       "      <td>queretaro</td>\n",
       "      <td>leon</td>\n",
       "    </tr>\n",
       "    <tr>\n",
       "      <th>384</th>\n",
       "      <td>7.0</td>\n",
       "      <td>2019</td>\n",
       "      <td>apertura</td>\n",
       "      <td>19.0</td>\n",
       "      <td>5.0</td>\n",
       "      <td>0.000000</td>\n",
       "      <td>0.200000</td>\n",
       "      <td>0.800000</td>\n",
       "      <td>1.000000</td>\n",
       "      <td>3.200000</td>\n",
       "      <td>...</td>\n",
       "      <td>0.166667</td>\n",
       "      <td>0.166667</td>\n",
       "      <td>1.666667</td>\n",
       "      <td>1.000000</td>\n",
       "      <td>0.666667</td>\n",
       "      <td>2.166667</td>\n",
       "      <td>2</td>\n",
       "      <td>False</td>\n",
       "      <td>queretaro</td>\n",
       "      <td>veracruz</td>\n",
       "    </tr>\n",
       "    <tr>\n",
       "      <th>385</th>\n",
       "      <td>8.0</td>\n",
       "      <td>2019</td>\n",
       "      <td>apertura</td>\n",
       "      <td>1.0</td>\n",
       "      <td>7.0</td>\n",
       "      <td>0.714286</td>\n",
       "      <td>0.142857</td>\n",
       "      <td>0.142857</td>\n",
       "      <td>2.142857</td>\n",
       "      <td>0.857143</td>\n",
       "      <td>...</td>\n",
       "      <td>0.333333</td>\n",
       "      <td>0.500000</td>\n",
       "      <td>0.833333</td>\n",
       "      <td>2.166667</td>\n",
       "      <td>-1.333333</td>\n",
       "      <td>0.833333</td>\n",
       "      <td>1</td>\n",
       "      <td>True</td>\n",
       "      <td>queretaro</td>\n",
       "      <td>puebla</td>\n",
       "    </tr>\n",
       "    <tr>\n",
       "      <th>386</th>\n",
       "      <td>10.0</td>\n",
       "      <td>2019</td>\n",
       "      <td>apertura</td>\n",
       "      <td>4.0</td>\n",
       "      <td>9.0</td>\n",
       "      <td>0.444444</td>\n",
       "      <td>0.444444</td>\n",
       "      <td>0.111111</td>\n",
       "      <td>1.333333</td>\n",
       "      <td>1.000000</td>\n",
       "      <td>...</td>\n",
       "      <td>0.250000</td>\n",
       "      <td>0.125000</td>\n",
       "      <td>2.000000</td>\n",
       "      <td>0.875000</td>\n",
       "      <td>1.125000</td>\n",
       "      <td>2.125000</td>\n",
       "      <td>1</td>\n",
       "      <td>False</td>\n",
       "      <td>queretaro</td>\n",
       "      <td>america</td>\n",
       "    </tr>\n",
       "    <tr>\n",
       "      <th>387</th>\n",
       "      <td>11.0</td>\n",
       "      <td>2019</td>\n",
       "      <td>apertura</td>\n",
       "      <td>3.0</td>\n",
       "      <td>9.0</td>\n",
       "      <td>0.555556</td>\n",
       "      <td>0.333333</td>\n",
       "      <td>0.111111</td>\n",
       "      <td>2.000000</td>\n",
       "      <td>1.000000</td>\n",
       "      <td>...</td>\n",
       "      <td>0.200000</td>\n",
       "      <td>0.300000</td>\n",
       "      <td>2.100000</td>\n",
       "      <td>1.300000</td>\n",
       "      <td>0.800000</td>\n",
       "      <td>1.700000</td>\n",
       "      <td>0</td>\n",
       "      <td>True</td>\n",
       "      <td>queretaro</td>\n",
       "      <td>necaxa</td>\n",
       "    </tr>\n",
       "    <tr>\n",
       "      <th>388</th>\n",
       "      <td>12.0</td>\n",
       "      <td>2019</td>\n",
       "      <td>apertura</td>\n",
       "      <td>11.0</td>\n",
       "      <td>11.0</td>\n",
       "      <td>0.363636</td>\n",
       "      <td>0.181818</td>\n",
       "      <td>0.454545</td>\n",
       "      <td>1.090909</td>\n",
       "      <td>1.181818</td>\n",
       "      <td>...</td>\n",
       "      <td>0.300000</td>\n",
       "      <td>0.200000</td>\n",
       "      <td>1.900000</td>\n",
       "      <td>1.100000</td>\n",
       "      <td>0.800000</td>\n",
       "      <td>1.800000</td>\n",
       "      <td>0</td>\n",
       "      <td>False</td>\n",
       "      <td>queretaro</td>\n",
       "      <td>atlas</td>\n",
       "    </tr>\n",
       "    <tr>\n",
       "      <th>389</th>\n",
       "      <td>13.0</td>\n",
       "      <td>2019</td>\n",
       "      <td>apertura</td>\n",
       "      <td>6.0</td>\n",
       "      <td>11.0</td>\n",
       "      <td>0.454545</td>\n",
       "      <td>0.272727</td>\n",
       "      <td>0.272727</td>\n",
       "      <td>1.727273</td>\n",
       "      <td>1.181818</td>\n",
       "      <td>...</td>\n",
       "      <td>0.083333</td>\n",
       "      <td>0.500000</td>\n",
       "      <td>1.250000</td>\n",
       "      <td>1.416667</td>\n",
       "      <td>-0.166667</td>\n",
       "      <td>1.333333</td>\n",
       "      <td>2</td>\n",
       "      <td>True</td>\n",
       "      <td>queretaro</td>\n",
       "      <td>monterrey</td>\n",
       "    </tr>\n",
       "    <tr>\n",
       "      <th>390</th>\n",
       "      <td>14.0</td>\n",
       "      <td>2019</td>\n",
       "      <td>apertura</td>\n",
       "      <td>11.0</td>\n",
       "      <td>12.0</td>\n",
       "      <td>0.416667</td>\n",
       "      <td>0.166667</td>\n",
       "      <td>0.416667</td>\n",
       "      <td>1.416667</td>\n",
       "      <td>1.583333</td>\n",
       "      <td>...</td>\n",
       "      <td>0.272727</td>\n",
       "      <td>0.272727</td>\n",
       "      <td>1.727273</td>\n",
       "      <td>1.181818</td>\n",
       "      <td>0.545455</td>\n",
       "      <td>1.636364</td>\n",
       "      <td>2</td>\n",
       "      <td>False</td>\n",
       "      <td>queretaro</td>\n",
       "      <td>atletico de san luis</td>\n",
       "    </tr>\n",
       "    <tr>\n",
       "      <th>391</th>\n",
       "      <td>15.0</td>\n",
       "      <td>2019</td>\n",
       "      <td>apertura</td>\n",
       "      <td>6.0</td>\n",
       "      <td>12.0</td>\n",
       "      <td>0.500000</td>\n",
       "      <td>0.250000</td>\n",
       "      <td>0.250000</td>\n",
       "      <td>1.750000</td>\n",
       "      <td>1.166667</td>\n",
       "      <td>...</td>\n",
       "      <td>0.230769</td>\n",
       "      <td>0.384615</td>\n",
       "      <td>1.076923</td>\n",
       "      <td>0.923077</td>\n",
       "      <td>0.153846</td>\n",
       "      <td>1.384615</td>\n",
       "      <td>2</td>\n",
       "      <td>True</td>\n",
       "      <td>queretaro</td>\n",
       "      <td>unam</td>\n",
       "    </tr>\n",
       "    <tr>\n",
       "      <th>392</th>\n",
       "      <td>16.0</td>\n",
       "      <td>2019</td>\n",
       "      <td>apertura</td>\n",
       "      <td>3.0</td>\n",
       "      <td>14.0</td>\n",
       "      <td>0.571429</td>\n",
       "      <td>0.214286</td>\n",
       "      <td>0.214286</td>\n",
       "      <td>2.285714</td>\n",
       "      <td>1.500000</td>\n",
       "      <td>...</td>\n",
       "      <td>0.214286</td>\n",
       "      <td>0.214286</td>\n",
       "      <td>1.857143</td>\n",
       "      <td>1.000000</td>\n",
       "      <td>0.857143</td>\n",
       "      <td>1.928571</td>\n",
       "      <td>0</td>\n",
       "      <td>False</td>\n",
       "      <td>queretaro</td>\n",
       "      <td>santos</td>\n",
       "    </tr>\n",
       "    <tr>\n",
       "      <th>393</th>\n",
       "      <td>17.0</td>\n",
       "      <td>2019</td>\n",
       "      <td>apertura</td>\n",
       "      <td>4.0</td>\n",
       "      <td>15.0</td>\n",
       "      <td>0.533333</td>\n",
       "      <td>0.200000</td>\n",
       "      <td>0.266667</td>\n",
       "      <td>1.733333</td>\n",
       "      <td>1.000000</td>\n",
       "      <td>...</td>\n",
       "      <td>0.400000</td>\n",
       "      <td>0.133333</td>\n",
       "      <td>1.600000</td>\n",
       "      <td>0.866667</td>\n",
       "      <td>0.733333</td>\n",
       "      <td>1.800000</td>\n",
       "      <td>1</td>\n",
       "      <td>True</td>\n",
       "      <td>queretaro</td>\n",
       "      <td>tigres</td>\n",
       "    </tr>\n",
       "    <tr>\n",
       "      <th>394</th>\n",
       "      <td>18.0</td>\n",
       "      <td>2019</td>\n",
       "      <td>apertura</td>\n",
       "      <td>15.0</td>\n",
       "      <td>16.0</td>\n",
       "      <td>0.312500</td>\n",
       "      <td>0.250000</td>\n",
       "      <td>0.437500</td>\n",
       "      <td>1.375000</td>\n",
       "      <td>1.562500</td>\n",
       "      <td>...</td>\n",
       "      <td>0.250000</td>\n",
       "      <td>0.250000</td>\n",
       "      <td>1.625000</td>\n",
       "      <td>0.937500</td>\n",
       "      <td>0.687500</td>\n",
       "      <td>1.750000</td>\n",
       "      <td>0</td>\n",
       "      <td>False</td>\n",
       "      <td>queretaro</td>\n",
       "      <td>guadalajara</td>\n",
       "    </tr>\n",
       "    <tr>\n",
       "      <th>395</th>\n",
       "      <td>19.0</td>\n",
       "      <td>2019</td>\n",
       "      <td>apertura</td>\n",
       "      <td>6.0</td>\n",
       "      <td>17.0</td>\n",
       "      <td>0.470588</td>\n",
       "      <td>0.235294</td>\n",
       "      <td>0.294118</td>\n",
       "      <td>1.647059</td>\n",
       "      <td>1.058824</td>\n",
       "      <td>...</td>\n",
       "      <td>0.176471</td>\n",
       "      <td>0.352941</td>\n",
       "      <td>1.764706</td>\n",
       "      <td>1.352941</td>\n",
       "      <td>0.411765</td>\n",
       "      <td>1.588235</td>\n",
       "      <td>2</td>\n",
       "      <td>True</td>\n",
       "      <td>queretaro</td>\n",
       "      <td>morelia</td>\n",
       "    </tr>\n",
       "    <tr>\n",
       "      <th>396</th>\n",
       "      <td>20.0</td>\n",
       "      <td>2019</td>\n",
       "      <td>apertura</td>\n",
       "      <td>5.0</td>\n",
       "      <td>18.0</td>\n",
       "      <td>0.500000</td>\n",
       "      <td>0.222222</td>\n",
       "      <td>0.277778</td>\n",
       "      <td>1.833333</td>\n",
       "      <td>1.277778</td>\n",
       "      <td>...</td>\n",
       "      <td>0.222222</td>\n",
       "      <td>0.277778</td>\n",
       "      <td>1.722222</td>\n",
       "      <td>1.055556</td>\n",
       "      <td>0.666667</td>\n",
       "      <td>1.722222</td>\n",
       "      <td>0</td>\n",
       "      <td>False</td>\n",
       "      <td>queretaro</td>\n",
       "      <td>necaxa</td>\n",
       "    </tr>\n",
       "    <tr>\n",
       "      <th>397</th>\n",
       "      <td>1.0</td>\n",
       "      <td>2020</td>\n",
       "      <td>clausura</td>\n",
       "      <td>0.0</td>\n",
       "      <td>0.0</td>\n",
       "      <td>0.000000</td>\n",
       "      <td>0.000000</td>\n",
       "      <td>0.000000</td>\n",
       "      <td>0.000000</td>\n",
       "      <td>0.000000</td>\n",
       "      <td>...</td>\n",
       "      <td>0.000000</td>\n",
       "      <td>0.000000</td>\n",
       "      <td>0.000000</td>\n",
       "      <td>0.000000</td>\n",
       "      <td>0.000000</td>\n",
       "      <td>0.000000</td>\n",
       "      <td>0</td>\n",
       "      <td>False</td>\n",
       "      <td>queretaro</td>\n",
       "      <td>leon</td>\n",
       "    </tr>\n",
       "    <tr>\n",
       "      <th>398</th>\n",
       "      <td>2.0</td>\n",
       "      <td>2020</td>\n",
       "      <td>clausura</td>\n",
       "      <td>17.0</td>\n",
       "      <td>1.0</td>\n",
       "      <td>0.000000</td>\n",
       "      <td>0.000000</td>\n",
       "      <td>1.000000</td>\n",
       "      <td>1.000000</td>\n",
       "      <td>3.000000</td>\n",
       "      <td>...</td>\n",
       "      <td>0.000000</td>\n",
       "      <td>0.000000</td>\n",
       "      <td>2.000000</td>\n",
       "      <td>1.000000</td>\n",
       "      <td>1.000000</td>\n",
       "      <td>3.000000</td>\n",
       "      <td>2</td>\n",
       "      <td>True</td>\n",
       "      <td>queretaro</td>\n",
       "      <td>tijuana</td>\n",
       "    </tr>\n",
       "    <tr>\n",
       "      <th>399</th>\n",
       "      <td>3.0</td>\n",
       "      <td>2020</td>\n",
       "      <td>clausura</td>\n",
       "      <td>11.0</td>\n",
       "      <td>2.0</td>\n",
       "      <td>0.500000</td>\n",
       "      <td>0.000000</td>\n",
       "      <td>0.500000</td>\n",
       "      <td>0.500000</td>\n",
       "      <td>0.500000</td>\n",
       "      <td>...</td>\n",
       "      <td>0.000000</td>\n",
       "      <td>0.500000</td>\n",
       "      <td>2.000000</td>\n",
       "      <td>1.500000</td>\n",
       "      <td>0.500000</td>\n",
       "      <td>1.500000</td>\n",
       "      <td>2</td>\n",
       "      <td>False</td>\n",
       "      <td>queretaro</td>\n",
       "      <td>puebla</td>\n",
       "    </tr>\n",
       "    <tr>\n",
       "      <th>400</th>\n",
       "      <td>4.0</td>\n",
       "      <td>2020</td>\n",
       "      <td>clausura</td>\n",
       "      <td>16.0</td>\n",
       "      <td>2.0</td>\n",
       "      <td>0.000000</td>\n",
       "      <td>0.500000</td>\n",
       "      <td>0.500000</td>\n",
       "      <td>1.000000</td>\n",
       "      <td>1.500000</td>\n",
       "      <td>...</td>\n",
       "      <td>0.000000</td>\n",
       "      <td>0.333333</td>\n",
       "      <td>1.666667</td>\n",
       "      <td>1.000000</td>\n",
       "      <td>0.666667</td>\n",
       "      <td>2.000000</td>\n",
       "      <td>2</td>\n",
       "      <td>False</td>\n",
       "      <td>queretaro</td>\n",
       "      <td>monterrey</td>\n",
       "    </tr>\n",
       "  </tbody>\n",
       "</table>\n",
       "<p>22 rows × 25 columns</p>\n",
       "</div>"
      ],
      "text/plain": [
       "      JRD   ANO      TIPO  L_POS  L_JJ  L_R_JG_JJ  L_R_JE_JJ  L_R_JP_JJ  \\\n",
       "379   2.0  2019  apertura    5.0   1.0   1.000000   0.000000   0.000000   \n",
       "380   3.0  2019  apertura    7.0   2.0   0.500000   0.500000   0.000000   \n",
       "381   4.0  2019  apertura    2.0   3.0   0.666667   0.333333   0.000000   \n",
       "382   5.0  2019  apertura   14.0   4.0   0.250000   0.000000   0.750000   \n",
       "383   6.0  2019  apertura    1.0   5.0   0.800000   0.200000   0.000000   \n",
       "384   7.0  2019  apertura   19.0   5.0   0.000000   0.200000   0.800000   \n",
       "385   8.0  2019  apertura    1.0   7.0   0.714286   0.142857   0.142857   \n",
       "386  10.0  2019  apertura    4.0   9.0   0.444444   0.444444   0.111111   \n",
       "387  11.0  2019  apertura    3.0   9.0   0.555556   0.333333   0.111111   \n",
       "388  12.0  2019  apertura   11.0  11.0   0.363636   0.181818   0.454545   \n",
       "389  13.0  2019  apertura    6.0  11.0   0.454545   0.272727   0.272727   \n",
       "390  14.0  2019  apertura   11.0  12.0   0.416667   0.166667   0.416667   \n",
       "391  15.0  2019  apertura    6.0  12.0   0.500000   0.250000   0.250000   \n",
       "392  16.0  2019  apertura    3.0  14.0   0.571429   0.214286   0.214286   \n",
       "393  17.0  2019  apertura    4.0  15.0   0.533333   0.200000   0.266667   \n",
       "394  18.0  2019  apertura   15.0  16.0   0.312500   0.250000   0.437500   \n",
       "395  19.0  2019  apertura    6.0  17.0   0.470588   0.235294   0.294118   \n",
       "396  20.0  2019  apertura    5.0  18.0   0.500000   0.222222   0.277778   \n",
       "397   1.0  2020  clausura    0.0   0.0   0.000000   0.000000   0.000000   \n",
       "398   2.0  2020  clausura   17.0   1.0   0.000000   0.000000   1.000000   \n",
       "399   3.0  2020  clausura   11.0   2.0   0.500000   0.000000   0.500000   \n",
       "400   4.0  2020  clausura   16.0   2.0   0.000000   0.500000   0.500000   \n",
       "\n",
       "     L_R_GF_JJ  L_R_GC_JJ  ...  V_R_JE_JJ  V_R_JP_JJ  V_R_GF_JJ  V_R_GC_JJ  \\\n",
       "379   3.000000   1.000000  ...   0.000000   0.000000   2.000000   0.000000   \n",
       "380   1.500000   0.500000  ...   1.000000   0.000000   0.500000   0.500000   \n",
       "381   2.000000   0.333333  ...   0.333333   0.666667   1.666667   2.666667   \n",
       "382   0.500000   1.500000  ...   0.250000   0.000000   2.000000   0.500000   \n",
       "383   2.000000   0.400000  ...   0.250000   0.250000   2.250000   1.750000   \n",
       "384   1.000000   3.200000  ...   0.166667   0.166667   1.666667   1.000000   \n",
       "385   2.142857   0.857143  ...   0.333333   0.500000   0.833333   2.166667   \n",
       "386   1.333333   1.000000  ...   0.250000   0.125000   2.000000   0.875000   \n",
       "387   2.000000   1.000000  ...   0.200000   0.300000   2.100000   1.300000   \n",
       "388   1.090909   1.181818  ...   0.300000   0.200000   1.900000   1.100000   \n",
       "389   1.727273   1.181818  ...   0.083333   0.500000   1.250000   1.416667   \n",
       "390   1.416667   1.583333  ...   0.272727   0.272727   1.727273   1.181818   \n",
       "391   1.750000   1.166667  ...   0.230769   0.384615   1.076923   0.923077   \n",
       "392   2.285714   1.500000  ...   0.214286   0.214286   1.857143   1.000000   \n",
       "393   1.733333   1.000000  ...   0.400000   0.133333   1.600000   0.866667   \n",
       "394   1.375000   1.562500  ...   0.250000   0.250000   1.625000   0.937500   \n",
       "395   1.647059   1.058824  ...   0.176471   0.352941   1.764706   1.352941   \n",
       "396   1.833333   1.277778  ...   0.222222   0.277778   1.722222   1.055556   \n",
       "397   0.000000   0.000000  ...   0.000000   0.000000   0.000000   0.000000   \n",
       "398   1.000000   3.000000  ...   0.000000   0.000000   2.000000   1.000000   \n",
       "399   0.500000   0.500000  ...   0.000000   0.500000   2.000000   1.500000   \n",
       "400   1.000000   1.500000  ...   0.000000   0.333333   1.666667   1.000000   \n",
       "\n",
       "     V_R_DIF_JJ  V_R_PTS_JJ  RES  ES_LOC     EQUIPO              EQUIPO_C  \n",
       "379    2.000000    3.000000    1   False  queretaro               tijuana  \n",
       "380    0.000000    1.000000    2    True  queretaro             cruz azul  \n",
       "381   -1.000000    0.333333    2    True  queretaro               pachuca  \n",
       "382    1.500000    2.500000    2   False  queretaro             fc juarez  \n",
       "383    0.500000    1.750000    0    True  queretaro                  leon  \n",
       "384    0.666667    2.166667    2   False  queretaro              veracruz  \n",
       "385   -1.333333    0.833333    1    True  queretaro                puebla  \n",
       "386    1.125000    2.125000    1   False  queretaro               america  \n",
       "387    0.800000    1.700000    0    True  queretaro                necaxa  \n",
       "388    0.800000    1.800000    0   False  queretaro                 atlas  \n",
       "389   -0.166667    1.333333    2    True  queretaro             monterrey  \n",
       "390    0.545455    1.636364    2   False  queretaro  atletico de san luis  \n",
       "391    0.153846    1.384615    2    True  queretaro                  unam  \n",
       "392    0.857143    1.928571    0   False  queretaro                santos  \n",
       "393    0.733333    1.800000    1    True  queretaro                tigres  \n",
       "394    0.687500    1.750000    0   False  queretaro           guadalajara  \n",
       "395    0.411765    1.588235    2    True  queretaro               morelia  \n",
       "396    0.666667    1.722222    0   False  queretaro                necaxa  \n",
       "397    0.000000    0.000000    0   False  queretaro                  leon  \n",
       "398    1.000000    3.000000    2    True  queretaro               tijuana  \n",
       "399    0.500000    1.500000    2   False  queretaro                puebla  \n",
       "400    0.666667    2.000000    2   False  queretaro             monterrey  \n",
       "\n",
       "[22 rows x 25 columns]"
      ]
     },
     "execution_count": 313,
     "metadata": {},
     "output_type": "execute_result"
    }
   ],
   "source": [
    "teams[16].tail(22)"
   ]
  },
  {
   "cell_type": "code",
   "execution_count": 41,
   "metadata": {
    "hidden": true
   },
   "outputs": [
    {
     "data": {
      "text/plain": [
       "tensor([1, 2, 0, 1, 2, 1, 2, 2, 2, 2, 0, 2, 1, 2, 2, 1, 1, 2, 2, 2, 1, 0, 1, 2,\n",
       "        2, 2, 2, 2, 0, 2, 2, 2, 0, 2, 2, 2, 2, 2, 1, 2, 2, 2, 1, 1, 1, 1, 2, 2,\n",
       "        2, 1, 1, 0, 2, 2, 2, 0, 1, 0, 2, 1, 2, 0, 2, 2, 1, 2, 2, 1, 2, 2, 1, 1,\n",
       "        2, 1, 2, 1, 0, 1, 2, 0, 0, 2, 0, 2, 0, 2, 2, 2, 0, 2, 2, 2, 0, 1, 2, 1,\n",
       "        1, 1, 2, 2, 1, 2, 0, 0, 1, 2, 0, 2, 1, 2, 1, 0, 2, 2, 0, 0, 2, 2, 1, 2,\n",
       "        1, 2, 2, 0, 1, 0, 2, 0, 2, 2, 2, 2, 2, 1, 2, 1, 2, 2, 2, 1, 2, 0, 1, 2,\n",
       "        0, 0, 2, 2, 0, 2, 0, 2, 0, 2, 0, 0, 1, 1, 2, 1, 0, 1, 1, 2, 2, 2, 0, 1,\n",
       "        2, 1, 0, 0, 0, 2, 2, 0, 0, 2, 1, 2, 2, 0, 1, 0, 2, 2, 0, 1, 0, 0, 0, 0,\n",
       "        1, 1, 2, 2, 2, 2, 1, 0, 1, 2, 2, 2, 1, 1, 0, 2, 1, 2, 1, 1, 1, 1, 0, 2,\n",
       "        0, 1, 2, 2, 2, 1, 1, 2, 2, 2, 0, 2, 0, 0, 2, 2, 1, 1, 2, 0, 2, 2, 1, 1,\n",
       "        0, 0, 2, 0, 1, 0, 1, 0, 2, 1, 0, 1, 2, 2, 2, 1, 0, 0, 2, 1, 2, 0, 0, 2,\n",
       "        1, 2, 1, 1, 0, 1, 1, 2, 2, 0, 2, 2, 2, 0, 2, 1, 0, 0, 0, 1, 1, 2, 1, 0,\n",
       "        1, 0, 0, 2, 2, 2, 2, 2, 1, 2, 2])"
      ]
     },
     "execution_count": 41,
     "metadata": {},
     "output_type": "execute_result"
    }
   ],
   "source": [
    "ds_teams[17][1]"
   ]
  }
 ],
 "metadata": {
  "kernelspec": {
   "display_name": "Python 3",
   "language": "python",
   "name": "python3"
  },
  "language_info": {
   "codemirror_mode": {
    "name": "ipython",
    "version": 3
   },
   "file_extension": ".py",
   "mimetype": "text/x-python",
   "name": "python",
   "nbconvert_exporter": "python",
   "pygments_lexer": "ipython3",
   "version": "3.6.6"
  }
 },
 "nbformat": 4,
 "nbformat_minor": 2
}
