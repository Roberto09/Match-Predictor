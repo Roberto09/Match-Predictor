{
 "cells": [
  {
   "cell_type": "markdown",
   "metadata": {},
   "source": [
    "# Data Gathering"
   ]
  },
  {
   "cell_type": "markdown",
   "metadata": {
    "heading_collapsed": true
   },
   "source": [
    "## WL Data"
   ]
  },
  {
   "cell_type": "code",
   "execution_count": 167,
   "metadata": {
    "hidden": true
   },
   "outputs": [],
   "source": [
    "from fastai.tabular import *"
   ]
  },
  {
   "cell_type": "code",
   "execution_count": 168,
   "metadata": {
    "hidden": true
   },
   "outputs": [],
   "source": [
    "df = pd.read_pickle('./data/ligamx/WLT2')"
   ]
  },
  {
   "cell_type": "code",
   "execution_count": 169,
   "metadata": {
    "hidden": true
   },
   "outputs": [],
   "source": [
    "df_ns = pd.read_pickle('./data/ligamx/WLT_new_season')"
   ]
  },
  {
   "cell_type": "code",
   "execution_count": 170,
   "metadata": {
    "hidden": true
   },
   "outputs": [],
   "source": [
    "df = pd.concat([df, df_ns])\n",
    "df.reset_index(drop = True, inplace = True)"
   ]
  },
  {
   "cell_type": "code",
   "execution_count": 171,
   "metadata": {
    "hidden": true
   },
   "outputs": [],
   "source": [
    "df.at[4948, \"JRD\"] = 4\n",
    "df.at[4949, \"JRD\"] = 4"
   ]
  },
  {
   "cell_type": "code",
   "execution_count": 172,
   "metadata": {
    "hidden": true
   },
   "outputs": [],
   "source": [
    "df.drop(df.index[range(4950, 4959)], inplace=True)\n",
    "df.reset_index(drop=True, inplace=True)"
   ]
  },
  {
   "cell_type": "code",
   "execution_count": 173,
   "metadata": {
    "hidden": true,
    "scrolled": true
   },
   "outputs": [],
   "source": [
    "# sorting\n",
    "import numpy as np\n",
    "df['sort_val'] = df.ANO + df.JRD/1000 + (df.TIPO == 'apertura')/10\n",
    "df = df.sort_values('sort_val').drop('sort_val', 1)"
   ]
  },
  {
   "cell_type": "code",
   "execution_count": 174,
   "metadata": {
    "hidden": true
   },
   "outputs": [],
   "source": [
    "df.reset_index(drop=True, inplace=True)"
   ]
  },
  {
   "cell_type": "code",
   "execution_count": 175,
   "metadata": {
    "hidden": true,
    "scrolled": true
   },
   "outputs": [],
   "source": [
    "teams = []\n",
    "\n",
    "for name in df.LOC.unique():\n",
    "    curr_df_loc = df[df.LOC == name].copy()\n",
    "    curr_df_loc[\"ES_LOC\"] = True\n",
    "    curr_df_loc['EQUIPO'] = curr_df_loc.LOC\n",
    "    curr_df_loc['EQUIPO_C'] = curr_df_loc.VIS\n",
    "    del curr_df_loc['LOC']\n",
    "    del curr_df_loc['VIS']\n",
    "    \n",
    "#     curr_df_vis = df[df.VIS == name].copy()\n",
    "#     curr_df_vis[\"ES_LOC\"] = False\n",
    "#     curr_df_vis['EQUIPO'] = curr_df_vis.VIS\n",
    "#     curr_df_vis['EQUIPO_C'] = curr_df_vis.LOC\n",
    "#     del curr_df_vis['LOC']\n",
    "#     del curr_df_vis['VIS']\n",
    "    \n",
    "#     curr_df_vis['is_cero'] = curr_df_vis.RES == 0\n",
    "#     curr_df_vis['is_two'] = curr_df_vis.RES == 2\n",
    "    \n",
    "#     curr_df_vis.loc[curr_df_vis.is_cero == True, 'RES'] = 2\n",
    "#     curr_df_vis.loc[curr_df_vis.is_two == True, 'RES'] = 0\n",
    "    \n",
    "#     del curr_df_vis['is_cero']\n",
    "#     del curr_df_vis['is_two']\n",
    "    \n",
    "#     curr_df = pd.concat([curr_df_loc, curr_df_vis]).copy()\n",
    "    curr_df = curr_df_loc\n",
    "    \n",
    "    curr_df['sort_val'] = curr_df.ANO + curr_df.JRD/1000 + (curr_df.TIPO == 'apertura')/10\n",
    "    curr_df = curr_df.sort_values('sort_val').drop('sort_val', 1)\n",
    "    curr_df.reset_index(drop = True, inplace = True)\n",
    "    teams.append(curr_df)"
   ]
  },
  {
   "cell_type": "code",
   "execution_count": 176,
   "metadata": {
    "hidden": true
   },
   "outputs": [
    {
     "data": {
      "text/html": [
       "<div>\n",
       "<style scoped>\n",
       "    .dataframe tbody tr th:only-of-type {\n",
       "        vertical-align: middle;\n",
       "    }\n",
       "\n",
       "    .dataframe tbody tr th {\n",
       "        vertical-align: top;\n",
       "    }\n",
       "\n",
       "    .dataframe thead th {\n",
       "        text-align: right;\n",
       "    }\n",
       "</style>\n",
       "<table border=\"1\" class=\"dataframe\">\n",
       "  <thead>\n",
       "    <tr style=\"text-align: right;\">\n",
       "      <th></th>\n",
       "      <th>JRD</th>\n",
       "      <th>ANO</th>\n",
       "      <th>TIPO</th>\n",
       "      <th>L_POS</th>\n",
       "      <th>L_JJ</th>\n",
       "      <th>JG_x</th>\n",
       "      <th>JE_x</th>\n",
       "      <th>JP_x</th>\n",
       "      <th>GF_x</th>\n",
       "      <th>GC_x</th>\n",
       "      <th>DIF_x</th>\n",
       "      <th>PTS_x</th>\n",
       "      <th>L_R_JG_JJ</th>\n",
       "      <th>L_R_JE_JJ</th>\n",
       "      <th>L_R_JP_JJ</th>\n",
       "      <th>L_R_GF_JJ</th>\n",
       "      <th>L_R_GC_JJ</th>\n",
       "      <th>L_R_DIF_JJ</th>\n",
       "      <th>L_R_PTS_JJ</th>\n",
       "      <th>V_POS</th>\n",
       "      <th>V_JJ</th>\n",
       "      <th>JG_y</th>\n",
       "      <th>JE_y</th>\n",
       "      <th>JP_y</th>\n",
       "      <th>GF_y</th>\n",
       "      <th>GC_y</th>\n",
       "      <th>DIF_y</th>\n",
       "      <th>PTS_y</th>\n",
       "      <th>V_R_JG_JJ</th>\n",
       "      <th>V_R_JE_JJ</th>\n",
       "      <th>V_R_JP_JJ</th>\n",
       "      <th>V_R_GF_JJ</th>\n",
       "      <th>V_R_GC_JJ</th>\n",
       "      <th>V_R_DIF_JJ</th>\n",
       "      <th>V_R_PTS_JJ</th>\n",
       "      <th>RES</th>\n",
       "      <th>ES_LOC</th>\n",
       "      <th>EQUIPO</th>\n",
       "      <th>EQUIPO_C</th>\n",
       "    </tr>\n",
       "  </thead>\n",
       "  <tbody>\n",
       "    <tr>\n",
       "      <th>269</th>\n",
       "      <td>12.0</td>\n",
       "      <td>2019</td>\n",
       "      <td>apertura</td>\n",
       "      <td>11.0</td>\n",
       "      <td>12.0</td>\n",
       "      <td>5.0</td>\n",
       "      <td>2.0</td>\n",
       "      <td>5.0</td>\n",
       "      <td>14.0</td>\n",
       "      <td>13.0</td>\n",
       "      <td>1.0</td>\n",
       "      <td>17.0</td>\n",
       "      <td>0.3</td>\n",
       "      <td>0.2</td>\n",
       "      <td>0.5</td>\n",
       "      <td>1.10</td>\n",
       "      <td>1.30</td>\n",
       "      <td>-0.2</td>\n",
       "      <td>1.1</td>\n",
       "      <td>4.0</td>\n",
       "      <td>11.0</td>\n",
       "      <td>5.0</td>\n",
       "      <td>3.0</td>\n",
       "      <td>3.0</td>\n",
       "      <td>19.0</td>\n",
       "      <td>13.0</td>\n",
       "      <td>6.0</td>\n",
       "      <td>18.0</td>\n",
       "      <td>0.4</td>\n",
       "      <td>0.30</td>\n",
       "      <td>0.20</td>\n",
       "      <td>1.70</td>\n",
       "      <td>1.1</td>\n",
       "      <td>0.60</td>\n",
       "      <td>1.50</td>\n",
       "      <td>2</td>\n",
       "      <td>True</td>\n",
       "      <td>atlas</td>\n",
       "      <td>queretaro</td>\n",
       "    </tr>\n",
       "    <tr>\n",
       "      <th>270</th>\n",
       "      <td>15.0</td>\n",
       "      <td>2019</td>\n",
       "      <td>apertura</td>\n",
       "      <td>7.0</td>\n",
       "      <td>15.0</td>\n",
       "      <td>6.0</td>\n",
       "      <td>3.0</td>\n",
       "      <td>6.0</td>\n",
       "      <td>17.0</td>\n",
       "      <td>17.0</td>\n",
       "      <td>0.0</td>\n",
       "      <td>21.0</td>\n",
       "      <td>0.3</td>\n",
       "      <td>0.3</td>\n",
       "      <td>0.4</td>\n",
       "      <td>1.20</td>\n",
       "      <td>1.20</td>\n",
       "      <td>0.0</td>\n",
       "      <td>1.2</td>\n",
       "      <td>2.0</td>\n",
       "      <td>15.0</td>\n",
       "      <td>8.0</td>\n",
       "      <td>4.0</td>\n",
       "      <td>3.0</td>\n",
       "      <td>30.0</td>\n",
       "      <td>18.0</td>\n",
       "      <td>12.0</td>\n",
       "      <td>28.0</td>\n",
       "      <td>0.6</td>\n",
       "      <td>0.30</td>\n",
       "      <td>0.10</td>\n",
       "      <td>2.00</td>\n",
       "      <td>1.3</td>\n",
       "      <td>0.70</td>\n",
       "      <td>2.10</td>\n",
       "      <td>0</td>\n",
       "      <td>True</td>\n",
       "      <td>atlas</td>\n",
       "      <td>necaxa</td>\n",
       "    </tr>\n",
       "    <tr>\n",
       "      <th>271</th>\n",
       "      <td>17.0</td>\n",
       "      <td>2019</td>\n",
       "      <td>apertura</td>\n",
       "      <td>10.0</td>\n",
       "      <td>17.0</td>\n",
       "      <td>6.0</td>\n",
       "      <td>3.0</td>\n",
       "      <td>8.0</td>\n",
       "      <td>19.0</td>\n",
       "      <td>24.0</td>\n",
       "      <td>-5.0</td>\n",
       "      <td>21.0</td>\n",
       "      <td>0.3</td>\n",
       "      <td>0.3</td>\n",
       "      <td>0.4</td>\n",
       "      <td>1.10</td>\n",
       "      <td>1.30</td>\n",
       "      <td>-0.2</td>\n",
       "      <td>1.2</td>\n",
       "      <td>14.0</td>\n",
       "      <td>16.0</td>\n",
       "      <td>6.0</td>\n",
       "      <td>2.0</td>\n",
       "      <td>8.0</td>\n",
       "      <td>21.0</td>\n",
       "      <td>26.0</td>\n",
       "      <td>-5.0</td>\n",
       "      <td>20.0</td>\n",
       "      <td>0.3</td>\n",
       "      <td>0.10</td>\n",
       "      <td>0.60</td>\n",
       "      <td>1.50</td>\n",
       "      <td>1.8</td>\n",
       "      <td>-0.30</td>\n",
       "      <td>1.00</td>\n",
       "      <td>0</td>\n",
       "      <td>True</td>\n",
       "      <td>atlas</td>\n",
       "      <td>atletico de san luis</td>\n",
       "    </tr>\n",
       "    <tr>\n",
       "      <th>272</th>\n",
       "      <td>2.0</td>\n",
       "      <td>2020</td>\n",
       "      <td>clausura</td>\n",
       "      <td>3.0</td>\n",
       "      <td>1.0</td>\n",
       "      <td>NaN</td>\n",
       "      <td>NaN</td>\n",
       "      <td>NaN</td>\n",
       "      <td>NaN</td>\n",
       "      <td>NaN</td>\n",
       "      <td>NaN</td>\n",
       "      <td>NaN</td>\n",
       "      <td>1.0</td>\n",
       "      <td>0.0</td>\n",
       "      <td>0.0</td>\n",
       "      <td>2.00</td>\n",
       "      <td>1.00</td>\n",
       "      <td>1.0</td>\n",
       "      <td>3.0</td>\n",
       "      <td>16.0</td>\n",
       "      <td>1.0</td>\n",
       "      <td>NaN</td>\n",
       "      <td>NaN</td>\n",
       "      <td>NaN</td>\n",
       "      <td>NaN</td>\n",
       "      <td>NaN</td>\n",
       "      <td>NaN</td>\n",
       "      <td>NaN</td>\n",
       "      <td>0.0</td>\n",
       "      <td>0.00</td>\n",
       "      <td>1.00</td>\n",
       "      <td>0.00</td>\n",
       "      <td>1.0</td>\n",
       "      <td>-1.00</td>\n",
       "      <td>0.00</td>\n",
       "      <td>0</td>\n",
       "      <td>True</td>\n",
       "      <td>atlas</td>\n",
       "      <td>puebla</td>\n",
       "    </tr>\n",
       "    <tr>\n",
       "      <th>273</th>\n",
       "      <td>5.0</td>\n",
       "      <td>2020</td>\n",
       "      <td>clausura</td>\n",
       "      <td>9.0</td>\n",
       "      <td>4.0</td>\n",
       "      <td>NaN</td>\n",
       "      <td>NaN</td>\n",
       "      <td>NaN</td>\n",
       "      <td>NaN</td>\n",
       "      <td>NaN</td>\n",
       "      <td>NaN</td>\n",
       "      <td>NaN</td>\n",
       "      <td>0.5</td>\n",
       "      <td>0.0</td>\n",
       "      <td>0.5</td>\n",
       "      <td>1.25</td>\n",
       "      <td>1.25</td>\n",
       "      <td>0.0</td>\n",
       "      <td>1.5</td>\n",
       "      <td>18.0</td>\n",
       "      <td>4.0</td>\n",
       "      <td>NaN</td>\n",
       "      <td>NaN</td>\n",
       "      <td>NaN</td>\n",
       "      <td>NaN</td>\n",
       "      <td>NaN</td>\n",
       "      <td>NaN</td>\n",
       "      <td>NaN</td>\n",
       "      <td>0.0</td>\n",
       "      <td>0.25</td>\n",
       "      <td>0.75</td>\n",
       "      <td>0.75</td>\n",
       "      <td>2.0</td>\n",
       "      <td>-1.25</td>\n",
       "      <td>0.25</td>\n",
       "      <td>1</td>\n",
       "      <td>True</td>\n",
       "      <td>atlas</td>\n",
       "      <td>morelia</td>\n",
       "    </tr>\n",
       "  </tbody>\n",
       "</table>\n",
       "</div>"
      ],
      "text/plain": [
       "      JRD   ANO      TIPO  L_POS  L_JJ  JG_x  JE_x  JP_x  GF_x  GC_x  DIF_x  \\\n",
       "269  12.0  2019  apertura   11.0  12.0   5.0   2.0   5.0  14.0  13.0    1.0   \n",
       "270  15.0  2019  apertura    7.0  15.0   6.0   3.0   6.0  17.0  17.0    0.0   \n",
       "271  17.0  2019  apertura   10.0  17.0   6.0   3.0   8.0  19.0  24.0   -5.0   \n",
       "272   2.0  2020  clausura    3.0   1.0   NaN   NaN   NaN   NaN   NaN    NaN   \n",
       "273   5.0  2020  clausura    9.0   4.0   NaN   NaN   NaN   NaN   NaN    NaN   \n",
       "\n",
       "     PTS_x  L_R_JG_JJ  L_R_JE_JJ  L_R_JP_JJ  L_R_GF_JJ  L_R_GC_JJ  L_R_DIF_JJ  \\\n",
       "269   17.0        0.3        0.2        0.5       1.10       1.30        -0.2   \n",
       "270   21.0        0.3        0.3        0.4       1.20       1.20         0.0   \n",
       "271   21.0        0.3        0.3        0.4       1.10       1.30        -0.2   \n",
       "272    NaN        1.0        0.0        0.0       2.00       1.00         1.0   \n",
       "273    NaN        0.5        0.0        0.5       1.25       1.25         0.0   \n",
       "\n",
       "     L_R_PTS_JJ  V_POS  V_JJ  JG_y  JE_y  JP_y  GF_y  GC_y  DIF_y  PTS_y  \\\n",
       "269         1.1    4.0  11.0   5.0   3.0   3.0  19.0  13.0    6.0   18.0   \n",
       "270         1.2    2.0  15.0   8.0   4.0   3.0  30.0  18.0   12.0   28.0   \n",
       "271         1.2   14.0  16.0   6.0   2.0   8.0  21.0  26.0   -5.0   20.0   \n",
       "272         3.0   16.0   1.0   NaN   NaN   NaN   NaN   NaN    NaN    NaN   \n",
       "273         1.5   18.0   4.0   NaN   NaN   NaN   NaN   NaN    NaN    NaN   \n",
       "\n",
       "     V_R_JG_JJ  V_R_JE_JJ  V_R_JP_JJ  V_R_GF_JJ  V_R_GC_JJ  V_R_DIF_JJ  \\\n",
       "269        0.4       0.30       0.20       1.70        1.1        0.60   \n",
       "270        0.6       0.30       0.10       2.00        1.3        0.70   \n",
       "271        0.3       0.10       0.60       1.50        1.8       -0.30   \n",
       "272        0.0       0.00       1.00       0.00        1.0       -1.00   \n",
       "273        0.0       0.25       0.75       0.75        2.0       -1.25   \n",
       "\n",
       "     V_R_PTS_JJ  RES  ES_LOC EQUIPO              EQUIPO_C  \n",
       "269        1.50    2    True  atlas             queretaro  \n",
       "270        2.10    0    True  atlas                necaxa  \n",
       "271        1.00    0    True  atlas  atletico de san luis  \n",
       "272        0.00    0    True  atlas                puebla  \n",
       "273        0.25    1    True  atlas               morelia  "
      ]
     },
     "execution_count": 176,
     "metadata": {},
     "output_type": "execute_result"
    }
   ],
   "source": [
    "teams[4].tail()"
   ]
  },
  {
   "cell_type": "code",
   "execution_count": 177,
   "metadata": {
    "hidden": true
   },
   "outputs": [],
   "source": [
    "n_teams = []\n",
    "for sub_t in teams:\n",
    "    if(len(sub_t[sub_t.ANO == 2020]) > 0): n_teams.append(sub_t)\n",
    "teams = n_teams"
   ]
  },
  {
   "cell_type": "code",
   "execution_count": 178,
   "metadata": {
    "hidden": true
   },
   "outputs": [
    {
     "data": {
      "text/plain": [
       "18"
      ]
     },
     "execution_count": 178,
     "metadata": {},
     "output_type": "execute_result"
    }
   ],
   "source": [
    "len(n_teams)"
   ]
  },
  {
   "cell_type": "markdown",
   "metadata": {},
   "source": [
    "## Goals data"
   ]
  },
  {
   "cell_type": "code",
   "execution_count": 1171,
   "metadata": {},
   "outputs": [],
   "source": [
    "from fastai.tabular import *"
   ]
  },
  {
   "cell_type": "code",
   "execution_count": 1172,
   "metadata": {},
   "outputs": [],
   "source": [
    "pd.set_option('display.max_columns', None)"
   ]
  },
  {
   "cell_type": "code",
   "execution_count": 1173,
   "metadata": {},
   "outputs": [],
   "source": [
    "df = pd.read_pickle('./data/ligamx/Goals-Match')"
   ]
  },
  {
   "cell_type": "code",
   "execution_count": 1174,
   "metadata": {},
   "outputs": [
    {
     "data": {
      "text/html": [
       "<div>\n",
       "<style scoped>\n",
       "    .dataframe tbody tr th:only-of-type {\n",
       "        vertical-align: middle;\n",
       "    }\n",
       "\n",
       "    .dataframe tbody tr th {\n",
       "        vertical-align: top;\n",
       "    }\n",
       "\n",
       "    .dataframe thead th {\n",
       "        text-align: right;\n",
       "    }\n",
       "</style>\n",
       "<table border=\"1\" class=\"dataframe\">\n",
       "  <thead>\n",
       "    <tr style=\"text-align: right;\">\n",
       "      <th></th>\n",
       "      <th>LOC</th>\n",
       "      <th>VIS</th>\n",
       "      <th>GL</th>\n",
       "      <th>GV</th>\n",
       "      <th>JRD</th>\n",
       "      <th>FECHA</th>\n",
       "      <th>HORA</th>\n",
       "      <th>ANO</th>\n",
       "      <th>TIPO</th>\n",
       "      <th>L_POS</th>\n",
       "      <th>L_JJ</th>\n",
       "      <th>JG_x</th>\n",
       "      <th>JE_x</th>\n",
       "      <th>JP_x</th>\n",
       "      <th>GF_x</th>\n",
       "      <th>GC_x</th>\n",
       "      <th>DIF_x</th>\n",
       "      <th>PTS_x</th>\n",
       "      <th>L_R_JG_JJ</th>\n",
       "      <th>L_R_JE_JJ</th>\n",
       "      <th>L_R_JP_JJ</th>\n",
       "      <th>L_R_GF_JJ</th>\n",
       "      <th>L_R_GC_JJ</th>\n",
       "      <th>L_R_DIF_JJ</th>\n",
       "      <th>L_R_PTS_JJ</th>\n",
       "      <th>V_POS</th>\n",
       "      <th>V_JJ</th>\n",
       "      <th>JG_y</th>\n",
       "      <th>JE_y</th>\n",
       "      <th>JP_y</th>\n",
       "      <th>GF_y</th>\n",
       "      <th>GC_y</th>\n",
       "      <th>DIF_y</th>\n",
       "      <th>PTS_y</th>\n",
       "      <th>V_R_JG_JJ</th>\n",
       "      <th>V_R_JE_JJ</th>\n",
       "      <th>V_R_JP_JJ</th>\n",
       "      <th>V_R_GF_JJ</th>\n",
       "      <th>V_R_GC_JJ</th>\n",
       "      <th>V_R_DIF_JJ</th>\n",
       "      <th>V_R_PTS_JJ</th>\n",
       "      <th>RES</th>\n",
       "    </tr>\n",
       "  </thead>\n",
       "  <tbody>\n",
       "    <tr>\n",
       "      <th>4919</th>\n",
       "      <td>cruz azul</td>\n",
       "      <td>uag</td>\n",
       "      <td>2.0</td>\n",
       "      <td>2.0</td>\n",
       "      <td>19.0</td>\n",
       "      <td>15/5/2004</td>\n",
       "      <td>17:00</td>\n",
       "      <td>2004</td>\n",
       "      <td>clausura</td>\n",
       "      <td>12.0</td>\n",
       "      <td>19.0</td>\n",
       "      <td>6.0</td>\n",
       "      <td>5.0</td>\n",
       "      <td>8.0</td>\n",
       "      <td>36.0</td>\n",
       "      <td>34.0</td>\n",
       "      <td>2.0</td>\n",
       "      <td>23.0</td>\n",
       "      <td>0.6</td>\n",
       "      <td>0.2</td>\n",
       "      <td>0.2</td>\n",
       "      <td>3.2</td>\n",
       "      <td>1.8</td>\n",
       "      <td>1.4</td>\n",
       "      <td>2.0</td>\n",
       "      <td>19.0</td>\n",
       "      <td>19.0</td>\n",
       "      <td>5.0</td>\n",
       "      <td>3.0</td>\n",
       "      <td>11.0</td>\n",
       "      <td>32.0</td>\n",
       "      <td>40.0</td>\n",
       "      <td>-8.0</td>\n",
       "      <td>18.0</td>\n",
       "      <td>0.4</td>\n",
       "      <td>0.0</td>\n",
       "      <td>0.6</td>\n",
       "      <td>1.4</td>\n",
       "      <td>1.6</td>\n",
       "      <td>-0.2</td>\n",
       "      <td>1.2</td>\n",
       "      <td>1</td>\n",
       "    </tr>\n",
       "    <tr>\n",
       "      <th>4920</th>\n",
       "      <td>morelia</td>\n",
       "      <td>pachuca</td>\n",
       "      <td>4.0</td>\n",
       "      <td>1.0</td>\n",
       "      <td>19.0</td>\n",
       "      <td>15/5/2004</td>\n",
       "      <td>17:00</td>\n",
       "      <td>2004</td>\n",
       "      <td>clausura</td>\n",
       "      <td>16.0</td>\n",
       "      <td>19.0</td>\n",
       "      <td>6.0</td>\n",
       "      <td>5.0</td>\n",
       "      <td>8.0</td>\n",
       "      <td>25.0</td>\n",
       "      <td>34.0</td>\n",
       "      <td>-9.0</td>\n",
       "      <td>23.0</td>\n",
       "      <td>0.2</td>\n",
       "      <td>0.2</td>\n",
       "      <td>0.6</td>\n",
       "      <td>0.8</td>\n",
       "      <td>2.6</td>\n",
       "      <td>-1.8</td>\n",
       "      <td>0.8</td>\n",
       "      <td>6.0</td>\n",
       "      <td>19.0</td>\n",
       "      <td>6.0</td>\n",
       "      <td>8.0</td>\n",
       "      <td>5.0</td>\n",
       "      <td>32.0</td>\n",
       "      <td>33.0</td>\n",
       "      <td>-1.0</td>\n",
       "      <td>26.0</td>\n",
       "      <td>0.2</td>\n",
       "      <td>0.6</td>\n",
       "      <td>0.2</td>\n",
       "      <td>2.4</td>\n",
       "      <td>2.0</td>\n",
       "      <td>0.4</td>\n",
       "      <td>1.2</td>\n",
       "      <td>2</td>\n",
       "    </tr>\n",
       "    <tr>\n",
       "      <th>4921</th>\n",
       "      <td>necaxa</td>\n",
       "      <td>atlas</td>\n",
       "      <td>0.0</td>\n",
       "      <td>1.0</td>\n",
       "      <td>19.0</td>\n",
       "      <td>15/5/2004</td>\n",
       "      <td>17:00</td>\n",
       "      <td>2004</td>\n",
       "      <td>clausura</td>\n",
       "      <td>14.0</td>\n",
       "      <td>19.0</td>\n",
       "      <td>5.0</td>\n",
       "      <td>6.0</td>\n",
       "      <td>8.0</td>\n",
       "      <td>22.0</td>\n",
       "      <td>26.0</td>\n",
       "      <td>-4.0</td>\n",
       "      <td>21.0</td>\n",
       "      <td>0.2</td>\n",
       "      <td>0.2</td>\n",
       "      <td>0.6</td>\n",
       "      <td>1.0</td>\n",
       "      <td>2.0</td>\n",
       "      <td>-1.0</td>\n",
       "      <td>0.8</td>\n",
       "      <td>7.0</td>\n",
       "      <td>19.0</td>\n",
       "      <td>6.0</td>\n",
       "      <td>9.0</td>\n",
       "      <td>4.0</td>\n",
       "      <td>28.0</td>\n",
       "      <td>25.0</td>\n",
       "      <td>3.0</td>\n",
       "      <td>27.0</td>\n",
       "      <td>0.0</td>\n",
       "      <td>0.8</td>\n",
       "      <td>0.2</td>\n",
       "      <td>1.2</td>\n",
       "      <td>1.4</td>\n",
       "      <td>-0.2</td>\n",
       "      <td>0.8</td>\n",
       "      <td>0</td>\n",
       "    </tr>\n",
       "    <tr>\n",
       "      <th>4922</th>\n",
       "      <td>guadalajara</td>\n",
       "      <td>san luis</td>\n",
       "      <td>4.0</td>\n",
       "      <td>1.0</td>\n",
       "      <td>19.0</td>\n",
       "      <td>15/5/2004</td>\n",
       "      <td>19:00</td>\n",
       "      <td>2004</td>\n",
       "      <td>clausura</td>\n",
       "      <td>4.0</td>\n",
       "      <td>19.0</td>\n",
       "      <td>9.0</td>\n",
       "      <td>5.0</td>\n",
       "      <td>5.0</td>\n",
       "      <td>29.0</td>\n",
       "      <td>23.0</td>\n",
       "      <td>6.0</td>\n",
       "      <td>32.0</td>\n",
       "      <td>0.4</td>\n",
       "      <td>0.4</td>\n",
       "      <td>0.2</td>\n",
       "      <td>2.2</td>\n",
       "      <td>1.4</td>\n",
       "      <td>0.8</td>\n",
       "      <td>1.6</td>\n",
       "      <td>18.0</td>\n",
       "      <td>19.0</td>\n",
       "      <td>4.0</td>\n",
       "      <td>6.0</td>\n",
       "      <td>9.0</td>\n",
       "      <td>23.0</td>\n",
       "      <td>34.0</td>\n",
       "      <td>-11.0</td>\n",
       "      <td>18.0</td>\n",
       "      <td>0.2</td>\n",
       "      <td>0.4</td>\n",
       "      <td>0.4</td>\n",
       "      <td>1.8</td>\n",
       "      <td>2.0</td>\n",
       "      <td>-0.2</td>\n",
       "      <td>1.0</td>\n",
       "      <td>2</td>\n",
       "    </tr>\n",
       "    <tr>\n",
       "      <th>4923</th>\n",
       "      <td>irapuato</td>\n",
       "      <td>veracruz</td>\n",
       "      <td>3.0</td>\n",
       "      <td>2.0</td>\n",
       "      <td>19.0</td>\n",
       "      <td>16/5/2004</td>\n",
       "      <td>17:00</td>\n",
       "      <td>2004</td>\n",
       "      <td>clausura</td>\n",
       "      <td>11.0</td>\n",
       "      <td>19.0</td>\n",
       "      <td>6.0</td>\n",
       "      <td>8.0</td>\n",
       "      <td>5.0</td>\n",
       "      <td>23.0</td>\n",
       "      <td>30.0</td>\n",
       "      <td>-7.0</td>\n",
       "      <td>26.0</td>\n",
       "      <td>0.0</td>\n",
       "      <td>1.0</td>\n",
       "      <td>0.0</td>\n",
       "      <td>0.8</td>\n",
       "      <td>0.8</td>\n",
       "      <td>0.0</td>\n",
       "      <td>1.0</td>\n",
       "      <td>20.0</td>\n",
       "      <td>19.0</td>\n",
       "      <td>4.0</td>\n",
       "      <td>5.0</td>\n",
       "      <td>10.0</td>\n",
       "      <td>25.0</td>\n",
       "      <td>41.0</td>\n",
       "      <td>-16.0</td>\n",
       "      <td>17.0</td>\n",
       "      <td>0.2</td>\n",
       "      <td>0.0</td>\n",
       "      <td>0.8</td>\n",
       "      <td>1.2</td>\n",
       "      <td>3.6</td>\n",
       "      <td>-2.4</td>\n",
       "      <td>0.6</td>\n",
       "      <td>2</td>\n",
       "    </tr>\n",
       "  </tbody>\n",
       "</table>\n",
       "</div>"
      ],
      "text/plain": [
       "              LOC       VIS   GL   GV   JRD      FECHA   HORA   ANO      TIPO  \\\n",
       "4919    cruz azul       uag  2.0  2.0  19.0  15/5/2004  17:00  2004  clausura   \n",
       "4920      morelia   pachuca  4.0  1.0  19.0  15/5/2004  17:00  2004  clausura   \n",
       "4921       necaxa     atlas  0.0  1.0  19.0  15/5/2004  17:00  2004  clausura   \n",
       "4922  guadalajara  san luis  4.0  1.0  19.0  15/5/2004  19:00  2004  clausura   \n",
       "4923     irapuato  veracruz  3.0  2.0  19.0  16/5/2004  17:00  2004  clausura   \n",
       "\n",
       "      L_POS  L_JJ  JG_x  JE_x  JP_x  GF_x  GC_x  DIF_x  PTS_x  L_R_JG_JJ  \\\n",
       "4919   12.0  19.0   6.0   5.0   8.0  36.0  34.0    2.0   23.0        0.6   \n",
       "4920   16.0  19.0   6.0   5.0   8.0  25.0  34.0   -9.0   23.0        0.2   \n",
       "4921   14.0  19.0   5.0   6.0   8.0  22.0  26.0   -4.0   21.0        0.2   \n",
       "4922    4.0  19.0   9.0   5.0   5.0  29.0  23.0    6.0   32.0        0.4   \n",
       "4923   11.0  19.0   6.0   8.0   5.0  23.0  30.0   -7.0   26.0        0.0   \n",
       "\n",
       "      L_R_JE_JJ  L_R_JP_JJ  L_R_GF_JJ  L_R_GC_JJ  L_R_DIF_JJ  L_R_PTS_JJ  \\\n",
       "4919        0.2        0.2        3.2        1.8         1.4         2.0   \n",
       "4920        0.2        0.6        0.8        2.6        -1.8         0.8   \n",
       "4921        0.2        0.6        1.0        2.0        -1.0         0.8   \n",
       "4922        0.4        0.2        2.2        1.4         0.8         1.6   \n",
       "4923        1.0        0.0        0.8        0.8         0.0         1.0   \n",
       "\n",
       "      V_POS  V_JJ  JG_y  JE_y  JP_y  GF_y  GC_y  DIF_y  PTS_y  V_R_JG_JJ  \\\n",
       "4919   19.0  19.0   5.0   3.0  11.0  32.0  40.0   -8.0   18.0        0.4   \n",
       "4920    6.0  19.0   6.0   8.0   5.0  32.0  33.0   -1.0   26.0        0.2   \n",
       "4921    7.0  19.0   6.0   9.0   4.0  28.0  25.0    3.0   27.0        0.0   \n",
       "4922   18.0  19.0   4.0   6.0   9.0  23.0  34.0  -11.0   18.0        0.2   \n",
       "4923   20.0  19.0   4.0   5.0  10.0  25.0  41.0  -16.0   17.0        0.2   \n",
       "\n",
       "      V_R_JE_JJ  V_R_JP_JJ  V_R_GF_JJ  V_R_GC_JJ  V_R_DIF_JJ  V_R_PTS_JJ  RES  \n",
       "4919        0.0        0.6        1.4        1.6        -0.2         1.2    1  \n",
       "4920        0.6        0.2        2.4        2.0         0.4         1.2    2  \n",
       "4921        0.8        0.2        1.2        1.4        -0.2         0.8    0  \n",
       "4922        0.4        0.4        1.8        2.0        -0.2         1.0    2  \n",
       "4923        0.0        0.8        1.2        3.6        -2.4         0.6    2  "
      ]
     },
     "execution_count": 1174,
     "metadata": {},
     "output_type": "execute_result"
    }
   ],
   "source": [
    "df.tail()"
   ]
  },
  {
   "cell_type": "code",
   "execution_count": 1175,
   "metadata": {},
   "outputs": [
    {
     "data": {
      "text/plain": [
       "20.0"
      ]
     },
     "execution_count": 1175,
     "metadata": {},
     "output_type": "execute_result"
    }
   ],
   "source": [
    "max(list(df.L_POS.unique()))"
   ]
  },
  {
   "cell_type": "code",
   "execution_count": 1176,
   "metadata": {},
   "outputs": [
    {
     "data": {
      "text/plain": [
       "20.0"
      ]
     },
     "execution_count": 1176,
     "metadata": {},
     "output_type": "execute_result"
    }
   ],
   "source": [
    "max(list(df.V_POS.unique()))"
   ]
  },
  {
   "cell_type": "code",
   "execution_count": 1177,
   "metadata": {},
   "outputs": [],
   "source": [
    "# df_ns = pd.read_pickle('./data/ligamx/Goals-Match_new_season')"
   ]
  },
  {
   "cell_type": "code",
   "execution_count": 1178,
   "metadata": {},
   "outputs": [],
   "source": [
    "# df = pd.concat([df, df_ns])\n",
    "df.reset_index(drop = True, inplace = True)"
   ]
  },
  {
   "cell_type": "code",
   "execution_count": 1179,
   "metadata": {
    "scrolled": true
   },
   "outputs": [
    {
     "data": {
      "text/plain": [
       "4924"
      ]
     },
     "execution_count": 1179,
     "metadata": {},
     "output_type": "execute_result"
    }
   ],
   "source": [
    "len(df)"
   ]
  },
  {
   "cell_type": "code",
   "execution_count": 1180,
   "metadata": {},
   "outputs": [],
   "source": [
    "# df.at[4948, \"JRD\"] = 4\n",
    "# df.at[4949, \"JRD\"] = 4"
   ]
  },
  {
   "cell_type": "code",
   "execution_count": 1181,
   "metadata": {},
   "outputs": [],
   "source": [
    "# df.drop(df.index[range(4950, 4959)], inplace=True)\n",
    "# df.reset_index(drop=True, inplace=True)"
   ]
  },
  {
   "cell_type": "code",
   "execution_count": 1182,
   "metadata": {},
   "outputs": [],
   "source": [
    "# print(len(df))\n",
    "# index_erase = df[(df.ANO == 2019) & (df.TIPO == 'apertura') & (df.JRD >= 15)].index\n",
    "# print(len(index_erase))\n",
    "# df.drop(index_erase, inplace = True)\n",
    "# df.reset_index(drop = True, inplace = True)\n",
    "# print(len(df))"
   ]
  },
  {
   "cell_type": "code",
   "execution_count": 1183,
   "metadata": {
    "scrolled": true
   },
   "outputs": [],
   "source": [
    "# sorting\n",
    "import numpy as np\n",
    "df['sort_val'] = df.ANO + df.JRD/1000 + (df.TIPO == 'apertura')/10\n",
    "df = df.sort_values('sort_val').drop('sort_val', 1)"
   ]
  },
  {
   "cell_type": "code",
   "execution_count": 1184,
   "metadata": {},
   "outputs": [],
   "source": [
    "df.reset_index(drop=True, inplace=True)"
   ]
  },
  {
   "cell_type": "code",
   "execution_count": 1185,
   "metadata": {
    "scrolled": true
   },
   "outputs": [],
   "source": [
    "teams = []\n",
    "\n",
    "for name in df.LOC.unique():\n",
    "    #team as local setup\n",
    "    curr_df_loc = df[df.LOC == name].copy()\n",
    "    curr_df_loc[\"ES_LOC\"] = True\n",
    "    curr_df_loc['EQUIPO'] = curr_df_loc.LOC\n",
    "    curr_df_loc['EQUIPO_C'] = curr_df_loc.VIS\n",
    "    curr_df_loc['GE'] = curr_df_loc.GL\n",
    "    curr_df_loc['GEC'] = curr_df_loc.GV\n",
    "    \n",
    "    del curr_df_loc['LOC']\n",
    "    del curr_df_loc['VIS']\n",
    "    del curr_df_loc['GL']\n",
    "    del curr_df_loc['GV']\n",
    "    \n",
    "    #team as visitor setup\n",
    "    curr_df_vis = df[df.VIS == name].copy()\n",
    "    curr_df_vis[\"ES_LOC\"] = False\n",
    "    curr_df_vis['EQUIPO'] = curr_df_vis.VIS\n",
    "    curr_df_vis['EQUIPO_C'] = curr_df_vis.LOC\n",
    "    curr_df_vis['GE'] = curr_df_vis.GV\n",
    "    curr_df_vis['GEC'] = curr_df_vis.GL\n",
    "    \n",
    "    del curr_df_vis['LOC']\n",
    "    del curr_df_vis['VIS']\n",
    "    del curr_df_vis['GL']\n",
    "    del curr_df_vis['GV']\n",
    "    \n",
    "    curr_df_vis['is_cero'] = curr_df_vis.RES == 0\n",
    "    curr_df_vis['is_two'] = curr_df_vis.RES == 2\n",
    "    \n",
    "    curr_df_vis.loc[curr_df_vis.is_cero == True, 'RES'] = 2\n",
    "    curr_df_vis.loc[curr_df_vis.is_two == True, 'RES'] = 0\n",
    "    \n",
    "    del curr_df_vis['is_cero']\n",
    "    del curr_df_vis['is_two']\n",
    "    \n",
    "    cont_vars = ['POS', 'R_JG_JJ', 'R_JE_JJ', 'R_JP_JJ', 'R_GF_JJ', 'R_GC_JJ', 'R_DIF_JJ', 'R_PTS_JJ']\n",
    "    for cont_v in cont_vars:\n",
    "        curr_df_vis['L_' + cont_v + '_AUX'] = curr_df_vis['L_' + cont_v]\n",
    "        curr_df_vis['L_' + cont_v] = curr_df_vis['V_' + cont_v]\n",
    "        curr_df_vis['V_' + cont_v] = curr_df_vis['L_' + cont_v + '_AUX']\n",
    "        del curr_df_vis['L_' + cont_v + '_AUX']\n",
    "    \n",
    "    \n",
    "    #concatenating them\n",
    "    curr_df = pd.concat([curr_df_loc, curr_df_vis]).copy()\n",
    "    \n",
    "    curr_df['sort_val'] = curr_df.ANO + curr_df.JRD/1000 + (curr_df.TIPO == 'apertura')/10\n",
    "    curr_df = curr_df.sort_values('sort_val').drop('sort_val', 1)\n",
    "    curr_df.reset_index(drop = True, inplace = True)\n",
    "    teams.append(curr_df)"
   ]
  },
  {
   "cell_type": "code",
   "execution_count": 1186,
   "metadata": {},
   "outputs": [
    {
     "data": {
      "text/html": [
       "<div>\n",
       "<style scoped>\n",
       "    .dataframe tbody tr th:only-of-type {\n",
       "        vertical-align: middle;\n",
       "    }\n",
       "\n",
       "    .dataframe tbody tr th {\n",
       "        vertical-align: top;\n",
       "    }\n",
       "\n",
       "    .dataframe thead th {\n",
       "        text-align: right;\n",
       "    }\n",
       "</style>\n",
       "<table border=\"1\" class=\"dataframe\">\n",
       "  <thead>\n",
       "    <tr style=\"text-align: right;\">\n",
       "      <th></th>\n",
       "      <th>JRD</th>\n",
       "      <th>FECHA</th>\n",
       "      <th>HORA</th>\n",
       "      <th>ANO</th>\n",
       "      <th>TIPO</th>\n",
       "      <th>L_POS</th>\n",
       "      <th>L_JJ</th>\n",
       "      <th>JG_x</th>\n",
       "      <th>JE_x</th>\n",
       "      <th>JP_x</th>\n",
       "      <th>GF_x</th>\n",
       "      <th>GC_x</th>\n",
       "      <th>DIF_x</th>\n",
       "      <th>PTS_x</th>\n",
       "      <th>L_R_JG_JJ</th>\n",
       "      <th>L_R_JE_JJ</th>\n",
       "      <th>L_R_JP_JJ</th>\n",
       "      <th>L_R_GF_JJ</th>\n",
       "      <th>L_R_GC_JJ</th>\n",
       "      <th>L_R_DIF_JJ</th>\n",
       "      <th>L_R_PTS_JJ</th>\n",
       "      <th>V_POS</th>\n",
       "      <th>V_JJ</th>\n",
       "      <th>JG_y</th>\n",
       "      <th>JE_y</th>\n",
       "      <th>JP_y</th>\n",
       "      <th>GF_y</th>\n",
       "      <th>GC_y</th>\n",
       "      <th>DIF_y</th>\n",
       "      <th>PTS_y</th>\n",
       "      <th>V_R_JG_JJ</th>\n",
       "      <th>V_R_JE_JJ</th>\n",
       "      <th>V_R_JP_JJ</th>\n",
       "      <th>V_R_GF_JJ</th>\n",
       "      <th>V_R_GC_JJ</th>\n",
       "      <th>V_R_DIF_JJ</th>\n",
       "      <th>V_R_PTS_JJ</th>\n",
       "      <th>RES</th>\n",
       "      <th>ES_LOC</th>\n",
       "      <th>EQUIPO</th>\n",
       "      <th>EQUIPO_C</th>\n",
       "      <th>GE</th>\n",
       "      <th>GEC</th>\n",
       "    </tr>\n",
       "  </thead>\n",
       "  <tbody>\n",
       "    <tr>\n",
       "      <th>284</th>\n",
       "      <td>13.0</td>\n",
       "      <td>7/4/2013</td>\n",
       "      <td>18:00</td>\n",
       "      <td>2013</td>\n",
       "      <td>clausura</td>\n",
       "      <td>18.0</td>\n",
       "      <td>13.0</td>\n",
       "      <td>2.0</td>\n",
       "      <td>1.0</td>\n",
       "      <td>10.0</td>\n",
       "      <td>11.0</td>\n",
       "      <td>29.0</td>\n",
       "      <td>-18.0</td>\n",
       "      <td>7.0</td>\n",
       "      <td>0.2</td>\n",
       "      <td>0.2</td>\n",
       "      <td>0.6</td>\n",
       "      <td>1.2</td>\n",
       "      <td>1.4</td>\n",
       "      <td>-0.2</td>\n",
       "      <td>0.8</td>\n",
       "      <td>17.0</td>\n",
       "      <td>13.0</td>\n",
       "      <td>2.0</td>\n",
       "      <td>3.0</td>\n",
       "      <td>8.0</td>\n",
       "      <td>14.0</td>\n",
       "      <td>21.0</td>\n",
       "      <td>-7.0</td>\n",
       "      <td>9.0</td>\n",
       "      <td>0.0</td>\n",
       "      <td>0.0</td>\n",
       "      <td>1.0</td>\n",
       "      <td>0.2</td>\n",
       "      <td>2.4</td>\n",
       "      <td>-2.2</td>\n",
       "      <td>0.0</td>\n",
       "      <td>2</td>\n",
       "      <td>False</td>\n",
       "      <td>san luis</td>\n",
       "      <td>atlante</td>\n",
       "      <td>1.0</td>\n",
       "      <td>0.0</td>\n",
       "    </tr>\n",
       "    <tr>\n",
       "      <th>285</th>\n",
       "      <td>14.0</td>\n",
       "      <td>13/4/2013</td>\n",
       "      <td>21:00</td>\n",
       "      <td>2013</td>\n",
       "      <td>clausura</td>\n",
       "      <td>16.0</td>\n",
       "      <td>14.0</td>\n",
       "      <td>2.0</td>\n",
       "      <td>4.0</td>\n",
       "      <td>8.0</td>\n",
       "      <td>16.0</td>\n",
       "      <td>23.0</td>\n",
       "      <td>-7.0</td>\n",
       "      <td>10.0</td>\n",
       "      <td>0.4</td>\n",
       "      <td>0.2</td>\n",
       "      <td>0.4</td>\n",
       "      <td>1.4</td>\n",
       "      <td>1.0</td>\n",
       "      <td>0.4</td>\n",
       "      <td>1.4</td>\n",
       "      <td>2.0</td>\n",
       "      <td>14.0</td>\n",
       "      <td>8.0</td>\n",
       "      <td>4.0</td>\n",
       "      <td>2.0</td>\n",
       "      <td>18.0</td>\n",
       "      <td>11.0</td>\n",
       "      <td>7.0</td>\n",
       "      <td>28.0</td>\n",
       "      <td>0.6</td>\n",
       "      <td>0.2</td>\n",
       "      <td>0.2</td>\n",
       "      <td>1.0</td>\n",
       "      <td>0.6</td>\n",
       "      <td>0.4</td>\n",
       "      <td>2.0</td>\n",
       "      <td>1</td>\n",
       "      <td>True</td>\n",
       "      <td>san luis</td>\n",
       "      <td>atlas</td>\n",
       "      <td>2.0</td>\n",
       "      <td>2.0</td>\n",
       "    </tr>\n",
       "    <tr>\n",
       "      <th>286</th>\n",
       "      <td>15.0</td>\n",
       "      <td>20/4/2013</td>\n",
       "      <td>17:00</td>\n",
       "      <td>2013</td>\n",
       "      <td>clausura</td>\n",
       "      <td>16.0</td>\n",
       "      <td>15.0</td>\n",
       "      <td>5.0</td>\n",
       "      <td>6.0</td>\n",
       "      <td>4.0</td>\n",
       "      <td>14.0</td>\n",
       "      <td>16.0</td>\n",
       "      <td>-2.0</td>\n",
       "      <td>21.0</td>\n",
       "      <td>0.4</td>\n",
       "      <td>0.4</td>\n",
       "      <td>0.2</td>\n",
       "      <td>1.6</td>\n",
       "      <td>1.0</td>\n",
       "      <td>0.6</td>\n",
       "      <td>1.6</td>\n",
       "      <td>11.0</td>\n",
       "      <td>15.0</td>\n",
       "      <td>2.0</td>\n",
       "      <td>4.0</td>\n",
       "      <td>9.0</td>\n",
       "      <td>17.0</td>\n",
       "      <td>25.0</td>\n",
       "      <td>-8.0</td>\n",
       "      <td>10.0</td>\n",
       "      <td>0.4</td>\n",
       "      <td>0.2</td>\n",
       "      <td>0.4</td>\n",
       "      <td>0.8</td>\n",
       "      <td>0.8</td>\n",
       "      <td>0.0</td>\n",
       "      <td>1.4</td>\n",
       "      <td>0</td>\n",
       "      <td>False</td>\n",
       "      <td>san luis</td>\n",
       "      <td>queretaro</td>\n",
       "      <td>1.0</td>\n",
       "      <td>2.0</td>\n",
       "    </tr>\n",
       "    <tr>\n",
       "      <th>287</th>\n",
       "      <td>16.0</td>\n",
       "      <td>27/4/2013</td>\n",
       "      <td>21:00</td>\n",
       "      <td>2013</td>\n",
       "      <td>clausura</td>\n",
       "      <td>18.0</td>\n",
       "      <td>16.0</td>\n",
       "      <td>3.0</td>\n",
       "      <td>4.0</td>\n",
       "      <td>9.0</td>\n",
       "      <td>18.0</td>\n",
       "      <td>25.0</td>\n",
       "      <td>-7.0</td>\n",
       "      <td>13.0</td>\n",
       "      <td>0.4</td>\n",
       "      <td>0.4</td>\n",
       "      <td>0.2</td>\n",
       "      <td>1.6</td>\n",
       "      <td>1.0</td>\n",
       "      <td>0.6</td>\n",
       "      <td>1.6</td>\n",
       "      <td>11.0</td>\n",
       "      <td>16.0</td>\n",
       "      <td>5.0</td>\n",
       "      <td>3.0</td>\n",
       "      <td>8.0</td>\n",
       "      <td>15.0</td>\n",
       "      <td>21.0</td>\n",
       "      <td>-6.0</td>\n",
       "      <td>18.0</td>\n",
       "      <td>0.0</td>\n",
       "      <td>0.4</td>\n",
       "      <td>0.6</td>\n",
       "      <td>0.6</td>\n",
       "      <td>2.0</td>\n",
       "      <td>-1.4</td>\n",
       "      <td>0.4</td>\n",
       "      <td>2</td>\n",
       "      <td>True</td>\n",
       "      <td>san luis</td>\n",
       "      <td>tijuana</td>\n",
       "      <td>1.0</td>\n",
       "      <td>0.0</td>\n",
       "    </tr>\n",
       "    <tr>\n",
       "      <th>288</th>\n",
       "      <td>17.0</td>\n",
       "      <td>5/5/2013</td>\n",
       "      <td>12:00</td>\n",
       "      <td>2013</td>\n",
       "      <td>clausura</td>\n",
       "      <td>17.0</td>\n",
       "      <td>17.0</td>\n",
       "      <td>5.0</td>\n",
       "      <td>3.0</td>\n",
       "      <td>9.0</td>\n",
       "      <td>14.0</td>\n",
       "      <td>21.0</td>\n",
       "      <td>-7.0</td>\n",
       "      <td>18.0</td>\n",
       "      <td>0.6</td>\n",
       "      <td>0.2</td>\n",
       "      <td>0.2</td>\n",
       "      <td>1.6</td>\n",
       "      <td>0.8</td>\n",
       "      <td>0.8</td>\n",
       "      <td>2.0</td>\n",
       "      <td>12.0</td>\n",
       "      <td>17.0</td>\n",
       "      <td>4.0</td>\n",
       "      <td>4.0</td>\n",
       "      <td>9.0</td>\n",
       "      <td>19.0</td>\n",
       "      <td>25.0</td>\n",
       "      <td>-6.0</td>\n",
       "      <td>16.0</td>\n",
       "      <td>0.4</td>\n",
       "      <td>0.0</td>\n",
       "      <td>0.6</td>\n",
       "      <td>0.8</td>\n",
       "      <td>1.2</td>\n",
       "      <td>-0.4</td>\n",
       "      <td>1.2</td>\n",
       "      <td>2</td>\n",
       "      <td>False</td>\n",
       "      <td>san luis</td>\n",
       "      <td>toluca</td>\n",
       "      <td>1.0</td>\n",
       "      <td>0.0</td>\n",
       "    </tr>\n",
       "  </tbody>\n",
       "</table>\n",
       "</div>"
      ],
      "text/plain": [
       "      JRD      FECHA   HORA   ANO      TIPO  L_POS  L_JJ  JG_x  JE_x  JP_x  \\\n",
       "284  13.0   7/4/2013  18:00  2013  clausura   18.0  13.0   2.0   1.0  10.0   \n",
       "285  14.0  13/4/2013  21:00  2013  clausura   16.0  14.0   2.0   4.0   8.0   \n",
       "286  15.0  20/4/2013  17:00  2013  clausura   16.0  15.0   5.0   6.0   4.0   \n",
       "287  16.0  27/4/2013  21:00  2013  clausura   18.0  16.0   3.0   4.0   9.0   \n",
       "288  17.0   5/5/2013  12:00  2013  clausura   17.0  17.0   5.0   3.0   9.0   \n",
       "\n",
       "     GF_x  GC_x  DIF_x  PTS_x  L_R_JG_JJ  L_R_JE_JJ  L_R_JP_JJ  L_R_GF_JJ  \\\n",
       "284  11.0  29.0  -18.0    7.0        0.2        0.2        0.6        1.2   \n",
       "285  16.0  23.0   -7.0   10.0        0.4        0.2        0.4        1.4   \n",
       "286  14.0  16.0   -2.0   21.0        0.4        0.4        0.2        1.6   \n",
       "287  18.0  25.0   -7.0   13.0        0.4        0.4        0.2        1.6   \n",
       "288  14.0  21.0   -7.0   18.0        0.6        0.2        0.2        1.6   \n",
       "\n",
       "     L_R_GC_JJ  L_R_DIF_JJ  L_R_PTS_JJ  V_POS  V_JJ  JG_y  JE_y  JP_y  GF_y  \\\n",
       "284        1.4        -0.2         0.8   17.0  13.0   2.0   3.0   8.0  14.0   \n",
       "285        1.0         0.4         1.4    2.0  14.0   8.0   4.0   2.0  18.0   \n",
       "286        1.0         0.6         1.6   11.0  15.0   2.0   4.0   9.0  17.0   \n",
       "287        1.0         0.6         1.6   11.0  16.0   5.0   3.0   8.0  15.0   \n",
       "288        0.8         0.8         2.0   12.0  17.0   4.0   4.0   9.0  19.0   \n",
       "\n",
       "     GC_y  DIF_y  PTS_y  V_R_JG_JJ  V_R_JE_JJ  V_R_JP_JJ  V_R_GF_JJ  \\\n",
       "284  21.0   -7.0    9.0        0.0        0.0        1.0        0.2   \n",
       "285  11.0    7.0   28.0        0.6        0.2        0.2        1.0   \n",
       "286  25.0   -8.0   10.0        0.4        0.2        0.4        0.8   \n",
       "287  21.0   -6.0   18.0        0.0        0.4        0.6        0.6   \n",
       "288  25.0   -6.0   16.0        0.4        0.0        0.6        0.8   \n",
       "\n",
       "     V_R_GC_JJ  V_R_DIF_JJ  V_R_PTS_JJ  RES  ES_LOC    EQUIPO   EQUIPO_C   GE  \\\n",
       "284        2.4        -2.2         0.0    2   False  san luis    atlante  1.0   \n",
       "285        0.6         0.4         2.0    1    True  san luis      atlas  2.0   \n",
       "286        0.8         0.0         1.4    0   False  san luis  queretaro  1.0   \n",
       "287        2.0        -1.4         0.4    2    True  san luis    tijuana  1.0   \n",
       "288        1.2        -0.4         1.2    2   False  san luis     toluca  1.0   \n",
       "\n",
       "     GEC  \n",
       "284  0.0  \n",
       "285  2.0  \n",
       "286  2.0  \n",
       "287  0.0  \n",
       "288  0.0  "
      ]
     },
     "execution_count": 1186,
     "metadata": {},
     "output_type": "execute_result"
    }
   ],
   "source": [
    "teams[4].tail()"
   ]
  },
  {
   "cell_type": "code",
   "execution_count": 1187,
   "metadata": {
    "scrolled": true
   },
   "outputs": [
    {
     "data": {
      "text/plain": [
       "['JRD',\n",
       " 'FECHA',\n",
       " 'HORA',\n",
       " 'ANO',\n",
       " 'TIPO',\n",
       " 'L_POS',\n",
       " 'L_JJ',\n",
       " 'JG_x',\n",
       " 'JE_x',\n",
       " 'JP_x',\n",
       " 'GF_x',\n",
       " 'GC_x',\n",
       " 'DIF_x',\n",
       " 'PTS_x',\n",
       " 'L_R_JG_JJ',\n",
       " 'L_R_JE_JJ',\n",
       " 'L_R_JP_JJ',\n",
       " 'L_R_GF_JJ',\n",
       " 'L_R_GC_JJ',\n",
       " 'L_R_DIF_JJ',\n",
       " 'L_R_PTS_JJ',\n",
       " 'V_POS',\n",
       " 'V_JJ',\n",
       " 'JG_y',\n",
       " 'JE_y',\n",
       " 'JP_y',\n",
       " 'GF_y',\n",
       " 'GC_y',\n",
       " 'DIF_y',\n",
       " 'PTS_y',\n",
       " 'V_R_JG_JJ',\n",
       " 'V_R_JE_JJ',\n",
       " 'V_R_JP_JJ',\n",
       " 'V_R_GF_JJ',\n",
       " 'V_R_GC_JJ',\n",
       " 'V_R_DIF_JJ',\n",
       " 'V_R_PTS_JJ',\n",
       " 'RES',\n",
       " 'ES_LOC',\n",
       " 'EQUIPO',\n",
       " 'EQUIPO_C',\n",
       " 'GE',\n",
       " 'GEC']"
      ]
     },
     "execution_count": 1187,
     "metadata": {},
     "output_type": "execute_result"
    }
   ],
   "source": [
    "list(teams[0].columns)"
   ]
  },
  {
   "cell_type": "code",
   "execution_count": 1188,
   "metadata": {},
   "outputs": [
    {
     "data": {
      "text/html": [
       "<div>\n",
       "<style scoped>\n",
       "    .dataframe tbody tr th:only-of-type {\n",
       "        vertical-align: middle;\n",
       "    }\n",
       "\n",
       "    .dataframe tbody tr th {\n",
       "        vertical-align: top;\n",
       "    }\n",
       "\n",
       "    .dataframe thead th {\n",
       "        text-align: right;\n",
       "    }\n",
       "</style>\n",
       "<table border=\"1\" class=\"dataframe\">\n",
       "  <thead>\n",
       "    <tr style=\"text-align: right;\">\n",
       "      <th></th>\n",
       "      <th>JRD</th>\n",
       "      <th>FECHA</th>\n",
       "      <th>HORA</th>\n",
       "      <th>ANO</th>\n",
       "      <th>TIPO</th>\n",
       "      <th>L_POS</th>\n",
       "      <th>L_JJ</th>\n",
       "      <th>JG_x</th>\n",
       "      <th>JE_x</th>\n",
       "      <th>JP_x</th>\n",
       "      <th>GF_x</th>\n",
       "      <th>GC_x</th>\n",
       "      <th>DIF_x</th>\n",
       "      <th>PTS_x</th>\n",
       "      <th>L_R_JG_JJ</th>\n",
       "      <th>L_R_JE_JJ</th>\n",
       "      <th>L_R_JP_JJ</th>\n",
       "      <th>L_R_GF_JJ</th>\n",
       "      <th>L_R_GC_JJ</th>\n",
       "      <th>L_R_DIF_JJ</th>\n",
       "      <th>L_R_PTS_JJ</th>\n",
       "      <th>V_POS</th>\n",
       "      <th>V_JJ</th>\n",
       "      <th>JG_y</th>\n",
       "      <th>JE_y</th>\n",
       "      <th>JP_y</th>\n",
       "      <th>GF_y</th>\n",
       "      <th>GC_y</th>\n",
       "      <th>DIF_y</th>\n",
       "      <th>PTS_y</th>\n",
       "      <th>V_R_JG_JJ</th>\n",
       "      <th>V_R_JE_JJ</th>\n",
       "      <th>V_R_JP_JJ</th>\n",
       "      <th>V_R_GF_JJ</th>\n",
       "      <th>V_R_GC_JJ</th>\n",
       "      <th>V_R_DIF_JJ</th>\n",
       "      <th>V_R_PTS_JJ</th>\n",
       "      <th>RES</th>\n",
       "      <th>ES_LOC</th>\n",
       "      <th>EQUIPO</th>\n",
       "      <th>EQUIPO_C</th>\n",
       "      <th>GE</th>\n",
       "      <th>GEC</th>\n",
       "    </tr>\n",
       "  </thead>\n",
       "  <tbody>\n",
       "    <tr>\n",
       "      <th>352</th>\n",
       "      <td>13.0</td>\n",
       "      <td>29/3/2014</td>\n",
       "      <td>19:00</td>\n",
       "      <td>2014</td>\n",
       "      <td>clausura</td>\n",
       "      <td>5.0</td>\n",
       "      <td>13.0</td>\n",
       "      <td>4.0</td>\n",
       "      <td>3.0</td>\n",
       "      <td>6.0</td>\n",
       "      <td>12.0</td>\n",
       "      <td>16.0</td>\n",
       "      <td>-4.0</td>\n",
       "      <td>15.0</td>\n",
       "      <td>0.6</td>\n",
       "      <td>0.2</td>\n",
       "      <td>0.2</td>\n",
       "      <td>1.6</td>\n",
       "      <td>1.8</td>\n",
       "      <td>-0.2</td>\n",
       "      <td>2.0</td>\n",
       "      <td>16.0</td>\n",
       "      <td>13.0</td>\n",
       "      <td>5.0</td>\n",
       "      <td>3.0</td>\n",
       "      <td>5.0</td>\n",
       "      <td>16.0</td>\n",
       "      <td>21.0</td>\n",
       "      <td>-5.0</td>\n",
       "      <td>18.0</td>\n",
       "      <td>0.4</td>\n",
       "      <td>0.0</td>\n",
       "      <td>0.6</td>\n",
       "      <td>0.8</td>\n",
       "      <td>1.2</td>\n",
       "      <td>-0.4</td>\n",
       "      <td>1.2</td>\n",
       "      <td>0</td>\n",
       "      <td>False</td>\n",
       "      <td>atlante</td>\n",
       "      <td>monterrey</td>\n",
       "      <td>2.0</td>\n",
       "      <td>3.0</td>\n",
       "    </tr>\n",
       "    <tr>\n",
       "      <th>353</th>\n",
       "      <td>14.0</td>\n",
       "      <td>6/4/2014</td>\n",
       "      <td>17:00</td>\n",
       "      <td>2014</td>\n",
       "      <td>clausura</td>\n",
       "      <td>7.0</td>\n",
       "      <td>14.0</td>\n",
       "      <td>5.0</td>\n",
       "      <td>3.0</td>\n",
       "      <td>6.0</td>\n",
       "      <td>16.0</td>\n",
       "      <td>23.0</td>\n",
       "      <td>-7.0</td>\n",
       "      <td>18.0</td>\n",
       "      <td>0.6</td>\n",
       "      <td>0.0</td>\n",
       "      <td>0.4</td>\n",
       "      <td>2.0</td>\n",
       "      <td>2.4</td>\n",
       "      <td>-0.4</td>\n",
       "      <td>1.8</td>\n",
       "      <td>16.0</td>\n",
       "      <td>14.0</td>\n",
       "      <td>4.0</td>\n",
       "      <td>5.0</td>\n",
       "      <td>5.0</td>\n",
       "      <td>10.0</td>\n",
       "      <td>12.0</td>\n",
       "      <td>-2.0</td>\n",
       "      <td>17.0</td>\n",
       "      <td>0.4</td>\n",
       "      <td>0.2</td>\n",
       "      <td>0.4</td>\n",
       "      <td>1.0</td>\n",
       "      <td>0.8</td>\n",
       "      <td>0.2</td>\n",
       "      <td>1.4</td>\n",
       "      <td>0</td>\n",
       "      <td>True</td>\n",
       "      <td>atlante</td>\n",
       "      <td>tigres</td>\n",
       "      <td>0.0</td>\n",
       "      <td>2.0</td>\n",
       "    </tr>\n",
       "    <tr>\n",
       "      <th>354</th>\n",
       "      <td>15.0</td>\n",
       "      <td>13/4/2014</td>\n",
       "      <td>19:00</td>\n",
       "      <td>2014</td>\n",
       "      <td>clausura</td>\n",
       "      <td>10.0</td>\n",
       "      <td>15.0</td>\n",
       "      <td>6.0</td>\n",
       "      <td>6.0</td>\n",
       "      <td>3.0</td>\n",
       "      <td>29.0</td>\n",
       "      <td>24.0</td>\n",
       "      <td>5.0</td>\n",
       "      <td>24.0</td>\n",
       "      <td>0.4</td>\n",
       "      <td>0.0</td>\n",
       "      <td>0.6</td>\n",
       "      <td>1.6</td>\n",
       "      <td>2.6</td>\n",
       "      <td>-1.0</td>\n",
       "      <td>1.2</td>\n",
       "      <td>4.0</td>\n",
       "      <td>15.0</td>\n",
       "      <td>5.0</td>\n",
       "      <td>3.0</td>\n",
       "      <td>7.0</td>\n",
       "      <td>19.0</td>\n",
       "      <td>27.0</td>\n",
       "      <td>-8.0</td>\n",
       "      <td>18.0</td>\n",
       "      <td>0.6</td>\n",
       "      <td>0.4</td>\n",
       "      <td>0.0</td>\n",
       "      <td>2.6</td>\n",
       "      <td>1.6</td>\n",
       "      <td>1.0</td>\n",
       "      <td>2.2</td>\n",
       "      <td>0</td>\n",
       "      <td>False</td>\n",
       "      <td>atlante</td>\n",
       "      <td>santos</td>\n",
       "      <td>3.0</td>\n",
       "      <td>4.0</td>\n",
       "    </tr>\n",
       "    <tr>\n",
       "      <th>355</th>\n",
       "      <td>16.0</td>\n",
       "      <td>20/4/2014</td>\n",
       "      <td>17:00</td>\n",
       "      <td>2014</td>\n",
       "      <td>clausura</td>\n",
       "      <td>13.0</td>\n",
       "      <td>16.0</td>\n",
       "      <td>5.0</td>\n",
       "      <td>3.0</td>\n",
       "      <td>8.0</td>\n",
       "      <td>20.0</td>\n",
       "      <td>29.0</td>\n",
       "      <td>-9.0</td>\n",
       "      <td>18.0</td>\n",
       "      <td>0.2</td>\n",
       "      <td>0.0</td>\n",
       "      <td>0.8</td>\n",
       "      <td>1.4</td>\n",
       "      <td>3.0</td>\n",
       "      <td>-1.6</td>\n",
       "      <td>0.6</td>\n",
       "      <td>7.0</td>\n",
       "      <td>16.0</td>\n",
       "      <td>7.0</td>\n",
       "      <td>3.0</td>\n",
       "      <td>6.0</td>\n",
       "      <td>21.0</td>\n",
       "      <td>21.0</td>\n",
       "      <td>0.0</td>\n",
       "      <td>24.0</td>\n",
       "      <td>0.4</td>\n",
       "      <td>0.2</td>\n",
       "      <td>0.4</td>\n",
       "      <td>1.8</td>\n",
       "      <td>1.4</td>\n",
       "      <td>0.4</td>\n",
       "      <td>1.4</td>\n",
       "      <td>0</td>\n",
       "      <td>True</td>\n",
       "      <td>atlante</td>\n",
       "      <td>tijuana</td>\n",
       "      <td>1.0</td>\n",
       "      <td>2.0</td>\n",
       "    </tr>\n",
       "    <tr>\n",
       "      <th>356</th>\n",
       "      <td>17.0</td>\n",
       "      <td>26/4/2014</td>\n",
       "      <td>21:00</td>\n",
       "      <td>2014</td>\n",
       "      <td>clausura</td>\n",
       "      <td>16.0</td>\n",
       "      <td>17.0</td>\n",
       "      <td>6.0</td>\n",
       "      <td>5.0</td>\n",
       "      <td>6.0</td>\n",
       "      <td>23.0</td>\n",
       "      <td>23.0</td>\n",
       "      <td>0.0</td>\n",
       "      <td>23.0</td>\n",
       "      <td>0.2</td>\n",
       "      <td>0.0</td>\n",
       "      <td>0.8</td>\n",
       "      <td>1.6</td>\n",
       "      <td>2.4</td>\n",
       "      <td>-0.8</td>\n",
       "      <td>0.6</td>\n",
       "      <td>14.0</td>\n",
       "      <td>17.0</td>\n",
       "      <td>5.0</td>\n",
       "      <td>3.0</td>\n",
       "      <td>9.0</td>\n",
       "      <td>22.0</td>\n",
       "      <td>34.0</td>\n",
       "      <td>-12.0</td>\n",
       "      <td>18.0</td>\n",
       "      <td>0.4</td>\n",
       "      <td>0.2</td>\n",
       "      <td>0.4</td>\n",
       "      <td>1.2</td>\n",
       "      <td>1.4</td>\n",
       "      <td>-0.2</td>\n",
       "      <td>1.4</td>\n",
       "      <td>0</td>\n",
       "      <td>False</td>\n",
       "      <td>atlante</td>\n",
       "      <td>chiapas</td>\n",
       "      <td>2.0</td>\n",
       "      <td>5.0</td>\n",
       "    </tr>\n",
       "  </tbody>\n",
       "</table>\n",
       "</div>"
      ],
      "text/plain": [
       "      JRD      FECHA   HORA   ANO      TIPO  L_POS  L_JJ  JG_x  JE_x  JP_x  \\\n",
       "352  13.0  29/3/2014  19:00  2014  clausura    5.0  13.0   4.0   3.0   6.0   \n",
       "353  14.0   6/4/2014  17:00  2014  clausura    7.0  14.0   5.0   3.0   6.0   \n",
       "354  15.0  13/4/2014  19:00  2014  clausura   10.0  15.0   6.0   6.0   3.0   \n",
       "355  16.0  20/4/2014  17:00  2014  clausura   13.0  16.0   5.0   3.0   8.0   \n",
       "356  17.0  26/4/2014  21:00  2014  clausura   16.0  17.0   6.0   5.0   6.0   \n",
       "\n",
       "     GF_x  GC_x  DIF_x  PTS_x  L_R_JG_JJ  L_R_JE_JJ  L_R_JP_JJ  L_R_GF_JJ  \\\n",
       "352  12.0  16.0   -4.0   15.0        0.6        0.2        0.2        1.6   \n",
       "353  16.0  23.0   -7.0   18.0        0.6        0.0        0.4        2.0   \n",
       "354  29.0  24.0    5.0   24.0        0.4        0.0        0.6        1.6   \n",
       "355  20.0  29.0   -9.0   18.0        0.2        0.0        0.8        1.4   \n",
       "356  23.0  23.0    0.0   23.0        0.2        0.0        0.8        1.6   \n",
       "\n",
       "     L_R_GC_JJ  L_R_DIF_JJ  L_R_PTS_JJ  V_POS  V_JJ  JG_y  JE_y  JP_y  GF_y  \\\n",
       "352        1.8        -0.2         2.0   16.0  13.0   5.0   3.0   5.0  16.0   \n",
       "353        2.4        -0.4         1.8   16.0  14.0   4.0   5.0   5.0  10.0   \n",
       "354        2.6        -1.0         1.2    4.0  15.0   5.0   3.0   7.0  19.0   \n",
       "355        3.0        -1.6         0.6    7.0  16.0   7.0   3.0   6.0  21.0   \n",
       "356        2.4        -0.8         0.6   14.0  17.0   5.0   3.0   9.0  22.0   \n",
       "\n",
       "     GC_y  DIF_y  PTS_y  V_R_JG_JJ  V_R_JE_JJ  V_R_JP_JJ  V_R_GF_JJ  \\\n",
       "352  21.0   -5.0   18.0        0.4        0.0        0.6        0.8   \n",
       "353  12.0   -2.0   17.0        0.4        0.2        0.4        1.0   \n",
       "354  27.0   -8.0   18.0        0.6        0.4        0.0        2.6   \n",
       "355  21.0    0.0   24.0        0.4        0.2        0.4        1.8   \n",
       "356  34.0  -12.0   18.0        0.4        0.2        0.4        1.2   \n",
       "\n",
       "     V_R_GC_JJ  V_R_DIF_JJ  V_R_PTS_JJ  RES  ES_LOC   EQUIPO   EQUIPO_C   GE  \\\n",
       "352        1.2        -0.4         1.2    0   False  atlante  monterrey  2.0   \n",
       "353        0.8         0.2         1.4    0    True  atlante     tigres  0.0   \n",
       "354        1.6         1.0         2.2    0   False  atlante     santos  3.0   \n",
       "355        1.4         0.4         1.4    0    True  atlante    tijuana  1.0   \n",
       "356        1.4        -0.2         1.4    0   False  atlante    chiapas  2.0   \n",
       "\n",
       "     GEC  \n",
       "352  3.0  \n",
       "353  2.0  \n",
       "354  4.0  \n",
       "355  2.0  \n",
       "356  5.0  "
      ]
     },
     "execution_count": 1188,
     "metadata": {},
     "output_type": "execute_result"
    }
   ],
   "source": [
    "teams[1].tail()"
   ]
  },
  {
   "cell_type": "markdown",
   "metadata": {},
   "source": [
    "End -> Setting up continious variables"
   ]
  },
  {
   "cell_type": "code",
   "execution_count": 1189,
   "metadata": {},
   "outputs": [
    {
     "name": "stderr",
     "output_type": "stream",
     "text": [
      "/home/rober/.local/lib/python3.6/site-packages/ipykernel_launcher.py:3: UserWarning: Boolean Series key will be reindexed to match DataFrame index.\n",
      "  This is separate from the ipykernel package so we can avoid doing imports until\n"
     ]
    }
   ],
   "source": [
    "n_teams = []\n",
    "for sub_t in teams:\n",
    "    if len(sub_t[sub_t.ANO == 2019][sub_t.JRD == 8.0][sub_t.TIPO == 'apertura']) > 0 or len(sub_t[sub_t.ANO == 2019][sub_t.JRD == 9.0][sub_t.TIPO == 'apertura']):\n",
    "#     if(len(sub_t[(sub_t.ANO == 2019) &]) > 0):\n",
    "        n_teams.append(sub_t)\n",
    "teams = n_teams"
   ]
  },
  {
   "cell_type": "code",
   "execution_count": 1190,
   "metadata": {},
   "outputs": [
    {
     "data": {
      "text/plain": [
       "19"
      ]
     },
     "execution_count": 1190,
     "metadata": {},
     "output_type": "execute_result"
    }
   ],
   "source": [
    "len(teams)"
   ]
  },
  {
   "cell_type": "markdown",
   "metadata": {
    "heading_collapsed": true
   },
   "source": [
    "## Data analyzis"
   ]
  },
  {
   "cell_type": "code",
   "execution_count": 1191,
   "metadata": {
    "hidden": true
   },
   "outputs": [],
   "source": [
    "a = {}\n",
    "b = {}\n",
    "for sub_t in teams:\n",
    "    if(len(sub_t) >= 300): a[sub_t.EQUIPO.unique()[0]] = len(sub_t)\n",
    "    else: b[sub_t.EQUIPO.unique()[0]] = len(sub_t)"
   ]
  },
  {
   "cell_type": "code",
   "execution_count": 1192,
   "metadata": {
    "hidden": true
   },
   "outputs": [
    {
     "data": {
      "text/plain": [
       "{'santos': 545,\n",
       " 'america': 545,\n",
       " 'atlas': 545,\n",
       " 'morelia': 546,\n",
       " 'monterrey': 545,\n",
       " 'toluca': 545,\n",
       " 'cruz azul': 545,\n",
       " 'guadalajara': 545,\n",
       " 'tigres': 545,\n",
       " 'necaxa': 342,\n",
       " 'unam': 545,\n",
       " 'puebla': 477,\n",
       " 'veracruz': 376,\n",
       " 'pachuca': 545,\n",
       " 'queretaro': 392}"
      ]
     },
     "execution_count": 1192,
     "metadata": {},
     "output_type": "execute_result"
    }
   ],
   "source": [
    "a"
   ]
  },
  {
   "cell_type": "code",
   "execution_count": 1193,
   "metadata": {
    "hidden": true
   },
   "outputs": [
    {
     "data": {
      "text/plain": [
       "{'tijuana': 290, 'leon': 256, 'atletico de san luis': 18, 'fc juarez': 18}"
      ]
     },
     "execution_count": 1193,
     "metadata": {},
     "output_type": "execute_result"
    }
   ],
   "source": [
    "b"
   ]
  },
  {
   "cell_type": "markdown",
   "metadata": {},
   "source": [
    "# Data Prep"
   ]
  },
  {
   "cell_type": "code",
   "execution_count": 1194,
   "metadata": {},
   "outputs": [],
   "source": [
    "from fastai import *\n",
    "from fastai.text import *\n",
    "from fastai.tabular import *\n",
    "from fastai import *"
   ]
  },
  {
   "cell_type": "code",
   "execution_count": 1195,
   "metadata": {},
   "outputs": [],
   "source": [
    "deep_vars = ['RES']\n",
    "# deep_vars = ['GE']\n",
    "#categorical values\n",
    "cat_names = ['EQUIPO', 'EQUIPO_C', 'ES_LOC', 'L_POS', 'V_POS', 'JRD']\n",
    "#continious variables\n",
    "cont_names = ['L_R_JG_JJ', 'L_R_JE_JJ', 'L_R_JP_JJ', 'L_R_GF_JJ', 'L_R_GC_JJ', 'L_R_DIF_JJ', 'L_R_PTS_JJ',\n",
    "             'V_R_JG_JJ', 'V_R_JE_JJ', 'V_R_JP_JJ', 'V_R_GF_JJ', 'V_R_GC_JJ', 'V_R_DIF_JJ', 'V_R_PTS_JJ']\n",
    "procs = [Categorify, Normalize]"
   ]
  },
  {
   "cell_type": "code",
   "execution_count": 1196,
   "metadata": {},
   "outputs": [
    {
     "name": "stdout",
     "output_type": "stream",
     "text": [
      "28\n"
     ]
    }
   ],
   "source": [
    "def get_dif(a, b):\n",
    "    # a - b\n",
    "    dif_arr = []\n",
    "    curr_set = {}\n",
    "    for x in b: curr_set[x] = 1\n",
    "    for x in a:\n",
    "        if x not in curr_set: dif_arr.append(x)\n",
    "    return dif_arr\n",
    "\n",
    "equipos_set = {}\n",
    "pos_set = {}\n",
    "jrd_set = {}\n",
    "\n",
    "for cdf in teams:\n",
    "    for nm in cdf.EQUIPO.unique(): equipos_set[nm] = True\n",
    "    for nm in cdf.EQUIPO_C.unique(): equipos_set[nm] = True\n",
    "   \n",
    "    for nm in cdf.L_POS.unique(): pos_set[nm] = True\n",
    "    for nm in cdf.V_POS.unique(): pos_set[nm] = True\n",
    "        \n",
    "    for nm in cdf.JRD.unique(): jrd_set[nm] = True\n",
    "\n",
    "print(len(equipos_set))\n",
    "all_equipos = list(equipos_set.keys())\n",
    "all_pos = list(pos_set.keys())\n",
    "all_jrd = list(jrd_set.keys())"
   ]
  },
  {
   "cell_type": "code",
   "execution_count": 1197,
   "metadata": {},
   "outputs": [],
   "source": [
    "def my_create(train_ds:Dataset, valid_ds:Dataset, test_ds:Optional[Dataset]=None, path:PathOrStr='.', bs:int=64,\n",
    "           val_bs:int=None, num_workers:int=defaults.cpus, dl_tfms:Optional[Collection[Callable]]=None,\n",
    "           device:torch.device=None, collate_fn:Callable=data_collate, no_check:bool=False, **dl_kwargs)->'DataBunch':\n",
    "    \"Create a `DataBunch` from `train_ds`, `valid_ds` and maybe `test_ds` with a batch size of `bs`. Passes `**dl_kwargs` to `DataLoader()`\"\n",
    "    datasets = DataBunch._init_ds(train_ds, valid_ds, test_ds)\n",
    "    val_bs = ifnone(val_bs, bs)\n",
    "    dls = [DataLoader(d, b, shuffle=s, drop_last=s, num_workers=num_workers, **dl_kwargs) for d,b,s in zip(datasets, (bs,val_bs,val_bs,val_bs), (False,False,False,False)) if d is not None]\n",
    "    return DataBunch(*dls, path=path, device=device, dl_tfms=dl_tfms, collate_fn=collate_fn, no_check=no_check)"
   ]
  },
  {
   "cell_type": "code",
   "execution_count": 1198,
   "metadata": {
    "scrolled": true
   },
   "outputs": [],
   "source": [
    "ds_teams = []\n",
    "datas = []\n",
    "\n",
    "all_equipos.sort()\n",
    "all_pos.sort()\n",
    "all_jrd.sort()\n",
    "\n",
    "order_equipos = []\n",
    "for cdf in teams:\n",
    "    order_equipos.append(cdf.EQUIPO.unique())\n",
    "    \n",
    "    dif_equipo = get_dif(all_equipos, list(cdf.EQUIPO.unique()))\n",
    "    dif_equipo_c = get_dif(all_equipos, list(cdf.EQUIPO_C.unique()))\n",
    "    \n",
    "    dif_lpos = get_dif(all_pos, list(cdf.L_POS.unique()))\n",
    "    dif_vpos = get_dif(all_pos, list(cdf.V_POS.unique()))\n",
    "    \n",
    "    dif_jrd = get_dif(all_jrd, list(cdf.JRD.unique()))\n",
    "    \n",
    "#     print(dif_equipo)\n",
    "    \n",
    "    cdf.EQUIPO = cdf.EQUIPO.astype('category')\n",
    "    cdf.EQUIPO.cat.add_categories(dif_equipo, inplace=True)\n",
    "    cdf.EQUIPO.cat.reorder_categories(all_equipos, inplace=True)\n",
    "    \n",
    "    cdf.EQUIPO_C = cdf.EQUIPO_C.astype('category')\n",
    "    cdf.EQUIPO_C.cat.add_categories(dif_equipo_c, inplace=True)\n",
    "    cdf.EQUIPO_C.cat.reorder_categories(all_equipos, inplace=True)\n",
    "    \n",
    "    cdf.L_POS = cdf.L_POS.astype('category')\n",
    "    cdf.L_POS.cat.add_categories(dif_lpos, inplace=True)\n",
    "    cdf.L_POS.cat.reorder_categories(all_pos, inplace=True)\n",
    "    \n",
    "    cdf.V_POS = cdf.V_POS.astype('category')\n",
    "    cdf.V_POS.cat.add_categories(dif_vpos, inplace=True)\n",
    "    cdf.V_POS.cat.reorder_categories(all_pos, inplace=True)\n",
    "    \n",
    "    cdf.JRD = cdf.JRD.astype('category')\n",
    "    cdf.JRD.cat.add_categories(dif_jrd, inplace=True)\n",
    "    cdf.JRD.cat.reorder_categories(all_jrd, inplace=True)\n",
    "    \n",
    "    data = (TabularList.from_df(cdf, path=\"./data/ligamx\", cat_names=cat_names, cont_names=cont_names, procs=procs)\n",
    "       .split_none()\n",
    "       .label_from_df(cols=deep_vars))\n",
    "    data.x._bunch.create = my_create\n",
    "    data = data.databunch(bs=len(cdf))\n",
    "    ds_teams.append(next(iter(data.train_dl)))\n",
    "    datas.append(data)"
   ]
  },
  {
   "cell_type": "code",
   "execution_count": 1199,
   "metadata": {},
   "outputs": [
    {
     "data": {
      "text/plain": [
       "[[tensor([[ 4, 27,  2, 18, 15,  1],\n",
       "          [ 4, 13,  2, 17, 13,  2],\n",
       "          [ 4,  8,  1, 11, 10,  4],\n",
       "          [ 4, 22,  2, 15,  4,  5],\n",
       "          [ 4, 28,  1, 14, 19,  6],\n",
       "          [ 4, 14,  2, 14, 15,  7],\n",
       "          [ 4, 16,  1, 13, 11,  8],\n",
       "          [ 4, 17,  1, 10, 17,  9],\n",
       "          [ 4, 20,  2,  7,  3, 10],\n",
       "          [ 4, 24,  1, 10, 16, 11],\n",
       "          [ 4, 23,  2, 12, 13, 12],\n",
       "          [ 4,  7,  1, 13, 18, 13],\n",
       "          [ 4, 18,  2, 11,  7, 14],\n",
       "          [ 4, 11,  1, 12,  3, 15],\n",
       "          [ 4,  1,  2, 14,  5, 16],\n",
       "          [ 4,  3,  1, 14, 10, 17],\n",
       "          [ 4, 15,  2, 14,  2, 18],\n",
       "          [ 4,  6,  1, 15, 14, 19]]),\n",
       "  tensor([[-1.7732, -0.7088, -1.5743, -1.5600, -2.3512,  0.5350, -1.6999, -0.7346,\n",
       "           -0.2695,  1.6427, -0.3394,  1.1721, -1.1042, -0.8233],\n",
       "          [-1.7732, -0.7088,  1.8675, -1.5600,  0.8898, -2.3252, -1.6999,  0.3673,\n",
       "           -0.2695,  0.1643,  0.8824,  0.0419,  0.5754,  0.3467],\n",
       "          [ 0.2031, -0.7088, -0.4270, -1.0771, -1.2709,  0.0583, -0.0140,  0.3673,\n",
       "           -0.2695,  0.1643, -0.3394, -0.3349,  0.0156,  0.3467],\n",
       "          [-0.2910, -0.7088,  0.1466, -1.1978, -0.3256, -0.8951, -0.4355,  2.5712,\n",
       "           -1.8867, -1.3141,  1.2896, -0.7116,  1.4152,  2.2966],\n",
       "          [-0.5874,  0.5670, -0.1976, -0.9805, -0.4066, -0.6091, -0.3512, -1.8366,\n",
       "           -0.2695,  1.6427, -1.1539,  2.3023, -2.5038, -1.9933],\n",
       "          [ 0.5984,  0.5670, -0.8859, -0.4011, -0.7307,  0.2489,  0.6603,  0.3673,\n",
       "           -1.8867,  1.6427, -1.1539, -1.4651,  0.2955, -0.0433],\n",
       "          [-0.5874,  1.8428, -0.8859, -0.4011, -0.4066, -0.0371, -0.0140,  0.3673,\n",
       "           -0.2695,  0.1643,  1.2896, -0.7116,  1.4152,  0.3467],\n",
       "          [ 0.5984,  1.8428, -0.8859,  0.1784, -0.4066,  0.5350,  0.9975, -0.7346,\n",
       "            1.3477,  0.1643, -0.7466,  1.1721, -1.3841, -0.4333],\n",
       "          [ 1.7842,  1.8428, -1.5743,  1.0476, -1.0548,  1.9650,  2.0090, -0.7346,\n",
       "            1.3477, -1.3141, -0.3394,  0.0419, -0.2644, -0.4333],\n",
       "          [ 1.7842,  0.5670, -0.8859,  1.3373, -0.4066,  1.6790,  1.6718,  0.3673,\n",
       "           -0.2695,  0.1643, -0.7466, -1.0883,  0.2955,  0.3467],\n",
       "          [ 0.5984,  0.5670, -0.1976,  1.0476,  0.2416,  0.8210,  0.6603,  0.3673,\n",
       "           -0.2695,  0.1643,  1.2896,  1.5488, -0.2644,  0.3467],\n",
       "          [ 0.5984, -0.7088,  0.4908,  1.3373,  0.8898,  0.5350,  0.3231,  0.3673,\n",
       "            1.3477,  0.1643, -0.3394, -0.7116,  0.2955,  0.3467],\n",
       "          [ 0.5984, -0.7088,  0.4908,  1.3373,  1.2139,  0.2489,  0.3231, -1.8366,\n",
       "           -0.2695,  0.1643, -1.5611, -0.7116, -0.5443, -1.9933],\n",
       "          [-0.5874, -0.7088,  0.4908,  0.4681,  0.8898, -0.3231, -0.6884,  0.3673,\n",
       "            1.3477, -1.3141,  0.8824, -0.3349,  0.8553,  0.7366],\n",
       "          [-0.5874, -0.7088,  1.1791,  0.4681,  1.5380, -0.8951, -0.6884,  0.3673,\n",
       "            1.3477, -1.3141,  1.6969,  0.4186,  0.8553,  0.7366],\n",
       "          [-0.5874, -0.7088,  1.1791,  0.1784,  0.8898, -0.6091, -0.6884,  0.3673,\n",
       "           -0.2695,  0.1643, -0.3394,  0.4186, -0.5443,  0.3467],\n",
       "          [ 0.5984, -0.7088,  0.4908,  0.1784,  0.2416, -0.0371,  0.3231,  0.3673,\n",
       "           -0.2695, -1.3141,  0.4751, -0.7116,  0.8553,  0.3467],\n",
       "          [-0.5874, -0.7088,  1.1791, -0.4011,  0.5657, -0.8951, -0.6884, -0.7346,\n",
       "           -0.2695,  0.1643, -0.7466, -0.3349, -0.2644, -0.8233]])],\n",
       " tensor([0, 2, 0, 1, 2, 1, 2, 2, 0, 0, 0, 2, 0, 0, 0, 2, 0, 0])]"
      ]
     },
     "execution_count": 1199,
     "metadata": {},
     "output_type": "execute_result"
    }
   ],
   "source": [
    "ds_teams[17]"
   ]
  },
  {
   "cell_type": "code",
   "execution_count": 1200,
   "metadata": {},
   "outputs": [
    {
     "data": {
      "text/plain": [
       "19"
      ]
     },
     "execution_count": 1200,
     "metadata": {},
     "output_type": "execute_result"
    }
   ],
   "source": [
    "len(ds_teams)"
   ]
  },
  {
   "cell_type": "code",
   "execution_count": 1201,
   "metadata": {},
   "outputs": [],
   "source": [
    "ds_teams_valid = []\n",
    "n_valid_bptt = 1\n",
    "\n",
    "for tm in range(len(teams)):\n",
    "    sz = len(ds_teams[tm][1])\n",
    "    ds_teams_valid.append( ((ds_teams[tm][0][0][sz-n_valid_bptt :],ds_teams[tm][0][1][sz-n_valid_bptt :]), ds_teams[tm][1][sz-n_valid_bptt :]) )\n",
    "    ds_teams[tm] = ((ds_teams[tm][0][0][:sz-n_valid_bptt ],ds_teams[tm][0][1][:sz-n_valid_bptt ]), ds_teams[tm][1][:sz-n_valid_bptt ])\n"
   ]
  },
  {
   "cell_type": "code",
   "execution_count": 1202,
   "metadata": {},
   "outputs": [
    {
     "data": {
      "text/plain": [
       "tensor([0, 2, 0, 1, 2, 1, 2, 2, 0, 0, 0, 2, 0, 0, 0, 2, 0])"
      ]
     },
     "execution_count": 1202,
     "metadata": {},
     "output_type": "execute_result"
    }
   ],
   "source": [
    "ds_teams[17][1]"
   ]
  },
  {
   "cell_type": "code",
   "execution_count": 1203,
   "metadata": {},
   "outputs": [
    {
     "data": {
      "text/plain": [
       "tensor([0])"
      ]
     },
     "execution_count": 1203,
     "metadata": {},
     "output_type": "execute_result"
    }
   ],
   "source": [
    "ds_teams_valid[17][1]"
   ]
  },
  {
   "cell_type": "code",
   "execution_count": 1204,
   "metadata": {
    "scrolled": false
   },
   "outputs": [
    {
     "data": {
      "text/html": [
       "<div>\n",
       "<style scoped>\n",
       "    .dataframe tbody tr th:only-of-type {\n",
       "        vertical-align: middle;\n",
       "    }\n",
       "\n",
       "    .dataframe tbody tr th {\n",
       "        vertical-align: top;\n",
       "    }\n",
       "\n",
       "    .dataframe thead th {\n",
       "        text-align: right;\n",
       "    }\n",
       "</style>\n",
       "<table border=\"1\" class=\"dataframe\">\n",
       "  <thead>\n",
       "    <tr style=\"text-align: right;\">\n",
       "      <th></th>\n",
       "      <th>JRD</th>\n",
       "      <th>FECHA</th>\n",
       "      <th>HORA</th>\n",
       "      <th>ANO</th>\n",
       "      <th>TIPO</th>\n",
       "      <th>L_POS</th>\n",
       "      <th>L_JJ</th>\n",
       "      <th>JG_x</th>\n",
       "      <th>JE_x</th>\n",
       "      <th>JP_x</th>\n",
       "      <th>GF_x</th>\n",
       "      <th>GC_x</th>\n",
       "      <th>DIF_x</th>\n",
       "      <th>PTS_x</th>\n",
       "      <th>L_R_JG_JJ</th>\n",
       "      <th>L_R_JE_JJ</th>\n",
       "      <th>L_R_JP_JJ</th>\n",
       "      <th>L_R_GF_JJ</th>\n",
       "      <th>L_R_GC_JJ</th>\n",
       "      <th>L_R_DIF_JJ</th>\n",
       "      <th>L_R_PTS_JJ</th>\n",
       "      <th>V_POS</th>\n",
       "      <th>V_JJ</th>\n",
       "      <th>JG_y</th>\n",
       "      <th>JE_y</th>\n",
       "      <th>JP_y</th>\n",
       "      <th>GF_y</th>\n",
       "      <th>GC_y</th>\n",
       "      <th>DIF_y</th>\n",
       "      <th>PTS_y</th>\n",
       "      <th>V_R_JG_JJ</th>\n",
       "      <th>V_R_JE_JJ</th>\n",
       "      <th>V_R_JP_JJ</th>\n",
       "      <th>V_R_GF_JJ</th>\n",
       "      <th>V_R_GC_JJ</th>\n",
       "      <th>V_R_DIF_JJ</th>\n",
       "      <th>V_R_PTS_JJ</th>\n",
       "      <th>RES</th>\n",
       "      <th>ES_LOC</th>\n",
       "      <th>EQUIPO</th>\n",
       "      <th>EQUIPO_C</th>\n",
       "      <th>GE</th>\n",
       "      <th>GEC</th>\n",
       "    </tr>\n",
       "  </thead>\n",
       "  <tbody>\n",
       "    <tr>\n",
       "      <th>8</th>\n",
       "      <td>10.0</td>\n",
       "      <td>21/9/2019</td>\n",
       "      <td>17:00</td>\n",
       "      <td>2019</td>\n",
       "      <td>apertura</td>\n",
       "      <td>7.0</td>\n",
       "      <td>9.0</td>\n",
       "      <td>4.0</td>\n",
       "      <td>2.0</td>\n",
       "      <td>3.0</td>\n",
       "      <td>12.0</td>\n",
       "      <td>12.0</td>\n",
       "      <td>0.0</td>\n",
       "      <td>14.0</td>\n",
       "      <td>0.6</td>\n",
       "      <td>0.4</td>\n",
       "      <td>0.0</td>\n",
       "      <td>1.8</td>\n",
       "      <td>0.8</td>\n",
       "      <td>1.0</td>\n",
       "      <td>2.2</td>\n",
       "      <td>3.0</td>\n",
       "      <td>9.0</td>\n",
       "      <td>6.0</td>\n",
       "      <td>2.0</td>\n",
       "      <td>1.0</td>\n",
       "      <td>21.0</td>\n",
       "      <td>12.0</td>\n",
       "      <td>9.0</td>\n",
       "      <td>20.0</td>\n",
       "      <td>0.2</td>\n",
       "      <td>0.4</td>\n",
       "      <td>0.2</td>\n",
       "      <td>1.2</td>\n",
       "      <td>1.6</td>\n",
       "      <td>-0.4</td>\n",
       "      <td>1.0</td>\n",
       "      <td>0</td>\n",
       "      <td>True</td>\n",
       "      <td>atletico de san luis</td>\n",
       "      <td>santos</td>\n",
       "      <td>2.0</td>\n",
       "      <td>3.0</td>\n",
       "    </tr>\n",
       "    <tr>\n",
       "      <th>9</th>\n",
       "      <td>11.0</td>\n",
       "      <td>26/9/2019</td>\n",
       "      <td>20:00</td>\n",
       "      <td>2019</td>\n",
       "      <td>apertura</td>\n",
       "      <td>10.0</td>\n",
       "      <td>11.0</td>\n",
       "      <td>3.0</td>\n",
       "      <td>2.0</td>\n",
       "      <td>6.0</td>\n",
       "      <td>9.0</td>\n",
       "      <td>14.0</td>\n",
       "      <td>-5.0</td>\n",
       "      <td>11.0</td>\n",
       "      <td>0.6</td>\n",
       "      <td>0.2</td>\n",
       "      <td>0.2</td>\n",
       "      <td>2.0</td>\n",
       "      <td>1.2</td>\n",
       "      <td>0.8</td>\n",
       "      <td>2.0</td>\n",
       "      <td>16.0</td>\n",
       "      <td>10.0</td>\n",
       "      <td>4.0</td>\n",
       "      <td>2.0</td>\n",
       "      <td>4.0</td>\n",
       "      <td>13.0</td>\n",
       "      <td>15.0</td>\n",
       "      <td>-2.0</td>\n",
       "      <td>14.0</td>\n",
       "      <td>0.4</td>\n",
       "      <td>0.2</td>\n",
       "      <td>0.4</td>\n",
       "      <td>1.0</td>\n",
       "      <td>1.0</td>\n",
       "      <td>0.0</td>\n",
       "      <td>1.4</td>\n",
       "      <td>0</td>\n",
       "      <td>False</td>\n",
       "      <td>atletico de san luis</td>\n",
       "      <td>toluca</td>\n",
       "      <td>1.0</td>\n",
       "      <td>3.0</td>\n",
       "    </tr>\n",
       "    <tr>\n",
       "      <th>10</th>\n",
       "      <td>12.0</td>\n",
       "      <td>29/9/2019</td>\n",
       "      <td>17:00</td>\n",
       "      <td>2019</td>\n",
       "      <td>apertura</td>\n",
       "      <td>12.0</td>\n",
       "      <td>11.0</td>\n",
       "      <td>4.0</td>\n",
       "      <td>2.0</td>\n",
       "      <td>5.0</td>\n",
       "      <td>15.0</td>\n",
       "      <td>18.0</td>\n",
       "      <td>-3.0</td>\n",
       "      <td>14.0</td>\n",
       "      <td>0.4</td>\n",
       "      <td>0.2</td>\n",
       "      <td>0.4</td>\n",
       "      <td>1.8</td>\n",
       "      <td>1.6</td>\n",
       "      <td>0.2</td>\n",
       "      <td>1.4</td>\n",
       "      <td>13.0</td>\n",
       "      <td>11.0</td>\n",
       "      <td>5.0</td>\n",
       "      <td>2.0</td>\n",
       "      <td>4.0</td>\n",
       "      <td>19.0</td>\n",
       "      <td>21.0</td>\n",
       "      <td>-2.0</td>\n",
       "      <td>17.0</td>\n",
       "      <td>0.4</td>\n",
       "      <td>0.2</td>\n",
       "      <td>0.4</td>\n",
       "      <td>2.0</td>\n",
       "      <td>2.4</td>\n",
       "      <td>-0.4</td>\n",
       "      <td>1.4</td>\n",
       "      <td>0</td>\n",
       "      <td>True</td>\n",
       "      <td>atletico de san luis</td>\n",
       "      <td>tijuana</td>\n",
       "      <td>2.0</td>\n",
       "      <td>3.0</td>\n",
       "    </tr>\n",
       "    <tr>\n",
       "      <th>11</th>\n",
       "      <td>13.0</td>\n",
       "      <td>6/10/2019</td>\n",
       "      <td>17:00</td>\n",
       "      <td>2019</td>\n",
       "      <td>apertura</td>\n",
       "      <td>13.0</td>\n",
       "      <td>12.0</td>\n",
       "      <td>3.0</td>\n",
       "      <td>2.0</td>\n",
       "      <td>7.0</td>\n",
       "      <td>9.0</td>\n",
       "      <td>16.0</td>\n",
       "      <td>-7.0</td>\n",
       "      <td>11.0</td>\n",
       "      <td>0.4</td>\n",
       "      <td>0.0</td>\n",
       "      <td>0.6</td>\n",
       "      <td>2.0</td>\n",
       "      <td>2.0</td>\n",
       "      <td>0.0</td>\n",
       "      <td>1.2</td>\n",
       "      <td>18.0</td>\n",
       "      <td>12.0</td>\n",
       "      <td>5.0</td>\n",
       "      <td>2.0</td>\n",
       "      <td>5.0</td>\n",
       "      <td>17.0</td>\n",
       "      <td>19.0</td>\n",
       "      <td>-2.0</td>\n",
       "      <td>17.0</td>\n",
       "      <td>0.4</td>\n",
       "      <td>0.4</td>\n",
       "      <td>0.4</td>\n",
       "      <td>1.2</td>\n",
       "      <td>1.2</td>\n",
       "      <td>0.0</td>\n",
       "      <td>1.4</td>\n",
       "      <td>2</td>\n",
       "      <td>False</td>\n",
       "      <td>atletico de san luis</td>\n",
       "      <td>fc juarez</td>\n",
       "      <td>2.0</td>\n",
       "      <td>1.0</td>\n",
       "    </tr>\n",
       "    <tr>\n",
       "      <th>12</th>\n",
       "      <td>14.0</td>\n",
       "      <td>20/10/2019</td>\n",
       "      <td>17:00</td>\n",
       "      <td>2019</td>\n",
       "      <td>apertura</td>\n",
       "      <td>11.0</td>\n",
       "      <td>12.0</td>\n",
       "      <td>5.0</td>\n",
       "      <td>2.0</td>\n",
       "      <td>5.0</td>\n",
       "      <td>17.0</td>\n",
       "      <td>19.0</td>\n",
       "      <td>-2.0</td>\n",
       "      <td>17.0</td>\n",
       "      <td>0.4</td>\n",
       "      <td>0.0</td>\n",
       "      <td>0.6</td>\n",
       "      <td>2.0</td>\n",
       "      <td>2.2</td>\n",
       "      <td>-0.2</td>\n",
       "      <td>1.2</td>\n",
       "      <td>7.0</td>\n",
       "      <td>12.0</td>\n",
       "      <td>6.0</td>\n",
       "      <td>3.0</td>\n",
       "      <td>3.0</td>\n",
       "      <td>21.0</td>\n",
       "      <td>14.0</td>\n",
       "      <td>7.0</td>\n",
       "      <td>21.0</td>\n",
       "      <td>0.0</td>\n",
       "      <td>0.2</td>\n",
       "      <td>0.4</td>\n",
       "      <td>0.6</td>\n",
       "      <td>1.2</td>\n",
       "      <td>-0.6</td>\n",
       "      <td>0.2</td>\n",
       "      <td>0</td>\n",
       "      <td>True</td>\n",
       "      <td>atletico de san luis</td>\n",
       "      <td>queretaro</td>\n",
       "      <td>0.0</td>\n",
       "      <td>2.0</td>\n",
       "    </tr>\n",
       "    <tr>\n",
       "      <th>13</th>\n",
       "      <td>15.0</td>\n",
       "      <td>26/10/2019</td>\n",
       "      <td>19:00</td>\n",
       "      <td>2019</td>\n",
       "      <td>apertura</td>\n",
       "      <td>12.0</td>\n",
       "      <td>14.0</td>\n",
       "      <td>7.0</td>\n",
       "      <td>5.0</td>\n",
       "      <td>2.0</td>\n",
       "      <td>31.0</td>\n",
       "      <td>20.0</td>\n",
       "      <td>11.0</td>\n",
       "      <td>26.0</td>\n",
       "      <td>0.2</td>\n",
       "      <td>0.0</td>\n",
       "      <td>0.6</td>\n",
       "      <td>1.4</td>\n",
       "      <td>2.0</td>\n",
       "      <td>-0.6</td>\n",
       "      <td>0.6</td>\n",
       "      <td>3.0</td>\n",
       "      <td>14.0</td>\n",
       "      <td>5.0</td>\n",
       "      <td>2.0</td>\n",
       "      <td>7.0</td>\n",
       "      <td>19.0</td>\n",
       "      <td>24.0</td>\n",
       "      <td>-5.0</td>\n",
       "      <td>17.0</td>\n",
       "      <td>0.4</td>\n",
       "      <td>0.4</td>\n",
       "      <td>0.2</td>\n",
       "      <td>1.8</td>\n",
       "      <td>1.4</td>\n",
       "      <td>0.4</td>\n",
       "      <td>1.6</td>\n",
       "      <td>0</td>\n",
       "      <td>False</td>\n",
       "      <td>atletico de san luis</td>\n",
       "      <td>leon</td>\n",
       "      <td>2.0</td>\n",
       "      <td>3.0</td>\n",
       "    </tr>\n",
       "    <tr>\n",
       "      <th>14</th>\n",
       "      <td>16.0</td>\n",
       "      <td>29/10/2019</td>\n",
       "      <td>19:00</td>\n",
       "      <td>2019</td>\n",
       "      <td>apertura</td>\n",
       "      <td>14.0</td>\n",
       "      <td>15.0</td>\n",
       "      <td>5.0</td>\n",
       "      <td>2.0</td>\n",
       "      <td>8.0</td>\n",
       "      <td>19.0</td>\n",
       "      <td>25.0</td>\n",
       "      <td>-6.0</td>\n",
       "      <td>17.0</td>\n",
       "      <td>0.2</td>\n",
       "      <td>0.0</td>\n",
       "      <td>0.8</td>\n",
       "      <td>1.4</td>\n",
       "      <td>2.4</td>\n",
       "      <td>-1.0</td>\n",
       "      <td>0.6</td>\n",
       "      <td>5.0</td>\n",
       "      <td>16.0</td>\n",
       "      <td>7.0</td>\n",
       "      <td>7.0</td>\n",
       "      <td>2.0</td>\n",
       "      <td>26.0</td>\n",
       "      <td>20.0</td>\n",
       "      <td>6.0</td>\n",
       "      <td>28.0</td>\n",
       "      <td>0.4</td>\n",
       "      <td>0.4</td>\n",
       "      <td>0.2</td>\n",
       "      <td>2.2</td>\n",
       "      <td>1.8</td>\n",
       "      <td>0.4</td>\n",
       "      <td>1.6</td>\n",
       "      <td>0</td>\n",
       "      <td>True</td>\n",
       "      <td>atletico de san luis</td>\n",
       "      <td>america</td>\n",
       "      <td>0.0</td>\n",
       "      <td>1.0</td>\n",
       "    </tr>\n",
       "    <tr>\n",
       "      <th>15</th>\n",
       "      <td>17.0</td>\n",
       "      <td>1/11/2019</td>\n",
       "      <td>21:00</td>\n",
       "      <td>2019</td>\n",
       "      <td>apertura</td>\n",
       "      <td>14.0</td>\n",
       "      <td>17.0</td>\n",
       "      <td>6.0</td>\n",
       "      <td>3.0</td>\n",
       "      <td>8.0</td>\n",
       "      <td>19.0</td>\n",
       "      <td>24.0</td>\n",
       "      <td>-5.0</td>\n",
       "      <td>21.0</td>\n",
       "      <td>0.2</td>\n",
       "      <td>0.0</td>\n",
       "      <td>0.8</td>\n",
       "      <td>1.2</td>\n",
       "      <td>2.0</td>\n",
       "      <td>-0.8</td>\n",
       "      <td>0.6</td>\n",
       "      <td>10.0</td>\n",
       "      <td>16.0</td>\n",
       "      <td>6.0</td>\n",
       "      <td>2.0</td>\n",
       "      <td>8.0</td>\n",
       "      <td>21.0</td>\n",
       "      <td>26.0</td>\n",
       "      <td>-5.0</td>\n",
       "      <td>20.0</td>\n",
       "      <td>0.4</td>\n",
       "      <td>0.2</td>\n",
       "      <td>0.4</td>\n",
       "      <td>1.2</td>\n",
       "      <td>1.8</td>\n",
       "      <td>-0.6</td>\n",
       "      <td>1.4</td>\n",
       "      <td>2</td>\n",
       "      <td>False</td>\n",
       "      <td>atletico de san luis</td>\n",
       "      <td>atlas</td>\n",
       "      <td>2.0</td>\n",
       "      <td>1.0</td>\n",
       "    </tr>\n",
       "    <tr>\n",
       "      <th>16</th>\n",
       "      <td>18.0</td>\n",
       "      <td>9/11/2019</td>\n",
       "      <td>17:00</td>\n",
       "      <td>2019</td>\n",
       "      <td>apertura</td>\n",
       "      <td>14.0</td>\n",
       "      <td>17.0</td>\n",
       "      <td>6.0</td>\n",
       "      <td>2.0</td>\n",
       "      <td>9.0</td>\n",
       "      <td>21.0</td>\n",
       "      <td>28.0</td>\n",
       "      <td>-7.0</td>\n",
       "      <td>20.0</td>\n",
       "      <td>0.4</td>\n",
       "      <td>0.0</td>\n",
       "      <td>0.6</td>\n",
       "      <td>1.2</td>\n",
       "      <td>1.6</td>\n",
       "      <td>-0.4</td>\n",
       "      <td>1.2</td>\n",
       "      <td>2.0</td>\n",
       "      <td>17.0</td>\n",
       "      <td>9.0</td>\n",
       "      <td>4.0</td>\n",
       "      <td>4.0</td>\n",
       "      <td>33.0</td>\n",
       "      <td>20.0</td>\n",
       "      <td>13.0</td>\n",
       "      <td>31.0</td>\n",
       "      <td>0.4</td>\n",
       "      <td>0.2</td>\n",
       "      <td>0.2</td>\n",
       "      <td>1.6</td>\n",
       "      <td>1.2</td>\n",
       "      <td>0.4</td>\n",
       "      <td>1.4</td>\n",
       "      <td>0</td>\n",
       "      <td>True</td>\n",
       "      <td>atletico de san luis</td>\n",
       "      <td>necaxa</td>\n",
       "      <td>0.0</td>\n",
       "      <td>2.0</td>\n",
       "    </tr>\n",
       "    <tr>\n",
       "      <th>17</th>\n",
       "      <td>19.0</td>\n",
       "      <td>23/11/2019</td>\n",
       "      <td>19:00</td>\n",
       "      <td>2019</td>\n",
       "      <td>apertura</td>\n",
       "      <td>15.0</td>\n",
       "      <td>18.0</td>\n",
       "      <td>5.0</td>\n",
       "      <td>8.0</td>\n",
       "      <td>5.0</td>\n",
       "      <td>25.0</td>\n",
       "      <td>24.0</td>\n",
       "      <td>1.0</td>\n",
       "      <td>23.0</td>\n",
       "      <td>0.2</td>\n",
       "      <td>0.0</td>\n",
       "      <td>0.8</td>\n",
       "      <td>0.8</td>\n",
       "      <td>1.8</td>\n",
       "      <td>-1.0</td>\n",
       "      <td>0.6</td>\n",
       "      <td>14.0</td>\n",
       "      <td>18.0</td>\n",
       "      <td>6.0</td>\n",
       "      <td>2.0</td>\n",
       "      <td>10.0</td>\n",
       "      <td>22.0</td>\n",
       "      <td>31.0</td>\n",
       "      <td>-9.0</td>\n",
       "      <td>20.0</td>\n",
       "      <td>0.2</td>\n",
       "      <td>0.2</td>\n",
       "      <td>0.4</td>\n",
       "      <td>1.0</td>\n",
       "      <td>1.4</td>\n",
       "      <td>-0.4</td>\n",
       "      <td>0.8</td>\n",
       "      <td>0</td>\n",
       "      <td>False</td>\n",
       "      <td>atletico de san luis</td>\n",
       "      <td>cruz azul</td>\n",
       "      <td>1.0</td>\n",
       "      <td>3.0</td>\n",
       "    </tr>\n",
       "  </tbody>\n",
       "</table>\n",
       "</div>"
      ],
      "text/plain": [
       "     JRD       FECHA   HORA   ANO      TIPO L_POS  L_JJ  JG_x  JE_x  JP_x  \\\n",
       "8   10.0   21/9/2019  17:00  2019  apertura   7.0   9.0   4.0   2.0   3.0   \n",
       "9   11.0   26/9/2019  20:00  2019  apertura  10.0  11.0   3.0   2.0   6.0   \n",
       "10  12.0   29/9/2019  17:00  2019  apertura  12.0  11.0   4.0   2.0   5.0   \n",
       "11  13.0   6/10/2019  17:00  2019  apertura  13.0  12.0   3.0   2.0   7.0   \n",
       "12  14.0  20/10/2019  17:00  2019  apertura  11.0  12.0   5.0   2.0   5.0   \n",
       "13  15.0  26/10/2019  19:00  2019  apertura  12.0  14.0   7.0   5.0   2.0   \n",
       "14  16.0  29/10/2019  19:00  2019  apertura  14.0  15.0   5.0   2.0   8.0   \n",
       "15  17.0   1/11/2019  21:00  2019  apertura  14.0  17.0   6.0   3.0   8.0   \n",
       "16  18.0   9/11/2019  17:00  2019  apertura  14.0  17.0   6.0   2.0   9.0   \n",
       "17  19.0  23/11/2019  19:00  2019  apertura  15.0  18.0   5.0   8.0   5.0   \n",
       "\n",
       "    GF_x  GC_x  DIF_x  PTS_x  L_R_JG_JJ  L_R_JE_JJ  L_R_JP_JJ  L_R_GF_JJ  \\\n",
       "8   12.0  12.0    0.0   14.0        0.6        0.4        0.0        1.8   \n",
       "9    9.0  14.0   -5.0   11.0        0.6        0.2        0.2        2.0   \n",
       "10  15.0  18.0   -3.0   14.0        0.4        0.2        0.4        1.8   \n",
       "11   9.0  16.0   -7.0   11.0        0.4        0.0        0.6        2.0   \n",
       "12  17.0  19.0   -2.0   17.0        0.4        0.0        0.6        2.0   \n",
       "13  31.0  20.0   11.0   26.0        0.2        0.0        0.6        1.4   \n",
       "14  19.0  25.0   -6.0   17.0        0.2        0.0        0.8        1.4   \n",
       "15  19.0  24.0   -5.0   21.0        0.2        0.0        0.8        1.2   \n",
       "16  21.0  28.0   -7.0   20.0        0.4        0.0        0.6        1.2   \n",
       "17  25.0  24.0    1.0   23.0        0.2        0.0        0.8        0.8   \n",
       "\n",
       "    L_R_GC_JJ  L_R_DIF_JJ  L_R_PTS_JJ V_POS  V_JJ  JG_y  JE_y  JP_y  GF_y  \\\n",
       "8         0.8         1.0         2.2   3.0   9.0   6.0   2.0   1.0  21.0   \n",
       "9         1.2         0.8         2.0  16.0  10.0   4.0   2.0   4.0  13.0   \n",
       "10        1.6         0.2         1.4  13.0  11.0   5.0   2.0   4.0  19.0   \n",
       "11        2.0         0.0         1.2  18.0  12.0   5.0   2.0   5.0  17.0   \n",
       "12        2.2        -0.2         1.2   7.0  12.0   6.0   3.0   3.0  21.0   \n",
       "13        2.0        -0.6         0.6   3.0  14.0   5.0   2.0   7.0  19.0   \n",
       "14        2.4        -1.0         0.6   5.0  16.0   7.0   7.0   2.0  26.0   \n",
       "15        2.0        -0.8         0.6  10.0  16.0   6.0   2.0   8.0  21.0   \n",
       "16        1.6        -0.4         1.2   2.0  17.0   9.0   4.0   4.0  33.0   \n",
       "17        1.8        -1.0         0.6  14.0  18.0   6.0   2.0  10.0  22.0   \n",
       "\n",
       "    GC_y  DIF_y  PTS_y  V_R_JG_JJ  V_R_JE_JJ  V_R_JP_JJ  V_R_GF_JJ  V_R_GC_JJ  \\\n",
       "8   12.0    9.0   20.0        0.2        0.4        0.2        1.2        1.6   \n",
       "9   15.0   -2.0   14.0        0.4        0.2        0.4        1.0        1.0   \n",
       "10  21.0   -2.0   17.0        0.4        0.2        0.4        2.0        2.4   \n",
       "11  19.0   -2.0   17.0        0.4        0.4        0.4        1.2        1.2   \n",
       "12  14.0    7.0   21.0        0.0        0.2        0.4        0.6        1.2   \n",
       "13  24.0   -5.0   17.0        0.4        0.4        0.2        1.8        1.4   \n",
       "14  20.0    6.0   28.0        0.4        0.4        0.2        2.2        1.8   \n",
       "15  26.0   -5.0   20.0        0.4        0.2        0.4        1.2        1.8   \n",
       "16  20.0   13.0   31.0        0.4        0.2        0.2        1.6        1.2   \n",
       "17  31.0   -9.0   20.0        0.2        0.2        0.4        1.0        1.4   \n",
       "\n",
       "    V_R_DIF_JJ  V_R_PTS_JJ  RES  ES_LOC                EQUIPO   EQUIPO_C   GE  \\\n",
       "8         -0.4         1.0    0    True  atletico de san luis     santos  2.0   \n",
       "9          0.0         1.4    0   False  atletico de san luis     toluca  1.0   \n",
       "10        -0.4         1.4    0    True  atletico de san luis    tijuana  2.0   \n",
       "11         0.0         1.4    2   False  atletico de san luis  fc juarez  2.0   \n",
       "12        -0.6         0.2    0    True  atletico de san luis  queretaro  0.0   \n",
       "13         0.4         1.6    0   False  atletico de san luis       leon  2.0   \n",
       "14         0.4         1.6    0    True  atletico de san luis    america  0.0   \n",
       "15        -0.6         1.4    2   False  atletico de san luis      atlas  2.0   \n",
       "16         0.4         1.4    0    True  atletico de san luis     necaxa  0.0   \n",
       "17        -0.4         0.8    0   False  atletico de san luis  cruz azul  1.0   \n",
       "\n",
       "    GEC  \n",
       "8   3.0  \n",
       "9   3.0  \n",
       "10  3.0  \n",
       "11  1.0  \n",
       "12  2.0  \n",
       "13  3.0  \n",
       "14  1.0  \n",
       "15  1.0  \n",
       "16  2.0  \n",
       "17  3.0  "
      ]
     },
     "execution_count": 1204,
     "metadata": {},
     "output_type": "execute_result"
    }
   ],
   "source": [
    "teams[17].tail(10)"
   ]
  },
  {
   "cell_type": "code",
   "execution_count": 1205,
   "metadata": {},
   "outputs": [],
   "source": [
    "teams_set = {}\n",
    "for i in range(len(ds_teams)):\n",
    "    assert(ds_teams[i][0][0][0][0].item() not in teams_set)\n",
    "    teams_set[ds_teams[i][0][0][0][0].item()] = True"
   ]
  },
  {
   "cell_type": "markdown",
   "metadata": {
    "heading_collapsed": true
   },
   "source": [
    "## General Statistics"
   ]
  },
  {
   "cell_type": "code",
   "execution_count": 1206,
   "metadata": {
    "hidden": true
   },
   "outputs": [
    {
     "name": "stdout",
     "output_type": "stream",
     "text": [
      "0.4480097481722177 0.2806661251015435 0.27132412672623885\n"
     ]
    }
   ],
   "source": [
    "loc_wins, tie, vis_wins = len(df[df.RES == 2]), len(df[df.RES == 1]), len(df[df.RES==0])\n",
    "\n",
    "assert(loc_wins + tie + vis_wins == len(df))\n",
    "\n",
    "print(loc_wins/len(df), tie/len(df), vis_wins/len(df))"
   ]
  },
  {
   "cell_type": "markdown",
   "metadata": {},
   "source": [
    "## Custom dataset and dataloader"
   ]
  },
  {
   "cell_type": "code",
   "execution_count": 1207,
   "metadata": {},
   "outputs": [],
   "source": [
    "import math\n",
    "class RNNTabDataset(Dataset):\n",
    "    def __init__(self, dfs, bptt):\n",
    "        self.dfs = dfs\n",
    "        self.bs = len(dfs)\n",
    "        self.bptt = bptt\n",
    "        \n",
    "        self.largest= -1;\n",
    "        for i in range(self.bs): self.largest=max(self.largest, len(dfs[i][0][0]))\n",
    "        \n",
    "        self.fix_bptt()\n",
    "        self.process()\n",
    "        \n",
    "    def __getitem__(self, idx):\n",
    "        #return ((self.data[0][0][idx], self.data[0][1][idx]), self.data[1][idx])\n",
    "        return self.data[idx]\n",
    "        \n",
    "    def __len__(self):\n",
    "        return len(self.data)\n",
    "    \n",
    "    def get_split(self, sub_df, batch, ttl_batches):\n",
    "        ttl = len(sub_df)\n",
    "        \n",
    "        pos_btchs = math.ceil(ttl / float(self.bptt))\n",
    "        incomplete_btchs = ttl_batches - pos_btchs\n",
    "        partial_to_use =  ttl % self.bptt\n",
    "        partial_to_fake = self.bptt - partial_to_use\n",
    "        repl = sub_df[0] # may be changed by an average function later\n",
    "        \n",
    "        #pure repl\n",
    "        if batch <= incomplete_btchs : return torch.stack([repl] * self.bptt)\n",
    "        \n",
    "        #partial repl\n",
    "        elif batch == incomplete_btchs + 1 and partial_to_use != 0:\n",
    "            return torch.cat( (torch.stack([repl] * partial_to_fake), sub_df[0:partial_to_use]), 0)\n",
    "            \n",
    "        #no repl\n",
    "        start = (batch-1-incomplete_btchs) * self.bptt#(\n",
    "        end = (batch-incomplete_btchs) * self.bptt #]\n",
    "        \n",
    "        if partial_to_use != 0:\n",
    "            start = start - partial_to_fake\n",
    "            end = end - partial_to_fake\n",
    "        \n",
    "        if(start >= ttl): print(\"xd\")\n",
    "        return sub_df[start : end]\n",
    "    \n",
    "    def process(self):\n",
    "        self.data = []\n",
    "        ttl_batches = math.ceil(self.largest / float(self.bptt))\n",
    "        for batch in range(1, ttl_batches+1):\n",
    "            for b in range(self.bs):\n",
    "                cat = self.get_split(self.dfs[b][0][0], batch, ttl_batches)\n",
    "                cont = self.get_split(self.dfs[b][0][1], batch, ttl_batches)\n",
    "                y = self.get_split(self.dfs[b][1], batch, ttl_batches)\n",
    "                if(len(y) != self.bptt): print(batch, b)\n",
    "                self.data.append(((cat, cont), y))\n",
    "    \n",
    "    def prnt(self):\n",
    "        print(self.data)\n",
    "    \n",
    "    def fix_bptt(self):\n",
    "        #TODO\n",
    "        self.ds_len = math.ceil(self.largest / float(self.bptt)) * self.bs * self.bptt"
   ]
  },
  {
   "cell_type": "code",
   "execution_count": 1208,
   "metadata": {},
   "outputs": [],
   "source": [
    "bptt_use = 20"
   ]
  },
  {
   "cell_type": "code",
   "execution_count": 1209,
   "metadata": {},
   "outputs": [],
   "source": [
    "rnn_tab_ds = RNNTabDataset(ds_teams, bptt_use)"
   ]
  },
  {
   "cell_type": "code",
   "execution_count": 1210,
   "metadata": {},
   "outputs": [],
   "source": [
    "rnn_tab_ds_valid = RNNTabDataset(ds_teams_valid, n_valid_bptt)"
   ]
  },
  {
   "cell_type": "code",
   "execution_count": 1211,
   "metadata": {},
   "outputs": [
    {
     "data": {
      "text/plain": [
       "19"
      ]
     },
     "execution_count": 1211,
     "metadata": {},
     "output_type": "execute_result"
    }
   ],
   "source": [
    "batches = len(teams); batches"
   ]
  },
  {
   "cell_type": "code",
   "execution_count": 1212,
   "metadata": {},
   "outputs": [],
   "source": [
    "curr_dl = DataLoader(rnn_tab_ds, batches, shuffle=False, drop_last = False)"
   ]
  },
  {
   "cell_type": "code",
   "execution_count": 1213,
   "metadata": {},
   "outputs": [],
   "source": [
    "curr_dl_valid = DataLoader(rnn_tab_ds_valid, batches, shuffle=False, drop_last = False)"
   ]
  },
  {
   "cell_type": "code",
   "execution_count": 1214,
   "metadata": {},
   "outputs": [
    {
     "data": {
      "text/plain": [
       "28"
      ]
     },
     "execution_count": 1214,
     "metadata": {},
     "output_type": "execute_result"
    }
   ],
   "source": [
    "len(curr_dl)"
   ]
  },
  {
   "cell_type": "markdown",
   "metadata": {},
   "source": [
    "# Model"
   ]
  },
  {
   "cell_type": "markdown",
   "metadata": {
    "heading_collapsed": true
   },
   "source": [
    "## Optimal Learning Rate CLR"
   ]
  },
  {
   "cell_type": "code",
   "execution_count": 1215,
   "metadata": {
    "hidden": true
   },
   "outputs": [],
   "source": [
    "import math\n",
    "import matplotlib.pyplot as plt\n",
    "\n",
    "class CLR():\n",
    "    def __init__(self, train_dl, base_lr = 1e-5, max_lr = 100):\n",
    "        self.base_lr, self.max_lr = base_lr, max_lr\n",
    "        self.bn = len(train_dl) - 1 #iterations in our epoch\n",
    "        ratio = self.max_lr/self.base_lr\n",
    "        self.mult = ratio ** (1/self.bn)\n",
    "        self.best_loss = 1e9\n",
    "        self.iteration = 0\n",
    "        self.lrs, self.losses = [], []\n",
    "        \n",
    "    def calc_lr(self, loss):\n",
    "        self.iteration += 1\n",
    "        if math.isnan(loss) or loss > 4*self.best_loss:\n",
    "            return -1 #stop trying to finf a good learining rate\n",
    "        if loss < self.best_loss and self.iteration > 1:\n",
    "            self.best_loss = loss #improve our best loss\n",
    "        \n",
    "        mult = self.mult ** self.iteration\n",
    "        lr = self.base_lr * mult\n",
    "        self.lrs.append(lr)\n",
    "        self.losses.append(loss)\n",
    "        return lr\n",
    "    \n",
    "    def plot(self, start = 10, end = -5):\n",
    "        plt.xlabel(\"Learning Rate\")\n",
    "        plt.ylabel(\"Losses\")\n",
    "        plt.plot(self.lrs, self.losses)\n",
    "        plt.xscale('log') #learning rates are in log scale\n",
    "        axes = plt.gca()\n",
    "        axes.set_ylim([0.8,1.5])"
   ]
  },
  {
   "cell_type": "code",
   "execution_count": 1216,
   "metadata": {
    "hidden": true
   },
   "outputs": [],
   "source": [
    "def find_lr(loss_func, opt, clr, model, train_dl):\n",
    "    running_loss = 0.\n",
    "    avg_beta = 0.98\n",
    "    model.train()\n",
    "    \n",
    "    for i, curr_batch in enumerate(train_dl):\n",
    "        x_cat, x_cont, res = curr_batch[0][0].to(device), curr_batch[0][1].to(device), curr_batch[1].to(device) \n",
    "        output = model(x_cat, x_cont)\n",
    "        loss = loss_func(output.view(x_cat.shape[0] * x_cat.shape[1],3), res.view(-1).long())\n",
    "        \n",
    "        # calculate smoothed loss\n",
    "        running_loss = avg_beta * running_loss + (1-avg_beta) * loss\n",
    "        smoothed_loss = running_loss / (1 - avg_beta**(i+1))\n",
    "        \n",
    "        lr = clr.calc_lr(smoothed_loss)\n",
    "        if lr == -1: break\n",
    "        for pg in opt.param_groups:\n",
    "            pg['lr'] = lr\n",
    "            \n",
    "        opt.zero_grad()\n",
    "        loss.backward()\n",
    "        opt.step()"
   ]
  },
  {
   "cell_type": "markdown",
   "metadata": {
    "heading_collapsed": true
   },
   "source": [
    "## Once Cycle"
   ]
  },
  {
   "cell_type": "code",
   "execution_count": 1217,
   "metadata": {
    "hidden": true
   },
   "outputs": [],
   "source": [
    "class OneCycle():\n",
    "    def __init__(self, nb, max_lr, momentum_vals=(0.95, 0.85), prcnt= 10 , div=10):\n",
    "        self.nb = nb # total number of iterations including all epochs\n",
    "        self.div = div # the division factor used to get lower boundary of learning rate\n",
    "        self.step_len =  int(self.nb * (1- prcnt/100)/2)\n",
    "        self.high_lr = max_lr # the optimum learning rate, found from LR range test\n",
    "        self.low_mom = momentum_vals[1]\n",
    "        self.high_mom = momentum_vals[0]\n",
    "        self.prcnt = prcnt # percentage of cycle length,we annihilate learning rate below the lower learnig rate (default is 10)\n",
    "        self.iteration = 0\n",
    "        self.lrs = []\n",
    "        self.moms = []\n",
    "        \n",
    "    def calc(self): # calculates learning rate and momentum for the batch\n",
    "        self.iteration += 1\n",
    "        lr = self.calc_lr()\n",
    "        mom = self.calc_mom()\n",
    "        return (lr, mom)\n",
    "        \n",
    "    def calc_lr(self):\n",
    "        if self.iteration==self.nb: # exactly at `d`\n",
    "            self.iteration = 0\n",
    "            self.lrs.append(self.high_lr/self.div)\n",
    "            return self.high_lr/self.div\n",
    "        \n",
    "        if self.iteration > 2 * self.step_len: # case c-d\n",
    "            ratio = (self.iteration - 2 * self.step_len) / (self.nb - 2 * self.step_len)\n",
    "            lr = self.high_lr * ( 1 - ratio * (1-(1/self.div))/self.div)\n",
    "        elif self.iteration > self.step_len: # case b-c\n",
    "            ratio = 1- (self.iteration -self.step_len)/self.step_len\n",
    "            lr = self.high_lr * (1 + ratio * (self.div - 1)) / self.div\n",
    "        else : # case a-b\n",
    "            ratio = self.iteration/self.step_len\n",
    "            lr = self.high_lr * (1 + ratio * (self.div - 1)) / self.div\n",
    "        self.lrs.append(lr)\n",
    "        return lr\n",
    "    \n",
    "    def calc_mom(self):\n",
    "        if self.iteration==self.nb: # exactly at `d`\n",
    "            self.iteration = 0\n",
    "            self.moms.append(self.high_mom)\n",
    "            return self.high_mom\n",
    "        if self.iteration > 2 * self.step_len: # case c-d\n",
    "            mom = self.high_mom\n",
    "        elif self.iteration > self.step_len: # case b-c \n",
    "            ratio = (self.iteration -self.step_len)/self.step_len\n",
    "            mom = self.low_mom + ratio * (self.high_mom - self.low_mom)\n",
    "        else: # case a-b\n",
    "            ratio = self.iteration/self.step_len\n",
    "            mom = self.high_mom - ratio * (self.high_mom - self.low_mom)\n",
    "        self.moms.append(mom)\n",
    "        return mom"
   ]
  },
  {
   "cell_type": "markdown",
   "metadata": {
    "heading_collapsed": true
   },
   "source": [
    "## Creation"
   ]
  },
  {
   "cell_type": "code",
   "execution_count": 1218,
   "metadata": {
    "hidden": true
   },
   "outputs": [],
   "source": [
    "class RnnTabularModel(nn.Module):\n",
    "    \"Basic model for tabular data.\"\n",
    "    def __init__(self, emb_szs:ListSizes, n_cont:int, out_sz:int, lyrs:int, bs:int, ps:float=0.,\n",
    "                 emb_drop:float=0., y_range:OptRange=None):\n",
    "        super().__init__()\n",
    "        self.embeds = nn.ModuleList([embedding(ni, nf) for ni,nf in emb_szs])\n",
    "        self.emb_drop = nn.Dropout(emb_drop)\n",
    "        self.bn_cont = nn.BatchNorm1d(n_cont)\n",
    "        n_emb = sum(e.embedding_dim for e in self.embeds)\n",
    "        self.n_emb,self.n_cont,self.y_range = n_emb,n_cont,y_range\n",
    "\n",
    "        #rnn stuff\n",
    "        self.nh = n_cont\n",
    "        for ni, nf in emb_szs: self.nh += nf\n",
    "        self.rnn = nn.GRU(self.nh, self.nh, lyrs, batch_first=True, dropout=ps)\n",
    "        self.h_o = nn.Linear(self.nh,out_sz)\n",
    "        self.bn = BatchNorm1dFlat(self.nh)\n",
    "        \n",
    "        self.lyrs = lyrs\n",
    "        self.bs = bs\n",
    "        self.reset_h()\n",
    "\n",
    "\n",
    "    def forward(self, x_cat:Tensor, x_cont:Tensor) -> Tensor:\n",
    "        i_proc = torch.zeros(x_cat.shape[0], x_cat.shape[1], self.nh);\n",
    "        \n",
    "        for i_bptt in range(x_cat.shape[1]):\n",
    "            curr_cat = x_cat[:,i_bptt,:]\n",
    "            curr_cont = x_cont[:,i_bptt,:]\n",
    "            \n",
    "            if self.n_emb != 0:\n",
    "                x = [e(curr_cat[:,i]) for i,e in enumerate(self.embeds)]\n",
    "                x = torch.cat(x, 1)\n",
    "                x = self.emb_drop(x)\n",
    "            if self.n_cont != 0:\n",
    "                curr_cont = self.bn_cont(curr_cont)\n",
    "                x = torch.cat([x, curr_cont], 1) if self.n_emb != 0 else curr_cont\n",
    "            i_proc[:, i_bptt] = x\n",
    "            \n",
    "        res,h = self.rnn(i_proc, self.h)\n",
    "        if self.training: self.h = h.detach()            \n",
    "\n",
    "        curr_res = self.h_o(self.bn(res))\n",
    "        \n",
    "        if self.y_range is not None:\n",
    "            curr_res = (self.y_range[1]-self.y_range[0]) * torch.sigmoid(curr_res) + self.y_range[0]\n",
    "        \n",
    "        return curr_res\n",
    "    \n",
    "    def reset_h(self):\n",
    "        self.h = torch.zeros(self.lyrs, self.bs, self.nh)"
   ]
  },
  {
   "cell_type": "markdown",
   "metadata": {
    "heading_collapsed": true
   },
   "source": [
    "## Setup"
   ]
  },
  {
   "cell_type": "code",
   "execution_count": 1219,
   "metadata": {
    "hidden": true
   },
   "outputs": [
    {
     "name": "stdout",
     "output_type": "stream",
     "text": [
      "GPU not available, CPU used\n"
     ]
    }
   ],
   "source": [
    "# torch.cuda.is_available() checks and returns a Boolean True if a GPU is available, else it'll return False\n",
    "is_cuda = torch.cuda.is_available()\n",
    "\n",
    "# If we have a GPU available, we'll set our device to GPU. We'll use this device variable later in our code.\n",
    "if is_cuda:\n",
    "    device = torch.device(\"cuda\")\n",
    "    print(\"GPU is available\")\n",
    "else:\n",
    "    device = torch.device(\"cpu\")\n",
    "    print(\"GPU not available, CPU used\")"
   ]
  },
  {
   "cell_type": "markdown",
   "metadata": {
    "heading_collapsed": true
   },
   "source": [
    "## Validation setup"
   ]
  },
  {
   "cell_type": "code",
   "execution_count": 1220,
   "metadata": {
    "hidden": true
   },
   "outputs": [],
   "source": [
    "# # This function takes in the model and character as arguments and returns the next character prediction and hidden state\n",
    "# def get_loss(model, data_cat, data_cont, data_res):\n",
    "# #     print(model.h)\n",
    "#     model.eval()\n",
    "#     out = model(data_cat.to(device), data_cont.to(device))\n",
    "#     curr_crit = nn.MSELoss()\n",
    "#     loss_x = curr_crit(out.view(-1), data_res.view(-1))\n",
    "#     return loss_x\n",
    "    \n",
    "# def pred(model, data_cat, data_cont, data_res):\n",
    "# #     print(model.h)\n",
    "#     model.eval()\n",
    "#     m_out = model(data_cat.to(device), data_cont.to(device))\n",
    "#     return m_out.view(-1), m_out\n",
    "\n",
    "# def accuracy(model, data_cat, data_cont, data_res):\n",
    "#     out, _= pred(model, data_cat, data_cont, data_res)\n",
    "#     ttl = 0\n",
    "#     for i in range(len(out)):\n",
    "#         if(data_res.view(-1)[i] == out[i]): ttl += 1;\n",
    "#     return ttl/len(out)\n",
    "\n",
    "# This function takes in the model and character as arguments and returns the next character prediction and hidden state\n",
    "def get_loss(model, data_cat, data_cont, data_res):\n",
    "#     print(model.h)\n",
    "    model.eval()\n",
    "    out = model(data_cat.to(device), data_cont.to(device))\n",
    "    curr_crit = nn.CrossEntropyLoss()\n",
    "    loss_x = curr_crit(out.view(data_cat.shape[0] * data_cat.shape[1],3), data_res.view(-1).long())\n",
    "    return loss_x\n",
    "    \n",
    "def pred(model, data_cat, data_cont, data_res):\n",
    "#     print(model.h)\n",
    "    model.eval()\n",
    "    m_out = model(data_cat.to(device), data_cont.to(device))\n",
    "    prob = nn.functional.softmax(m_out.view(data_cat.shape[0] * data_cat.shape[1], 3), dim=1).data\n",
    "    # Taking the class with the highest probability score from the output\n",
    "    out = torch.max(prob, dim=1)[1]\n",
    "    return out, prob, m_out\n",
    "\n",
    "def accuracy(model, data_cat, data_cont, data_res):\n",
    "    out, _, _= pred(model, data_cat, data_cont, data_res)\n",
    "    ttl = 0\n",
    "    for i in range(len(out)):\n",
    "        if(data_res.view(-1)[i] == out[i]): ttl += 1;\n",
    "    return ttl/len(out)"
   ]
  },
  {
   "cell_type": "code",
   "execution_count": 1221,
   "metadata": {
    "hidden": true
   },
   "outputs": [
    {
     "data": {
      "text/plain": [
       "torch.Size([19, 1, 6])"
      ]
     },
     "execution_count": 1221,
     "metadata": {},
     "output_type": "execute_result"
    }
   ],
   "source": [
    "curr_it = iter(curr_dl_valid)\n",
    "tst = next(curr_it)\n",
    "\n",
    "sample_cat = tst[0][0]\n",
    "sample_cont = tst[0][1]\n",
    "sample_res = tst[1]\n",
    "\n",
    "sample_cat.shape"
   ]
  },
  {
   "cell_type": "code",
   "execution_count": 1222,
   "metadata": {
    "hidden": true
   },
   "outputs": [
    {
     "data": {
      "text/plain": [
       "torch.Size([19, 1])"
      ]
     },
     "execution_count": 1222,
     "metadata": {},
     "output_type": "execute_result"
    }
   ],
   "source": [
    "sample_res.shape"
   ]
  },
  {
   "cell_type": "code",
   "execution_count": 1223,
   "metadata": {
    "hidden": true
   },
   "outputs": [],
   "source": [
    "# # last batch validation\n",
    "# curr_it = iter(curr_dl)\n",
    "# for i in range(len(curr_dl)):\n",
    "#     x = next(curr_it)\n",
    "    \n",
    "# sample_cat = x[0][0]\n",
    "# sample_cont = x[0][1]\n",
    "# sample_res = x[1]"
   ]
  },
  {
   "cell_type": "markdown",
   "metadata": {},
   "source": [
    "## Training setup and model creation"
   ]
  },
  {
   "cell_type": "code",
   "execution_count": 1224,
   "metadata": {},
   "outputs": [],
   "source": [
    "emb_szs = [(29, 30), (29, 30), (3, 10), (21, 30), (21, 30), (20, 10)]\n",
    "n_cont =len(cont_names)\n",
    "# out_sz = 1\n",
    "out_sz = 3\n",
    "# val_rng = (-1., 6.)\n",
    "lyrs = 3\n",
    "bs = batches\n",
    "dropout_embeds = 0.2\n",
    "dropout_reg = 0.2\n",
    "\n",
    "wd = 0.00001\n",
    "# wd = 0."
   ]
  },
  {
   "cell_type": "code",
   "execution_count": 1229,
   "metadata": {},
   "outputs": [],
   "source": [
    "# Instantiate the model with hyperparameters\n",
    "# model = RnnTabularModel(emb_szs, n_cont, out_sz, lyrs, bs, dropout_reg, dropout_embeds, val_rng)\n",
    "model = RnnTabularModel(emb_szs, n_cont, out_sz, lyrs, bs, dropout_reg, dropout_embeds)\n",
    "\n",
    "# We'll also set the model to the device that we defined earlier (default is CPU)\n",
    "model.to(device)\n",
    "\n",
    "# Define hyperparameters\n",
    "n_epochs = 15\n",
    "lr = 1e-3\n",
    "\n",
    "# Define Loss, Optimizer\n",
    "# criterion = nn.MSELoss()\n",
    "criterion = nn.CrossEntropyLoss()\n",
    "optimizer = torch.optim.Adam(model.parameters(), lr=lr, weight_decay = wd, betas=(0.7, 0.29999))"
   ]
  },
  {
   "cell_type": "markdown",
   "metadata": {},
   "source": [
    "## Training"
   ]
  },
  {
   "cell_type": "code",
   "execution_count": 1226,
   "metadata": {},
   "outputs": [],
   "source": [
    "#def find_lr(loss_func, opt, clr, model):\n",
    "clr = CLR(curr_dl)\n",
    "find_lr(criterion, optimizer, clr, model, curr_dl)"
   ]
  },
  {
   "cell_type": "code",
   "execution_count": 1227,
   "metadata": {},
   "outputs": [
    {
     "data": {
      "image/png": "[encoded data removed]",
      "text/plain": [
       "<Figure size 432x288 with 1 Axes>"
      ]
     },
     "metadata": {
      "needs_background": "light"
     },
     "output_type": "display_data"
    }
   ],
   "source": [
    "clr.plot()"
   ]
  },
  {
   "cell_type": "code",
   "execution_count": 1228,
   "metadata": {},
   "outputs": [
    {
     "ename": "SyntaxError",
     "evalue": "Missing parentheses in call to 'print'. Did you mean print(a)? (<ipython-input-1228-da1608c9d425>, line 1)",
     "output_type": "error",
     "traceback": [
      "\u001b[0;36m  File \u001b[0;32m\"<ipython-input-1228-da1608c9d425>\"\u001b[0;36m, line \u001b[0;32m1\u001b[0m\n\u001b[0;31m    print a\u001b[0m\n\u001b[0m          ^\u001b[0m\n\u001b[0;31mSyntaxError\u001b[0m\u001b[0;31m:\u001b[0m Missing parentheses in call to 'print'. Did you mean print(a)?\n"
     ]
    }
   ],
   "source": [
    "print a"
   ]
  },
  {
   "cell_type": "code",
   "execution_count": null,
   "metadata": {},
   "outputs": [],
   "source": [
    "def changeLrAndMomentums(lr, momentum, opt):\n",
    "    for pg in opt.param_groups: # update learning rate\n",
    "        pg['lr'] = lr\n",
    "        pg['betas'] = (momentum, 1.0-momentum)"
   ]
  },
  {
   "cell_type": "code",
   "execution_count": null,
   "metadata": {},
   "outputs": [],
   "source": [
    "OneCycle??"
   ]
  },
  {
   "cell_type": "code",
   "execution_count": 1230,
   "metadata": {
    "scrolled": false
   },
   "outputs": [
    {
     "name": "stdout",
     "output_type": "stream",
     "text": [
      "Epoch: 1/15....... Train Loss: 1.0248...... Last batch train Loss: 1.1510...... Valid Loss: 1.0805...... Valid acc: 0.4211 LR: 0.0010\n",
      "Epoch: 2/15....... Train Loss: 0.9624...... Last batch train Loss: 1.1265...... Valid Loss: 0.9235...... Valid acc: 0.5263 LR: 0.0010\n",
      "Epoch: 3/15....... Train Loss: 0.9164...... Last batch train Loss: 1.2039...... Valid Loss: 0.9719...... Valid acc: 0.5263 LR: 0.0010\n",
      "Epoch: 4/15....... Train Loss: 0.8987...... Last batch train Loss: 1.2056...... Valid Loss: 1.0617...... Valid acc: 0.4737 LR: 0.0010\n",
      "Epoch: 5/15....... Train Loss: 0.9137...... Last batch train Loss: 1.1273...... Valid Loss: 1.0642...... Valid acc: 0.4737 LR: 0.0010\n",
      "Epoch: 6/15....... Train Loss: 0.9220...... Last batch train Loss: 1.1982...... Valid Loss: 0.9890...... Valid acc: 0.5789 LR: 0.0010\n",
      "Epoch: 7/15....... Train Loss: 0.8873...... Last batch train Loss: 1.1630...... Valid Loss: 0.9973...... Valid acc: 0.5263 LR: 0.0010\n",
      "Epoch: 8/15....... Train Loss: 0.8789...... Last batch train Loss: 1.0990...... Valid Loss: 0.9499...... Valid acc: 0.6842 LR: 0.0010\n",
      "Epoch: 9/15....... Train Loss: 0.8649...... Last batch train Loss: 1.1337...... Valid Loss: 0.9370...... Valid acc: 0.5789 LR: 0.0010\n",
      "Epoch: 10/15....... Train Loss: 0.8510...... Last batch train Loss: 1.0869...... Valid Loss: 0.9391...... Valid acc: 0.6842 LR: 0.0010\n",
      "Epoch: 11/15....... Train Loss: 0.8468...... Last batch train Loss: 1.1675...... Valid Loss: 0.8099...... Valid acc: 0.7368 LR: 0.0010\n",
      "Epoch: 12/15....... Train Loss: 0.8361...... Last batch train Loss: 1.0601...... Valid Loss: 0.8504...... Valid acc: 0.6842 LR: 0.0010\n",
      "Epoch: 13/15....... Train Loss: 0.8384...... Last batch train Loss: 1.0805...... Valid Loss: 0.8426...... Valid acc: 0.7895 LR: 0.0010\n",
      "Epoch: 14/15....... Train Loss: 0.8307...... Last batch train Loss: 1.0546...... Valid Loss: 0.8569...... Valid acc: 0.7895 LR: 0.0010\n",
      "Epoch: 15/15....... Train Loss: 0.8266...... Last batch train Loss: 1.0564...... Valid Loss: 0.8249...... Valid acc: 0.8421 LR: 0.0010\n"
     ]
    }
   ],
   "source": [
    "# Training Run\n",
    "use_last = len(curr_dl) \n",
    "first_ignore = len(curr_dl) - use_last\n",
    "oneCycle = OneCycle((len(curr_dl)-first_ignore) * n_epochs, lr, (0.8, 0.7), 10)\n",
    "\n",
    "loss_avgs = [0 for i in range(use_last)]\n",
    "\n",
    "for epoch in range(1, n_epochs + 1):\n",
    "    dl_it = iter(curr_dl)    \n",
    "    \n",
    "    model.reset_h()\n",
    "    model.train()\n",
    "    \n",
    "    ttl_loss = 0;\n",
    "    for i_batch, curr_batch in enumerate(dl_it):\n",
    "        if(i_batch < first_ignore): continue\n",
    "#         nlr, nmom = oneCycle.calc()\n",
    "#         changeLrAndMomentums(nlr, nmom, optimizer)\n",
    "        \n",
    "        optimizer.zero_grad() # Clears existing gradients from previous epoch\n",
    "#         x_cat, x_cont, res = curr_batch[0][0].to(device), curr_batch[0][1].to(device), curr_batch[1].to(device)\n",
    "        x_cat, x_cont, res = curr_batch[0][0].to(device), curr_batch[0][1].to(device), curr_batch[1].to(device)    \n",
    "        output = model(x_cat, x_cont)\n",
    "        \n",
    "#         loss = criterion(output.view(-1), res.view(-1))\n",
    "        loss = criterion(output.view(x_cat.shape[0] * x_cat.shape[1],3), res.view(-1).long())\n",
    "        loss.backward() # Does backpropagation and calculates gradients\n",
    "        optimizer.step() # Updates the weights accordingly\n",
    "        ttl_loss += loss.item()\n",
    "        \n",
    "        \n",
    "        loss_avgs[i_batch-first_ignore] += loss.item()/(n_epochs)\n",
    "        \n",
    "        if i_batch == len(dl_it)-1:\n",
    "            loss_valid = get_loss(model, sample_cat, sample_cont, sample_res)\n",
    "            accuracy_valid = accuracy(model, sample_cat, sample_cont, sample_res)\n",
    "    \n",
    "    if epoch%1 == 0:\n",
    "        print(\"Epoch: {}/{}.......\".format(epoch, n_epochs), end=' ')\n",
    "        print(\"Train Loss: {:.4f}......\".format(ttl_loss/(len(dl_it)-first_ignore)), end = ' ')\n",
    "        print(\"Last batch train Loss: {:.4f}......\".format(loss.item()), end = ' ')\n",
    "#         print('')\n",
    "        print(\"Valid Loss: {:.4f}......\".format(loss_valid.item()), end = ' ')\n",
    "        print(\"Valid acc: {:.4f}\".format(accuracy_valid), end=' ')\n",
    "        print(\"LR: {:.4f}\".format(optimizer.param_groups[0]['lr']))"
   ]
  },
  {
   "cell_type": "code",
   "execution_count": null,
   "metadata": {},
   "outputs": [],
   "source": [
    "save_path = \"./models/1/1\""
   ]
  },
  {
   "cell_type": "code",
   "execution_count": null,
   "metadata": {},
   "outputs": [],
   "source": [
    "torch.save(model.state_dict(), save_path)"
   ]
  },
  {
   "cell_type": "code",
   "execution_count": null,
   "metadata": {},
   "outputs": [],
   "source": [
    "model = RnnTabularModel(emb_szs, n_cont, out_sz, lyrs, bs, dropout_reg, dropout_embeds)\n",
    "model.load_state_dict(torch.load(save_path))"
   ]
  },
  {
   "cell_type": "code",
   "execution_count": null,
   "metadata": {},
   "outputs": [],
   "source": [
    "print a"
   ]
  },
  {
   "cell_type": "code",
   "execution_count": null,
   "metadata": {},
   "outputs": [],
   "source": [
    "def plot_losses(losses):\n",
    "    plt.xlabel(\"batch\")\n",
    "    plt.ylabel(\"Losses\")\n",
    "    plt.plot([i+1 for i in range(len(losses))], losses)"
   ]
  },
  {
   "cell_type": "code",
   "execution_count": null,
   "metadata": {},
   "outputs": [],
   "source": [
    "plot_losses(loss_avgs)"
   ]
  },
  {
   "cell_type": "markdown",
   "metadata": {},
   "source": [
    "## Validation Results"
   ]
  },
  {
   "cell_type": "code",
   "execution_count": null,
   "metadata": {},
   "outputs": [],
   "source": [
    "sample_pred, sample_prob, m_out= pred(model, sample_cat, sample_cont, sample_res)"
   ]
  },
  {
   "cell_type": "code",
   "execution_count": null,
   "metadata": {},
   "outputs": [],
   "source": [
    "pred??"
   ]
  },
  {
   "cell_type": "code",
   "execution_count": null,
   "metadata": {},
   "outputs": [],
   "source": [
    "sample_pred.view(-1)"
   ]
  },
  {
   "cell_type": "code",
   "execution_count": null,
   "metadata": {},
   "outputs": [],
   "source": [
    "acc = accuracy(model, sample_cat, sample_cont, sample_res)"
   ]
  },
  {
   "cell_type": "code",
   "execution_count": null,
   "metadata": {},
   "outputs": [],
   "source": [
    "acc"
   ]
  },
  {
   "cell_type": "code",
   "execution_count": null,
   "metadata": {},
   "outputs": [],
   "source": [
    "sample_pred"
   ]
  },
  {
   "cell_type": "code",
   "execution_count": null,
   "metadata": {},
   "outputs": [],
   "source": [
    "sample_res.view(-1)"
   ]
  },
  {
   "cell_type": "code",
   "execution_count": null,
   "metadata": {},
   "outputs": [],
   "source": [
    "res = [0, 0, 0]\n",
    "ttl = [0, 0, 0]\n",
    "for i in range(len(sample_pred)):\n",
    "    if(sample_pred[i] == sample_res.view(-1)[i]): res[sample_pred[i]] += 1\n",
    "        \n",
    "for i in range(len(sample_res.view(-1))):\n",
    "    ttl[sample_res.view(-1)[i]] += 1\n",
    "        \n",
    "print(res)\n",
    "print(ttl)"
   ]
  },
  {
   "cell_type": "markdown",
   "metadata": {},
   "source": [
    "## Retraining with last batches"
   ]
  },
  {
   "cell_type": "code",
   "execution_count": null,
   "metadata": {},
   "outputs": [],
   "source": [
    "model = RnnTabularModel(emb_szs, n_cont, out_sz, lyrs, bs, dropout_reg, dropout_embeds)\n",
    "model.load_state_dict(torch.load(save_path))"
   ]
  },
  {
   "cell_type": "code",
   "execution_count": 1231,
   "metadata": {},
   "outputs": [],
   "source": [
    "lr = 1e-5\n",
    "wd = 0.001\n",
    "optimizer = torch.optim.Adam(model.parameters(), lr=lr, weight_decay = wd)"
   ]
  },
  {
   "cell_type": "code",
   "execution_count": 1232,
   "metadata": {},
   "outputs": [],
   "source": [
    "n_epochs_ret = 15"
   ]
  },
  {
   "cell_type": "code",
   "execution_count": 1233,
   "metadata": {
    "scrolled": true
   },
   "outputs": [
    {
     "name": "stdout",
     "output_type": "stream",
     "text": [
      "Epoch: 1/15....... Train Loss: 0.9749...... Last batch train Loss: 1.0486...... Valid Loss: 0.7959...... Valid acc: 0.7368 LR: 0.0000\n",
      "Epoch: 2/15....... Train Loss: 0.9694...... Last batch train Loss: 1.0353...... Valid Loss: 0.7722...... Valid acc: 0.7895 LR: 0.0000\n",
      "Epoch: 3/15....... Train Loss: 0.9718...... Last batch train Loss: 1.0415...... Valid Loss: 0.7635...... Valid acc: 0.7895 LR: 0.0000\n",
      "Epoch: 4/15....... Train Loss: 0.9742...... Last batch train Loss: 1.0483...... Valid Loss: 0.7741...... Valid acc: 0.7895 LR: 0.0000\n",
      "Epoch: 5/15....... Train Loss: 0.9698...... Last batch train Loss: 1.0457...... Valid Loss: 0.7558...... Valid acc: 0.8421 LR: 0.0000\n",
      "Epoch: 6/15....... Train Loss: 0.9733...... Last batch train Loss: 1.0470...... Valid Loss: 0.7623...... Valid acc: 0.7895 LR: 0.0000\n",
      "Epoch: 7/15....... Train Loss: 0.9734...... Last batch train Loss: 1.0449...... Valid Loss: 0.7555...... Valid acc: 0.8421 LR: 0.0000\n",
      "Epoch: 8/15....... Train Loss: 0.9706...... Last batch train Loss: 1.0328...... Valid Loss: 0.7608...... Valid acc: 0.8421 LR: 0.0000\n",
      "Epoch: 9/15....... Train Loss: 0.9694...... Last batch train Loss: 1.0400...... Valid Loss: 0.7470...... Valid acc: 0.8421 LR: 0.0000\n",
      "Epoch: 10/15....... Train Loss: 0.9657...... Last batch train Loss: 1.0347...... Valid Loss: 0.7498...... Valid acc: 0.8421 LR: 0.0000\n",
      "Epoch: 11/15....... Train Loss: 0.9723...... Last batch train Loss: 1.0415...... Valid Loss: 0.7585...... Valid acc: 0.8421 LR: 0.0000\n",
      "Epoch: 12/15....... Train Loss: 0.9654...... Last batch train Loss: 1.0388...... Valid Loss: 0.7473...... Valid acc: 0.7895 LR: 0.0000\n",
      "Epoch: 13/15....... Train Loss: 0.9711...... Last batch train Loss: 1.0516...... Valid Loss: 0.7507...... Valid acc: 0.7368 LR: 0.0000\n",
      "Epoch: 14/15....... Train Loss: 0.9679...... Last batch train Loss: 1.0403...... Valid Loss: 0.7519...... Valid acc: 0.7895 LR: 0.0000\n",
      "Epoch: 15/15....... Train Loss: 0.9642...... Last batch train Loss: 1.0345...... Valid Loss: 0.7456...... Valid acc: 0.8421 LR: 0.0000\n"
     ]
    }
   ],
   "source": [
    "# Training Run\n",
    "use_last = 5\n",
    "first_ignore = len(curr_dl) - use_last\n",
    "oneCycle = OneCycle((len(curr_dl)-first_ignore) * n_epochs, lr, (0.8, 0.7), 10, 5)\n",
    "\n",
    "loss_avgs = [0 for i in range(use_last)]\n",
    "\n",
    "for epoch in range(1, n_epochs_ret + 1):\n",
    "    dl_it = iter(curr_dl)    \n",
    "    \n",
    "    model.reset_h()\n",
    "    model.train()\n",
    "    \n",
    "    ttl_loss = 0;\n",
    "    for i_batch, curr_batch in enumerate(dl_it):\n",
    "        if(i_batch < first_ignore): continue\n",
    "#         nlr, nmom = oneCycle.calc()\n",
    "#         changeLrAndMomentums(nlr, nmom, optimizer)\n",
    "        \n",
    "        optimizer.zero_grad() # Clears existing gradients from previous epoch\n",
    "#         x_cat, x_cont, res = curr_batch[0][0].to(device), curr_batch[0][1].to(device), curr_batch[1].to(device)\n",
    "        x_cat, x_cont, res = curr_batch[0][0].to(device), curr_batch[0][1].to(device), curr_batch[1].to(device)    \n",
    "        output = model(x_cat, x_cont)\n",
    "        \n",
    "#         loss = criterion(output.view(-1), res.view(-1))\n",
    "        loss = criterion(output.view(x_cat.shape[0] * x_cat.shape[1],3), res.view(-1).long())\n",
    "        loss.backward() # Does backpropagation and calculates gradients\n",
    "        optimizer.step() # Updates the weights accordingly\n",
    "        ttl_loss += loss.item()\n",
    "        \n",
    "        \n",
    "        loss_avgs[i_batch-first_ignore] += loss.item()/(n_epochs_ret)\n",
    "        \n",
    "        if i_batch == len(dl_it)-1:\n",
    "            loss_valid = get_loss(model, sample_cat, sample_cont, sample_res)\n",
    "            accuracy_valid = accuracy(model, sample_cat, sample_cont, sample_res)\n",
    "    \n",
    "    if epoch%1 == 0:\n",
    "        print(\"Epoch: {}/{}.......\".format(epoch, n_epochs), end=' ')\n",
    "        print(\"Train Loss: {:.4f}......\".format(ttl_loss/(len(dl_it)-first_ignore)), end = ' ')\n",
    "        print(\"Last batch train Loss: {:.4f}......\".format(loss.item()), end = ' ')\n",
    "#         print('')\n",
    "        print(\"Valid Loss: {:.4f}......\".format(loss_valid.item()), end = ' ')\n",
    "        print(\"Valid acc: {:.4f}\".format(accuracy_valid), end=' ')\n",
    "        print(\"LR: {:.4f}\".format(optimizer.param_groups[0]['lr']))"
   ]
  },
  {
   "cell_type": "code",
   "execution_count": null,
   "metadata": {},
   "outputs": [],
   "source": [
    "plot_losses(loss_avgs)"
   ]
  },
  {
   "cell_type": "code",
   "execution_count": null,
   "metadata": {},
   "outputs": [],
   "source": [
    "len(curr_dl)"
   ]
  },
  {
   "cell_type": "markdown",
   "metadata": {
    "heading_collapsed": true
   },
   "source": [
    "## Validation Results"
   ]
  },
  {
   "cell_type": "code",
   "execution_count": null,
   "metadata": {
    "hidden": true
   },
   "outputs": [],
   "source": [
    "sample_pred, m_out= pred(model, sample_cat, sample_cont, sample_res)\n",
    "acc = accuracy(model, sample_cat, sample_cont, sample_res)"
   ]
  },
  {
   "cell_type": "code",
   "execution_count": null,
   "metadata": {
    "hidden": true
   },
   "outputs": [],
   "source": [
    "acc"
   ]
  },
  {
   "cell_type": "code",
   "execution_count": null,
   "metadata": {
    "hidden": true
   },
   "outputs": [],
   "source": [
    "sample_pred"
   ]
  },
  {
   "cell_type": "code",
   "execution_count": null,
   "metadata": {
    "hidden": true
   },
   "outputs": [],
   "source": [
    "sample_res.view(-1)"
   ]
  },
  {
   "cell_type": "code",
   "execution_count": null,
   "metadata": {
    "hidden": true
   },
   "outputs": [],
   "source": [
    "for i in range(len(sample_pred)):\n",
    "    print(\"Pred: {:.2f} ... Actual: {:.2f} ... Dif: {:.2f}\".format(sample_pred.view(-1)[i].item(), sample_res.view(-1)[i].item(), abs(sample_pred.view(-1)[i].item() - sample_res.view(-1)[i].item())))"
   ]
  },
  {
   "cell_type": "code",
   "execution_count": null,
   "metadata": {
    "hidden": true
   },
   "outputs": [],
   "source": [
    "c, o, t = 0,0,0\n",
    "for x in sample_res.view(-1):\n",
    "    if x == 0: c +=1\n",
    "    elif x == 1: o += 1\n",
    "    else: t += 1\n",
    "print(c, o, t)\n",
    "print(c/len(sample_res.view(-1)), o/len(sample_res.view(-1)), t/len(sample_res.view(-1)))"
   ]
  },
  {
   "cell_type": "code",
   "execution_count": null,
   "metadata": {
    "hidden": true
   },
   "outputs": [],
   "source": [
    "c, o, t = 0,0,0\n",
    "for x in sample_pred.view(-1):\n",
    "    if x == 0: c +=1\n",
    "    elif x == 1: o += 1\n",
    "    else: t += 1\n",
    "print(c, o, t)\n",
    "print(c/len(sample_res.view(-1)), o/len(sample_res.view(-1)), t/len(sample_res.view(-1)))"
   ]
  },
  {
   "cell_type": "markdown",
   "metadata": {},
   "source": [
    "## Validating data"
   ]
  },
  {
   "cell_type": "code",
   "execution_count": null,
   "metadata": {},
   "outputs": [],
   "source": [
    "sample_res"
   ]
  },
  {
   "cell_type": "code",
   "execution_count": null,
   "metadata": {},
   "outputs": [],
   "source": [
    "order_equipos"
   ]
  },
  {
   "cell_type": "code",
   "execution_count": null,
   "metadata": {},
   "outputs": [],
   "source": [
    "teams[16].tail(22)"
   ]
  },
  {
   "cell_type": "code",
   "execution_count": null,
   "metadata": {},
   "outputs": [],
   "source": [
    "ds_teams[17][1]"
   ]
  },
  {
   "cell_type": "code",
   "execution_count": null,
   "metadata": {},
   "outputs": [],
   "source": [
    "df.tail(10)"
   ]
  }
 ],
 "metadata": {
  "kernelspec": {
   "display_name": "Python 3",
   "language": "python",
   "name": "python3"
  },
  "language_info": {
   "codemirror_mode": {
    "name": "ipython",
    "version": 3
   },
   "file_extension": ".py",
   "mimetype": "text/x-python",
   "name": "python",
   "nbconvert_exporter": "python",
   "pygments_lexer": "ipython3",
   "version": "3.6.9"
  },
  "varInspector": {
   "cols": {
    "lenName": 16,
    "lenType": 16,
    "lenVar": 40
   },
   "kernels_config": {
    "python": {
     "delete_cmd_postfix": "",
     "delete_cmd_prefix": "del ",
     "library": "var_list.py",
     "varRefreshCmd": "print(var_dic_list())"
    },
    "r": {
     "delete_cmd_postfix": ") ",
     "delete_cmd_prefix": "rm(",
     "library": "var_list.r",
     "varRefreshCmd": "cat(var_dic_list()) "
    }
   },
   "types_to_exclude": [
    "module",
    "function",
    "builtin_function_or_method",
    "instance",
    "_Feature"
   ],
   "window_display": false
  }
 },
 "nbformat": 4,
 "nbformat_minor": 2
}
