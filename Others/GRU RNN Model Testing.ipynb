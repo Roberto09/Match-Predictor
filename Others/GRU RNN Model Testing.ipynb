{
 "cells": [
  {
   "cell_type": "markdown",
   "metadata": {
    "heading_collapsed": true
   },
   "source": [
    "# Data Gathering"
   ]
  },
  {
   "cell_type": "code",
   "execution_count": 1,
   "metadata": {
    "hidden": true
   },
   "outputs": [],
   "source": [
    "from fastai.tabular import *"
   ]
  },
  {
   "cell_type": "code",
   "execution_count": 2,
   "metadata": {
    "hidden": true
   },
   "outputs": [],
   "source": [
    "df = pd.read_pickle('./data/ligamx/WLT2')"
   ]
  },
  {
   "cell_type": "code",
   "execution_count": 3,
   "metadata": {
    "hidden": true
   },
   "outputs": [],
   "source": [
    "df_ns = pd.read_pickle('./data/ligamx/WLT_new_season')"
   ]
  },
  {
   "cell_type": "code",
   "execution_count": 4,
   "metadata": {
    "hidden": true
   },
   "outputs": [],
   "source": [
    "df = pd.concat([df, df_ns])\n",
    "df.reset_index(drop = True, inplace = True)"
   ]
  },
  {
   "cell_type": "code",
   "execution_count": 5,
   "metadata": {
    "hidden": true
   },
   "outputs": [],
   "source": [
    "df.at[4948, \"JRD\"] = 4\n",
    "df.at[4949, \"JRD\"] = 4"
   ]
  },
  {
   "cell_type": "code",
   "execution_count": 6,
   "metadata": {
    "hidden": true,
    "scrolled": true
   },
   "outputs": [],
   "source": [
    "# sorting\n",
    "import numpy as np\n",
    "df['sort_val'] = df.ANO + df.JRD/1000 + (df.TIPO == 'apertura')/10\n",
    "df = df.sort_values('sort_val').drop('sort_val', 1)"
   ]
  },
  {
   "cell_type": "code",
   "execution_count": 7,
   "metadata": {
    "hidden": true
   },
   "outputs": [],
   "source": [
    "df.reset_index(drop=True, inplace=True)"
   ]
  },
  {
   "cell_type": "code",
   "execution_count": 8,
   "metadata": {
    "hidden": true
   },
   "outputs": [],
   "source": [
    "teams = []\n",
    "\n",
    "for name in df.LOC.unique():\n",
    "    curr_df_loc = df[df.LOC == name].copy()\n",
    "    curr_df_loc[\"ES_LOC\"] = True\n",
    "    curr_df_vis = df[df.VIS == name].copy()\n",
    "    curr_df_vis[\"ES_LOC\"] = False\n",
    "    \n",
    "    curr_df = pd.concat([curr_df_loc, curr_df_vis]).copy()\n",
    "    curr_df.LOC = name\n",
    "    del curr_df['VIS']\n",
    "    curr_df['sort_val'] = curr_df.ANO + curr_df.JRD/1000 + (curr_df.TIPO == 'apertura')/10\n",
    "    curr_df = curr_df.sort_values('sort_val').drop('sort_val', 1)\n",
    "    curr_df.reset_index(drop = True, inplace = True)\n",
    "    teams.append(curr_df)"
   ]
  },
  {
   "cell_type": "markdown",
   "metadata": {
    "heading_collapsed": true
   },
   "source": [
    "# Data Prep"
   ]
  },
  {
   "cell_type": "code",
   "execution_count": 1,
   "metadata": {
    "hidden": true
   },
   "outputs": [],
   "source": [
    "from fastai import *\n",
    "from fastai.text import *\n",
    "from fastai.tabular import *"
   ]
  },
  {
   "cell_type": "code",
   "execution_count": 2,
   "metadata": {
    "hidden": true
   },
   "outputs": [],
   "source": [
    "deep_vars = ['RES']\n",
    "#categorical values\n",
    "cat_names = ['LOC', 'JRD', 'ANO', 'TIPO', 'ES_LOC']\n",
    "#continious variables\n",
    "cont_names = ['L_JJ', 'L_POS', 'L_R_JG_JJ', 'L_R_JE_JJ', 'L_R_JP_JJ', 'L_R_GF_JJ', 'L_R_GC_JJ', 'L_R_DIF_JJ', 'L_R_PTS_JJ',\n",
    "              'V_JJ', 'V_POS', 'V_R_JG_JJ', 'V_R_JE_JJ', 'V_R_JP_JJ', 'V_R_GF_JJ', 'V_R_GC_JJ', 'V_R_DIF_JJ', 'V_R_PTS_JJ']\n",
    "procs = [Categorify, Normalize]\n",
    "\n",
    "# data = (TabularList.from_df(df, path=\"./data/ligamx\", cat_names=cat_names, cont_names=cont_names, procs=procs)\n",
    "#    .split_by_idx(range(len(df)-35, len(df)))\n",
    "#    .label_from_df(cols=deep_vars)\n",
    "#    .databunch(bs=64))\n",
    "\n",
    "# learn = tabular_learner(data, layers=[300, 200, 100],  ps=[0.1, 0.1, 0.1], emb_drop=0.1, metrics=accuracy)"
   ]
  },
  {
   "cell_type": "code",
   "execution_count": 3,
   "metadata": {
    "hidden": true
   },
   "outputs": [],
   "source": [
    "def orig_create(train_ds:Dataset, valid_ds:Dataset, test_ds:Optional[Dataset]=None, path:PathOrStr='.', bs:int=64,\n",
    "           val_bs:int=None, num_workers:int=defaults.cpus, dl_tfms:Optional[Collection[Callable]]=None,\n",
    "           device:torch.device=None, collate_fn:Callable=data_collate, no_check:bool=False, **dl_kwargs)->'DataBunch':\n",
    "    \"Create a `DataBunch` from `train_ds`, `valid_ds` and maybe `test_ds` with a batch size of `bs`. Passes `**dl_kwargs` to `DataLoader()`\"\n",
    "    datasets = DataBunch._init_ds(train_ds, valid_ds, test_ds)\n",
    "    orig_create.ds = datasets\n",
    "    val_bs = ifnone(val_bs, bs)\n",
    "    dls = [DataLoader(d, b, shuffle=s, drop_last=s, num_workers=num_workers, **dl_kwargs) for d,b,s in zip(datasets, (bs,val_bs,val_bs,val_bs), (True,False,False,False)) if d is not None]\n",
    "    return DataBunch(*dls, path=path, device=device, dl_tfms=dl_tfms, collate_fn=collate_fn, no_check=no_check)"
   ]
  },
  {
   "cell_type": "code",
   "execution_count": 4,
   "metadata": {
    "hidden": true
   },
   "outputs": [],
   "source": [
    "def my_create(cls, train_ds, valid_ds, test_ds=None, path:PathOrStr='.', no_check:bool=False, bs=64, val_bs:int=None,\n",
    "               num_workers:int=0, device:torch.device=None, collate_fn:Callable=data_collate,\n",
    "               dl_tfms:Optional[Collection[Callable]]=None, bptt:int=70, backwards:bool=False, **dl_kwargs) -> DataBunch:\n",
    "    \"Create a `TextDataBunch` in `path` from the `datasets` for language modelling. Passes `**dl_kwargs` on to `DataLoader()`\"\n",
    "    datasets = cls._init_ds(train_ds, valid_ds, test_ds)\n",
    "    val_bs = ifnone(val_bs, bs)\n",
    "    datasets = [LanguageModelPreLoader(ds, shuffle=(i==0), bs=(bs if i==0 else val_bs), bptt=bptt, backwards=backwards)\n",
    "                for i,ds in enumerate(datasets)]\n",
    "    val_bs = bs\n",
    "    dls = [DataLoader(d, b, shuffle=False, **dl_kwargs) for d,b in zip(datasets, (bs,val_bs,val_bs,val_bs)) if d is not None]\n",
    "    return cls(*dls, path=path, device=device, dl_tfms=dl_tfms, collate_fn=collate_fn, no_check=no_check)"
   ]
  },
  {
   "cell_type": "code",
   "execution_count": 5,
   "metadata": {
    "hidden": true
   },
   "outputs": [],
   "source": [
    "LanguageModelPreLoader??"
   ]
  },
  {
   "cell_type": "code",
   "execution_count": 14,
   "metadata": {
    "hidden": true
   },
   "outputs": [],
   "source": [
    "# DataBunch.create = orig_create"
   ]
  },
  {
   "cell_type": "code",
   "execution_count": 15,
   "metadata": {
    "hidden": true,
    "scrolled": true
   },
   "outputs": [],
   "source": [
    "data = (TabularList.from_df(teams[0], path=\"./data/ligamx\", cat_names=cat_names, cont_names=cont_names, procs=procs)\n",
    "   .split_none()\n",
    "   .label_from_df(cols=deep_vars))"
   ]
  },
  {
   "cell_type": "code",
   "execution_count": 16,
   "metadata": {
    "hidden": true
   },
   "outputs": [
    {
     "data": {
      "text/plain": [
       "TabularDataBunch;\n",
       "\n",
       "Train: LabelList (459 items)\n",
       "x: TabularList\n",
       "LOC chiapas; JRD 1.0; ANO 2004; TIPO clausura; ES_LOC True; L_JJ -1.6398; L_POS -1.7630; L_R_JG_JJ -1.3698; L_R_JE_JJ -1.2386; L_R_JP_JJ -1.5161; L_R_GF_JJ -2.0064; L_R_GC_JJ -1.9935; L_R_DIF_JJ 0.2426; L_R_PTS_JJ -1.8302; V_JJ -1.6398; V_POS -1.6684; V_R_JG_JJ -1.3776; V_R_JE_JJ -1.2408; V_R_JP_JJ -1.4959; V_R_GF_JJ -1.9463; V_R_GC_JJ -2.1048; V_R_DIF_JJ 0.0909; V_R_PTS_JJ -1.8672; ,LOC chiapas; JRD 2.0; ANO 2004; TIPO clausura; ES_LOC False; L_JJ -1.4406; L_POS -0.8645; L_R_JG_JJ 3.1717; L_R_JE_JJ -1.2386; L_R_JP_JJ -1.5161; L_R_GF_JJ -0.2852; L_R_GC_JJ -1.9935; L_R_DIF_JJ 1.4507; L_R_PTS_JJ 2.8475; V_JJ -1.4406; V_POS -1.4888; V_R_JG_JJ 2.7670; V_R_JE_JJ -1.2408; V_R_JP_JJ -1.4959; V_R_GF_JJ 4.4351; V_R_GC_JJ 1.1541; V_R_DIF_JJ 2.6257; V_R_PTS_JJ 2.5631; ,LOC chiapas; JRD 3.0; ANO 2004; TIPO clausura; ES_LOC True; L_JJ -1.2413; L_POS -0.6848; L_R_JG_JJ 0.9009; L_R_JE_JJ -1.2386; L_R_JP_JJ 0.5290; L_R_GF_JJ 2.2967; L_R_GC_JJ 0.9243; L_R_DIF_JJ 0.8466; L_R_PTS_JJ 0.5087; V_JJ -1.2413; V_POS -1.1294; V_R_JG_JJ 2.7670; V_R_JE_JJ -1.2408; V_R_JP_JJ -1.4959; V_R_GF_JJ -0.3510; V_R_GC_JJ -2.1048; V_R_DIF_JJ 1.3583; V_R_PTS_JJ 2.5631; ,LOC chiapas; JRD 4.0; ANO 2004; TIPO clausura; ES_LOC False; L_JJ -1.0421; L_POS 0.2138; L_R_JG_JJ 0.1440; L_R_JE_JJ 0.2968; L_R_JP_JJ -0.1527; L_R_GF_JJ 0.8623; L_R_GC_JJ 0.4380; L_R_DIF_JJ 0.2426; L_R_PTS_JJ 0.2488; V_JJ -1.0421; V_POS -1.4888; V_R_JG_JJ 1.3855; V_R_JE_JJ -1.2408; V_R_JP_JJ -0.0360; V_R_GF_JJ 1.7762; V_R_GC_JJ 0.6110; V_R_DIF_JJ 0.9359; V_R_PTS_JJ 1.0863; ,LOC chiapas; JRD 5.0; ANO 2004; TIPO clausura; ES_LOC True; L_JJ -0.8429; L_POS -1.5833; L_R_JG_JJ 2.0363; L_R_JE_JJ -1.2386; L_R_JP_JJ -0.4935; L_R_GF_JJ 1.4361; L_R_GC_JJ -0.1699; L_R_DIF_JJ 1.1486; L_R_PTS_JJ 1.6781; V_JJ -0.8429; V_POS 1.7456; V_R_JG_JJ -1.3776; V_R_JE_JJ 1.0807; V_R_JP_JJ 0.6939; V_R_GF_JJ -0.7498; V_R_GC_JJ 0.3394; V_R_DIF_JJ -0.8596; V_R_PTS_JJ -1.1288; \n",
       "y: CategoryList\n",
       "2,2,2,0,2\n",
       "Path: data/ligamx;\n",
       "\n",
       "Valid: LabelList (0 items)\n",
       "x: TabularList\n",
       "\n",
       "y: CategoryList\n",
       "\n",
       "Path: data/ligamx;\n",
       "\n",
       "Test: None"
      ]
     },
     "execution_count": 16,
     "metadata": {},
     "output_type": "execute_result"
    }
   ],
   "source": [
    "data.databunch(bs=64)"
   ]
  },
  {
   "cell_type": "code",
   "execution_count": 17,
   "metadata": {
    "hidden": true
   },
   "outputs": [
    {
     "ename": "AttributeError",
     "evalue": "'function' object has no attribute 'ds'",
     "output_type": "error",
     "traceback": [
      "\u001b[0;31m---------------------------------------------------------------------------\u001b[0m",
      "\u001b[0;31mAttributeError\u001b[0m                            Traceback (most recent call last)",
      "\u001b[0;32m<ipython-input-17-2e159ef7f8fd>\u001b[0m in \u001b[0;36m<module>\u001b[0;34m()\u001b[0m\n\u001b[0;32m----> 1\u001b[0;31m \u001b[0mdata\u001b[0m\u001b[0;34m.\u001b[0m\u001b[0mx\u001b[0m\u001b[0;34m.\u001b[0m\u001b[0m_bunch\u001b[0m\u001b[0;34m.\u001b[0m\u001b[0mcreate\u001b[0m\u001b[0;34m.\u001b[0m\u001b[0mds\u001b[0m\u001b[0;34m[\u001b[0m\u001b[0;36m0\u001b[0m\u001b[0;34m]\u001b[0m\u001b[0;34m\u001b[0m\u001b[0m\n\u001b[0m",
      "\u001b[0;31mAttributeError\u001b[0m: 'function' object has no attribute 'ds'"
     ]
    }
   ],
   "source": [
    "data.x._bunch.create.ds[0]"
   ]
  },
  {
   "cell_type": "code",
   "execution_count": null,
   "metadata": {
    "hidden": true
   },
   "outputs": [],
   "source": [
    "LabelList??"
   ]
  },
  {
   "cell_type": "code",
   "execution_count": null,
   "metadata": {
    "hidden": true
   },
   "outputs": [],
   "source": [
    "Dataset??"
   ]
  },
  {
   "cell_type": "code",
   "execution_count": null,
   "metadata": {
    "hidden": true
   },
   "outputs": [],
   "source": [
    "ItemLists??"
   ]
  },
  {
   "cell_type": "code",
   "execution_count": null,
   "metadata": {
    "hidden": true
   },
   "outputs": [],
   "source": [
    "data.x._bunch??"
   ]
  },
  {
   "cell_type": "code",
   "execution_count": null,
   "metadata": {
    "hidden": true
   },
   "outputs": [],
   "source": [
    "data.databunch??"
   ]
  },
  {
   "cell_type": "code",
   "execution_count": null,
   "metadata": {
    "hidden": true,
    "scrolled": true
   },
   "outputs": [],
   "source": [
    "teams[0].head(70)"
   ]
  },
  {
   "cell_type": "code",
   "execution_count": null,
   "metadata": {
    "hidden": true
   },
   "outputs": [],
   "source": [
    "data = data.databunch(bs=64)"
   ]
  },
  {
   "cell_type": "code",
   "execution_count": null,
   "metadata": {
    "hidden": true
   },
   "outputs": [],
   "source": [
    "DeviceDataLoader??"
   ]
  },
  {
   "cell_type": "code",
   "execution_count": null,
   "metadata": {
    "hidden": true
   },
   "outputs": [],
   "source": [
    "it = iter(data.train_dl)"
   ]
  },
  {
   "cell_type": "code",
   "execution_count": null,
   "metadata": {
    "hidden": true
   },
   "outputs": [],
   "source": [
    "curr = next(it)"
   ]
  },
  {
   "cell_type": "code",
   "execution_count": null,
   "metadata": {
    "hidden": true,
    "scrolled": true
   },
   "outputs": [],
   "source": [
    "curr[0]"
   ]
  },
  {
   "cell_type": "code",
   "execution_count": null,
   "metadata": {
    "hidden": true,
    "scrolled": true
   },
   "outputs": [],
   "source": [
    "teams[0]"
   ]
  },
  {
   "cell_type": "markdown",
   "metadata": {
    "heading_collapsed": true
   },
   "source": [
    "# Non fastai data prep"
   ]
  },
  {
   "cell_type": "code",
   "execution_count": 18,
   "metadata": {
    "hidden": true
   },
   "outputs": [],
   "source": [
    "from fastai import *"
   ]
  },
  {
   "cell_type": "code",
   "execution_count": 19,
   "metadata": {
    "hidden": true
   },
   "outputs": [],
   "source": [
    "cdf = teams[0]"
   ]
  },
  {
   "cell_type": "code",
   "execution_count": 20,
   "metadata": {
    "collapsed": true,
    "hidden": true
   },
   "outputs": [
    {
     "data": {
      "text/html": [
       "<div>\n",
       "<style scoped>\n",
       "    .dataframe tbody tr th:only-of-type {\n",
       "        vertical-align: middle;\n",
       "    }\n",
       "\n",
       "    .dataframe tbody tr th {\n",
       "        vertical-align: top;\n",
       "    }\n",
       "\n",
       "    .dataframe thead th {\n",
       "        text-align: right;\n",
       "    }\n",
       "</style>\n",
       "<table border=\"1\" class=\"dataframe\">\n",
       "  <thead>\n",
       "    <tr style=\"text-align: right;\">\n",
       "      <th></th>\n",
       "      <th>LOC</th>\n",
       "      <th>JRD</th>\n",
       "      <th>ANO</th>\n",
       "      <th>TIPO</th>\n",
       "      <th>L_POS</th>\n",
       "      <th>L_JJ</th>\n",
       "      <th>L_R_JG_JJ</th>\n",
       "      <th>L_R_JE_JJ</th>\n",
       "      <th>L_R_JP_JJ</th>\n",
       "      <th>L_R_GF_JJ</th>\n",
       "      <th>...</th>\n",
       "      <th>V_JJ</th>\n",
       "      <th>V_R_JG_JJ</th>\n",
       "      <th>V_R_JE_JJ</th>\n",
       "      <th>V_R_JP_JJ</th>\n",
       "      <th>V_R_GF_JJ</th>\n",
       "      <th>V_R_GC_JJ</th>\n",
       "      <th>V_R_DIF_JJ</th>\n",
       "      <th>V_R_PTS_JJ</th>\n",
       "      <th>RES</th>\n",
       "      <th>ES_LOC</th>\n",
       "    </tr>\n",
       "  </thead>\n",
       "  <tbody>\n",
       "    <tr>\n",
       "      <th>454</th>\n",
       "      <td>chiapas</td>\n",
       "      <td>13.0</td>\n",
       "      <td>2017</td>\n",
       "      <td>clausura</td>\n",
       "      <td>4.0</td>\n",
       "      <td>12.0</td>\n",
       "      <td>0.416667</td>\n",
       "      <td>0.416667</td>\n",
       "      <td>0.166667</td>\n",
       "      <td>1.583333</td>\n",
       "      <td>...</td>\n",
       "      <td>12.0</td>\n",
       "      <td>0.333333</td>\n",
       "      <td>0.166667</td>\n",
       "      <td>0.500000</td>\n",
       "      <td>0.916667</td>\n",
       "      <td>1.500000</td>\n",
       "      <td>-0.583333</td>\n",
       "      <td>1.166667</td>\n",
       "      <td>2</td>\n",
       "      <td>False</td>\n",
       "    </tr>\n",
       "    <tr>\n",
       "      <th>455</th>\n",
       "      <td>chiapas</td>\n",
       "      <td>14.0</td>\n",
       "      <td>2017</td>\n",
       "      <td>clausura</td>\n",
       "      <td>15.0</td>\n",
       "      <td>13.0</td>\n",
       "      <td>0.307692</td>\n",
       "      <td>0.153846</td>\n",
       "      <td>0.538462</td>\n",
       "      <td>0.923077</td>\n",
       "      <td>...</td>\n",
       "      <td>13.0</td>\n",
       "      <td>0.461538</td>\n",
       "      <td>0.307692</td>\n",
       "      <td>0.230769</td>\n",
       "      <td>1.923077</td>\n",
       "      <td>1.384615</td>\n",
       "      <td>0.538462</td>\n",
       "      <td>1.692308</td>\n",
       "      <td>0</td>\n",
       "      <td>True</td>\n",
       "    </tr>\n",
       "    <tr>\n",
       "      <th>456</th>\n",
       "      <td>chiapas</td>\n",
       "      <td>15.0</td>\n",
       "      <td>2017</td>\n",
       "      <td>clausura</td>\n",
       "      <td>13.0</td>\n",
       "      <td>14.0</td>\n",
       "      <td>0.285714</td>\n",
       "      <td>0.214286</td>\n",
       "      <td>0.500000</td>\n",
       "      <td>1.142857</td>\n",
       "      <td>...</td>\n",
       "      <td>14.0</td>\n",
       "      <td>0.285714</td>\n",
       "      <td>0.142857</td>\n",
       "      <td>0.571429</td>\n",
       "      <td>0.928571</td>\n",
       "      <td>1.714286</td>\n",
       "      <td>-0.785714</td>\n",
       "      <td>1.000000</td>\n",
       "      <td>1</td>\n",
       "      <td>False</td>\n",
       "    </tr>\n",
       "    <tr>\n",
       "      <th>457</th>\n",
       "      <td>chiapas</td>\n",
       "      <td>16.0</td>\n",
       "      <td>2017</td>\n",
       "      <td>clausura</td>\n",
       "      <td>17.0</td>\n",
       "      <td>15.0</td>\n",
       "      <td>0.266667</td>\n",
       "      <td>0.200000</td>\n",
       "      <td>0.533333</td>\n",
       "      <td>1.000000</td>\n",
       "      <td>...</td>\n",
       "      <td>15.0</td>\n",
       "      <td>0.333333</td>\n",
       "      <td>0.600000</td>\n",
       "      <td>0.066667</td>\n",
       "      <td>1.400000</td>\n",
       "      <td>1.066667</td>\n",
       "      <td>0.333333</td>\n",
       "      <td>1.600000</td>\n",
       "      <td>1</td>\n",
       "      <td>True</td>\n",
       "    </tr>\n",
       "    <tr>\n",
       "      <th>458</th>\n",
       "      <td>chiapas</td>\n",
       "      <td>17.0</td>\n",
       "      <td>2017</td>\n",
       "      <td>clausura</td>\n",
       "      <td>3.0</td>\n",
       "      <td>16.0</td>\n",
       "      <td>0.437500</td>\n",
       "      <td>0.312500</td>\n",
       "      <td>0.250000</td>\n",
       "      <td>1.500000</td>\n",
       "      <td>...</td>\n",
       "      <td>16.0</td>\n",
       "      <td>0.250000</td>\n",
       "      <td>0.250000</td>\n",
       "      <td>0.500000</td>\n",
       "      <td>1.062500</td>\n",
       "      <td>1.750000</td>\n",
       "      <td>-0.687500</td>\n",
       "      <td>1.000000</td>\n",
       "      <td>0</td>\n",
       "      <td>False</td>\n",
       "    </tr>\n",
       "  </tbody>\n",
       "</table>\n",
       "<p>5 rows × 24 columns</p>\n",
       "</div>"
      ],
      "text/plain": [
       "         LOC   JRD   ANO      TIPO  L_POS  L_JJ  L_R_JG_JJ  L_R_JE_JJ  \\\n",
       "454  chiapas  13.0  2017  clausura    4.0  12.0   0.416667   0.416667   \n",
       "455  chiapas  14.0  2017  clausura   15.0  13.0   0.307692   0.153846   \n",
       "456  chiapas  15.0  2017  clausura   13.0  14.0   0.285714   0.214286   \n",
       "457  chiapas  16.0  2017  clausura   17.0  15.0   0.266667   0.200000   \n",
       "458  chiapas  17.0  2017  clausura    3.0  16.0   0.437500   0.312500   \n",
       "\n",
       "     L_R_JP_JJ  L_R_GF_JJ  ...  V_JJ  V_R_JG_JJ  V_R_JE_JJ  V_R_JP_JJ  \\\n",
       "454   0.166667   1.583333  ...  12.0   0.333333   0.166667   0.500000   \n",
       "455   0.538462   0.923077  ...  13.0   0.461538   0.307692   0.230769   \n",
       "456   0.500000   1.142857  ...  14.0   0.285714   0.142857   0.571429   \n",
       "457   0.533333   1.000000  ...  15.0   0.333333   0.600000   0.066667   \n",
       "458   0.250000   1.500000  ...  16.0   0.250000   0.250000   0.500000   \n",
       "\n",
       "     V_R_GF_JJ  V_R_GC_JJ  V_R_DIF_JJ  V_R_PTS_JJ  RES  ES_LOC  \n",
       "454   0.916667   1.500000   -0.583333    1.166667    2   False  \n",
       "455   1.923077   1.384615    0.538462    1.692308    0    True  \n",
       "456   0.928571   1.714286   -0.785714    1.000000    1   False  \n",
       "457   1.400000   1.066667    0.333333    1.600000    1    True  \n",
       "458   1.062500   1.750000   -0.687500    1.000000    0   False  \n",
       "\n",
       "[5 rows x 24 columns]"
      ]
     },
     "execution_count": 20,
     "metadata": {},
     "output_type": "execute_result"
    }
   ],
   "source": [
    "cdf.tail()"
   ]
  },
  {
   "cell_type": "code",
   "execution_count": 21,
   "metadata": {
    "hidden": true
   },
   "outputs": [],
   "source": [
    "deep_vars = ['RES']\n",
    "#categorical values\n",
    "cat_names = ['LOC', 'JRD', 'ANO', 'TIPO', 'ES_LOC']\n",
    "#continious variables\n",
    "cont_names = ['L_JJ', 'L_POS', 'L_R_JG_JJ', 'L_R_JE_JJ', 'L_R_JP_JJ', 'L_R_GF_JJ', 'L_R_GC_JJ', 'L_R_DIF_JJ', 'L_R_PTS_JJ',\n",
    "              'V_JJ', 'V_POS', 'V_R_JG_JJ', 'V_R_JE_JJ', 'V_R_JP_JJ', 'V_R_GF_JJ', 'V_R_GC_JJ', 'V_R_DIF_JJ', 'V_R_PTS_JJ']\n",
    "procs = [Categorify, Normalize]"
   ]
  },
  {
   "cell_type": "code",
   "execution_count": 22,
   "metadata": {
    "hidden": true
   },
   "outputs": [],
   "source": [
    "def my_create(train_ds:Dataset, valid_ds:Dataset, test_ds:Optional[Dataset]=None, path:PathOrStr='.', bs:int=64,\n",
    "           val_bs:int=None, num_workers:int=defaults.cpus, dl_tfms:Optional[Collection[Callable]]=None,\n",
    "           device:torch.device=None, collate_fn:Callable=data_collate, no_check:bool=False, **dl_kwargs)->'DataBunch':\n",
    "    \"Create a `DataBunch` from `train_ds`, `valid_ds` and maybe `test_ds` with a batch size of `bs`. Passes `**dl_kwargs` to `DataLoader()`\"\n",
    "    datasets = DataBunch._init_ds(train_ds, valid_ds, test_ds)\n",
    "    val_bs = ifnone(val_bs, bs)\n",
    "    dls = [DataLoader(d, b, shuffle=s, drop_last=s, num_workers=num_workers, **dl_kwargs) for d,b,s in zip(datasets, (bs,val_bs,val_bs,val_bs), (False,False,False,False)) if d is not None]\n",
    "    return DataBunch(*dls, path=path, device=device, dl_tfms=dl_tfms, collate_fn=collate_fn, no_check=no_check)"
   ]
  },
  {
   "cell_type": "code",
   "execution_count": 23,
   "metadata": {
    "hidden": true
   },
   "outputs": [],
   "source": [
    "data.x._bunch.create??"
   ]
  },
  {
   "cell_type": "code",
   "execution_count": 51,
   "metadata": {
    "hidden": true
   },
   "outputs": [],
   "source": [
    "data = (TabularList.from_df(cdf, path=\"./data/ligamx\", cat_names=cat_names, cont_names=cont_names, procs=procs)\n",
    "       .split_none()\n",
    "       .label_from_df(cols=deep_vars))"
   ]
  },
  {
   "cell_type": "code",
   "execution_count": 25,
   "metadata": {
    "hidden": true
   },
   "outputs": [],
   "source": [
    "data.x._bunch.create = my_create"
   ]
  },
  {
   "cell_type": "code",
   "execution_count": 52,
   "metadata": {
    "hidden": true
   },
   "outputs": [],
   "source": [
    "data = data.databunch(bs=len(cdf))"
   ]
  },
  {
   "cell_type": "code",
   "execution_count": 27,
   "metadata": {
    "hidden": true
   },
   "outputs": [],
   "source": [
    "curr_dta = next(iter(data.train_dl))"
   ]
  },
  {
   "cell_type": "code",
   "execution_count": 28,
   "metadata": {
    "collapsed": true,
    "hidden": true
   },
   "outputs": [
    {
     "data": {
      "text/plain": [
       "tensor([[-1.6398, -1.7630, -1.3698, -1.2386, -1.5161, -2.0064, -1.9935,  0.2426,\n",
       "         -1.8302, -1.6398, -1.6684, -1.3776, -1.2408, -1.4959, -1.9463, -2.1048,\n",
       "          0.0909, -1.8672],\n",
       "        [-1.4406, -0.8645,  3.1717, -1.2386, -1.5161, -0.2852, -1.9935,  1.4507,\n",
       "          2.8475, -1.4406, -1.4888,  2.7670, -1.2408, -1.4959,  4.4351,  1.1541,\n",
       "          2.6257,  2.5631],\n",
       "        [-1.2413, -0.6848,  0.9009, -1.2386,  0.5290,  2.2967,  0.9243,  0.8466,\n",
       "          0.5087, -1.2413, -1.1294,  2.7670, -1.2408, -1.4959, -0.3510, -2.1048,\n",
       "          1.3583,  2.5631],\n",
       "        [-1.0421,  0.2138,  0.1440,  0.2968, -0.1527,  0.8623,  0.4380,  0.2426,\n",
       "          0.2488, -1.0421, -1.4888,  1.3855, -1.2408, -0.0360,  1.7762,  0.6110,\n",
       "          0.9359,  1.0863],\n",
       "        [-0.8429, -1.5833,  2.0363, -1.2386, -0.4935,  1.4361, -0.1699,  1.1486,\n",
       "          1.6781, -0.8429,  1.7456, -1.3776,  1.0807,  0.6939, -0.7498,  0.3394,\n",
       "         -0.8596, -1.1288],\n",
       "        [-0.6437, -1.4036,  1.3551,  0.6039, -1.5161,  1.7803, -0.5346,  1.6923,\n",
       "          1.6001, -0.6437, -1.4888,  1.9381, -1.2408, -0.6200,  1.5635, -0.1495,\n",
       "          1.3583,  1.6770],\n",
       "        [-0.4445, -1.5833,  2.4148, -1.2386, -0.8344,  1.4361, -0.5346,  1.4507,\n",
       "          2.0679, -0.4445,  1.7456, -0.6868,  0.3069,  0.6939, -0.0851,  0.8825,\n",
       "         -0.7540, -0.6366],\n",
       "        [-0.2452,  0.9326, -0.7210,  1.3935, -0.3474,  0.6984,  0.5075,  0.0700,\n",
       "         -0.2709, -0.2452, -1.4888,  2.1749, -1.2408, -0.8702,  1.2444, -0.4753,\n",
       "          1.3583,  1.9302],\n",
       "        [-0.0460, -1.5833,  2.6040, -1.2386, -1.0048,  1.6513, -0.5346,  1.6017,\n",
       "          2.2628, -0.0460,  0.4878,  0.1766, -0.6604,  0.6939,  0.8456,  0.9504,\n",
       "         -0.0675, -0.0212],\n",
       "        [ 0.1532,  0.2138, -0.3606,  1.3204, -0.6071,  0.0973, -0.5346,  0.5110,\n",
       "          0.0756,  0.1532, -1.4888,  1.8460, -0.7249, -1.0093,  1.5989, -0.1132,\n",
       "          1.3583,  1.7426]])"
      ]
     },
     "execution_count": 28,
     "metadata": {},
     "output_type": "execute_result"
    }
   ],
   "source": [
    "curr_dta[0][1][range(0, 10)]"
   ]
  },
  {
   "cell_type": "code",
   "execution_count": 29,
   "metadata": {
    "hidden": true
   },
   "outputs": [],
   "source": [
    "ds_teams = []\n",
    "\n",
    "for cdf in teams:\n",
    "    data = (TabularList.from_df(cdf, path=\"./data/ligamx\", cat_names=cat_names, cont_names=cont_names, procs=procs)\n",
    "       .split_none()\n",
    "       .label_from_df(cols=deep_vars))\n",
    "    data = data.databunch(bs=len(cdf))\n",
    "    ds_teams.append(next(iter(data.train_dl)))"
   ]
  },
  {
   "cell_type": "markdown",
   "metadata": {
    "hidden": true
   },
   "source": [
    "## Custom dataset and dataloader"
   ]
  },
  {
   "cell_type": "code",
   "execution_count": 30,
   "metadata": {
    "hidden": true
   },
   "outputs": [],
   "source": [
    "import math\n",
    "class RNNTabDataset(Dataset):\n",
    "    def __init__(self, dfs, bptt):\n",
    "        self.dfs = dfs\n",
    "        self.bs = len(dfs)\n",
    "        self.bptt = bptt\n",
    "        \n",
    "        self.largest= -1;\n",
    "        for i in range(self.bs): self.largest=max(self.largest, len(dfs[i][0][0]))\n",
    "        \n",
    "        self.fix_bptt()\n",
    "        self.process()\n",
    "        \n",
    "    def __getitem__(self, idx):\n",
    "        #return ((self.data[0][0][idx], self.data[0][1][idx]), self.data[1][idx])\n",
    "        return self.data[idx]\n",
    "        \n",
    "    def __len__(self):\n",
    "        return len(self.data)\n",
    "    \n",
    "    def get_split(self, sub_df, batch, ttl_batches):\n",
    "        ttl = len(sub_df)\n",
    "        \n",
    "        pos_btchs = math.ceil(ttl / float(self.bptt))\n",
    "        incomplete_btchs = ttl_batches - pos_btchs\n",
    "        partial_to_use =  ttl % self.bptt\n",
    "        partial_to_fake = self.bptt - partial_to_use\n",
    "        repl = sub_df[0] # may be changed by an average function later\n",
    "        \n",
    "        #pure repl\n",
    "        if batch <= incomplete_btchs : return torch.stack([repl] * self.bptt)\n",
    "        \n",
    "        #partial repl\n",
    "        elif batch == incomplete_btchs + 1 and partial_to_use != 0:\n",
    "            return torch.cat( (torch.stack([repl] * partial_to_fake), sub_df[0:partial_to_use]), 0)\n",
    "            \n",
    "        #no repl\n",
    "        start = (batch-1-incomplete_btchs) * self.bptt#(\n",
    "        end = (batch-incomplete_btchs) * self.bptt #]\n",
    "        \n",
    "        if partial_to_use != 0:\n",
    "            start = start - partial_to_fake\n",
    "            end = end - partial_to_fake\n",
    "        \n",
    "        if(start >= ttl): print(\"xd\")\n",
    "        return sub_df[start : end]\n",
    "    \n",
    "    def process(self):\n",
    "        self.data = []\n",
    "        ttl_batches = math.ceil(self.largest / float(self.bptt))\n",
    "        for batch in range(1, ttl_batches+1):\n",
    "            for b in range(self.bs):\n",
    "                cat = self.get_split(self.dfs[b][0][0], batch, ttl_batches)\n",
    "                cont = self.get_split(self.dfs[b][0][1], batch, ttl_batches)\n",
    "                y = self.get_split(self.dfs[b][1], batch, ttl_batches)\n",
    "                if(len(y) != self.bptt): print(batch, b)\n",
    "                self.data.append(((cat, cont), y))\n",
    "    \n",
    "    def prnt(self):\n",
    "        print(self.data)\n",
    "    \n",
    "    def fix_bptt(self):\n",
    "        #TODO\n",
    "        self.ds_len = math.ceil(self.largest / float(self.bptt)) * self.bs * self.bptt"
   ]
  },
  {
   "cell_type": "code",
   "execution_count": 31,
   "metadata": {
    "hidden": true
   },
   "outputs": [],
   "source": [
    "rnn_tab_ds = RNNTabDataset(ds_teams, 20)"
   ]
  },
  {
   "cell_type": "code",
   "execution_count": 32,
   "metadata": {
    "collapsed": true,
    "hidden": true
   },
   "outputs": [
    {
     "name": "stdout",
     "output_type": "stream",
     "text": [
      "0 tensor([2, 2, 2, 2, 2, 2, 2, 2, 2, 2, 2, 2, 2, 2, 2, 2, 2, 2, 2, 2])\n",
      "1 tensor([1, 1, 1, 1, 1, 1, 1, 1, 1, 1, 1, 1, 1, 1, 1, 1, 1, 1, 1, 1])\n",
      "2 tensor([1, 1, 1, 1, 1, 1, 1, 1, 1, 1, 1, 1, 1, 1, 1, 1, 1, 1, 1, 1])\n",
      "3 tensor([0, 0, 0, 0, 0, 0, 0, 0, 0, 0, 0, 0, 0, 0, 0, 0, 0, 0, 0, 0])\n",
      "4 tensor([1, 1, 1, 1, 1, 1, 1, 1, 1, 1, 1, 1, 1, 1, 1, 1, 1, 1, 1, 1])\n",
      "5 tensor([1, 1, 1, 1, 1, 1, 1, 1, 1, 1, 1, 1, 1, 1, 1, 1, 1, 1, 1, 1])\n",
      "6 tensor([0, 0, 0, 0, 0, 0, 0, 0, 0, 0, 0, 0, 0, 0, 0, 0, 0, 0, 0, 0])\n",
      "7 tensor([0, 0, 0, 0, 0, 0, 0, 0, 0, 0, 0, 0, 0, 0, 0, 0, 0, 0, 0, 0])\n",
      "8 tensor([2, 2, 2, 2, 2, 2, 2, 2, 2, 2, 2, 2, 2, 2, 2, 2, 2, 2, 2, 2])\n",
      "9 tensor([1, 1, 1, 1, 1, 1, 1, 1, 1, 1, 1, 1, 1, 1, 1, 1, 1, 1, 1, 1])\n",
      "10 tensor([1, 1, 1, 1, 1, 1, 1, 1, 1, 1, 1, 1, 1, 1, 1, 1, 1, 1, 1, 1])\n",
      "11 tensor([1, 1, 1, 1, 1, 1, 1, 1, 1, 1, 1, 1, 1, 1, 1, 1, 1, 1, 1, 1])\n",
      "12 tensor([0, 0, 0, 0, 0, 0, 0, 0, 0, 0, 0, 0, 0, 0, 0, 0, 0, 0, 0, 0])\n",
      "13 tensor([2, 2, 2, 2, 2, 2, 2, 2, 2, 2, 2, 2, 2, 2, 2, 2, 2, 2, 1, 0])\n",
      "14 tensor([2, 2, 2, 2, 2, 2, 2, 2, 2, 2, 2, 2, 2, 2, 2, 2, 2, 2, 2, 2])\n",
      "15 tensor([1, 1, 1, 1, 1, 1, 1, 1, 1, 1, 1, 1, 1, 1, 1, 1, 1, 1, 1, 1])\n",
      "16 tensor([0, 0, 0, 0, 0, 0, 0, 0, 0, 0, 0, 0, 0, 0, 0, 0, 0, 0, 0, 0])\n",
      "17 tensor([0, 0, 0, 0, 0, 0, 0, 0, 0, 0, 0, 0, 0, 0, 0, 0, 0, 0, 0, 0])\n",
      "18 tensor([1, 1, 1, 1, 1, 1, 1, 1, 1, 1, 1, 1, 1, 1, 1, 1, 1, 1, 1, 1])\n",
      "19 tensor([2, 2, 2, 2, 2, 2, 2, 2, 2, 2, 2, 2, 2, 2, 2, 2, 2, 2, 2, 2])\n",
      "20 tensor([2, 2, 2, 2, 2, 2, 2, 2, 2, 2, 2, 2, 2, 2, 2, 2, 2, 2, 2, 2])\n",
      "21 tensor([0, 0, 0, 0, 0, 0, 0, 0, 0, 0, 0, 0, 0, 0, 0, 0, 0, 0, 0, 0])\n",
      "22 tensor([0, 0, 0, 0, 0, 0, 0, 0, 0, 0, 0, 0, 0, 0, 0, 0, 0, 0, 0, 0])\n",
      "23 tensor([0, 0, 0, 0, 0, 0, 0, 0, 0, 0, 0, 0, 0, 0, 0, 0, 0, 0, 0, 0])\n",
      "24 tensor([2, 2, 2, 2, 2, 2, 2, 2, 2, 2, 2, 2, 2, 2, 2, 2, 2, 2, 2, 2])\n",
      "25 tensor([1, 1, 1, 1, 1, 1, 1, 1, 1, 1, 1, 1, 1, 1, 1, 1, 1, 1, 1, 1])\n",
      "26 tensor([0, 0, 0, 0, 0, 0, 0, 0, 0, 0, 0, 0, 0, 0, 0, 0, 0, 0, 0, 0])\n",
      "27 tensor([2, 2, 2, 2, 2, 2, 2, 2, 2, 2, 2, 2, 2, 2, 2, 2, 2, 2, 2, 2])\n",
      "28 tensor([2, 2, 2, 2, 2, 2, 2, 2, 2, 2, 2, 2, 2, 2, 2, 2, 2, 2, 2, 2])\n",
      "29 tensor([1, 0, 2, 0, 2, 2, 2, 2, 0, 2, 1, 0, 1, 2, 2, 0, 2, 2, 0, 2])\n",
      "30 tensor([1, 2, 2, 2, 1, 1, 2, 1, 0, 1, 1, 1, 2, 1, 1, 1, 2, 2, 2, 2])\n",
      "31 tensor([0, 0, 0, 0, 0, 0, 0, 0, 0, 0, 0, 0, 0, 0, 0, 0, 0, 0, 0, 0])\n",
      "32 tensor([1, 1, 1, 1, 1, 1, 1, 1, 1, 1, 2, 0, 1, 2, 1, 2, 2, 0, 2, 0])\n",
      "33 tensor([1, 1, 1, 1, 1, 1, 1, 1, 1, 1, 1, 1, 1, 1, 1, 1, 1, 1, 1, 1])\n",
      "34 tensor([0, 0, 0, 0, 0, 0, 0, 0, 0, 0, 0, 0, 0, 0, 0, 0, 0, 0, 0, 0])\n",
      "35 tensor([1, 2, 2, 2, 2, 2, 2, 0, 2, 2, 0, 2, 1, 1, 2, 0, 2, 2, 2, 2])\n",
      "36 tensor([2, 2, 2, 2, 2, 2, 2, 2, 2, 2, 2, 2, 2, 2, 2, 2, 2, 2, 2, 2])\n",
      "37 tensor([1, 1, 1, 1, 1, 1, 1, 1, 1, 1, 1, 1, 1, 1, 1, 1, 1, 1, 1, 1])\n",
      "38 tensor([1, 1, 1, 1, 1, 1, 1, 1, 1, 1, 1, 1, 1, 1, 1, 1, 1, 1, 1, 1])\n",
      "39 tensor([1, 1, 1, 1, 1, 1, 2, 1, 2, 0, 0, 0, 2, 2, 1, 2, 0, 2, 1, 2])\n",
      "40 tensor([0, 0, 0, 0, 0, 0, 0, 0, 0, 0, 0, 0, 0, 0, 0, 0, 0, 0, 0, 0])\n",
      "41 tensor([2, 2, 2, 2, 0, 2, 1, 2, 2, 1, 2, 1, 1, 0, 0, 1, 2, 2, 2, 2])\n",
      "42 tensor([2, 2, 2, 2, 2, 2, 2, 2, 2, 2, 2, 2, 2, 2, 2, 2, 2, 2, 2, 2])\n",
      "43 tensor([1, 1, 0, 0, 2, 0, 2, 0, 2, 1, 2, 2, 2, 2, 2, 1, 0, 1, 2, 2])\n",
      "44 tensor([0, 0, 2, 2, 2, 2, 1, 1, 1, 0, 1, 2, 0, 0, 2, 2, 1, 1, 2, 0])\n",
      "45 tensor([0, 0, 0, 0, 0, 0, 0, 2, 2, 2, 0, 2, 1, 2, 2, 1, 2, 2, 0, 2])\n",
      "46 tensor([1, 1, 1, 2, 2, 1, 2, 0, 0, 2, 0, 1, 0, 1, 0, 1, 2, 1, 1, 2])\n",
      "47 tensor([2, 2, 2, 2, 2, 2, 2, 2, 2, 2, 2, 2, 2, 2, 2, 2, 2, 2, 2, 2])\n",
      "48 tensor([2, 2, 2, 2, 2, 2, 2, 2, 2, 2, 2, 2, 2, 2, 2, 2, 2, 2, 2, 2])\n",
      "49 tensor([0, 0, 0, 0, 0, 0, 0, 0, 0, 0, 0, 0, 0, 0, 0, 0, 0, 0, 0, 0])\n",
      "50 tensor([0, 0, 0, 0, 0, 0, 0, 0, 0, 0, 0, 0, 0, 0, 0, 0, 0, 0, 0, 0])\n",
      "51 tensor([0, 0, 0, 0, 0, 0, 0, 0, 0, 0, 0, 0, 0, 0, 0, 0, 0, 0, 0, 0])\n",
      "52 tensor([2, 2, 2, 2, 2, 2, 2, 2, 2, 2, 2, 2, 2, 2, 2, 2, 2, 2, 2, 2])\n",
      "53 tensor([1, 1, 1, 1, 1, 1, 1, 1, 1, 1, 1, 1, 1, 1, 1, 1, 1, 1, 1, 1])\n",
      "54 tensor([0, 0, 0, 0, 0, 0, 0, 0, 0, 0, 0, 0, 0, 0, 0, 0, 0, 0, 0, 0])\n",
      "55 tensor([2, 2, 2, 2, 2, 2, 2, 2, 2, 2, 2, 2, 2, 2, 2, 2, 2, 2, 2, 2])\n",
      "56 tensor([2, 2, 2, 2, 2, 2, 2, 2, 2, 2, 2, 2, 2, 2, 2, 2, 2, 2, 2, 2])\n",
      "57 tensor([0, 2, 1, 1, 2, 1, 0, 2, 2, 0, 2, 2, 1, 0, 0, 2, 1, 2, 2, 2])\n",
      "58 tensor([1, 2, 2, 1, 2, 2, 0, 2, 2, 1, 2, 2, 2, 2, 0, 1, 2, 2, 2, 2])\n",
      "59 tensor([0, 0, 0, 0, 0, 0, 0, 0, 0, 0, 0, 0, 0, 0, 0, 0, 0, 0, 0, 0])\n",
      "60 tensor([1, 1, 1, 1, 1, 1, 0, 2, 0, 0, 1, 0, 1, 0, 2, 2, 0, 0, 2, 0])\n",
      "61 tensor([1, 1, 1, 1, 1, 1, 1, 1, 1, 1, 1, 1, 1, 1, 1, 1, 1, 1, 1, 1])\n",
      "62 tensor([0, 0, 0, 0, 0, 0, 0, 0, 0, 0, 0, 0, 0, 0, 0, 0, 0, 0, 0, 0])\n",
      "63 tensor([2, 2, 2, 1, 1, 2, 2, 2, 2, 0, 2, 2, 2, 0, 2, 2, 2, 2, 2, 2])\n",
      "64 tensor([2, 2, 2, 2, 2, 2, 2, 2, 2, 2, 2, 2, 2, 2, 2, 2, 2, 2, 2, 2])\n",
      "65 tensor([1, 1, 1, 1, 1, 1, 1, 1, 1, 1, 1, 1, 1, 1, 1, 1, 1, 1, 1, 1])\n",
      "66 tensor([1, 1, 1, 1, 1, 1, 1, 1, 1, 1, 1, 1, 1, 1, 1, 1, 1, 1, 1, 1])\n",
      "67 tensor([2, 0, 2, 0, 0, 0, 0, 0, 2, 0, 2, 2, 2, 0, 2, 1, 0, 1, 0, 2])\n",
      "68 tensor([0, 0, 0, 0, 0, 0, 0, 0, 0, 0, 0, 0, 0, 0, 0, 0, 0, 0, 0, 0])\n",
      "69 tensor([2, 0, 1, 2, 2, 1, 1, 0, 1, 2, 2, 1, 1, 2, 2, 1, 2, 2, 1, 2])\n",
      "70 tensor([2, 2, 2, 2, 2, 2, 2, 2, 2, 2, 2, 2, 2, 2, 2, 2, 2, 2, 2, 2])\n",
      "71 tensor([0, 2, 0, 1, 0, 0, 2, 2, 0, 2, 1, 2, 1, 1, 2, 2, 0, 2, 0, 2])\n",
      "72 tensor([2, 1, 0, 2, 2, 1, 2, 2, 0, 0, 0, 0, 2, 0, 2, 2, 2, 2, 2, 0])\n",
      "73 tensor([1, 0, 1, 2, 2, 1, 1, 2, 2, 0, 0, 2, 2, 2, 1, 2, 0, 2, 1, 0])\n",
      "74 tensor([2, 0, 1, 0, 1, 2, 2, 0, 1, 2, 0, 2, 2, 1, 2, 2, 2, 2, 0, 0])\n",
      "75 tensor([2, 2, 2, 2, 2, 2, 2, 2, 2, 2, 2, 2, 2, 2, 2, 2, 2, 2, 2, 2])\n",
      "76 tensor([2, 2, 2, 2, 2, 2, 2, 2, 2, 2, 2, 2, 2, 2, 2, 2, 2, 2, 2, 2])\n",
      "77 tensor([0, 0, 0, 0, 0, 0, 0, 0, 0, 0, 0, 0, 0, 0, 0, 0, 0, 0, 0, 0])\n",
      "78 tensor([0, 0, 0, 0, 0, 0, 0, 0, 0, 0, 0, 0, 0, 0, 0, 0, 0, 0, 0, 0])\n",
      "79 tensor([0, 0, 0, 0, 0, 0, 0, 0, 0, 0, 0, 0, 0, 0, 0, 0, 0, 0, 0, 0])\n",
      "80 tensor([2, 2, 2, 2, 2, 2, 2, 2, 2, 2, 2, 2, 2, 2, 2, 2, 2, 2, 2, 2])\n",
      "81 tensor([1, 1, 1, 1, 1, 1, 1, 1, 1, 1, 1, 1, 1, 1, 1, 1, 1, 1, 1, 1])\n",
      "82 tensor([0, 0, 0, 0, 0, 0, 0, 0, 0, 0, 0, 0, 0, 0, 0, 0, 0, 0, 0, 0])\n",
      "83 tensor([2, 2, 2, 2, 2, 2, 2, 2, 2, 2, 2, 2, 2, 2, 2, 2, 2, 2, 2, 2])\n",
      "84 tensor([2, 2, 2, 2, 2, 2, 2, 2, 2, 2, 2, 2, 2, 2, 2, 2, 2, 2, 2, 2])\n",
      "85 tensor([0, 2, 2, 0, 0, 0, 2, 2, 0, 2, 2, 2, 1, 0, 2, 2, 2, 2, 1, 2])\n",
      "86 tensor([2, 1, 2, 1, 0, 0, 0, 2, 2, 0, 1, 0, 1, 2, 2, 2, 0, 1, 0, 2])\n",
      "87 tensor([0, 0, 0, 0, 0, 0, 0, 0, 0, 0, 0, 0, 0, 0, 0, 0, 0, 0, 0, 0])\n",
      "88 tensor([1, 0, 0, 0, 0, 2, 0, 2, 2, 2, 0, 2, 1, 2, 1, 1, 1, 0, 1, 0])\n",
      "89 tensor([1, 1, 1, 1, 1, 1, 1, 1, 1, 1, 1, 1, 1, 1, 1, 1, 1, 1, 1, 1])\n",
      "90 tensor([0, 0, 0, 0, 0, 0, 0, 0, 0, 0, 0, 0, 0, 0, 0, 0, 0, 0, 0, 0])\n",
      "91 tensor([2, 2, 1, 2, 2, 2, 2, 2, 2, 0, 1, 0, 0, 2, 2, 2, 1, 2, 1, 1])\n",
      "92 tensor([2, 2, 2, 2, 2, 2, 2, 2, 2, 2, 2, 2, 2, 2, 2, 2, 2, 2, 2, 2])\n",
      "93 tensor([1, 1, 1, 1, 1, 1, 1, 1, 1, 1, 1, 1, 1, 1, 1, 1, 1, 1, 1, 1])\n",
      "94 tensor([1, 1, 1, 1, 1, 1, 1, 1, 1, 1, 1, 1, 1, 1, 1, 1, 1, 1, 1, 1])\n",
      "95 tensor([2, 0, 0, 0, 2, 2, 1, 2, 2, 1, 2, 2, 0, 2, 0, 2, 0, 2, 2, 1])\n",
      "96 tensor([0, 0, 0, 0, 0, 0, 0, 0, 0, 0, 0, 0, 0, 0, 0, 0, 0, 0, 0, 0])\n",
      "97 tensor([2, 2, 0, 1, 2, 2, 0, 2, 2, 2, 0, 1, 2, 2, 0, 0, 2, 1, 0, 0])\n",
      "98 tensor([2, 2, 2, 2, 2, 2, 2, 2, 2, 2, 2, 2, 2, 2, 2, 2, 2, 2, 2, 2])\n",
      "99 tensor([1, 1, 2, 2, 0, 2, 0, 1, 0, 1, 2, 1, 2, 0, 2, 2, 2, 0, 2, 0])\n",
      "100 tensor([2, 1, 2, 1, 2, 0, 1, 0, 2, 1, 0, 0, 1, 2, 0, 2, 2, 1, 2, 2])\n",
      "101 tensor([0, 1, 0, 2, 2, 1, 1, 0, 1, 2, 2, 0, 0, 2, 2, 2, 2, 1, 2, 2])\n",
      "102 tensor([0, 1, 2, 1, 0, 1, 2, 2, 2, 2, 1, 0, 2, 2, 0, 0, 2, 2, 1, 2])\n",
      "103 tensor([2, 2, 2, 2, 2, 2, 2, 2, 2, 2, 2, 2, 2, 2, 2, 2, 2, 2, 2, 2])\n",
      "104 tensor([2, 2, 2, 2, 2, 2, 2, 2, 2, 2, 2, 2, 2, 2, 2, 2, 2, 2, 2, 2])\n",
      "105 tensor([0, 0, 0, 0, 0, 0, 0, 0, 0, 0, 0, 0, 0, 0, 0, 0, 0, 0, 0, 0])\n",
      "106 tensor([0, 0, 0, 0, 0, 0, 0, 0, 0, 0, 0, 0, 0, 0, 0, 0, 0, 0, 0, 0])\n",
      "107 tensor([0, 0, 0, 0, 0, 0, 0, 0, 0, 0, 0, 0, 0, 0, 0, 0, 0, 0, 0, 0])\n",
      "108 tensor([2, 2, 2, 2, 2, 2, 2, 2, 2, 2, 2, 2, 2, 2, 2, 2, 2, 2, 2, 2])\n",
      "109 tensor([1, 1, 1, 1, 1, 1, 1, 1, 1, 1, 1, 1, 1, 1, 1, 1, 1, 1, 1, 1])\n",
      "110 tensor([0, 0, 0, 0, 0, 0, 0, 0, 0, 0, 0, 0, 0, 0, 0, 0, 0, 0, 0, 0])\n",
      "111 tensor([2, 2, 2, 2, 2, 2, 2, 2, 2, 2, 2, 2, 2, 2, 2, 2, 2, 2, 2, 2])\n",
      "112 tensor([2, 2, 2, 2, 2, 2, 2, 2, 2, 2, 2, 2, 2, 2, 2, 2, 2, 2, 2, 2])\n",
      "113 tensor([0, 2, 2, 0, 0, 2, 2, 0, 2, 1, 1, 2, 0, 1, 2, 0, 0, 1, 1, 2])\n",
      "114 tensor([0, 1, 0, 1, 0, 1, 0, 0, 2, 2, 2, 0, 0, 0, 1, 2, 2, 2, 1, 0])\n",
      "115 tensor([0, 0, 0, 0, 0, 0, 0, 0, 0, 0, 0, 0, 0, 0, 0, 0, 0, 0, 0, 0])\n",
      "116 tensor([2, 0, 2, 2, 2, 2, 2, 1, 2, 2, 0, 0, 1, 1, 0, 2, 2, 1, 2, 2])\n",
      "117 tensor([1, 1, 1, 1, 1, 1, 1, 1, 1, 1, 1, 1, 1, 1, 1, 1, 1, 1, 1, 1])\n",
      "118 tensor([0, 0, 0, 0, 0, 0, 0, 0, 0, 0, 0, 0, 0, 0, 0, 0, 0, 0, 0, 0])\n",
      "119 tensor([2, 1, 2, 2, 2, 2, 0, 2, 1, 1, 1, 1, 0, 2, 1, 0, 1, 1, 1, 0])\n",
      "120 tensor([2, 2, 2, 2, 2, 2, 2, 2, 2, 2, 2, 2, 2, 2, 2, 2, 2, 2, 2, 2])\n",
      "121 tensor([1, 1, 1, 1, 1, 1, 1, 1, 1, 1, 1, 1, 1, 1, 1, 1, 1, 1, 1, 1])\n",
      "122 tensor([1, 1, 1, 1, 1, 1, 1, 1, 1, 1, 1, 1, 1, 1, 1, 1, 1, 1, 1, 1])\n",
      "123 tensor([1, 0, 1, 0, 1, 2, 2, 0, 2, 0, 2, 2, 2, 1, 1, 2, 2, 2, 1, 1])\n",
      "124 tensor([0, 0, 0, 0, 0, 0, 0, 0, 0, 0, 0, 0, 0, 0, 0, 0, 0, 0, 0, 0])\n",
      "125 tensor([1, 0, 1, 2, 2, 1, 1, 2, 2, 0, 1, 1, 1, 2, 1, 0, 0, 1, 1, 2])\n",
      "126 tensor([2, 2, 2, 2, 2, 2, 2, 2, 2, 2, 2, 2, 2, 2, 2, 2, 2, 2, 2, 2])\n",
      "127 tensor([1, 2, 1, 2, 2, 0, 0, 1, 2, 0, 1, 2, 2, 2, 2, 0, 1, 1, 2, 2])\n",
      "128 tensor([0, 0, 0, 2, 0, 1, 2, 2, 2, 2, 0, 2, 2, 0, 2, 0, 0, 2, 2, 2])\n",
      "129 tensor([1, 2, 2, 0, 0, 1, 1, 0, 1, 0, 1, 2, 2, 2, 1, 2, 2, 1, 1, 0])\n",
      "130 tensor([0, 2, 1, 2, 1, 1, 2, 1, 0, 1, 2, 2, 1, 2, 0, 2, 2, 1, 0, 1])\n",
      "131 tensor([2, 2, 2, 2, 2, 2, 2, 2, 2, 2, 2, 2, 2, 2, 2, 2, 2, 2, 2, 2])\n",
      "132 tensor([2, 2, 2, 2, 2, 2, 2, 2, 2, 2, 2, 2, 2, 2, 2, 2, 2, 2, 2, 2])\n",
      "133 tensor([0, 0, 0, 0, 0, 0, 0, 0, 0, 0, 0, 0, 0, 0, 0, 0, 0, 0, 0, 0])\n",
      "134 tensor([0, 0, 0, 0, 0, 0, 0, 0, 0, 0, 0, 0, 0, 0, 0, 0, 0, 0, 0, 0])\n",
      "135 tensor([0, 0, 0, 0, 0, 0, 0, 0, 0, 0, 0, 0, 0, 0, 0, 0, 0, 0, 0, 0])\n",
      "136 tensor([2, 2, 2, 2, 2, 2, 2, 2, 2, 2, 2, 2, 2, 2, 2, 2, 2, 2, 2, 2])\n",
      "137 tensor([1, 1, 1, 1, 1, 1, 1, 1, 1, 1, 1, 1, 1, 1, 1, 1, 1, 1, 1, 1])\n",
      "138 tensor([0, 0, 0, 0, 0, 0, 0, 0, 0, 0, 0, 0, 0, 0, 0, 0, 0, 0, 0, 0])\n",
      "139 tensor([2, 2, 2, 2, 2, 2, 2, 2, 2, 2, 2, 2, 2, 2, 2, 2, 2, 2, 2, 2])\n",
      "140 tensor([2, 2, 2, 2, 2, 2, 2, 2, 2, 2, 2, 2, 2, 2, 2, 2, 2, 2, 2, 2])\n",
      "141 tensor([1, 2, 1, 2, 2, 2, 2, 1, 2, 2, 2, 2, 2, 1, 2, 2, 0, 1, 2, 2])\n",
      "142 tensor([0, 0, 2, 0, 1, 2, 2, 2, 1, 1, 1, 2, 2, 1, 2, 2, 2, 2, 2, 1])\n",
      "143 tensor([0, 0, 0, 0, 0, 0, 0, 0, 0, 0, 0, 0, 0, 0, 0, 0, 0, 0, 0, 0])\n",
      "144 tensor([1, 0, 0, 1, 1, 0, 0, 2, 1, 0, 0, 2, 2, 0, 2, 1, 0, 1, 0, 2])\n",
      "145 tensor([1, 1, 1, 1, 1, 1, 1, 1, 1, 1, 1, 1, 1, 1, 1, 1, 1, 1, 1, 1])\n",
      "146 tensor([0, 0, 0, 0, 0, 0, 0, 0, 0, 0, 0, 0, 0, 0, 0, 0, 0, 0, 0, 0])\n",
      "147 tensor([2, 1, 2, 1, 2, 1, 2, 0, 2, 1, 1, 1, 2, 1, 2, 0, 1, 2, 2, 0])\n",
      "148 tensor([2, 2, 2, 2, 2, 2, 2, 2, 2, 2, 2, 2, 2, 2, 2, 2, 2, 2, 2, 2])\n",
      "149 tensor([1, 1, 1, 1, 1, 1, 1, 1, 1, 1, 1, 1, 1, 1, 1, 1, 1, 1, 1, 1])\n",
      "150 tensor([0, 2, 1, 2, 2, 2, 0, 0, 1, 1, 2, 2, 2, 2, 0, 1, 0, 2, 0, 1])\n",
      "151 tensor([2, 1, 0, 2, 2, 2, 1, 1, 2, 2, 0, 1, 1, 0, 0, 2, 1, 1, 1, 0])\n",
      "152 tensor([0, 0, 0, 0, 0, 0, 0, 0, 0, 0, 0, 0, 0, 0, 0, 0, 0, 0, 0, 0])\n",
      "153 tensor([1, 0, 2, 1, 2, 2, 2, 1, 2, 1, 2, 1, 2, 0, 2, 1, 2, 2, 2, 2])\n",
      "154 tensor([2, 2, 2, 2, 2, 2, 2, 2, 2, 2, 2, 2, 2, 2, 2, 2, 2, 2, 2, 2])\n",
      "155 tensor([2, 2, 2, 0, 2, 2, 0, 2, 2, 0, 0, 2, 0, 1, 0, 1, 0, 0, 2, 0])\n",
      "156 tensor([1, 1, 1, 0, 0, 2, 2, 0, 2, 1, 2, 1, 2, 2, 2, 1, 0, 1, 1, 2])\n",
      "157 tensor([0, 1, 2, 0, 2, 2, 0, 1, 0, 0, 2, 2, 0, 0, 1, 1, 2, 1, 1, 2])\n",
      "158 tensor([0, 0, 2, 2, 0, 1, 2, 2, 0, 2, 0, 2, 1, 0, 2, 2, 2, 0, 2, 1])\n",
      "159 tensor([2, 2, 2, 2, 2, 2, 2, 2, 2, 2, 2, 2, 2, 2, 2, 2, 2, 2, 2, 2])\n",
      "160 tensor([2, 2, 2, 2, 2, 2, 2, 2, 2, 2, 2, 2, 2, 2, 2, 2, 2, 2, 2, 2])\n",
      "161 tensor([0, 0, 0, 0, 0, 0, 0, 0, 0, 0, 0, 0, 0, 0, 0, 0, 0, 0, 0, 0])\n",
      "162 tensor([0, 0, 0, 0, 0, 0, 0, 0, 0, 0, 0, 0, 0, 0, 0, 0, 0, 0, 0, 0])\n",
      "163 tensor([0, 0, 0, 0, 0, 0, 0, 0, 0, 0, 0, 0, 0, 0, 0, 0, 0, 0, 0, 0])\n",
      "164 tensor([2, 2, 2, 2, 2, 2, 2, 2, 2, 2, 2, 2, 2, 2, 2, 2, 2, 2, 2, 2])\n",
      "165 tensor([1, 1, 1, 1, 1, 1, 1, 1, 1, 1, 1, 1, 1, 1, 1, 1, 1, 1, 1, 1])\n",
      "166 tensor([0, 0, 0, 0, 0, 0, 0, 0, 0, 0, 0, 0, 0, 0, 0, 0, 0, 0, 0, 0])\n",
      "167 tensor([2, 2, 2, 2, 2, 2, 2, 2, 2, 2, 2, 2, 2, 2, 2, 2, 2, 2, 2, 2])\n",
      "168 tensor([2, 2, 2, 2, 0, 2, 0, 2, 0, 1, 0, 2, 1, 2, 1, 2, 1, 1, 2, 1])\n",
      "169 tensor([2, 2, 2, 0, 1, 2, 2, 2, 2, 2, 0, 2, 2, 2, 0, 2, 2, 2, 2, 1])\n",
      "170 tensor([2, 2, 2, 0, 2, 1, 1, 2, 0, 2, 2, 2, 2, 1, 2, 1, 2, 2, 2, 2])\n",
      "171 tensor([0, 0, 0, 0, 0, 0, 0, 0, 0, 0, 0, 0, 0, 0, 0, 0, 0, 0, 0, 0])\n",
      "172 tensor([2, 1, 1, 1, 2, 2, 2, 2, 1, 1, 2, 0, 2, 2, 2, 1, 0, 0, 1, 1])\n",
      "173 tensor([1, 1, 1, 1, 1, 1, 1, 1, 1, 1, 1, 1, 1, 1, 1, 1, 1, 1, 1, 1])\n",
      "174 tensor([0, 0, 0, 0, 0, 0, 0, 0, 0, 0, 0, 0, 0, 0, 0, 0, 0, 0, 0, 0])\n",
      "175 tensor([2, 1, 2, 1, 2, 2, 0, 0, 1, 2, 1, 2, 2, 2, 2, 0, 2, 0, 2, 0])\n",
      "176 tensor([2, 2, 2, 2, 2, 2, 2, 2, 2, 2, 2, 2, 2, 2, 2, 2, 2, 2, 2, 2])\n",
      "177 tensor([1, 1, 1, 1, 1, 1, 1, 1, 1, 1, 1, 1, 1, 1, 1, 1, 1, 1, 1, 1])\n",
      "178 tensor([2, 1, 1, 1, 0, 0, 2, 0, 2, 1, 2, 1, 2, 2, 2, 1, 2, 0, 2, 2])\n",
      "179 tensor([2, 2, 2, 0, 2, 1, 2, 2, 1, 2, 1, 0, 0, 1, 1, 1, 1, 1, 1, 2])\n",
      "180 tensor([0, 0, 0, 0, 0, 0, 0, 0, 0, 0, 0, 0, 0, 0, 0, 0, 0, 0, 0, 0])\n",
      "181 tensor([2, 1, 1, 2, 2, 2, 0, 0, 0, 2, 2, 1, 2, 1, 2, 1, 1, 2, 0, 2])\n",
      "182 tensor([2, 2, 2, 2, 2, 2, 2, 2, 2, 2, 2, 2, 2, 2, 2, 2, 2, 2, 2, 2])\n",
      "183 tensor([2, 1, 2, 2, 2, 0, 0, 0, 1, 0, 2, 1, 2, 2, 2, 2, 2, 1, 1, 2])\n",
      "184 tensor([2, 1, 2, 2, 1, 1, 1, 1, 1, 1, 2, 1, 0, 1, 0, 1, 0, 2, 0, 1])\n",
      "185 tensor([2, 2, 2, 1, 2, 2, 2, 0, 1, 0, 0, 0, 1, 0, 0, 2, 1, 1, 2, 2])\n",
      "186 tensor([1, 0, 2, 1, 1, 2, 2, 0, 1, 1, 1, 0, 2, 0, 2, 2, 2, 0, 2, 0])\n",
      "187 tensor([2, 2, 2, 2, 2, 2, 2, 2, 2, 2, 2, 2, 2, 2, 2, 2, 2, 2, 2, 2])\n",
      "188 tensor([2, 2, 2, 2, 2, 2, 2, 2, 2, 2, 2, 2, 2, 2, 2, 2, 2, 2, 2, 2])\n",
      "189 tensor([0, 0, 0, 0, 0, 0, 0, 0, 0, 0, 0, 0, 0, 0, 0, 0, 0, 0, 0, 0])\n",
      "190 tensor([0, 0, 0, 0, 0, 0, 0, 0, 0, 0, 0, 0, 0, 0, 0, 0, 0, 0, 0, 0])\n",
      "191 tensor([0, 0, 0, 0, 0, 0, 0, 0, 0, 0, 0, 0, 0, 0, 0, 0, 0, 0, 0, 0])\n",
      "192 tensor([2, 2, 2, 2, 2, 2, 2, 2, 2, 2, 2, 2, 2, 2, 2, 2, 2, 2, 2, 2])\n",
      "193 tensor([1, 1, 1, 1, 1, 1, 1, 1, 1, 1, 1, 1, 1, 1, 1, 1, 1, 1, 1, 1])\n",
      "194 tensor([0, 0, 0, 0, 0, 0, 0, 0, 0, 0, 0, 0, 0, 0, 0, 0, 0, 0, 0, 0])\n",
      "195 tensor([2, 2, 2, 2, 2, 2, 2, 2, 2, 2, 2, 2, 2, 2, 2, 2, 2, 2, 2, 2])\n",
      "196 tensor([0, 0, 1, 2, 1, 0, 2, 1, 2, 1, 2, 1, 2, 0, 0, 1, 0, 0, 1, 2])\n",
      "197 tensor([1, 2, 2, 1, 0, 2, 1, 0, 2, 1, 0, 2, 2, 2, 2, 2, 0, 2, 2, 2])\n",
      "198 tensor([1, 2, 2, 0, 1, 1, 2, 0, 2, 1, 2, 2, 2, 1, 1, 1, 1, 2, 2, 0])\n",
      "199 tensor([0, 0, 0, 0, 0, 0, 0, 0, 0, 0, 0, 0, 0, 0, 0, 0, 0, 0, 0, 0])\n",
      "200 tensor([2, 2, 2, 0, 2, 2, 1, 1, 2, 0, 2, 0, 1, 2, 0, 2, 2, 0, 0, 0])\n",
      "201 tensor([2, 1, 2, 2, 2, 2, 0, 1, 2, 0, 0, 2, 2, 0, 2, 0, 2, 0, 2, 1])\n",
      "202 tensor([0, 0, 0, 0, 0, 0, 0, 0, 0, 0, 0, 0, 0, 0, 0, 0, 0, 0, 0, 0])\n",
      "203 tensor([2, 1, 1, 2, 1, 2, 2, 2, 0, 0, 1, 1, 1, 1, 1, 2, 2, 2, 2, 1])\n",
      "204 tensor([2, 2, 2, 2, 2, 2, 2, 2, 2, 2, 2, 2, 2, 2, 2, 2, 2, 2, 2, 2])\n",
      "205 tensor([1, 1, 1, 1, 1, 1, 1, 1, 1, 1, 1, 1, 1, 1, 1, 1, 1, 1, 1, 1])\n",
      "206 tensor([0, 2, 2, 2, 2, 1, 1, 2, 0, 1, 2, 2, 0, 1, 2, 2, 2, 2, 2, 0])\n",
      "207 tensor([1, 1, 1, 2, 2, 1, 0, 1, 2, 0, 2, 2, 2, 2, 0, 1, 2, 1, 2, 0])\n",
      "208 tensor([0, 0, 0, 0, 0, 0, 0, 0, 0, 0, 0, 0, 0, 0, 0, 0, 0, 0, 0, 0])\n",
      "209 tensor([2, 2, 0, 2, 2, 1, 2, 2, 2, 2, 1, 2, 1, 2, 2, 0, 2, 1, 1, 0])\n",
      "210 tensor([2, 2, 2, 2, 2, 2, 2, 2, 2, 2, 2, 2, 2, 2, 2, 2, 2, 2, 2, 2])\n",
      "211 tensor([2, 2, 2, 2, 2, 0, 0, 2, 1, 2, 1, 1, 0, 0, 2, 2, 0, 1, 2, 2])\n",
      "212 tensor([2, 1, 0, 0, 2, 2, 2, 2, 0, 2, 2, 1, 2, 1, 1, 0, 2, 2, 1, 2])\n",
      "213 tensor([2, 2, 0, 2, 2, 1, 1, 2, 2, 2, 2, 1, 2, 2, 2, 0, 2, 1, 2, 0])\n",
      "214 tensor([2, 0, 0, 2, 0, 0, 2, 2, 0, 0, 2, 1, 0, 0, 2, 1, 0, 1, 0, 2])\n",
      "215 tensor([2, 2, 2, 2, 2, 2, 2, 2, 2, 2, 2, 2, 2, 2, 2, 2, 2, 2, 2, 2])\n",
      "216 tensor([2, 2, 2, 2, 2, 2, 2, 2, 2, 2, 2, 2, 2, 2, 2, 2, 2, 2, 2, 2])\n",
      "217 tensor([0, 0, 0, 0, 0, 0, 0, 0, 0, 0, 0, 0, 0, 0, 0, 0, 0, 0, 0, 0])\n",
      "218 tensor([0, 0, 0, 0, 0, 0, 0, 0, 0, 0, 0, 0, 0, 0, 0, 0, 0, 0, 0, 0])\n",
      "219 tensor([0, 0, 0, 0, 0, 0, 0, 0, 0, 0, 0, 0, 0, 0, 0, 0, 0, 0, 0, 0])\n",
      "220 tensor([2, 2, 2, 2, 2, 2, 2, 2, 2, 2, 2, 2, 2, 2, 2, 2, 2, 2, 2, 2])\n",
      "221 tensor([1, 1, 1, 1, 1, 1, 1, 1, 1, 1, 1, 1, 1, 1, 1, 1, 1, 1, 1, 1])\n",
      "222 tensor([0, 0, 0, 0, 0, 0, 0, 0, 0, 0, 0, 0, 0, 0, 0, 0, 0, 0, 0, 0])\n",
      "223 tensor([2, 2, 2, 2, 2, 2, 2, 2, 2, 2, 2, 2, 2, 2, 2, 2, 2, 2, 2, 2])\n",
      "224 tensor([2, 1, 1, 2, 0, 0, 2, 2, 0, 0, 2, 1, 1, 1, 1, 2, 0, 2, 2, 1])\n",
      "225 tensor([0, 2, 2, 2, 0, 1, 2, 1, 1, 0, 2, 2, 1, 1, 2, 2, 0, 1, 1, 0])\n",
      "226 tensor([1, 2, 0, 2, 2, 1, 2, 1, 2, 0, 1, 2, 1, 0, 2, 0, 2, 1, 0, 2])\n",
      "227 tensor([0, 0, 0, 0, 0, 0, 0, 0, 0, 0, 0, 0, 0, 0, 0, 0, 0, 0, 0, 0])\n",
      "228 tensor([2, 1, 2, 2, 2, 2, 0, 1, 1, 2, 2, 1, 1, 2, 0, 2, 2, 1, 2, 1])\n",
      "229 tensor([0, 1, 2, 2, 2, 1, 0, 2, 0, 1, 2, 2, 2, 2, 1, 1, 2, 2, 2, 0])\n",
      "230 tensor([0, 0, 0, 0, 0, 0, 0, 0, 0, 0, 0, 0, 0, 0, 0, 0, 0, 0, 0, 0])\n",
      "231 tensor([0, 1, 2, 1, 2, 1, 0, 2, 2, 1, 1, 2, 0, 2, 2, 1, 1, 2, 2, 2])\n",
      "232 tensor([2, 2, 2, 2, 2, 2, 2, 2, 2, 2, 2, 2, 2, 2, 2, 2, 2, 2, 2, 2])\n",
      "233 tensor([1, 1, 1, 1, 1, 1, 1, 1, 1, 1, 1, 1, 1, 1, 1, 1, 1, 1, 1, 1])\n",
      "234 tensor([1, 2, 1, 1, 0, 2, 1, 1, 1, 0, 1, 2, 2, 2, 1, 0, 0, 2, 0, 0])\n",
      "235 tensor([2, 1, 2, 0, 0, 2, 1, 1, 2, 0, 2, 1, 0, 1, 2, 1, 2, 2, 2, 0])\n",
      "236 tensor([0, 0, 0, 0, 0, 0, 0, 0, 0, 0, 0, 0, 0, 0, 0, 0, 0, 0, 0, 0])\n",
      "237 tensor([0, 2, 2, 2, 1, 2, 0, 2, 1, 0, 2, 0, 2, 2, 0, 1, 0, 1, 2, 0])\n",
      "238 tensor([2, 2, 2, 2, 2, 2, 2, 2, 2, 2, 2, 2, 2, 2, 2, 2, 2, 2, 2, 2])\n",
      "239 tensor([2, 1, 2, 0, 1, 0, 2, 2, 0, 2, 0, 2, 2, 1, 0, 2, 0, 2, 2, 2])\n",
      "240 tensor([2, 1, 0, 0, 0, 2, 1, 1, 0, 1, 1, 2, 2, 2, 2, 2, 1, 0, 1, 1])\n",
      "241 tensor([2, 2, 1, 2, 0, 2, 1, 1, 1, 2, 0, 2, 2, 1, 2, 2, 1, 1, 2, 1])\n",
      "242 tensor([2, 2, 2, 2, 2, 0, 0, 1, 1, 2, 2, 1, 2, 0, 1, 0, 1, 0, 2, 2])\n",
      "243 tensor([2, 2, 2, 2, 2, 2, 2, 2, 2, 2, 2, 2, 2, 2, 2, 2, 2, 2, 2, 2])\n",
      "244 tensor([2, 2, 2, 2, 2, 2, 2, 2, 2, 2, 2, 2, 2, 2, 2, 2, 2, 2, 2, 0])\n",
      "245 tensor([0, 0, 0, 0, 0, 0, 0, 0, 0, 0, 0, 0, 0, 0, 0, 0, 0, 0, 0, 0])\n",
      "246 tensor([0, 0, 0, 0, 0, 0, 0, 0, 0, 0, 0, 0, 0, 0, 0, 0, 0, 0, 0, 0])\n",
      "247 tensor([0, 0, 0, 0, 0, 0, 0, 0, 0, 0, 0, 0, 0, 0, 0, 0, 0, 0, 0, 0])\n",
      "248 tensor([2, 2, 2, 2, 2, 2, 2, 2, 2, 2, 2, 2, 2, 2, 2, 2, 2, 2, 2, 2])\n",
      "249 tensor([1, 1, 1, 1, 1, 1, 1, 1, 1, 1, 1, 1, 1, 1, 1, 1, 1, 1, 1, 1])\n",
      "250 tensor([0, 0, 0, 0, 0, 0, 0, 0, 0, 0, 0, 0, 0, 0, 0, 0, 0, 0, 0, 0])\n",
      "251 tensor([2, 2, 2, 2, 2, 2, 2, 2, 2, 2, 2, 2, 2, 2, 2, 2, 2, 2, 2, 2])\n",
      "252 tensor([1, 0, 2, 1, 1, 2, 2, 2, 2, 1, 0, 2, 0, 2, 1, 1, 0, 2, 2, 2])\n",
      "253 tensor([2, 2, 2, 0, 1, 2, 2, 0, 1, 2, 0, 0, 2, 1, 1, 1, 2, 2, 2, 1])\n",
      "254 tensor([0, 1, 0, 2, 2, 2, 2, 1, 0, 0, 2, 2, 2, 1, 1, 2, 2, 1, 1, 2])\n",
      "255 tensor([0, 0, 0, 0, 0, 0, 0, 0, 0, 0, 0, 0, 0, 0, 0, 0, 0, 0, 0, 0])\n",
      "256 tensor([2, 0, 2, 0, 1, 2, 2, 0, 0, 2, 1, 0, 2, 2, 2, 1, 2, 2, 1, 2])\n",
      "257 tensor([0, 2, 1, 2, 2, 1, 2, 2, 0, 2, 1, 2, 2, 2, 1, 1, 2, 0, 1, 0])\n",
      "258 tensor([0, 0, 0, 0, 0, 0, 0, 0, 0, 0, 0, 0, 0, 0, 0, 0, 0, 0, 0, 0])\n",
      "259 tensor([2, 2, 1, 1, 1, 2, 0, 2, 1, 1, 2, 2, 2, 1, 1, 1, 2, 1, 0, 2])\n",
      "260 tensor([2, 2, 2, 2, 2, 2, 2, 2, 2, 2, 2, 2, 2, 2, 2, 2, 2, 2, 2, 2])\n",
      "261 tensor([1, 1, 1, 1, 1, 1, 1, 1, 1, 1, 1, 1, 1, 1, 1, 1, 1, 1, 1, 1])\n",
      "262 tensor([2, 2, 1, 1, 1, 1, 2, 2, 2, 1, 2, 1, 1, 0, 1, 1, 2, 2, 2, 2])\n",
      "263 tensor([2, 0, 0, 2, 0, 1, 1, 1, 2, 2, 1, 0, 2, 2, 0, 2, 1, 2, 2, 0])\n",
      "264 tensor([0, 0, 0, 0, 0, 0, 0, 0, 0, 0, 0, 0, 0, 0, 0, 0, 0, 0, 0, 0])\n",
      "265 tensor([1, 1, 0, 0, 1, 2, 0, 1, 1, 2, 1, 2, 0, 1, 2, 1, 1, 2, 1, 2])\n",
      "266 tensor([2, 2, 2, 2, 2, 2, 2, 2, 2, 2, 2, 2, 2, 2, 2, 2, 2, 2, 2, 2])\n",
      "267 tensor([1, 1, 1, 0, 0, 1, 0, 2, 2, 1, 1, 2, 2, 1, 2, 1, 0, 1, 1, 2])\n",
      "268 tensor([1, 2, 1, 2, 2, 1, 2, 0, 2, 1, 1, 2, 0, 2, 0, 1, 1, 2, 1, 2])\n",
      "269 tensor([1, 0, 0, 1, 2, 2, 0, 1, 1, 2, 1, 2, 2, 1, 2, 0, 1, 2, 0, 1])\n",
      "270 tensor([2, 2, 2, 1, 2, 1, 2, 2, 1, 0, 2, 1, 2, 0, 1, 2, 1, 2, 2, 2])\n",
      "271 tensor([2, 2, 2, 2, 2, 2, 2, 2, 2, 2, 2, 2, 2, 2, 2, 2, 2, 2, 2, 2])\n",
      "272 tensor([2, 2, 1, 2, 1, 1, 0, 0, 1, 0, 2, 2, 1, 2, 1, 1, 2, 1, 1, 1])\n",
      "273 tensor([0, 0, 0, 0, 0, 0, 0, 0, 0, 0, 0, 0, 0, 0, 0, 0, 0, 0, 0, 0])\n",
      "274 tensor([0, 0, 0, 0, 0, 0, 0, 0, 0, 0, 0, 0, 0, 0, 0, 0, 0, 0, 0, 0])\n",
      "275 tensor([0, 0, 0, 0, 0, 0, 0, 0, 0, 0, 0, 0, 0, 0, 0, 0, 0, 0, 0, 0])\n",
      "276 tensor([2, 2, 2, 2, 2, 2, 2, 2, 2, 2, 2, 2, 2, 2, 2, 2, 2, 2, 2, 2])\n",
      "277 tensor([1, 1, 1, 1, 1, 1, 1, 1, 1, 1, 1, 1, 1, 1, 1, 1, 1, 1, 1, 1])\n",
      "278 tensor([0, 0, 0, 0, 0, 0, 0, 0, 0, 0, 0, 0, 0, 0, 0, 0, 0, 0, 0, 0])\n",
      "279 tensor([2, 2, 2, 2, 2, 2, 2, 2, 2, 2, 2, 2, 2, 2, 2, 2, 2, 2, 2, 2])\n",
      "280 tensor([2, 0, 2, 0, 2, 0, 0, 0, 2, 2, 1, 1, 2, 2, 0, 1, 1, 0, 2, 1])\n",
      "281 tensor([2, 1, 2, 1, 1, 0, 2, 2, 0, 0, 2, 2, 0, 2, 2, 2, 2, 2, 0, 1])\n",
      "282 tensor([0, 2, 1, 2, 2, 2, 0, 1, 0, 2, 0, 2, 2, 0, 2, 0, 2, 2, 1, 2])\n",
      "283 tensor([0, 0, 0, 0, 0, 0, 0, 0, 0, 0, 0, 0, 0, 0, 0, 0, 0, 0, 0, 0])\n",
      "284 tensor([2, 2, 1, 2, 0, 1, 1, 2, 2, 1, 2, 0, 2, 2, 2, 2, 0, 1, 1, 0])\n",
      "285 tensor([0, 2, 0, 2, 1, 2, 1, 2, 2, 1, 2, 1, 2, 2, 1, 2, 2, 2, 2, 2])\n",
      "286 tensor([0, 0, 0, 0, 0, 0, 0, 0, 0, 0, 0, 0, 0, 0, 0, 0, 0, 0, 0, 0])\n",
      "287 tensor([1, 2, 2, 1, 2, 2, 2, 2, 1, 0, 2, 0, 2, 1, 2, 1, 1, 2, 2, 1])\n",
      "288 tensor([2, 2, 2, 2, 2, 2, 2, 2, 2, 2, 2, 2, 2, 2, 2, 2, 2, 2, 2, 2])\n",
      "289 tensor([1, 1, 1, 1, 1, 1, 1, 1, 1, 1, 1, 1, 1, 1, 1, 1, 1, 1, 1, 1])\n",
      "290 tensor([2, 1, 0, 0, 1, 0, 1, 0, 2, 0, 2, 0, 0, 1, 1, 1, 1, 1, 2, 0])\n",
      "291 tensor([2, 0, 2, 1, 1, 2, 2, 2, 0, 2, 0, 2, 2, 2, 0, 1, 1, 0, 2, 2])\n",
      "292 tensor([0, 0, 0, 0, 0, 0, 0, 0, 0, 0, 0, 0, 0, 0, 0, 0, 0, 0, 0, 0])\n",
      "293 tensor([1, 1, 0, 0, 0, 0, 1, 1, 2, 1, 2, 2, 1, 2, 1, 2, 2, 1, 0, 0])\n",
      "294 tensor([2, 2, 2, 2, 2, 2, 2, 2, 1, 2, 1, 1, 2, 1, 0, 2, 0, 2, 0, 0])\n",
      "295 tensor([0, 1, 0, 2, 0, 1, 0, 0, 2, 2, 0, 0, 2, 0, 2, 0, 2, 2, 2, 2])\n",
      "296 tensor([2, 2, 2, 1, 2, 0, 2, 0, 2, 2, 2, 2, 2, 0, 2, 0, 1, 1, 2, 2])\n",
      "297 tensor([2, 2, 0, 2, 2, 1, 1, 1, 2, 2, 0, 0, 2, 2, 1, 1, 2, 2, 1, 2])\n",
      "298 tensor([2, 2, 1, 2, 2, 2, 2, 0, 0, 2, 0, 2, 0, 1, 2, 0, 0, 2, 2, 2])\n",
      "299 tensor([2, 2, 2, 2, 2, 2, 2, 2, 2, 2, 2, 2, 2, 2, 2, 2, 2, 2, 2, 2])\n",
      "300 tensor([1, 2, 2, 2, 2, 1, 1, 2, 2, 2, 2, 2, 0, 2, 1, 2, 1, 2, 0, 2])\n",
      "301 tensor([0, 0, 0, 0, 0, 0, 0, 0, 0, 0, 0, 0, 0, 0, 0, 0, 0, 0, 0, 0])\n",
      "302 tensor([0, 0, 0, 0, 0, 0, 0, 0, 0, 0, 0, 0, 0, 0, 0, 0, 0, 0, 0, 0])\n",
      "303 tensor([0, 0, 0, 0, 0, 0, 0, 0, 0, 0, 0, 0, 0, 0, 0, 0, 0, 0, 0, 0])\n",
      "304 tensor([2, 2, 2, 2, 2, 2, 2, 2, 2, 2, 2, 2, 2, 2, 2, 2, 2, 2, 2, 2])\n",
      "305 tensor([1, 1, 1, 1, 1, 1, 1, 1, 1, 1, 1, 1, 1, 1, 1, 1, 1, 1, 1, 1])\n",
      "306 tensor([0, 0, 0, 0, 0, 0, 0, 0, 0, 0, 0, 0, 0, 0, 0, 0, 0, 0, 0, 0])\n",
      "307 tensor([2, 2, 2, 2, 2, 2, 2, 2, 2, 2, 2, 2, 2, 2, 2, 2, 2, 2, 2, 2])\n",
      "308 tensor([2, 2, 2, 2, 2, 1, 2, 2, 2, 0, 0, 0, 2, 1, 1, 2, 1, 2, 2, 1])\n",
      "309 tensor([1, 2, 2, 2, 0, 0, 2, 2, 1, 0, 2, 1, 0, 2, 1, 0, 0, 2, 1, 2])\n",
      "310 tensor([2, 2, 2, 1, 2, 0, 2, 0, 2, 1, 2, 1, 2, 1, 1, 2, 1, 2, 1, 2])\n",
      "311 tensor([0, 0, 0, 0, 0, 0, 0, 0, 0, 0, 0, 0, 0, 0, 0, 0, 0, 0, 0, 0])\n",
      "312 tensor([2, 2, 0, 0, 2, 1, 2, 0, 0, 2, 2, 0, 2, 2, 2, 2, 2, 1, 0, 0])\n",
      "313 tensor([2, 2, 1, 0, 2, 1, 1, 2, 2, 0, 1, 2, 2, 1, 2, 2, 1, 1, 0, 1])\n",
      "314 tensor([0, 0, 0, 0, 0, 0, 0, 2, 2, 1, 0, 0, 1, 2, 1, 1, 0, 1, 2, 1])\n",
      "315 tensor([2, 2, 1, 0, 0, 2, 0, 1, 1, 2, 0, 2, 2, 0, 2, 1, 2, 2, 2, 0])\n",
      "316 tensor([2, 2, 2, 2, 2, 2, 2, 2, 2, 2, 2, 2, 2, 2, 2, 2, 2, 2, 2, 2])\n",
      "317 tensor([1, 1, 1, 1, 1, 1, 1, 1, 1, 1, 1, 1, 1, 1, 1, 1, 1, 1, 1, 1])\n",
      "318 tensor([1, 1, 0, 1, 2, 1, 1, 2, 0, 2, 2, 0, 1, 0, 0, 0, 1, 0, 2, 2])\n",
      "319 tensor([1, 2, 1, 1, 2, 1, 1, 1, 1, 2, 2, 0, 2, 1, 2, 1, 2, 2, 1, 2])\n",
      "320 tensor([0, 0, 0, 0, 0, 0, 0, 0, 0, 0, 0, 0, 0, 0, 0, 1, 2, 0, 1, 2])\n",
      "321 tensor([1, 1, 2, 0, 1, 0, 0, 0, 2, 0, 0, 1, 2, 0, 0, 0, 0, 1, 1, 2])\n",
      "322 tensor([2, 2, 2, 0, 2, 2, 2, 0, 2, 0, 2, 0, 2, 2, 2, 2, 2, 2, 2, 1])\n",
      "323 tensor([0, 2, 0, 1, 0, 1, 2, 0, 2, 2, 1, 2, 0, 0, 2, 2, 2, 2, 1, 2])\n",
      "324 tensor([2, 2, 0, 2, 2, 1, 1, 1, 2, 2, 1, 2, 1, 0, 0, 0, 2, 0, 2, 1])\n",
      "325 tensor([2, 2, 2, 1, 0, 0, 2, 0, 2, 0, 2, 0, 2, 2, 2, 1, 2, 2, 2, 0])\n",
      "326 tensor([2, 1, 0, 2, 1, 2, 2, 2, 2, 0, 0, 1, 0, 2, 0, 1, 2, 0, 0, 1])\n",
      "327 tensor([2, 2, 2, 2, 2, 2, 2, 2, 2, 2, 2, 2, 2, 2, 2, 2, 2, 2, 2, 2])\n",
      "328 tensor([1, 2, 2, 0, 2, 2, 2, 2, 2, 1, 2, 0, 0, 0, 2, 2, 1, 2, 1, 2])\n",
      "329 tensor([0, 0, 0, 0, 0, 0, 0, 0, 0, 0, 0, 0, 0, 0, 0, 0, 0, 0, 0, 0])\n",
      "330 tensor([0, 0, 0, 0, 0, 0, 0, 0, 0, 0, 0, 0, 0, 0, 0, 0, 0, 0, 0, 0])\n",
      "331 tensor([0, 0, 0, 0, 0, 0, 0, 0, 0, 0, 0, 0, 0, 0, 0, 0, 0, 0, 0, 0])\n",
      "332 tensor([2, 2, 2, 2, 2, 2, 2, 2, 2, 2, 2, 2, 2, 2, 2, 2, 2, 2, 2, 2])\n",
      "333 tensor([1, 1, 1, 1, 1, 1, 1, 1, 1, 1, 1, 1, 1, 1, 1, 1, 1, 1, 1, 1])\n",
      "334 tensor([0, 0, 0, 0, 0, 0, 0, 0, 0, 0, 0, 0, 0, 0, 0, 0, 0, 0, 0, 0])\n",
      "335 tensor([2, 2, 2, 2, 2, 2, 2, 2, 2, 2, 2, 2, 2, 2, 2, 2, 2, 2, 2, 2])\n",
      "336 tensor([1, 0, 1, 0, 2, 1, 0, 1, 1, 1, 1, 1, 0, 0, 2, 1, 1, 0, 1, 2])\n",
      "337 tensor([2, 0, 2, 2, 2, 1, 0, 2, 0, 2, 1, 1, 1, 1, 0, 0, 1, 2, 1, 0])\n",
      "338 tensor([0, 2, 1, 1, 0, 2, 1, 2, 1, 2, 0, 0, 0, 2, 0, 1, 0, 2, 2, 2])\n",
      "339 tensor([0, 0, 0, 0, 0, 0, 0, 0, 0, 0, 0, 0, 0, 0, 0, 0, 0, 0, 0, 0])\n",
      "340 tensor([2, 1, 0, 0, 0, 1, 2, 2, 0, 1, 0, 2, 0, 2, 2, 1, 2, 2, 2, 1])\n",
      "341 tensor([0, 2, 2, 2, 1, 1, 1, 0, 2, 0, 0, 1, 0, 1, 0, 0, 2, 2, 0, 2])\n",
      "342 tensor([2, 2, 0, 0, 2, 0, 2, 1, 2, 2, 0, 2, 2, 0, 2, 2, 1, 2, 1, 0])\n",
      "343 tensor([2, 0, 2, 2, 2, 2, 2, 2, 2, 1, 2, 0, 0, 1, 1, 2, 1, 2, 2, 1])\n",
      "344 tensor([2, 2, 2, 2, 2, 2, 2, 2, 2, 2, 2, 2, 2, 2, 2, 2, 2, 2, 2, 2])\n",
      "345 tensor([1, 1, 1, 1, 1, 1, 1, 1, 1, 1, 1, 1, 1, 1, 1, 1, 1, 1, 1, 1])\n",
      "346 tensor([1, 2, 1, 2, 2, 1, 0, 0, 2, 2, 1, 2, 0, 1, 2, 2, 2, 0, 2, 2])\n",
      "347 tensor([2, 2, 2, 2, 2, 2, 2, 1, 0, 1, 1, 2, 2, 2, 2, 1, 2, 2, 0, 0])\n",
      "348 tensor([2, 1, 2, 0, 1, 0, 2, 2, 2, 1, 2, 0, 0, 2, 2, 0, 0, 2, 1, 0])\n",
      "349 tensor([2, 0, 0, 1, 2, 2, 1, 2, 0, 1, 0, 1, 1, 2, 0, 0, 0, 2, 1, 2])\n",
      "350 tensor([0, 2, 0, 2, 1, 2, 2, 2, 0, 1, 1, 2, 2, 1, 2, 2, 2, 2, 2, 1])\n",
      "351 tensor([1, 0, 2, 2, 2, 0, 2, 0, 2, 2, 2, 1, 2, 1, 0, 2, 1, 2, 0, 2])\n",
      "352 tensor([2, 1, 2, 1, 1, 1, 0, 2, 1, 2, 0, 2, 1, 2, 2, 1, 0, 2, 1, 1])\n",
      "353 tensor([2, 0, 1, 2, 1, 0, 0, 2, 2, 1, 1, 0, 1, 1, 1, 2, 1, 1, 1, 1])\n",
      "354 tensor([1, 0, 2, 2, 1, 0, 2, 1, 2, 1, 2, 2, 0, 2, 1, 2, 0, 0, 2, 0])\n",
      "355 tensor([2, 2, 2, 2, 2, 2, 2, 2, 2, 2, 2, 2, 2, 2, 2, 2, 2, 2, 2, 2])\n",
      "356 tensor([2, 2, 0, 2, 2, 2, 0, 2, 2, 1, 0, 2, 2, 2, 1, 2, 1, 2, 2, 2])\n",
      "357 tensor([0, 0, 0, 0, 0, 0, 0, 0, 0, 0, 0, 0, 0, 0, 0, 0, 0, 0, 0, 0])\n",
      "358 tensor([0, 0, 0, 0, 0, 0, 0, 0, 0, 0, 0, 0, 0, 0, 0, 0, 0, 0, 0, 0])\n",
      "359 tensor([0, 0, 0, 0, 0, 0, 0, 0, 0, 0, 0, 0, 0, 0, 0, 0, 0, 0, 0, 0])\n",
      "360 tensor([2, 2, 2, 2, 2, 2, 2, 2, 2, 2, 2, 2, 2, 2, 2, 2, 2, 2, 2, 2])\n",
      "361 tensor([1, 1, 1, 1, 1, 1, 1, 1, 1, 1, 1, 1, 1, 1, 1, 1, 1, 1, 1, 1])\n",
      "362 tensor([0, 0, 0, 0, 0, 0, 0, 0, 0, 0, 0, 0, 0, 0, 0, 0, 0, 0, 0, 0])\n",
      "363 tensor([2, 2, 2, 2, 2, 2, 2, 2, 2, 2, 2, 2, 2, 2, 2, 2, 2, 2, 2, 2])\n",
      "364 tensor([2, 2, 2, 0, 2, 0, 0, 1, 0, 0, 1, 2, 0, 2, 1, 0, 1, 2, 2, 0])\n",
      "365 tensor([1, 1, 2, 0, 2, 0, 0, 0, 0, 0, 2, 1, 0, 0, 0, 0, 0, 0, 2, 0])\n",
      "366 tensor([2, 0, 1, 2, 2, 0, 2, 1, 1, 2, 1, 1, 0, 2, 0, 2, 2, 2, 2, 2])\n",
      "367 tensor([0, 0, 0, 0, 0, 0, 0, 0, 0, 0, 0, 0, 0, 0, 0, 0, 0, 0, 0, 0])\n",
      "368 tensor([0, 2, 1, 2, 2, 0, 0, 1, 0, 2, 2, 2, 1, 1, 1, 2, 1, 0, 2, 2])\n",
      "369 tensor([0, 0, 2, 2, 2, 2, 0, 1, 0, 0, 2, 1, 0, 1, 1, 2, 2, 0, 2, 1])\n",
      "370 tensor([2, 1, 0, 2, 1, 2, 2, 2, 2, 1, 1, 2, 2, 2, 2, 0, 2, 2, 1, 2])\n",
      "371 tensor([0, 0, 0, 0, 2, 0, 2, 0, 2, 1, 2, 0, 0, 0, 0, 2, 2, 0, 1, 0])\n",
      "372 tensor([2, 2, 2, 2, 2, 2, 2, 2, 2, 2, 2, 2, 2, 2, 2, 2, 2, 2, 2, 2])\n",
      "373 tensor([1, 1, 1, 1, 1, 1, 1, 1, 1, 1, 1, 1, 1, 1, 1, 1, 1, 1, 1, 1])\n",
      "374 tensor([2, 1, 2, 0, 2, 2, 1, 1, 2, 2, 2, 0, 2, 2, 2, 2, 2, 2, 2, 1])\n",
      "375 tensor([1, 2, 1, 2, 0, 1, 0, 2, 0, 0, 1, 2, 2, 1, 2, 0, 0, 2, 2, 0])\n",
      "376 tensor([1, 0, 0, 0, 0, 0, 1, 2, 2, 2, 2, 0, 2, 2, 2, 0, 2, 1, 2, 0])\n",
      "377 tensor([1, 1, 1, 2, 2, 2, 0, 0, 2, 2, 1, 1, 1, 0, 1, 2, 0, 2, 2, 1])\n",
      "378 tensor([0, 1, 1, 0, 0, 2, 1, 1, 0, 2, 0, 1, 0, 2, 2, 0, 2, 0, 2, 2])\n",
      "379 tensor([2, 1, 0, 2, 2, 2, 1, 1, 0, 2, 2, 0, 2, 2, 1, 1, 2, 1, 2, 2])\n",
      "380 tensor([1, 2, 0, 1, 0, 0, 2, 0, 2, 2, 1, 1, 0, 0, 1, 2, 0, 1, 1, 1])\n",
      "381 tensor([0, 1, 1, 1, 2, 2, 1, 2, 2, 1, 1, 2, 0, 2, 0, 0, 1, 0, 2, 0])\n",
      "382 tensor([1, 0, 1, 1, 0, 2, 2, 2, 1, 2, 0, 1, 0, 2, 2, 0, 1, 1, 0, 1])\n",
      "383 tensor([2, 2, 2, 2, 2, 2, 2, 2, 2, 2, 2, 2, 2, 2, 2, 2, 2, 2, 2, 2])\n",
      "384 tensor([2, 2, 1, 1, 2, 0, 2, 2, 0, 0, 1, 2, 2, 2, 2, 1, 0, 2, 1, 2])\n",
      "385 tensor([0, 0, 0, 0, 0, 0, 0, 0, 0, 0, 0, 0, 0, 0, 0, 0, 0, 0, 0, 0])\n",
      "386 tensor([0, 0, 0, 0, 0, 0, 0, 0, 0, 0, 0, 0, 0, 0, 0, 0, 0, 0, 0, 2])\n",
      "387 tensor([0, 0, 0, 0, 0, 0, 0, 0, 0, 0, 0, 0, 0, 0, 0, 0, 0, 0, 0, 0])\n",
      "388 tensor([2, 2, 2, 2, 2, 2, 2, 2, 2, 2, 2, 2, 2, 2, 2, 2, 2, 2, 2, 2])\n",
      "389 tensor([1, 1, 1, 1, 1, 1, 1, 1, 1, 1, 1, 1, 1, 1, 1, 1, 1, 1, 1, 1])\n",
      "390 tensor([0, 0, 0, 0, 0, 0, 0, 0, 0, 0, 0, 0, 0, 0, 0, 0, 0, 0, 0, 0])\n",
      "391 tensor([2, 2, 2, 2, 2, 2, 2, 2, 2, 2, 2, 2, 2, 2, 2, 2, 2, 2, 2, 2])\n",
      "392 tensor([0, 2, 2, 1, 2, 2, 2, 2, 0, 0, 0, 1, 0, 1, 2, 1, 2, 2, 0, 2])\n",
      "393 tensor([0, 1, 0, 2, 2, 0, 1, 2, 1, 1, 1, 2, 2, 1, 2, 2, 1, 0, 2, 0])\n",
      "394 tensor([2, 1, 0, 2, 1, 0, 0, 1, 2, 2, 2, 2, 2, 1, 1, 2, 2, 1, 2, 2])\n",
      "395 tensor([0, 0, 0, 0, 0, 0, 0, 0, 0, 0, 0, 0, 1, 0, 1, 0, 1, 2, 0, 2])\n",
      "396 tensor([0, 2, 2, 1, 0, 2, 0, 1, 2, 0, 1, 1, 0, 1, 2, 1, 2, 1, 0, 2])\n",
      "397 tensor([2, 1, 0, 0, 1, 0, 2, 0, 1, 1, 0, 0, 1, 2, 0, 2, 1, 2, 2, 0])\n",
      "398 tensor([2, 1, 0, 2, 0, 2, 2, 2, 0, 2, 1, 0, 2, 1, 0, 2, 0, 1, 2, 0])\n",
      "399 tensor([2, 1, 0, 0, 2, 0, 2, 2, 1, 2, 2, 1, 1, 0, 2, 0, 2, 2, 1, 2])\n",
      "400 tensor([2, 2, 2, 2, 2, 2, 2, 2, 2, 2, 2, 2, 2, 2, 2, 2, 0, 2, 1, 2])\n",
      "401 tensor([1, 1, 1, 1, 1, 1, 1, 1, 1, 1, 1, 1, 1, 1, 1, 1, 1, 1, 1, 1])\n",
      "402 tensor([2, 2, 1, 0, 0, 1, 2, 0, 1, 2, 1, 1, 0, 0, 2, 2, 2, 2, 2, 0])\n",
      "403 tensor([2, 1, 1, 2, 0, 2, 2, 0, 2, 2, 0, 1, 2, 2, 1, 2, 2, 1, 1, 2])\n",
      "404 tensor([2, 2, 0, 2, 0, 1, 1, 2, 2, 2, 1, 2, 0, 2, 0, 2, 1, 2, 0, 0])\n",
      "405 tensor([1, 2, 2, 1, 2, 2, 0, 0, 1, 2, 2, 2, 0, 0, 1, 1, 2, 1, 2, 0])\n",
      "406 tensor([1, 1, 0, 1, 0, 2, 2, 2, 1, 1, 2, 2, 1, 2, 2, 2, 2, 2, 2, 2])\n",
      "407 tensor([2, 1, 2, 0, 0, 0, 1, 2, 2, 1, 2, 1, 0, 2, 2, 1, 0, 1, 1, 2])\n",
      "408 tensor([2, 2, 1, 1, 2, 2, 1, 1, 2, 2, 1, 0, 2, 2, 1, 2, 2, 0, 0, 2])\n",
      "409 tensor([2, 0, 1, 0, 2, 2, 1, 0, 1, 0, 1, 2, 0, 2, 1, 1, 2, 0, 2, 0])\n",
      "410 tensor([2, 2, 2, 2, 2, 2, 2, 1, 0, 2, 2, 1, 1, 2, 1, 0, 1, 2, 1, 1])\n",
      "411 tensor([2, 2, 2, 2, 2, 2, 2, 2, 2, 2, 2, 2, 2, 2, 2, 2, 2, 2, 2, 2])\n",
      "412 tensor([2, 1, 2, 2, 0, 0, 1, 2, 2, 2, 0, 0, 2, 2, 2, 0, 2, 2, 0, 2])\n",
      "413 tensor([0, 0, 0, 0, 0, 0, 0, 0, 0, 0, 0, 0, 0, 0, 0, 0, 0, 0, 0, 0])\n",
      "414 tensor([0, 0, 1, 2, 1, 1, 0, 1, 1, 1, 2, 1, 2, 1, 1, 1, 2, 0, 0, 1])\n",
      "415 tensor([0, 0, 0, 0, 0, 0, 0, 0, 0, 0, 0, 0, 0, 0, 0, 0, 0, 0, 0, 0])\n",
      "416 tensor([2, 2, 2, 2, 2, 2, 2, 2, 2, 2, 2, 2, 2, 2, 2, 2, 2, 2, 2, 2])\n",
      "417 tensor([1, 1, 1, 1, 1, 1, 1, 1, 1, 1, 1, 1, 1, 1, 1, 1, 1, 1, 1, 1])\n",
      "418 tensor([0, 0, 0, 0, 0, 0, 0, 0, 0, 0, 0, 0, 0, 0, 0, 0, 0, 0, 0, 0])\n",
      "419 tensor([2, 2, 2, 2, 2, 2, 2, 2, 2, 2, 2, 2, 2, 2, 2, 2, 2, 2, 2, 2])\n",
      "420 tensor([1, 2, 1, 0, 0, 0, 0, 1, 1, 2, 0, 2, 0, 0, 0, 1, 1, 0, 0, 0])\n",
      "421 tensor([2, 0, 0, 0, 2, 2, 1, 0, 1, 2, 2, 1, 2, 1, 1, 2, 0, 0, 2, 1])\n",
      "422 tensor([2, 1, 2, 0, 2, 2, 1, 0, 0, 1, 2, 2, 1, 1, 0, 1, 0, 2, 2, 1])\n",
      "423 tensor([2, 1, 2, 0, 2, 1, 1, 2, 2, 2, 1, 1, 1, 2, 2, 2, 0, 2, 2, 2])\n",
      "424 tensor([2, 1, 1, 1, 0, 1, 1, 0, 2, 1, 1, 2, 0, 0, 1, 0, 1, 1, 1, 2])\n",
      "425 tensor([0, 2, 0, 1, 0, 1, 2, 1, 1, 0, 0, 1, 2, 1, 1, 0, 0, 0, 2, 0])\n",
      "426 tensor([2, 0, 0, 0, 0, 1, 2, 2, 0, 2, 2, 2, 2, 2, 2, 1, 0, 1, 2, 0])\n",
      "427 tensor([2, 2, 0, 2, 0, 1, 2, 2, 0, 0, 2, 0, 1, 2, 0, 1, 2, 2, 1, 0])\n",
      "428 tensor([0, 2, 2, 1, 0, 2, 2, 0, 2, 2, 0, 0, 1, 0, 2, 2, 2, 1, 1, 0])\n",
      "429 tensor([1, 1, 1, 1, 1, 1, 1, 1, 1, 1, 1, 1, 1, 1, 1, 1, 1, 1, 1, 1])\n",
      "430 tensor([0, 1, 2, 0, 0, 1, 0, 0, 2, 0, 2, 0, 1, 0, 2, 1, 0, 0, 2, 0])\n",
      "431 tensor([0, 1, 1, 0, 1, 2, 0, 1, 0, 0, 0, 1, 1, 2, 2, 0, 0, 0, 0, 0])\n",
      "432 tensor([2, 2, 2, 2, 1, 0, 0, 2, 1, 0, 2, 0, 2, 0, 2, 1, 0, 0, 2, 0])\n",
      "433 tensor([2, 2, 2, 2, 0, 2, 0, 2, 1, 1, 2, 1, 2, 2, 1, 1, 2, 0, 2, 2])\n",
      "434 tensor([0, 2, 1, 0, 2, 2, 0, 0, 1, 2, 2, 0, 2, 2, 2, 0, 0, 0, 0, 2])\n",
      "435 tensor([1, 1, 2, 2, 2, 0, 1, 2, 0, 0, 2, 1, 1, 0, 1, 0, 1, 0, 1, 2])\n",
      "436 tensor([1, 0, 0, 1, 2, 0, 2, 0, 1, 2, 2, 0, 2, 0, 2, 1, 1, 2, 2, 0])\n",
      "437 tensor([1, 0, 2, 1, 2, 0, 2, 1, 2, 2, 0, 2, 0, 2, 2, 0, 1, 1, 0, 0])\n",
      "438 tensor([0, 2, 2, 1, 1, 1, 2, 2, 2, 0, 0, 1, 2, 0, 1, 0, 0, 1, 2, 1])\n",
      "439 tensor([2, 2, 2, 2, 2, 2, 2, 2, 2, 2, 2, 2, 2, 2, 2, 2, 2, 2, 2, 2])\n",
      "440 tensor([2, 1, 0, 2, 0, 1, 0, 2, 1, 2, 0, 0, 1, 1, 1, 0, 2, 0, 1, 0])\n",
      "441 tensor([0, 0, 0, 0, 0, 0, 0, 0, 0, 0, 0, 0, 0, 0, 0, 0, 0, 0, 0, 0])\n",
      "442 tensor([1, 0, 1, 0, 1, 2, 2, 2, 2, 1, 0, 1, 0, 2, 2, 2, 1, 2, 0, 2])\n",
      "443 tensor([0, 0, 0, 0, 0, 0, 0, 0, 0, 0, 0, 2, 2, 2, 1, 0, 0, 0, 1, 2])\n",
      "444 tensor([2, 2, 2, 2, 2, 2, 2, 2, 2, 2, 2, 2, 2, 2, 2, 2, 2, 2, 2, 2])\n",
      "445 tensor([1, 1, 1, 1, 1, 1, 1, 1, 1, 1, 1, 1, 1, 1, 1, 1, 1, 1, 1, 1])\n",
      "446 tensor([0, 0, 0, 0, 0, 0, 0, 0, 0, 0, 0, 0, 0, 0, 0, 0, 0, 0, 0, 0])\n",
      "447 tensor([2, 2, 2, 2, 2, 2, 2, 2, 2, 2, 2, 2, 2, 2, 2, 2, 2, 2, 2, 2])\n",
      "448 tensor([0, 1, 1, 2, 0, 2, 1, 1, 2, 1, 2, 1, 0, 0, 0, 2, 1, 1, 2, 1])\n",
      "449 tensor([1, 1, 1, 2, 0, 1, 1, 2, 0, 1, 2, 0, 1, 2, 2, 2, 2, 1, 1, 1])\n",
      "450 tensor([2, 1, 1, 2, 0, 1, 0, 2, 2, 1, 2, 2, 0, 2, 2, 2, 2, 1, 2, 2])\n",
      "451 tensor([0, 1, 2, 2, 2, 0, 1, 2, 1, 1, 2, 1, 0, 2, 2, 2, 0, 0, 2, 2])\n",
      "452 tensor([1, 1, 1, 0, 2, 1, 2, 0, 2, 1, 2, 1, 2, 2, 2, 0, 2, 2, 1, 2])\n",
      "453 tensor([2, 1, 0, 2, 0, 2, 2, 2, 0, 1, 2, 2, 1, 1, 0, 1, 1, 2, 0, 0])\n",
      "454 tensor([0, 0, 1, 2, 0, 1, 1, 2, 2, 2, 2, 2, 0, 1, 2, 0, 2, 2, 1, 0])\n",
      "455 tensor([2, 1, 1, 2, 2, 2, 2, 1, 2, 2, 2, 1, 0, 1, 2, 0, 2, 0, 1, 1])\n",
      "456 tensor([2, 2, 1, 0, 2, 2, 0, 1, 0, 2, 2, 2, 2, 0, 2, 1, 1, 2, 2, 2])\n",
      "457 tensor([1, 1, 1, 1, 1, 1, 1, 1, 1, 1, 1, 1, 1, 1, 1, 1, 1, 1, 1, 1])\n",
      "458 tensor([1, 0, 2, 2, 1, 0, 1, 2, 2, 0, 0, 2, 0, 1, 0, 0, 1, 2, 2, 2])\n",
      "459 tensor([1, 2, 2, 2, 2, 2, 0, 2, 2, 1, 2, 0, 0, 1, 1, 2, 0, 1, 0, 1])\n",
      "460 tensor([1, 2, 0, 1, 2, 1, 0, 1, 2, 2, 1, 0, 1, 2, 2, 0, 2, 1, 2, 1])\n",
      "461 tensor([2, 0, 1, 2, 0, 2, 0, 1, 0, 1, 0, 1, 0, 1, 0, 1, 2, 2, 0, 0])\n",
      "462 tensor([0, 2, 1, 2, 1, 1, 2, 2, 2, 2, 0, 2, 0, 2, 2, 0, 2, 1, 0, 2])\n",
      "463 tensor([1, 2, 2, 1, 2, 1, 2, 2, 1, 2, 1, 2, 1, 2, 1, 1, 2, 0, 2, 1])\n",
      "464 tensor([2, 2, 1, 2, 2, 1, 0, 0, 1, 1, 0, 0, 2, 0, 1, 2, 0, 0, 2, 2])\n",
      "465 tensor([1, 0, 1, 2, 2, 0, 1, 2, 2, 0, 0, 0, 1, 2, 1, 1, 1, 0, 1, 2])\n",
      "466 tensor([1, 2, 2, 2, 2, 1, 2, 1, 2, 2, 2, 2, 2, 1, 2, 2, 0, 2, 2, 2])\n",
      "467 tensor([2, 2, 2, 2, 2, 2, 2, 2, 2, 2, 2, 2, 2, 2, 2, 2, 2, 2, 2, 2])\n",
      "468 tensor([2, 0, 1, 2, 0, 2, 1, 2, 0, 1, 0, 0, 1, 2, 1, 0, 2, 1, 1, 1])\n"
     ]
    },
    {
     "name": "stdout",
     "output_type": "stream",
     "text": [
      "469 tensor([0, 0, 0, 0, 0, 0, 0, 0, 0, 0, 0, 0, 0, 0, 0, 0, 0, 0, 0, 0])\n",
      "470 tensor([0, 1, 0, 1, 2, 1, 1, 1, 1, 0, 0, 0, 2, 0, 2, 1, 0, 2, 2, 2])\n",
      "471 tensor([2, 1, 2, 2, 2, 0, 2, 2, 1, 2, 0, 2, 1, 2, 2, 2, 0, 2, 1, 1])\n",
      "472 tensor([2, 2, 2, 2, 2, 2, 2, 2, 2, 2, 2, 2, 2, 2, 2, 2, 2, 2, 2, 2])\n",
      "473 tensor([1, 1, 1, 1, 1, 1, 1, 1, 1, 1, 1, 1, 1, 1, 1, 1, 1, 1, 1, 1])\n",
      "474 tensor([0, 0, 0, 0, 0, 0, 0, 0, 0, 0, 0, 0, 0, 0, 0, 0, 0, 0, 0, 0])\n",
      "475 tensor([2, 2, 2, 2, 2, 2, 2, 2, 2, 2, 2, 2, 2, 2, 2, 2, 2, 2, 2, 2])\n",
      "476 tensor([2, 0, 1, 2, 0, 2, 1, 2, 2, 2, 1, 1, 2, 1, 1, 0, 1, 2, 0, 2])\n",
      "477 tensor([2, 1, 2, 0, 2, 0, 2, 0, 0, 0, 2, 1, 2, 2, 2, 1, 0, 0, 2, 2])\n",
      "478 tensor([2, 2, 0, 0, 2, 2, 1, 1, 1, 2, 2, 2, 1, 2, 2, 0, 0, 2, 2, 1])\n",
      "479 tensor([2, 0, 2, 2, 2, 0, 2, 1, 2, 1, 0, 0, 2, 2, 1, 1, 0, 1, 2, 0])\n",
      "480 tensor([0, 0, 0, 1, 1, 2, 1, 0, 1, 1, 0, 1, 2, 1, 2, 1, 1, 1, 2, 1])\n",
      "481 tensor([0, 2, 2, 1, 2, 0, 0, 2, 0, 2, 2, 2, 0, 2, 1, 2, 1, 1, 1, 2])\n",
      "482 tensor([1, 2, 2, 0, 1, 2, 0, 1, 0, 1, 0, 2, 1, 2, 0, 0, 1, 0, 1, 2])\n",
      "483 tensor([2, 2, 2, 0, 1, 0, 2, 1, 2, 1, 2, 1, 0, 1, 2, 1, 2, 0, 2, 0])\n",
      "484 tensor([1, 2, 1, 2, 2, 0, 2, 1, 2, 2, 2, 2, 2, 0, 1, 2, 0, 1, 0, 2])\n",
      "485 tensor([1, 1, 1, 1, 1, 1, 1, 1, 1, 1, 1, 1, 1, 1, 1, 1, 1, 1, 1, 1])\n",
      "486 tensor([0, 1, 2, 0, 0, 2, 0, 1, 0, 2, 1, 0, 1, 1, 1, 2, 1, 0, 0, 2])\n",
      "487 tensor([2, 0, 2, 2, 2, 0, 0, 1, 0, 1, 0, 2, 1, 1, 0, 1, 0, 2, 0, 0])\n",
      "488 tensor([0, 1, 0, 2, 2, 1, 2, 0, 0, 0, 1, 2, 1, 2, 2, 2, 2, 1, 2, 1])\n",
      "489 tensor([2, 2, 2, 0, 0, 2, 2, 1, 1, 1, 0, 1, 1, 0, 2, 1, 1, 0, 1, 2])\n",
      "490 tensor([2, 0, 2, 1, 0, 1, 2, 0, 0, 1, 0, 1, 2, 0, 0, 0, 1, 1, 0, 0])\n",
      "491 tensor([0, 0, 0, 2, 0, 2, 0, 2, 2, 2, 1, 2, 2, 2, 0, 0, 0, 0, 1, 2])\n",
      "492 tensor([2, 2, 0, 2, 0, 0, 0, 1, 1, 1, 0, 2, 1, 0, 1, 2, 2, 0, 1, 1])\n",
      "493 tensor([1, 2, 1, 0, 2, 0, 2, 0, 2, 0, 1, 0, 2, 2, 0, 2, 1, 1, 1, 2])\n",
      "494 tensor([2, 2, 1, 0, 2, 2, 0, 2, 0, 2, 2, 1, 1, 0, 1, 2, 1, 2, 1, 2])\n",
      "495 tensor([2, 2, 2, 2, 2, 2, 2, 2, 2, 2, 2, 2, 2, 2, 2, 2, 2, 2, 2, 2])\n",
      "496 tensor([2, 0, 2, 1, 0, 2, 2, 0, 0, 0, 0, 1, 2, 1, 1, 2, 0, 2, 2, 2])\n",
      "497 tensor([0, 0, 0, 0, 0, 0, 0, 0, 0, 0, 0, 0, 0, 0, 0, 0, 0, 0, 0, 0])\n",
      "498 tensor([0, 1, 2, 1, 2, 0, 2, 2, 1, 2, 2, 2, 2, 2, 1, 2, 2, 1, 1, 2])\n",
      "499 tensor([1, 1, 1, 2, 0, 2, 0, 1, 1, 1, 1, 2, 0, 0, 0, 2, 2, 2, 2, 1])\n",
      "500 tensor([2, 2, 2, 2, 2, 2, 2, 2, 2, 2, 2, 2, 2, 2, 2, 2, 2, 2, 2, 2])\n",
      "501 tensor([1, 1, 1, 1, 1, 1, 1, 1, 1, 1, 1, 1, 1, 1, 1, 1, 1, 1, 1, 1])\n",
      "502 tensor([0, 0, 0, 0, 0, 0, 0, 0, 0, 0, 0, 0, 0, 0, 0, 0, 0, 0, 0, 0])\n",
      "503 tensor([2, 2, 2, 2, 2, 2, 2, 2, 2, 2, 2, 2, 2, 2, 2, 2, 2, 2, 2, 2])\n",
      "504 tensor([0, 2, 2, 1, 0, 2, 2, 2, 2, 0, 2, 2, 0, 2, 2, 0, 1, 0, 1, 0])\n",
      "505 tensor([2, 1, 2, 2, 1, 0, 1, 2, 2, 1, 1, 2, 2, 0, 2, 0, 1, 2, 1, 1])\n",
      "506 tensor([0, 2, 1, 1, 2, 2, 1, 2, 0, 0, 0, 2, 0, 0, 2, 1, 1, 2, 0, 2])\n",
      "507 tensor([2, 1, 2, 2, 2, 1, 0, 2, 2, 2, 2, 0, 2, 1, 0, 0, 1, 2, 2, 2])\n",
      "508 tensor([1, 0, 2, 2, 1, 0, 1, 2, 0, 0, 0, 1, 1, 0, 0, 1, 0, 1, 0, 1])\n",
      "509 tensor([2, 2, 0, 2, 0, 2, 0, 0, 0, 1, 1, 0, 0, 0, 1, 1, 2, 0, 2, 0])\n",
      "510 tensor([1, 0, 0, 2, 1, 2, 1, 2, 0, 1, 1, 2, 1, 1, 0, 1, 2, 1, 2, 1])\n",
      "511 tensor([2, 1, 0, 1, 2, 1, 1, 2, 1, 2, 2, 0, 0, 2, 1, 2, 1, 2, 0, 1])\n",
      "512 tensor([2, 2, 0, 2, 0, 2, 0, 0, 2, 0, 2, 0, 0, 0, 1, 1, 1, 1, 0, 2])\n",
      "513 tensor([1, 1, 1, 1, 1, 1, 1, 1, 1, 1, 1, 1, 1, 1, 1, 1, 1, 1, 1, 1])\n",
      "514 tensor([2, 1, 1, 2, 2, 2, 2, 1, 2, 1, 1, 1, 0, 0, 0, 2, 1, 2, 2, 0])\n",
      "515 tensor([1, 1, 2, 1, 1, 2, 0, 0, 2, 0, 1, 0, 1, 2, 2, 0, 2, 2, 1, 2])\n",
      "516 tensor([0, 1, 1, 1, 2, 0, 0, 0, 2, 1, 1, 1, 2, 1, 0, 0, 0, 1, 1, 1])\n",
      "517 tensor([1, 2, 0, 1, 1, 1, 2, 1, 2, 0, 0, 2, 0, 1, 2, 2, 1, 2, 1, 0])\n",
      "518 tensor([2, 1, 1, 2, 1, 2, 0, 1, 0, 1, 2, 1, 0, 1, 1, 2, 1, 2, 0, 2])\n",
      "519 tensor([0, 1, 1, 2, 1, 2, 1, 2, 0, 2, 0, 0, 2, 0, 2, 2, 2, 1, 0, 0])\n",
      "520 tensor([1, 1, 2, 0, 1, 0, 2, 2, 2, 0, 2, 2, 2, 0, 2, 2, 2, 2, 2, 1])\n",
      "521 tensor([1, 2, 0, 1, 2, 2, 1, 2, 1, 1, 0, 0, 2, 2, 1, 2, 2, 1, 0, 0])\n",
      "522 tensor([1, 0, 1, 1, 0, 0, 1, 2, 0, 0, 0, 0, 2, 1, 2, 2, 2, 2, 0, 1])\n",
      "523 tensor([2, 2, 2, 2, 2, 2, 2, 2, 2, 2, 2, 2, 2, 2, 2, 2, 2, 2, 2, 2])\n",
      "524 tensor([1, 2, 2, 2, 1, 0, 0, 0, 2, 2, 1, 2, 2, 2, 0, 2, 2, 0, 0, 2])\n",
      "525 tensor([0, 0, 0, 0, 0, 0, 0, 0, 0, 0, 0, 0, 0, 0, 0, 0, 0, 0, 0, 0])\n",
      "526 tensor([2, 1, 1, 2, 2, 1, 2, 2, 2, 2, 2, 2, 0, 1, 2, 2, 2, 2, 2, 1])\n",
      "527 tensor([1, 2, 1, 1, 2, 2, 0, 1, 0, 0, 2, 0, 0, 2, 1, 1, 1, 2, 2, 0])\n",
      "528 tensor([2, 2, 2, 2, 2, 2, 2, 2, 2, 2, 2, 2, 2, 2, 2, 2, 2, 2, 2, 2])\n",
      "529 tensor([1, 1, 1, 1, 1, 1, 1, 1, 1, 1, 1, 1, 1, 1, 1, 1, 1, 1, 1, 1])\n",
      "530 tensor([0, 0, 0, 0, 0, 0, 0, 0, 0, 0, 0, 0, 0, 0, 0, 0, 0, 0, 0, 0])\n",
      "531 tensor([2, 2, 2, 2, 2, 2, 2, 2, 2, 2, 2, 2, 2, 2, 2, 2, 2, 2, 2, 2])\n",
      "532 tensor([2, 1, 1, 2, 1, 2, 2, 2, 2, 1, 2, 2, 2, 0, 2, 2, 2, 2, 2, 1])\n",
      "533 tensor([2, 2, 1, 0, 2, 1, 2, 0, 2, 1, 0, 0, 0, 1, 0, 2, 2, 2, 0, 1])\n",
      "534 tensor([0, 1, 2, 2, 2, 0, 2, 2, 2, 0, 1, 2, 1, 2, 0, 2, 0, 2, 2, 2])\n",
      "535 tensor([2, 2, 1, 2, 0, 0, 1, 2, 0, 2, 1, 1, 1, 1, 2, 2, 1, 2, 1, 2])\n",
      "536 tensor([2, 2, 2, 1, 0, 2, 0, 2, 2, 1, 1, 2, 2, 2, 0, 0, 2, 2, 1, 0])\n",
      "537 tensor([0, 2, 1, 0, 1, 2, 0, 2, 2, 2, 2, 1, 1, 0, 2, 2, 2, 1, 2, 1])\n",
      "538 tensor([1, 2, 2, 1, 2, 0, 1, 2, 2, 2, 0, 1, 1, 1, 2, 1, 0, 2, 1, 1])\n",
      "539 tensor([2, 0, 1, 1, 0, 0, 2, 1, 2, 2, 0, 1, 1, 2, 1, 1, 2, 1, 0, 2])\n",
      "540 tensor([0, 1, 0, 2, 2, 2, 1, 2, 2, 2, 0, 2, 2, 1, 2, 1, 2, 2, 2, 1])\n",
      "541 tensor([1, 1, 1, 1, 1, 1, 1, 1, 1, 1, 1, 1, 1, 1, 1, 1, 1, 1, 1, 1])\n",
      "542 tensor([2, 1, 1, 0, 0, 2, 0, 1, 0, 2, 1, 2, 2, 1, 1, 1, 0, 1, 1, 2])\n",
      "543 tensor([2, 1, 0, 0, 2, 0, 2, 1, 0, 1, 0, 1, 0, 2, 1, 1, 1, 0, 2, 2])\n",
      "544 tensor([2, 0, 1, 1, 2, 1, 2, 1, 0, 1, 1, 0, 2, 1, 1, 2, 1, 2, 0, 1])\n",
      "545 tensor([1, 0, 0, 1, 2, 0, 1, 0, 2, 1, 2, 1, 2, 1, 0, 0, 0, 2, 2, 2])\n",
      "546 tensor([0, 2, 1, 0, 0, 1, 2, 1, 1, 2, 1, 0, 1, 1, 2, 1, 1, 2, 1, 2])\n",
      "547 tensor([1, 2, 2, 1, 0, 1, 1, 2, 2, 2, 1, 0, 2, 2, 1, 2, 2, 2, 1, 0])\n",
      "548 tensor([1, 1, 2, 2, 1, 2, 2, 2, 0, 2, 1, 2, 1, 0, 0, 0, 1, 2, 1, 1])\n",
      "549 tensor([1, 2, 0, 1, 0, 2, 2, 0, 1, 1, 2, 0, 1, 2, 0, 2, 1, 1, 1, 0])\n",
      "550 tensor([0, 0, 1, 0, 0, 2, 2, 2, 2, 0, 1, 2, 0, 0, 2, 1, 1, 1, 2, 2])\n",
      "551 tensor([2, 2, 2, 2, 2, 2, 2, 2, 2, 2, 2, 2, 2, 2, 2, 2, 2, 2, 2, 2])\n",
      "552 tensor([1, 2, 1, 0, 0, 0, 2, 0, 1, 2, 0, 1, 0, 1, 2, 0, 2, 2, 2, 2])\n",
      "553 tensor([0, 0, 0, 0, 0, 0, 0, 0, 0, 0, 0, 0, 0, 0, 0, 0, 0, 0, 0, 0])\n",
      "554 tensor([0, 0, 1, 0, 2, 1, 1, 2, 1, 1, 1, 2, 2, 1, 1, 2, 1, 0, 1, 2])\n",
      "555 tensor([1, 0, 2, 2, 2, 2, 2, 0, 2, 2, 2, 0, 0, 2, 0, 2, 1, 2, 2, 0])\n",
      "556 tensor([2, 2, 2, 2, 2, 2, 2, 2, 2, 2, 2, 2, 2, 2, 2, 2, 2, 2, 2, 2])\n",
      "557 tensor([1, 1, 1, 1, 1, 1, 1, 1, 1, 1, 1, 1, 1, 1, 1, 1, 1, 1, 1, 1])\n",
      "558 tensor([0, 0, 0, 0, 0, 0, 0, 0, 0, 0, 0, 0, 0, 0, 0, 0, 0, 0, 0, 0])\n",
      "559 tensor([2, 2, 2, 2, 2, 2, 2, 2, 2, 2, 2, 2, 2, 2, 2, 2, 2, 2, 2, 2])\n",
      "560 tensor([0, 2, 1, 0, 1, 0, 2, 0, 0, 2, 2, 0, 1, 2, 2, 2, 1, 2, 1, 2])\n",
      "561 tensor([2, 1, 2, 1, 2, 0, 2, 2, 0, 2, 0, 1, 2, 2, 0, 0, 0, 2, 0, 2])\n",
      "562 tensor([1, 2, 2, 2, 2, 2, 2, 2, 0, 1, 2, 2, 0, 1, 2, 1, 0, 2, 0, 1])\n",
      "563 tensor([2, 0, 0, 0, 1, 0, 1, 2, 0, 1, 0, 2, 0, 2, 2, 2, 0, 1, 0, 1])\n",
      "564 tensor([0, 0, 2, 2, 1, 0, 0, 0, 0, 1, 2, 2, 1, 1, 0, 2, 0, 0, 1, 0])\n",
      "565 tensor([2, 0, 0, 1, 2, 2, 2, 1, 0, 1, 2, 0, 2, 2, 0, 0, 2, 0, 2, 0])\n",
      "566 tensor([1, 2, 0, 1, 1, 2, 0, 1, 2, 0, 2, 0, 2, 2, 1, 2, 2, 0, 2, 2])\n",
      "567 tensor([2, 0, 2, 1, 0, 2, 1, 2, 1, 0, 2, 2, 2, 0, 1, 1, 0, 2, 0, 0])\n",
      "568 tensor([1, 1, 0, 2, 2, 1, 2, 1, 1, 1, 2, 2, 0, 0, 1, 0, 2, 2, 2, 2])\n",
      "569 tensor([1, 1, 1, 1, 1, 1, 1, 1, 1, 1, 1, 1, 1, 1, 1, 1, 1, 1, 1, 1])\n",
      "570 tensor([1, 1, 1, 2, 2, 1, 1, 2, 2, 0, 2, 1, 0, 2, 0, 1, 0, 2, 2, 1])\n",
      "571 tensor([1, 2, 2, 1, 0, 2, 0, 2, 2, 0, 2, 2, 2, 2, 1, 0, 1, 2, 2, 2])\n",
      "572 tensor([1, 0, 0, 2, 1, 1, 0, 2, 0, 1, 2, 2, 2, 2, 2, 2, 1, 1, 1, 0])\n",
      "573 tensor([2, 2, 2, 2, 1, 2, 2, 2, 0, 2, 1, 1, 0, 2, 1, 2, 2, 0, 2, 0])\n",
      "574 tensor([2, 2, 0, 0, 0, 1, 0, 2, 0, 2, 1, 1, 1, 1, 2, 0, 2, 2, 2, 2])\n",
      "575 tensor([1, 0, 2, 1, 1, 2, 0, 0, 2, 1, 1, 2, 2, 2, 2, 0, 0, 0, 0, 0])\n",
      "576 tensor([2, 2, 2, 1, 1, 2, 2, 2, 2, 2, 0, 1, 1, 2, 2, 1, 0, 2, 0, 2])\n",
      "577 tensor([2, 2, 1, 2, 2, 1, 0, 2, 2, 0, 2, 1, 2, 1, 1, 2, 0, 1, 2, 0])\n",
      "578 tensor([1, 0, 2, 2, 2, 1, 0, 2, 2, 1, 2, 2, 1, 2, 1, 2, 0, 0, 2, 2])\n",
      "579 tensor([2, 2, 2, 2, 2, 2, 2, 2, 2, 2, 2, 2, 2, 2, 2, 2, 2, 2, 2, 2])\n",
      "580 tensor([2, 1, 2, 2, 0, 1, 0, 2, 2, 2, 2, 2, 0, 2, 0, 0, 0, 2, 2, 0])\n",
      "581 tensor([0, 0, 0, 0, 0, 0, 0, 0, 0, 0, 0, 0, 0, 0, 0, 0, 0, 0, 0, 0])\n",
      "582 tensor([2, 2, 0, 2, 1, 2, 0, 2, 1, 2, 2, 0, 2, 1, 2, 0, 2, 2, 0, 0])\n",
      "583 tensor([1, 1, 0, 2, 2, 2, 2, 1, 2, 0, 2, 1, 2, 2, 2, 0, 2, 2, 2, 0])\n",
      "584 tensor([2, 2, 2, 2, 2, 2, 2, 2, 2, 2, 2, 2, 2, 2, 2, 2, 2, 2, 2, 2])\n",
      "585 tensor([1, 1, 1, 1, 1, 1, 1, 1, 1, 1, 1, 1, 1, 1, 1, 1, 1, 1, 1, 1])\n",
      "586 tensor([0, 0, 0, 0, 0, 0, 0, 0, 0, 0, 0, 0, 0, 0, 0, 0, 0, 0, 0, 0])\n",
      "587 tensor([2, 2, 2, 2, 2, 2, 2, 2, 2, 2, 2, 2, 2, 2, 2, 2, 2, 2, 2, 2])\n",
      "588 tensor([1, 2, 2, 2, 2, 2, 0, 1, 2, 0, 1, 2, 2, 0, 1, 1, 2, 2, 0, 1])\n",
      "589 tensor([0, 2, 0, 0, 0, 1, 1, 0, 0, 2, 2, 0, 0, 1, 2, 1, 2, 0, 2, 1])\n",
      "590 tensor([2, 1, 2, 1, 2, 2, 1, 2, 2, 2, 2, 2, 0, 2, 2, 2, 0, 2, 2, 2])\n",
      "591 tensor([2, 2, 1, 1, 2, 2, 1, 0, 0, 2, 2, 1, 1, 0, 2, 2, 2, 1, 2, 1])\n",
      "592 tensor([0, 0, 2, 2, 0, 1, 2, 0, 0, 1, 0, 0, 0, 2, 0, 2, 0, 0, 2, 1])\n",
      "593 tensor([0, 0, 0, 2, 2, 0, 0, 0, 2, 1, 2, 1, 0, 0, 0, 2, 1, 1, 2, 2])\n",
      "594 tensor([0, 2, 2, 2, 2, 1, 1, 0, 2, 1, 2, 2, 2, 0, 2, 1, 0, 2, 1, 2])\n",
      "595 tensor([0, 1, 0, 0, 0, 1, 1, 1, 0, 0, 1, 0, 0, 2, 2, 0, 2, 2, 0, 1])\n",
      "596 tensor([1, 2, 2, 2, 2, 0, 0, 0, 2, 2, 1, 0, 2, 2, 2, 0, 1, 0, 1, 2])\n",
      "597 tensor([1, 1, 1, 1, 1, 1, 1, 1, 1, 1, 1, 1, 1, 1, 1, 1, 1, 1, 1, 1])\n",
      "598 tensor([2, 1, 2, 2, 2, 2, 2, 0, 2, 2, 0, 0, 1, 2, 2, 2, 1, 1, 1, 0])\n",
      "599 tensor([2, 0, 2, 0, 2, 2, 2, 1, 2, 0, 0, 0, 2, 1, 2, 2, 2, 0, 1, 1])\n",
      "600 tensor([0, 1, 2, 1, 1, 2, 2, 2, 2, 2, 0, 0, 0, 2, 0, 0, 2, 0, 2, 1])\n",
      "601 tensor([2, 2, 0, 0, 2, 1, 1, 0, 1, 2, 2, 2, 1, 2, 0, 0, 1, 2, 2, 1])\n",
      "602 tensor([1, 1, 1, 0, 0, 2, 2, 2, 2, 0, 1, 2, 2, 2, 2, 0, 0, 1, 0, 2])\n",
      "603 tensor([2, 2, 0, 2, 0, 1, 2, 2, 1, 0, 1, 0, 1, 0, 1, 1, 1, 2, 2, 1])\n",
      "604 tensor([2, 0, 0, 0, 1, 0, 2, 1, 2, 2, 0, 0, 2, 1, 2, 2, 1, 1, 1, 1])\n",
      "605 tensor([1, 2, 2, 2, 2, 2, 2, 0, 2, 2, 1, 0, 1, 2, 0, 1, 1, 1, 2, 1])\n",
      "606 tensor([0, 0, 2, 0, 2, 1, 0, 0, 1, 0, 0, 2, 2, 1, 2, 2, 1, 2, 0, 2])\n",
      "607 tensor([2, 2, 2, 2, 2, 2, 2, 2, 2, 2, 2, 2, 2, 2, 2, 2, 2, 2, 2, 2])\n",
      "608 tensor([0, 1, 0, 1, 2, 2, 0, 2, 2, 1, 2, 2, 0, 2, 2, 1, 0, 2, 2, 2])\n",
      "609 tensor([0, 0, 0, 0, 0, 0, 0, 0, 0, 0, 0, 0, 0, 0, 0, 0, 0, 0, 0, 0])\n",
      "610 tensor([0, 0, 0, 0, 2, 2, 1, 2, 2, 0, 2, 0, 2, 2, 1, 0, 0, 1, 1, 0])\n",
      "611 tensor([2, 0, 2, 2, 2, 2, 2, 0, 2, 2, 2, 2, 2, 2, 0, 2, 2, 0, 0, 2])\n",
      "612 tensor([2, 2, 2, 2, 2, 2, 2, 2, 2, 2, 2, 2, 2, 2, 2, 2, 2, 2, 2, 2])\n",
      "613 tensor([1, 1, 1, 1, 1, 1, 1, 1, 1, 1, 1, 1, 1, 1, 1, 1, 1, 1, 1, 1])\n",
      "614 tensor([0, 0, 0, 0, 0, 0, 0, 0, 0, 0, 0, 0, 0, 0, 0, 0, 0, 0, 0, 0])\n",
      "615 tensor([2, 2, 2, 2, 2, 2, 2, 2, 2, 2, 2, 2, 2, 2, 2, 2, 2, 2, 2, 2])\n",
      "616 tensor([2, 2, 1, 1, 1, 2, 1, 0, 1, 2, 0, 2, 2, 2, 2, 1, 1, 2, 2, 1])\n",
      "617 tensor([1, 2, 0, 2, 2, 0, 2, 2, 2, 0, 1, 2, 1, 0, 2, 1, 2, 1, 0, 0])\n",
      "618 tensor([0, 0, 0, 2, 0, 2, 1, 0, 0, 1, 2, 1, 0, 2, 2, 1, 1, 2, 2, 2])\n",
      "619 tensor([2, 0, 1, 2, 2, 2, 1, 1, 1, 2, 2, 0, 1, 2, 2, 0, 1, 2, 2, 2])\n",
      "620 tensor([2, 1, 2, 2, 0, 2, 0, 1, 0, 2, 1, 0, 1, 1, 1, 2, 2, 2, 1, 1])\n",
      "621 tensor([0, 2, 0, 2, 2, 0, 1, 1, 1, 2, 2, 0, 0, 1, 1, 0, 0, 0, 1, 2])\n",
      "622 tensor([2, 0, 2, 0, 2, 0, 1, 2, 2, 0, 2, 1, 0, 2, 1, 2, 2, 0, 0, 1])\n",
      "623 tensor([1, 0, 2, 2, 1, 2, 0, 2, 2, 0, 1, 1, 2, 0, 1, 0, 2, 2, 2, 2])\n",
      "624 tensor([2, 1, 0, 2, 1, 0, 2, 2, 0, 1, 2, 1, 1, 1, 0, 2, 2, 2, 2, 2])\n",
      "625 tensor([1, 1, 1, 1, 1, 1, 1, 1, 1, 1, 1, 1, 1, 1, 1, 1, 1, 1, 1, 1])\n",
      "626 tensor([0, 1, 2, 2, 2, 1, 1, 1, 1, 2, 0, 2, 2, 1, 2, 1, 2, 2, 1, 2])\n",
      "627 tensor([0, 1, 1, 1, 1, 2, 2, 0, 0, 2, 2, 1, 2, 1, 2, 1, 2, 2, 2, 2])\n",
      "628 tensor([2, 0, 2, 1, 0, 2, 0, 1, 1, 1, 0, 1, 1, 1, 2, 1, 2, 1, 0, 2])\n",
      "629 tensor([1, 1, 2, 2, 2, 1, 0, 0, 1, 1, 0, 2, 1, 2, 1, 0, 2, 0, 1, 2])\n",
      "630 tensor([1, 0, 0, 2, 1, 0, 1, 1, 2, 1, 2, 1, 1, 2, 2, 1, 2, 2, 2, 1])\n",
      "631 tensor([2, 1, 2, 1, 1, 0, 1, 2, 0, 2, 0, 0, 1, 1, 1, 0, 1, 2, 1, 0])\n",
      "632 tensor([2, 0, 2, 2, 1, 1, 1, 2, 0, 0, 0, 1, 2, 2, 2, 1, 1, 1, 0, 2])\n",
      "633 tensor([0, 1, 1, 0, 0, 0, 2, 0, 2, 1, 2, 0, 1, 2, 2, 2, 1, 0, 1, 0])\n",
      "634 tensor([1, 2, 2, 0, 1, 2, 2, 1, 2, 2, 1, 1, 2, 1, 2, 0, 2, 2, 2, 2])\n",
      "635 tensor([2, 2, 2, 2, 2, 2, 2, 2, 2, 2, 2, 2, 2, 2, 2, 2, 2, 2, 2, 2])\n",
      "636 tensor([2, 2, 1, 1, 0, 2, 1, 0, 1, 2, 2, 2, 2, 2, 1, 2, 1, 1, 2, 0])\n",
      "637 tensor([0, 0, 0, 0, 0, 0, 0, 0, 0, 0, 0, 0, 0, 0, 0, 0, 0, 0, 0, 0])\n",
      "638 tensor([1, 1, 1, 0, 1, 0, 2, 0, 2, 1, 1, 2, 2, 2, 0, 2, 1, 2, 1, 1])\n",
      "639 tensor([0, 1, 2, 2, 0, 0, 2, 1, 1, 0, 1, 2, 1, 2, 0, 2, 2, 2, 2, 0])\n",
      "640 tensor([2, 2, 2, 2, 2, 2, 2, 2, 2, 2, 2, 2, 2, 2, 2, 2, 2, 2, 2, 2])\n",
      "641 tensor([1, 1, 1, 1, 1, 1, 1, 1, 1, 1, 1, 1, 1, 1, 1, 1, 1, 1, 1, 1])\n",
      "642 tensor([0, 0, 0, 0, 0, 0, 0, 0, 0, 0, 0, 0, 0, 0, 0, 0, 0, 0, 0, 0])\n",
      "643 tensor([2, 2, 2, 2, 2, 2, 2, 2, 2, 2, 2, 2, 2, 2, 2, 2, 2, 2, 2, 2])\n",
      "644 tensor([2, 0, 0, 2, 2, 1, 0, 0, 1, 1, 2, 2, 2, 1, 0, 2, 1, 2, 2, 2])\n",
      "645 tensor([0, 0, 2, 1, 2, 2, 1, 0, 2, 1, 1, 2, 0, 0, 0, 1, 2, 1, 0, 1])\n",
      "646 tensor([1, 0, 1, 1, 2, 0, 0, 1, 1, 1, 1, 2, 2, 2, 2, 1, 2, 2, 2, 1])\n",
      "647 tensor([2, 0, 0, 2, 1, 2, 2, 2, 0, 1, 0, 1, 0, 1, 1, 2, 2, 1, 2, 0])\n",
      "648 tensor([2, 1, 2, 2, 2, 2, 1, 2, 1, 2, 2, 2, 2, 2, 1, 0, 0, 2, 1, 1])\n",
      "649 tensor([1, 2, 1, 2, 1, 1, 1, 2, 2, 2, 2, 0, 1, 2, 2, 1, 2, 0, 2, 1])\n",
      "650 tensor([2, 2, 2, 2, 2, 1, 0, 2, 0, 0, 2, 2, 2, 0, 1, 1, 2, 2, 0, 2])\n",
      "651 tensor([2, 0, 1, 2, 1, 2, 2, 0, 1, 2, 1, 2, 1, 1, 1, 1, 2, 1, 1, 2])\n",
      "652 tensor([2, 1, 0, 2, 2, 0, 0, 2, 1, 1, 2, 1, 1, 1, 1, 2, 2, 1, 0, 1])\n",
      "653 tensor([1, 1, 1, 1, 1, 1, 1, 1, 1, 1, 1, 1, 1, 1, 1, 1, 1, 1, 1, 1])\n",
      "654 tensor([1, 0, 0, 2, 2, 0, 1, 0, 0, 1, 2, 0, 0, 2, 1, 2, 1, 1, 2, 0])\n",
      "655 tensor([2, 2, 2, 2, 2, 0, 0, 1, 0, 1, 2, 2, 0, 2, 1, 2, 1, 2, 2, 1])\n",
      "656 tensor([1, 1, 1, 2, 0, 2, 2, 2, 1, 2, 2, 0, 2, 2, 1, 0, 0, 1, 1, 2])\n",
      "657 tensor([0, 0, 1, 0, 0, 1, 1, 2, 2, 2, 0, 2, 0, 1, 0, 2, 1, 0, 1, 2])\n",
      "658 tensor([0, 2, 2, 2, 0, 1, 1, 1, 2, 0, 2, 0, 2, 0, 2, 0, 2, 2, 2, 2])\n",
      "659 tensor([0, 0, 1, 2, 1, 0, 2, 2, 0, 2, 2, 1, 2, 1, 1, 0, 2, 2, 0, 1])\n",
      "660 tensor([0, 1, 2, 2, 1, 0, 0, 0, 2, 2, 0, 1, 0, 2, 0, 0, 2, 0, 0, 2])\n",
      "661 tensor([2, 2, 0, 0, 2, 0, 0, 2, 1, 1, 1, 2, 1, 0, 0, 1, 0, 2, 2, 2])\n",
      "662 tensor([1, 2, 1, 0, 2, 1, 2, 0, 2, 2, 1, 2, 0, 2, 2, 1, 1, 2, 2, 2])\n",
      "663 tensor([2, 2, 2, 2, 2, 2, 2, 2, 2, 2, 2, 2, 2, 2, 2, 2, 2, 2, 2, 2])\n",
      "664 tensor([2, 2, 2, 2, 1, 2, 1, 0, 0, 0, 2, 1, 1, 0, 1, 2, 0, 2, 2, 0])\n",
      "665 tensor([0, 0, 0, 0, 0, 0, 0, 0, 0, 0, 0, 0, 0, 0, 0, 0, 0, 0, 0, 0])\n",
      "666 tensor([2, 0, 2, 2, 2, 0, 0, 2, 2, 2, 2, 0, 2, 0, 0, 1, 2, 0, 0, 1])\n",
      "667 tensor([1, 1, 2, 0, 2, 1, 1, 0, 2, 0, 0, 0, 1, 0, 2, 1, 2, 1, 1, 0])\n",
      "668 tensor([2, 2, 2, 2, 2, 2, 2, 2, 2, 2, 2, 2, 2, 2, 2, 2, 2, 2, 2, 2])\n",
      "669 tensor([1, 1, 1, 1, 1, 1, 1, 1, 1, 1, 1, 1, 1, 1, 1, 1, 1, 1, 1, 1])\n",
      "670 tensor([0, 0, 0, 0, 0, 0, 0, 0, 0, 0, 0, 0, 0, 0, 0, 0, 0, 0, 0, 0])\n",
      "671 tensor([2, 2, 2, 2, 2, 2, 2, 2, 2, 2, 2, 2, 2, 2, 2, 2, 2, 2, 2, 2])\n",
      "672 tensor([2, 1, 0, 1, 1, 1, 1, 2, 2, 0, 1, 0, 2, 1, 2, 2, 2, 1, 1, 2])\n",
      "673 tensor([1, 0, 2, 2, 0, 2, 1, 1, 1, 2, 0, 0, 2, 0, 1, 0, 2, 2, 0, 1])\n",
      "674 tensor([2, 2, 0, 2, 1, 2, 0, 2, 0, 2, 1, 2, 2, 2, 1, 1, 2, 0, 2, 2])\n",
      "675 tensor([2, 2, 2, 0, 2, 2, 2, 2, 2, 0, 0, 0, 1, 2, 1, 0, 2, 1, 1, 2])\n",
      "676 tensor([2, 1, 0, 1, 2, 0, 0, 2, 0, 2, 2, 0, 2, 1, 2, 1, 2, 0, 0, 2])\n",
      "677 tensor([2, 2, 0, 0, 0, 0, 2, 0, 0, 1, 2, 2, 1, 2, 2, 0, 0, 0, 2, 1])\n",
      "678 tensor([2, 2, 0, 2, 2, 0, 2, 0, 0, 1, 1, 1, 2, 1, 2, 0, 0, 0, 1, 0])\n",
      "679 tensor([2, 1, 2, 1, 1, 0, 1, 1, 1, 0, 2, 1, 0, 1, 2, 2, 1, 1, 0, 0])\n",
      "680 tensor([0, 0, 2, 1, 0, 2, 0, 0, 0, 2, 2, 1, 1, 2, 1, 2, 0, 2, 2, 1])\n",
      "681 tensor([1, 1, 1, 1, 1, 1, 1, 1, 1, 1, 1, 1, 1, 1, 1, 1, 1, 1, 1, 1])\n",
      "682 tensor([0, 2, 0, 1, 2, 2, 2, 0, 0, 2, 1, 2, 1, 0, 0, 2, 1, 1, 2, 0])\n",
      "683 tensor([0, 0, 0, 2, 0, 2, 0, 2, 2, 2, 2, 2, 0, 2, 0, 1, 2, 2, 0, 1])\n",
      "684 tensor([1, 2, 1, 0, 2, 0, 1, 0, 2, 1, 0, 1, 1, 2, 2, 1, 2, 2, 1, 1])\n",
      "685 tensor([2, 2, 0, 2, 2, 1, 1, 2, 2, 1, 2, 1, 1, 2, 0, 2, 2, 2, 0, 2])\n",
      "686 tensor([2, 2, 2, 2, 0, 2, 2, 2, 2, 2, 2, 0, 0, 2, 2, 0, 2, 2, 0, 1])\n",
      "687 tensor([2, 1, 2, 2, 1, 0, 0, 1, 1, 1, 2, 1, 1, 1, 2, 0, 2, 0, 0, 2])\n",
      "688 tensor([0, 1, 2, 0, 1, 0, 1, 2, 2, 1, 1, 2, 2, 1, 2, 1, 2, 0, 2, 2])\n",
      "689 tensor([2, 2, 1, 2, 1, 2, 1, 1, 2, 1, 1, 1, 2, 0, 1, 1, 0, 1, 2, 0])\n",
      "690 tensor([0, 1, 2, 1, 2, 1, 2, 1, 0, 2, 0, 2, 2, 0, 2, 2, 0, 2, 1, 2])\n",
      "691 tensor([2, 2, 1, 1, 2, 2, 2, 2, 2, 0, 2, 0, 2, 1, 1, 0, 0, 0, 2, 1])\n",
      "692 tensor([2, 2, 0, 2, 1, 0, 0, 0, 0, 1, 2, 1, 0, 1, 0, 2, 0, 2, 1, 1])\n",
      "693 tensor([0, 0, 0, 0, 0, 0, 0, 0, 0, 0, 0, 0, 0, 0, 0, 0, 0, 0, 0, 0])\n",
      "694 tensor([1, 1, 0, 2, 2, 2, 2, 0, 2, 0, 1, 2, 0, 2, 0, 1, 0, 0, 2, 1])\n",
      "695 tensor([0, 2, 0, 2, 1, 0, 0, 2, 1, 0, 0, 0, 0, 0, 2, 2, 2, 0, 2, 1])\n",
      "696 tensor([2, 2, 2, 2, 2, 2, 2, 2, 2, 2, 2, 2, 2, 2, 2, 2, 2, 2, 2, 2])\n",
      "697 tensor([1, 1, 1, 1, 1, 1, 1, 1, 1, 1, 1, 1, 1, 1, 1, 1, 1, 1, 1, 1])\n",
      "698 tensor([0, 0, 0, 0, 0, 0, 0, 0, 0, 0, 0, 0, 0, 0, 0, 0, 0, 0, 0, 0])\n",
      "699 tensor([2, 2, 2, 2, 2, 2, 2, 2, 2, 2, 2, 2, 2, 2, 2, 2, 2, 2, 2, 2])\n",
      "700 tensor([2, 2, 1, 0, 0, 1, 2, 1, 0, 0, 2, 1, 2, 2, 2, 2, 2, 2, 2, 1])\n",
      "701 tensor([0, 0, 0, 2, 1, 2, 2, 2, 0, 0, 2, 2, 2, 2, 2, 1, 0, 0, 0, 2])\n",
      "702 tensor([2, 0, 1, 0, 1, 0, 2, 2, 1, 2, 0, 0, 2, 2, 0, 2, 1, 2, 1, 1])\n",
      "703 tensor([1, 0, 1, 1, 1, 1, 2, 1, 2, 0, 0, 1, 2, 2, 0, 1, 2, 2, 2, 1])\n",
      "704 tensor([0, 2, 1, 0, 1, 0, 0, 2, 0, 2, 2, 2, 1, 2, 0, 2, 2, 2, 2, 1])\n",
      "705 tensor([0, 1, 0, 1, 1, 2, 2, 1, 2, 1, 1, 1, 2, 0, 2, 1, 1, 2, 2, 0])\n",
      "706 tensor([0, 2, 0, 2, 1, 2, 0, 1, 2, 0, 1, 0, 1, 2, 1, 0, 1, 2, 0, 0])\n",
      "707 tensor([1, 1, 0, 2, 2, 2, 1, 1, 0, 2, 2, 2, 0, 2, 0, 2, 2, 2, 0, 2])\n",
      "708 tensor([0, 1, 0, 2, 2, 0, 2, 2, 1, 1, 2, 2, 0, 2, 0, 2, 2, 1, 0, 1])\n",
      "709 tensor([1, 1, 1, 1, 1, 1, 1, 1, 1, 1, 1, 1, 1, 1, 1, 1, 1, 1, 1, 1])\n",
      "710 tensor([1, 1, 2, 2, 1, 0, 2, 2, 2, 2, 2, 2, 2, 1, 1, 0, 2, 0, 2, 0])\n",
      "711 tensor([0, 2, 1, 1, 0, 2, 1, 1, 2, 0, 0, 2, 1, 2, 0, 1, 1, 2, 2, 0])\n",
      "712 tensor([0, 2, 2, 0, 1, 2, 0, 0, 1, 0, 1, 2, 1, 0, 1, 1, 1, 1, 0, 1])\n",
      "713 tensor([2, 1, 2, 2, 1, 2, 2, 1, 1, 2, 2, 0, 2, 1, 2, 2, 1, 1, 1, 2])\n",
      "714 tensor([2, 2, 2, 0, 2, 2, 2, 1, 0, 2, 0, 2, 1, 0, 2, 1, 0, 0, 0, 1])\n",
      "715 tensor([0, 0, 2, 1, 1, 0, 1, 1, 2, 0, 1, 1, 2, 0, 2, 1, 2, 2, 1, 2])\n",
      "716 tensor([0, 0, 2, 2, 1, 2, 0, 1, 1, 2, 2, 2, 0, 2, 0, 0, 0, 2, 0, 2])\n",
      "717 tensor([2, 0, 0, 2, 0, 0, 1, 0, 0, 0, 2, 0, 1, 1, 1, 1, 0, 1, 0, 0])\n",
      "718 tensor([1, 2, 2, 1, 0, 1, 0, 1, 2, 2, 0, 0, 2, 1, 2, 2, 2, 1, 0, 0])\n",
      "719 tensor([1, 2, 2, 0, 1, 2, 1, 2, 0, 2, 2, 1, 0, 2, 2, 2, 0, 2, 1, 2])\n",
      "720 tensor([0, 1, 0, 1, 0, 0, 1, 2, 0, 0, 1, 1, 0, 0, 1, 2, 2, 2, 2, 1])\n",
      "721 tensor([0, 0, 0, 0, 0, 0, 0, 0, 0, 0, 0, 0, 0, 0, 0, 2, 0, 2, 1, 0])\n",
      "722 tensor([2, 2, 2, 2, 1, 2, 1, 2, 1, 0, 2, 2, 1, 2, 2, 1, 2, 1, 2, 1])\n",
      "723 tensor([2, 2, 0, 1, 0, 2, 1, 0, 2, 2, 2, 1, 2, 2, 2, 1, 2, 0, 0, 1])\n",
      "724 tensor([2, 2, 2, 2, 2, 2, 2, 2, 2, 2, 2, 2, 2, 2, 2, 2, 2, 2, 2, 2])\n",
      "725 tensor([1, 1, 1, 1, 1, 1, 1, 1, 1, 1, 1, 1, 1, 0, 2, 2, 0, 1, 2, 0])\n",
      "726 tensor([0, 0, 0, 0, 0, 0, 0, 0, 0, 0, 0, 0, 0, 0, 0, 0, 0, 0, 0, 0])\n",
      "727 tensor([2, 2, 2, 2, 2, 2, 2, 2, 2, 2, 2, 2, 2, 2, 2, 2, 2, 2, 2, 2])\n",
      "728 tensor([1, 1, 2, 1, 0, 2, 0, 2, 2, 2, 2, 1, 2, 0, 2, 1, 0, 2, 0, 1])\n",
      "729 tensor([1, 1, 2, 2, 1, 2, 0, 1, 1, 0, 2, 1, 2, 0, 2, 0, 0, 0, 0, 0])\n",
      "730 tensor([0, 0, 2, 2, 2, 0, 1, 2, 0, 1, 2, 2, 2, 2, 2, 1, 2, 2, 2, 1])\n",
      "731 tensor([0, 1, 2, 1, 1, 2, 2, 1, 2, 2, 0, 2, 0, 2, 0, 1, 0, 2, 1, 0])\n",
      "732 tensor([2, 2, 1, 1, 2, 0, 1, 0, 2, 0, 2, 0, 2, 2, 2, 2, 1, 1, 1, 2])\n",
      "733 tensor([2, 2, 0, 2, 1, 2, 1, 0, 2, 0, 1, 0, 2, 1, 1, 1, 2, 1, 0, 0])\n",
      "734 tensor([2, 0, 2, 1, 1, 2, 0, 0, 2, 2, 0, 2, 2, 2, 2, 1, 2, 0, 2, 0])\n",
      "735 tensor([2, 2, 2, 2, 0, 2, 1, 1, 2, 2, 1, 0, 2, 1, 2, 2, 1, 1, 2, 2])\n",
      "736 tensor([2, 1, 2, 2, 2, 0, 2, 2, 2, 2, 2, 2, 2, 2, 2, 0, 2, 2, 0, 1])\n",
      "737 tensor([1, 1, 1, 1, 1, 1, 1, 1, 1, 1, 1, 1, 1, 1, 1, 1, 1, 1, 1, 1])\n",
      "738 tensor([2, 2, 0, 2, 2, 2, 0, 1, 2, 2, 2, 0, 0, 1, 1, 2, 0, 1, 2, 1])\n",
      "739 tensor([1, 0, 0, 2, 0, 1, 2, 0, 1, 0, 2, 1, 1, 0, 1, 0, 0, 0, 1, 2])\n",
      "740 tensor([1, 2, 2, 2, 2, 1, 2, 1, 2, 2, 2, 0, 1, 0, 1, 2, 1, 2, 0, 2])\n",
      "741 tensor([2, 2, 2, 0, 2, 2, 1, 2, 1, 1, 0, 0, 1, 1, 0, 2, 0, 2, 1, 0])\n",
      "742 tensor([2, 0, 2, 2, 2, 0, 0, 2, 0, 0, 2, 1, 0, 0, 2, 2, 2, 0, 1, 0])\n",
      "743 tensor([0, 2, 0, 2, 1, 2, 2, 1, 2, 2, 2, 2, 2, 2, 1, 0, 2, 0, 0, 1])\n",
      "744 tensor([2, 1, 2, 2, 1, 0, 2, 2, 0, 2, 0, 2, 2, 2, 2, 2, 1, 0, 2, 1])\n",
      "745 tensor([2, 2, 0, 2, 0, 1, 0, 0, 2, 0, 0, 0, 1, 1, 0, 1, 0, 1, 0, 0])\n",
      "746 tensor([2, 1, 1, 0, 2, 0, 1, 2, 1, 2, 0, 1, 2, 2, 2, 1, 0, 2, 1, 1])\n",
      "747 tensor([2, 1, 0, 2, 2, 0, 0, 1, 2, 2, 1, 1, 1, 1, 2, 2, 1, 1, 2, 0])\n",
      "748 tensor([1, 1, 2, 2, 2, 1, 0, 2, 0, 0, 1, 0, 1, 2, 2, 2, 1, 2, 0, 0])\n",
      "749 tensor([2, 2, 0, 0, 0, 1, 1, 2, 2, 2, 0, 1, 1, 1, 2, 2, 2, 1, 2, 1])\n",
      "750 tensor([2, 1, 2, 2, 1, 1, 2, 1, 2, 2, 0, 2, 2, 1, 2, 0, 2, 0, 1, 2])\n",
      "751 tensor([0, 2, 0, 1, 2, 2, 2, 0, 0, 2, 0, 0, 0, 0, 0, 1, 0, 1, 1, 1])\n",
      "752 tensor([2, 2, 2, 2, 2, 2, 2, 2, 2, 2, 2, 2, 2, 2, 2, 2, 2, 2, 2, 2])\n",
      "753 tensor([0, 0, 0, 0, 2, 2, 2, 2, 0, 2, 0, 2, 1, 2, 2, 1, 2, 2, 2, 0])\n",
      "754 tensor([0, 0, 0, 0, 0, 0, 0, 0, 0, 0, 0, 0, 0, 0, 0, 0, 0, 0, 0, 0])\n",
      "755 tensor([2, 2, 2, 2, 2, 2, 2, 2, 2, 2, 2, 2, 2, 2, 2, 2, 2, 2, 2, 2])\n",
      "756 tensor([0, 2, 0, 2, 0, 2, 2, 0, 2, 2, 1, 2, 0, 2, 0, 1, 1, 2, 0, 2])\n",
      "757 tensor([2, 2, 1, 0, 2, 0, 2, 1, 1, 1, 0, 1, 2, 1, 0, 1, 2, 0, 0, 0])\n",
      "758 tensor([0, 2, 1, 2, 0, 1, 0, 1, 2, 1, 2, 2, 0, 1, 2, 2, 2, 2, 2, 0])\n",
      "759 tensor([0, 2, 0, 1, 0, 2, 2, 0, 1, 1, 0, 2, 0, 0, 2, 1, 0, 2, 1, 0])\n",
      "760 tensor([0, 0, 1, 2, 0, 0, 2, 0, 2, 0, 2, 2, 0, 0, 2, 2, 2, 2, 0, 0])\n",
      "761 tensor([2, 2, 2, 0, 2, 2, 1, 2, 0, 2, 2, 1, 2, 2, 0, 2, 2, 1, 2, 0])\n",
      "762 tensor([2, 0, 0, 2, 2, 0, 2, 0, 1, 2, 0, 2, 1, 2, 1, 2, 2, 2, 2, 2])\n",
      "763 tensor([2, 1, 2, 2, 1, 0, 2, 2, 1, 0, 2, 1, 2, 2, 2, 2, 2, 2, 0, 2])\n",
      "764 tensor([1, 1, 1, 0, 1, 0, 0, 2, 0, 0, 0, 2, 2, 0, 0, 0, 0, 0, 2, 2])\n",
      "765 tensor([1, 1, 1, 1, 1, 1, 1, 1, 1, 1, 1, 1, 1, 1, 1, 1, 1, 1, 1, 1])\n",
      "766 tensor([1, 2, 1, 0, 0, 0, 1, 1, 2, 2, 2, 0, 1, 0, 0, 1, 2, 0, 1, 2])\n",
      "767 tensor([1, 2, 1, 2, 1, 0, 2, 0, 2, 1, 2, 2, 2, 2, 2, 1, 2, 0, 2, 0])\n",
      "768 tensor([0, 1, 0, 1, 2, 0, 2, 1, 0, 2, 2, 0, 1, 1, 2, 2, 1, 2, 2, 2])\n",
      "769 tensor([0, 0, 2, 0, 2, 0, 2, 1, 2, 2, 2, 0, 1, 1, 2, 1, 2, 2, 0, 2])\n",
      "770 tensor([1, 2, 0, 2, 1, 2, 1, 0, 2, 0, 1, 0, 2, 1, 2, 1, 2, 2, 0, 2])\n",
      "771 tensor([0, 0, 2, 2, 1, 0, 1, 2, 0, 2, 1, 2, 1, 2, 0, 1, 2, 1, 1, 2])\n",
      "772 tensor([0, 2, 2, 0, 2, 1, 2, 2, 2, 1, 2, 2, 2, 1, 2, 1, 2, 0, 1, 2])\n",
      "773 tensor([2, 0, 2, 2, 1, 1, 2, 2, 0, 1, 0, 2, 0, 2, 0, 2, 2, 2, 2, 1])\n",
      "774 tensor([2, 2, 2, 2, 1, 2, 1, 2, 2, 2, 2, 2, 1, 2, 1, 2, 2, 1, 0, 0])\n",
      "775 tensor([1, 2, 1, 1, 0, 1, 1, 0, 1, 2, 0, 2, 2, 2, 0, 0, 1, 1, 1, 1])\n",
      "776 tensor([2, 0, 0, 2, 0, 2, 2, 2, 1, 2, 2, 2, 1, 2, 2, 2, 0, 1, 2, 2])\n",
      "777 tensor([2, 1, 1, 0, 0, 2, 1, 2, 0, 2, 1, 1, 2, 0, 1, 0, 2, 0, 2, 0])\n",
      "778 tensor([0, 0, 2, 2, 1, 2, 0, 2, 2, 2, 2, 2, 2, 0, 0, 2, 0, 0, 1, 2])\n",
      "779 tensor([0, 0, 2, 0, 2, 0, 2, 0, 2, 0, 2, 0, 2, 2, 2, 0, 0, 1, 2, 2])\n",
      "780 tensor([2, 2, 2, 2, 2, 2, 2, 0, 2, 1, 2, 2, 1, 1, 2, 0, 1, 2, 1, 1])\n",
      "781 tensor([1, 0, 2, 0, 2, 0, 2, 2, 2, 1, 2, 0, 2, 0, 2, 0, 2, 1, 1, 1])\n",
      "782 tensor([0, 0, 0, 0, 0, 0, 0, 0, 0, 0, 0, 0, 0, 0, 0, 0, 0, 0, 2, 2])\n",
      "783 tensor([2, 2, 2, 2, 2, 2, 2, 2, 2, 2, 2, 2, 2, 2, 2, 2, 2, 2, 2, 2])\n",
      "784 tensor([0, 2, 2, 2, 2, 0, 2, 2, 0, 2, 2, 2, 1, 1, 0, 2, 0, 1, 1, 0])\n",
      "785 tensor([2, 2, 1, 2, 0, 2, 2, 0, 0, 1, 2, 1, 2, 2, 1, 0, 1, 2, 0, 1])\n",
      "786 tensor([2, 2, 2, 2, 0, 2, 1, 0, 2, 1, 0, 1, 0, 2, 2, 1, 2, 0, 1, 1])\n",
      "787 tensor([1, 1, 0, 1, 2, 0, 2, 1, 0, 2, 0, 2, 0, 1, 2, 0, 1, 2, 2, 0])\n",
      "788 tensor([0, 0, 2, 1, 2, 2, 0, 1, 2, 1, 0, 0, 2, 0, 2, 0, 0, 2, 2, 1])\n",
      "789 tensor([2, 1, 1, 2, 1, 1, 1, 2, 2, 1, 2, 0, 0, 0, 0, 2, 1, 0, 0, 1])\n",
      "790 tensor([0, 2, 2, 1, 2, 0, 1, 2, 0, 0, 1, 0, 2, 2, 2, 2, 0, 2, 0, 2])\n",
      "791 tensor([2, 2, 1, 1, 0, 2, 2, 2, 2, 1, 2, 0, 2, 1, 2, 2, 2, 2, 1, 1])\n",
      "792 tensor([2, 0, 2, 2, 0, 1, 2, 1, 2, 2, 2, 0, 1, 0, 2, 2, 1, 1, 2, 1])\n",
      "793 tensor([1, 1, 1, 0, 2, 2, 2, 1, 2, 2, 2, 0, 0, 2, 1, 1, 1, 1, 1, 2])\n",
      "794 tensor([0, 1, 2, 1, 0, 2, 0, 2, 1, 0, 2, 2, 1, 2, 2, 0, 0, 0, 2, 1])\n",
      "795 tensor([2, 2, 2, 2, 2, 1, 1, 2, 1, 0, 2, 2, 1, 1, 2, 2, 1, 2, 1, 1])\n",
      "796 tensor([2, 0, 1, 2, 0, 0, 0, 1, 0, 1, 0, 0, 0, 2, 2, 0, 1, 1, 2, 1])\n",
      "797 tensor([1, 1, 1, 1, 1, 0, 0, 2, 0, 1, 2, 1, 1, 0, 0, 1, 2, 2, 2, 1])\n",
      "798 tensor([0, 2, 0, 2, 0, 2, 0, 0, 2, 1, 2, 2, 1, 1, 0, 2, 2, 1, 0, 2])\n",
      "799 tensor([2, 0, 1, 2, 1, 1, 1, 1, 2, 2, 0, 1, 2, 2, 2, 0, 2, 2, 1, 1])\n",
      "800 tensor([0, 2, 2, 1, 2, 0, 0, 2, 1, 1, 2, 2, 0, 2, 1, 0, 0, 1, 1, 1])\n",
      "801 tensor([2, 2, 0, 1, 2, 2, 0, 2, 1, 1, 0, 0, 0, 2, 2, 2, 1, 1, 1, 1])\n",
      "802 tensor([2, 0, 2, 1, 0, 1, 2, 0, 2, 0, 2, 0, 0, 1, 2, 2, 1, 2, 2, 1])\n",
      "803 tensor([2, 2, 2, 2, 0, 2, 0, 2, 0, 2, 2, 1, 2, 2, 1, 2, 2, 2, 2, 0])\n",
      "804 tensor([0, 0, 0, 1, 1, 0, 2, 2, 0, 2, 2, 1, 2, 2, 2, 2, 2, 0, 0, 1])\n",
      "805 tensor([1, 0, 1, 2, 1, 2, 0, 1, 2, 1, 2, 0, 2, 2, 2, 0, 0, 2, 2, 2])\n",
      "806 tensor([2, 2, 2, 2, 1, 2, 2, 0, 1, 2, 2, 0, 2, 0, 0, 2, 2, 1, 2, 1])\n",
      "807 tensor([0, 1, 1, 2, 0, 1, 2, 1, 0, 2, 2, 1, 2, 0, 1, 2, 2, 2, 0, 1])\n",
      "808 tensor([1, 0, 1, 2, 2, 1, 2, 0, 2, 0, 0, 2, 0, 0, 2, 1, 1, 2, 0, 0])\n",
      "809 tensor([2, 2, 2, 2, 0, 0, 2, 1, 2, 2, 2, 2, 0, 1, 0, 0, 0, 0, 0, 2])\n",
      "810 tensor([1, 0, 1, 0, 0, 0, 2, 0, 0, 0, 2, 0, 0, 0, 2, 1, 2, 1, 1, 1])\n",
      "811 tensor([2, 0, 2, 2, 2, 2, 1, 1, 0, 0, 0, 2, 2, 1, 0, 2, 1, 2, 0, 1])\n"
     ]
    }
   ],
   "source": [
    "for i in range(len(rnn_tab_ds.data)):\n",
    "    print(i, rnn_tab_ds.data[i][1])"
   ]
  },
  {
   "cell_type": "code",
   "execution_count": 33,
   "metadata": {
    "hidden": true
   },
   "outputs": [],
   "source": [
    "for i in range(28):\n",
    "    if(len(ds_teams[27][1]) <= 20): print('a')"
   ]
  },
  {
   "cell_type": "code",
   "execution_count": 34,
   "metadata": {
    "hidden": true
   },
   "outputs": [],
   "source": [
    "deep_vars = ['RES']\n",
    "#categorical values\n",
    "cat_names = ['LOC', 'JRD', 'ANO', 'TIPO', 'ES_LOC']\n",
    "#continious variables\n",
    "cont_names = ['L_JJ', 'L_POS', 'L_R_JG_JJ', 'L_R_JE_JJ', 'L_R_JP_JJ', 'L_R_GF_JJ', 'L_R_GC_JJ', 'L_R_DIF_JJ', 'L_R_PTS_JJ',\n",
    "              'V_JJ', 'V_POS', 'V_R_JG_JJ', 'V_R_JE_JJ', 'V_R_JP_JJ', 'V_R_GF_JJ', 'V_R_GC_JJ', 'V_R_DIF_JJ', 'V_R_PTS_JJ']\n",
    "procs = [Categorify, Normalize]"
   ]
  },
  {
   "cell_type": "code",
   "execution_count": 35,
   "metadata": {
    "hidden": true
   },
   "outputs": [],
   "source": [
    "data = (TabularList.from_df(cdf, path=\"./data/ligamx\", cat_names=cat_names, cont_names=cont_names, procs=procs)\n",
    "       .split_none()\n",
    "       .label_from_df(cols=deep_vars)\n",
    "       .databunch(bs=28))"
   ]
  },
  {
   "cell_type": "code",
   "execution_count": 36,
   "metadata": {
    "hidden": true
   },
   "outputs": [],
   "source": [
    "curr_dl = DataLoader(rnn_tab_ds, 28, shuffle=False, drop_last = False)"
   ]
  },
  {
   "cell_type": "code",
   "execution_count": 37,
   "metadata": {
    "hidden": true
   },
   "outputs": [
    {
     "data": {
      "text/plain": [
       "tensor([0, 0, 0, 0, 0, 0, 0, 0, 0, 0, 0, 0, 0, 0, 0, 0, 0, 0, 0, 0])"
      ]
     },
     "execution_count": 37,
     "metadata": {},
     "output_type": "execute_result"
    }
   ],
   "source": [
    "rnn_tab_ds[26][1][:20]"
   ]
  },
  {
   "cell_type": "code",
   "execution_count": 38,
   "metadata": {
    "hidden": true
   },
   "outputs": [],
   "source": [
    "data.train_dl = curr_dl"
   ]
  },
  {
   "cell_type": "code",
   "execution_count": null,
   "metadata": {
    "hidden": true
   },
   "outputs": [],
   "source": [
    "class TabularModelX(Module):\n",
    "    \"Basic model for tabular data.\"\n",
    "    def __init__(self, emb_szs:ListSizes, n_cont:int, out_sz:int, layers:Collection[int], ps:Collection[float]=None,\n",
    "                 emb_drop:float=0., y_range:OptRange=None, use_bn:bool=True, bn_final:bool=False):\n",
    "        super().__init__()\n",
    "        ps = ifnone(ps, [0]*len(layers))\n",
    "        ps = listify(ps, layers)\n",
    "        self.embeds = nn.ModuleList([embedding(ni, nf) for ni,nf in emb_szs])\n",
    "        self.emb_drop = nn.Dropout(emb_drop)\n",
    "        self.bn_cont = nn.BatchNorm1d(n_cont)\n",
    "        n_emb = sum(e.embedding_dim for e in self.embeds)\n",
    "        self.n_emb,self.n_cont,self.y_range = n_emb,n_cont,y_range\n",
    "        sizes = self.get_sizes(layers, out_sz)\n",
    "        actns = [nn.ReLU(inplace=True) for _ in range(len(sizes)-2)] + [None]\n",
    "        layers = []\n",
    "        for i,(n_in,n_out,dp,act) in enumerate(zip(sizes[:-1],sizes[1:],[0.]+ps,actns)):\n",
    "            layers += bn_drop_lin(n_in, n_out, bn=use_bn and i!=0, p=dp, actn=act)\n",
    "        if bn_final: layers.append(nn.BatchNorm1d(sizes[-1]))\n",
    "        self.layers = nn.Sequential(*layers)\n",
    "\n",
    "    def get_sizes(self, layers, out_sz):\n",
    "        return [self.n_emb + self.n_cont] + layers + [out_sz]\n",
    "\n",
    "    def forward(self, x_cat:Tensor, x_cont:Tensor) -> Tensor:\n",
    "        print(x_cat)\n",
    "        print(x_cont)\n",
    "        if self.n_emb != 0:\n",
    "            x = [e(x_cat[:,i]) for i,e in enumerate(self.embeds)]\n",
    "            x = torch.cat(x, 1)\n",
    "            x = self.emb_drop(x)\n",
    "        if self.n_cont != 0:\n",
    "            x_cont = self.bn_cont(x_cont)\n",
    "            x = torch.cat([x, x_cont], 1) if self.n_emb != 0 else x_cont\n",
    "        x = self.layers(x)\n",
    "        if self.y_range is not None:\n",
    "            x = (self.y_range[1]-self.y_range[0]) * torch.sigmoid(x) + self.y_range[0]\n",
    "        return x"
   ]
  },
  {
   "cell_type": "code",
   "execution_count": null,
   "metadata": {
    "hidden": true
   },
   "outputs": [],
   "source": [
    "def my_tabular_learner(data:DataBunch, layers:Collection[int], emb_szs:Dict[str,int]=None, metrics=None,\n",
    "        ps:Collection[float]=None, emb_drop:float=0., y_range:OptRange=None, use_bn:bool=True, **learn_kwargs):\n",
    "    \"Get a `Learner` using `data`, with `metrics`, including a `TabularModel` created using the remaining params.\"\n",
    "    #emb_szs = data.get_emb_szs(ifnone(emb_szs, {}))\n",
    "    model = TabularModelX(emb_szs, len(data.cont_names), out_sz=data.c, layers=layers, ps=ps, emb_drop=emb_drop,\n",
    "                         y_range=y_range, use_bn=use_bn)\n",
    "    return Learner(data, model, metrics=metrics, **learn_kwargs)"
   ]
  },
  {
   "cell_type": "code",
   "execution_count": null,
   "metadata": {
    "hidden": true
   },
   "outputs": [],
   "source": [
    "learn = my_tabular_learner(data, layers=[500, 200, 100],  ps=[0.1, 0.1, 0.1], emb_drop=0.1, metrics=accuracy)"
   ]
  },
  {
   "cell_type": "code",
   "execution_count": null,
   "metadata": {
    "hidden": true
   },
   "outputs": [],
   "source": [
    "data = data.databunch(bs=len(cdf))"
   ]
  },
  {
   "cell_type": "markdown",
   "metadata": {},
   "source": [
    "# Model"
   ]
  },
  {
   "cell_type": "markdown",
   "metadata": {
    "heading_collapsed": true
   },
   "source": [
    "## Creation"
   ]
  },
  {
   "cell_type": "code",
   "execution_count": 154,
   "metadata": {
    "hidden": true
   },
   "outputs": [],
   "source": [
    "class RnnTabularModel(nn.Module):\n",
    "    \"Basic model for tabular data.\"\n",
    "    def __init__(self, emb_szs:ListSizes, n_cont:int, out_sz:int, lyrs:int, bs:int, ps:Collection[float]=None,\n",
    "                 emb_drop:float=0., y_range:OptRange=None, use_bn:bool=True, bn_final:bool=False):\n",
    "        super().__init__()\n",
    "        self.embeds = nn.ModuleList([embedding(ni, nf) for ni,nf in emb_szs])\n",
    "        self.emb_drop = nn.Dropout(emb_drop)\n",
    "        self.bn_cont = nn.BatchNorm1d(n_cont)\n",
    "        n_emb = sum(e.embedding_dim for e in self.embeds)\n",
    "        self.n_emb,self.n_cont,self.y_range = n_emb,n_cont,y_range\n",
    "\n",
    "        #rnn stuff\n",
    "        self.nh = n_cont\n",
    "        for ni, nf in emb_szs: self.nh += nf\n",
    "        self.rnn = nn.GRU(self.nh, self.nh, lyrs, batch_first=True)\n",
    "        self.h_o = nn.Linear(self.nh,out_sz)\n",
    "        self.bn = BatchNorm1dFlat(self.nh)\n",
    "        self.h = torch.zeros(lyrs, bs, self.nh)#.cuda()\n",
    "\n",
    "\n",
    "    def forward(self, x_cat:Tensor, x_cont:Tensor) -> Tensor:\n",
    "        i_proc = torch.zeros(x_cat.shape[0], x_cat.shape[1], self.nh);\n",
    "        \n",
    "        for i_bptt in range(x_cat.shape[1]):\n",
    "            curr_cat = x_cat[:,i_bptt,:]\n",
    "            curr_cont = x_cont[:,i_bptt,:]\n",
    "            \n",
    "            if self.n_emb != 0:\n",
    "                x = [e(curr_cat[:,i]) for i,e in enumerate(self.embeds)]\n",
    "                x = torch.cat(x, 1)\n",
    "                x = self.emb_drop(x)\n",
    "            if self.n_cont != 0:\n",
    "                curr_cont = self.bn_cont(curr_cont)\n",
    "                x = torch.cat([x, curr_cont], 1) if self.n_emb != 0 else curr_cont\n",
    "            i_proc[:, i_bptt] = x\n",
    "            \n",
    "        res,h = self.rnn(i_proc, self.h)\n",
    "        self.h = h.detach()\n",
    "        return self.h_o(self.bn(res))"
   ]
  },
  {
   "cell_type": "code",
   "execution_count": 64,
   "metadata": {
    "hidden": true
   },
   "outputs": [],
   "source": [
    "nn.GRU()"
   ]
  },
  {
   "cell_type": "code",
   "execution_count": null,
   "metadata": {
    "hidden": true
   },
   "outputs": [],
   "source": [
    "class Model5(nn.Module):\n",
    "    def __init__(self):\n",
    "        super().__init__()\n",
    "        self.i_h = nn.Embedding(nv,nh)\n",
    "        self.rnn = nn.GRU(nh, nh, 2, batch_first=True)\n",
    "        self.h_o = nn.Linear(nh,nv)\n",
    "        self.bn = BatchNorm1dFlat(nh)\n",
    "        self.h = torch.zeros(2, bs, nh).cuda()\n",
    "        \n",
    "    def forward(self, x):\n",
    "        res,h = self.rnn(self.i_h(x), self.h)\n",
    "        self.h = h.detach()\n",
    "        return self.h_o(self.bn(res))"
   ]
  },
  {
   "cell_type": "markdown",
   "metadata": {},
   "source": [
    "## Use of model"
   ]
  },
  {
   "cell_type": "code",
   "execution_count": 57,
   "metadata": {},
   "outputs": [
    {
     "name": "stdout",
     "output_type": "stream",
     "text": [
      "GPU not available, CPU used\n"
     ]
    }
   ],
   "source": [
    "# torch.cuda.is_available() checks and returns a Boolean True if a GPU is available, else it'll return False\n",
    "is_cuda = torch.cuda.is_available()\n",
    "\n",
    "# If we have a GPU available, we'll set our device to GPU. We'll use this device variable later in our code.\n",
    "if is_cuda:\n",
    "    device = torch.device(\"cuda\")\n",
    "    print(\"GPU is available\")\n",
    "else:\n",
    "    device = torch.device(\"cpu\")\n",
    "    print(\"GPU not available, CPU used\")"
   ]
  },
  {
   "cell_type": "code",
   "execution_count": 55,
   "metadata": {},
   "outputs": [],
   "source": [
    "deep_vars = ['RES']\n",
    "#categorical values\n",
    "cat_names = ['LOC','JRD', 'ANO', 'TIPO']\n",
    "#continious variables\n",
    "cont_names = ['L_JJ', 'L_POS', 'L_R_JG_JJ', 'L_R_JE_JJ', 'L_R_JP_JJ', 'L_R_GF_JJ', 'L_R_GC_JJ', 'L_R_DIF_JJ', 'L_R_PTS_JJ',\n",
    "              'V_JJ', 'V_POS', 'V_R_JG_JJ', 'V_R_JE_JJ', 'V_R_JP_JJ', 'V_R_GF_JJ', 'V_R_GC_JJ', 'V_R_DIF_JJ', 'V_R_PTS_JJ']"
   ]
  },
  {
   "cell_type": "code",
   "execution_count": 69,
   "metadata": {},
   "outputs": [],
   "source": [
    "emb_szs = [(29, 15), (21, 9), (18, 8), (3, 3)]\n",
    "n_cont =len(cont_names)\n",
    "out_sz = 3 #total possibilities\n",
    "lyrs = 2\n",
    "bs = 28"
   ]
  },
  {
   "cell_type": "code",
   "execution_count": 281,
   "metadata": {},
   "outputs": [],
   "source": [
    "# Instantiate the model with hyperparameters\n",
    "model = RnnTabularModel(emb_szs, n_cont, out_sz, lyrs, bs)\n",
    "\n",
    "# We'll also set the model to the device that we defined earlier (default is CPU)\n",
    "model.to(device)\n",
    "\n",
    "# Define hyperparameters\n",
    "n_epochs = 100\n",
    "lr=1e-3\n",
    "\n",
    "# Define Loss, Optimizer\n",
    "criterion = nn.CrossEntropyLoss()\n",
    "optimizer = torch.optim.Adam(model.parameters(), lr=lr)"
   ]
  },
  {
   "cell_type": "code",
   "execution_count": 282,
   "metadata": {
    "scrolled": true
   },
   "outputs": [
    {
     "name": "stdout",
     "output_type": "stream",
     "text": [
      "Epoch: 1/100............. Loss: 1.1546\n",
      "Epoch: 2/100............. Loss: 1.1518\n",
      "Epoch: 3/100............. Loss: 1.1747\n",
      "Epoch: 4/100............. Loss: 1.2026\n",
      "Epoch: 5/100............. Loss: 1.2358\n",
      "Epoch: 6/100............. Loss: 1.2513\n",
      "Epoch: 7/100............. Loss: 1.1656\n",
      "Epoch: 8/100............. Loss: 1.1731\n",
      "Epoch: 9/100............. Loss: 1.1681\n",
      "Epoch: 10/100............. Loss: 1.1510\n",
      "Epoch: 11/100............. Loss: 1.1263\n",
      "Epoch: 12/100............. Loss: 1.1009\n",
      "Epoch: 13/100............. Loss: 1.1078\n",
      "Epoch: 14/100............. Loss: 1.1073\n",
      "Epoch: 15/100............. Loss: 1.1270\n",
      "Epoch: 16/100............. Loss: 1.1065\n",
      "Epoch: 17/100............. Loss: 1.0617\n",
      "Epoch: 18/100............. Loss: 1.0889\n",
      "Epoch: 19/100............. Loss: 1.0603\n",
      "Epoch: 20/100............. Loss: 1.0584\n",
      "Epoch: 21/100............. Loss: 1.0550\n",
      "Epoch: 22/100............. Loss: 1.0197\n",
      "Epoch: 23/100............. Loss: 1.0467\n",
      "Epoch: 24/100............. Loss: 1.0330\n",
      "Epoch: 25/100............. Loss: 1.0205\n",
      "Epoch: 26/100............. Loss: 1.0137\n",
      "Epoch: 27/100............. Loss: 1.0009\n",
      "Epoch: 28/100............. Loss: 0.9684\n",
      "Epoch: 29/100............. Loss: 0.9620\n",
      "Epoch: 30/100............. Loss: 0.9632\n",
      "Epoch: 31/100............. Loss: 0.9956\n",
      "Epoch: 32/100............. Loss: 1.0178\n",
      "Epoch: 33/100............. Loss: 1.0174\n",
      "Epoch: 34/100............. Loss: 0.9661\n",
      "Epoch: 35/100............. Loss: 0.9382\n",
      "Epoch: 36/100............. Loss: 0.9561\n",
      "Epoch: 37/100............. Loss: 0.9555\n",
      "Epoch: 38/100............. Loss: 0.9336\n",
      "Epoch: 39/100............. Loss: 0.9086\n",
      "Epoch: 40/100............. Loss: 0.8808\n",
      "Epoch: 41/100............. Loss: 0.8758\n",
      "Epoch: 42/100............. Loss: 0.8579\n",
      "Epoch: 43/100............. Loss: 0.8507\n",
      "Epoch: 44/100............. Loss: 0.8404\n",
      "Epoch: 45/100............. Loss: 0.8409\n",
      "Epoch: 46/100............. Loss: 0.8350\n",
      "Epoch: 47/100............. Loss: 0.8324\n",
      "Epoch: 48/100............. Loss: 0.8213\n",
      "Epoch: 49/100............. Loss: 0.8294\n",
      "Epoch: 50/100............. Loss: 0.8076\n",
      "Epoch: 51/100............. Loss: 0.8128\n",
      "Epoch: 52/100............. Loss: 0.8043\n",
      "Epoch: 53/100............. Loss: 0.8187\n",
      "Epoch: 54/100............. Loss: 0.7767\n",
      "Epoch: 55/100............. Loss: 0.7984\n",
      "Epoch: 56/100............. Loss: 0.7675\n",
      "Epoch: 57/100............. Loss: 0.7929\n",
      "Epoch: 58/100............. Loss: 0.7906\n",
      "Epoch: 59/100............. Loss: 0.7948\n",
      "Epoch: 60/100............. Loss: 0.7473\n",
      "Epoch: 61/100............. Loss: 0.7449\n",
      "Epoch: 62/100............. Loss: 0.7252\n",
      "Epoch: 63/100............. Loss: 0.7014\n",
      "Epoch: 64/100............. Loss: 0.6841\n",
      "Epoch: 65/100............. Loss: 0.6691\n",
      "Epoch: 66/100............. Loss: 0.6603\n",
      "Epoch: 67/100............. Loss: 0.6495\n",
      "Epoch: 68/100............. Loss: 0.6438\n",
      "Epoch: 69/100............. Loss: 0.6348\n",
      "Epoch: 70/100............. Loss: 0.6267\n",
      "Epoch: 71/100............. Loss: 0.6165\n",
      "Epoch: 72/100............. Loss: 0.6093\n",
      "Epoch: 73/100............. Loss: 0.5989\n",
      "Epoch: 74/100............. Loss: 0.5997\n",
      "Epoch: 75/100............. Loss: 0.5927\n",
      "Epoch: 76/100............. Loss: 0.5849\n",
      "Epoch: 77/100............. Loss: 0.5647\n",
      "Epoch: 78/100............. Loss: 0.5517\n",
      "Epoch: 79/100............. Loss: 0.5380\n",
      "Epoch: 80/100............. Loss: 0.5282\n",
      "Epoch: 81/100............. Loss: 0.5188\n",
      "Epoch: 82/100............. Loss: 0.5099\n",
      "Epoch: 83/100............. Loss: 0.5044\n",
      "Epoch: 84/100............. Loss: 0.4944\n",
      "Epoch: 85/100............. Loss: 0.4879\n",
      "Epoch: 86/100............. Loss: 0.4774\n",
      "Epoch: 87/100............. Loss: 0.4681\n",
      "Epoch: 88/100............. Loss: 0.4586\n",
      "Epoch: 89/100............. Loss: 0.4525\n",
      "Epoch: 90/100............. Loss: 0.4442\n",
      "Epoch: 91/100............. Loss: 0.4480\n",
      "Epoch: 92/100............. Loss: 0.4976\n",
      "Epoch: 93/100............. Loss: 0.4653\n",
      "Epoch: 94/100............. Loss: 0.4389\n",
      "Epoch: 95/100............. Loss: 0.4204\n",
      "Epoch: 96/100............. Loss: 0.4071\n",
      "Epoch: 97/100............. Loss: 0.3910\n",
      "Epoch: 98/100............. Loss: 0.3769\n",
      "Epoch: 99/100............. Loss: 0.3694\n",
      "Epoch: 100/100............. Loss: 0.3630\n"
     ]
    }
   ],
   "source": [
    "# Training Run\n",
    "model.train()\n",
    "for epoch in range(1, n_epochs + 1):\n",
    "    dl_it = iter(curr_dl)    \n",
    "    \n",
    "    for i_batch in range(len(dl_it)):    \n",
    "        optimizer.zero_grad() # Clears existing gradients from previous epoch\n",
    "        curr_batch = next(dl_it)\n",
    "        x_cat, x_cont, res = curr_batch[0][0].to(device), curr_batch[0][1].to(device), curr_batch[1].to(device)\n",
    "        output = model(x_cat, x_cont)\n",
    "        \n",
    "        loss = criterion(output.view(560,3), res.view(-1).long())\n",
    "        loss.backward() # Does backpropagation and calculates gradients\n",
    "        optimizer.step() # Updates the weights accordingly\n",
    "    \n",
    "    if epoch%1 == 0:\n",
    "        print('Epoch: {}/{}.............'.format(epoch, n_epochs), end=' ')\n",
    "        print(\"Loss: {:.4f}\".format(loss.item()))"
   ]
  },
  {
   "cell_type": "code",
   "execution_count": 289,
   "metadata": {},
   "outputs": [],
   "source": [
    "# This function takes in the model and character as arguments and returns the next character prediction and hidden state\n",
    "def predict(model, data_cat, data_cont, data_res):\n",
    "    model.eval()\n",
    "    out = model(data_cat.to(device), data_cont.to(device))\n",
    "    prob = nn.functional.softmax(out.view(560, 3), dim=0).data\n",
    "    # Taking the class with the highest probability score from the output\n",
    "    out = torch.max(prob, dim=1)[1]\n",
    "    return out"
   ]
  },
  {
   "cell_type": "code",
   "execution_count": 181,
   "metadata": {
    "collapsed": true
   },
   "outputs": [
    {
     "data": {
      "text/plain": [
       "[[tensor([[[1, 1, 1, 2, 2],\n",
       "           [1, 1, 1, 2, 2],\n",
       "           [1, 1, 1, 2, 2],\n",
       "           ...,\n",
       "           [1, 1, 1, 2, 2],\n",
       "           [1, 1, 1, 2, 2],\n",
       "           [1, 1, 1, 2, 2]],\n",
       "  \n",
       "          [[1, 1, 1, 2, 2],\n",
       "           [1, 1, 1, 2, 2],\n",
       "           [1, 1, 1, 2, 2],\n",
       "           ...,\n",
       "           [1, 1, 1, 2, 2],\n",
       "           [1, 1, 1, 2, 2],\n",
       "           [1, 1, 1, 2, 2]],\n",
       "  \n",
       "          [[1, 1, 1, 2, 2],\n",
       "           [1, 1, 1, 2, 2],\n",
       "           [1, 1, 1, 2, 2],\n",
       "           ...,\n",
       "           [1, 1, 1, 2, 2],\n",
       "           [1, 1, 1, 2, 2],\n",
       "           [1, 1, 1, 2, 2]],\n",
       "  \n",
       "          ...,\n",
       "  \n",
       "          [[1, 1, 1, 1, 2],\n",
       "           [1, 1, 1, 1, 2],\n",
       "           [1, 1, 1, 1, 2],\n",
       "           ...,\n",
       "           [1, 1, 1, 1, 2],\n",
       "           [1, 1, 1, 1, 2],\n",
       "           [1, 1, 1, 1, 2]],\n",
       "  \n",
       "          [[1, 1, 1, 1, 2],\n",
       "           [1, 1, 1, 1, 2],\n",
       "           [1, 1, 1, 1, 2],\n",
       "           ...,\n",
       "           [1, 1, 1, 1, 2],\n",
       "           [1, 1, 1, 1, 2],\n",
       "           [1, 1, 1, 1, 2]],\n",
       "  \n",
       "          [[1, 1, 1, 1, 1],\n",
       "           [1, 1, 1, 1, 1],\n",
       "           [1, 1, 1, 1, 1],\n",
       "           ...,\n",
       "           [1, 1, 1, 1, 1],\n",
       "           [1, 1, 1, 1, 1],\n",
       "           [1, 1, 1, 1, 1]]]),\n",
       "  tensor([[[-1.6398, -1.7630, -1.3698,  ..., -2.1048,  0.0909, -1.8672],\n",
       "           [-1.6398, -1.7630, -1.3698,  ..., -2.1048,  0.0909, -1.8672],\n",
       "           [-1.6398, -1.7630, -1.3698,  ..., -2.1048,  0.0909, -1.8672],\n",
       "           ...,\n",
       "           [-1.6398, -1.7630, -1.3698,  ..., -2.1048,  0.0909, -1.8672],\n",
       "           [-1.6398, -1.7630, -1.3698,  ..., -2.1048,  0.0909, -1.8672],\n",
       "           [-1.6398, -1.7630, -1.3698,  ..., -2.1048,  0.0909, -1.8672]],\n",
       "  \n",
       "          [[-1.6303, -1.7034, -1.4063,  ..., -2.0107, -0.0638, -1.9293],\n",
       "           [-1.6303, -1.7034, -1.4063,  ..., -2.0107, -0.0638, -1.9293],\n",
       "           [-1.6303, -1.7034, -1.4063,  ..., -2.0107, -0.0638, -1.9293],\n",
       "           ...,\n",
       "           [-1.6303, -1.7034, -1.4063,  ..., -2.0107, -0.0638, -1.9293],\n",
       "           [-1.6303, -1.7034, -1.4063,  ..., -2.0107, -0.0638, -1.9293],\n",
       "           [-1.6303, -1.7034, -1.4063,  ..., -2.0107, -0.0638, -1.9293]],\n",
       "  \n",
       "          [[-1.6075, -1.5396, -1.5118,  ..., -2.0237, -0.2359, -2.0445],\n",
       "           [-1.6075, -1.5396, -1.5118,  ..., -2.0237, -0.2359, -2.0445],\n",
       "           [-1.6075, -1.5396, -1.5118,  ..., -2.0237, -0.2359, -2.0445],\n",
       "           ...,\n",
       "           [-1.6075, -1.5396, -1.5118,  ..., -2.0237, -0.2359, -2.0445],\n",
       "           [-1.6075, -1.5396, -1.5118,  ..., -2.0237, -0.2359, -2.0445],\n",
       "           [-1.6075, -1.5396, -1.5118,  ..., -2.0237, -0.2359, -2.0445]],\n",
       "  \n",
       "          ...,\n",
       "  \n",
       "          [[-1.6209, -2.0512, -1.4375,  ..., -2.2041,  0.2116, -1.4039],\n",
       "           [-1.6209, -2.0512, -1.4375,  ..., -2.2041,  0.2116, -1.4039],\n",
       "           [-1.6209, -2.0512, -1.4375,  ..., -2.2041,  0.2116, -1.4039],\n",
       "           ...,\n",
       "           [-1.6209, -2.0512, -1.4375,  ..., -2.2041,  0.2116, -1.4039],\n",
       "           [-1.6209, -2.0512, -1.4375,  ..., -2.2041,  0.2116, -1.4039],\n",
       "           [-1.6209, -2.0512, -1.4375,  ..., -2.2041,  0.2116, -1.4039]],\n",
       "  \n",
       "          [[-1.2964, -1.9227, -1.3236,  ..., -1.7083,  0.1470, -1.8817],\n",
       "           [-1.2964, -1.9227, -1.3236,  ..., -1.7083,  0.1470, -1.8817],\n",
       "           [-1.2964, -1.9227, -1.3236,  ..., -1.7083,  0.1470, -1.8817],\n",
       "           ...,\n",
       "           [-1.2964, -1.9227, -1.3236,  ..., -1.7083,  0.1470, -1.8817],\n",
       "           [-1.2964, -1.9227, -1.3236,  ..., -1.7083,  0.1470, -1.8817],\n",
       "           [-1.2964, -1.9227, -1.3236,  ..., -1.7083,  0.1470, -1.8817]],\n",
       "  \n",
       "          [[-1.2902, -1.6195, -1.1614,  ..., -2.1265,  0.2838, -1.4100],\n",
       "           [-1.2902, -1.6195, -1.1614,  ..., -2.1265,  0.2838, -1.4100],\n",
       "           [-1.2902, -1.6195, -1.1614,  ..., -2.1265,  0.2838, -1.4100],\n",
       "           ...,\n",
       "           [-1.2902, -1.6195, -1.1614,  ..., -2.1265,  0.2838, -1.4100],\n",
       "           [-1.2902, -1.6195, -1.1614,  ..., -2.1265,  0.2838, -1.4100],\n",
       "           [-1.2902, -1.6195, -1.1614,  ..., -2.1265,  0.2838, -1.4100]]])],\n",
       " tensor([[2, 2, 2, 2, 2, 2, 2, 2, 2, 2, 2, 2, 2, 2, 2, 2, 2, 2, 2, 2],\n",
       "         [1, 1, 1, 1, 1, 1, 1, 1, 1, 1, 1, 1, 1, 1, 1, 1, 1, 1, 1, 1],\n",
       "         [1, 1, 1, 1, 1, 1, 1, 1, 1, 1, 1, 1, 1, 1, 1, 1, 1, 1, 1, 1],\n",
       "         [0, 0, 0, 0, 0, 0, 0, 0, 0, 0, 0, 0, 0, 0, 0, 0, 0, 0, 0, 0],\n",
       "         [1, 1, 1, 1, 1, 1, 1, 1, 1, 1, 1, 1, 1, 1, 1, 1, 1, 1, 1, 1],\n",
       "         [1, 1, 1, 1, 1, 1, 1, 1, 1, 1, 1, 1, 1, 1, 1, 1, 1, 1, 1, 1],\n",
       "         [0, 0, 0, 0, 0, 0, 0, 0, 0, 0, 0, 0, 0, 0, 0, 0, 0, 0, 0, 0],\n",
       "         [0, 0, 0, 0, 0, 0, 0, 0, 0, 0, 0, 0, 0, 0, 0, 0, 0, 0, 0, 0],\n",
       "         [2, 2, 2, 2, 2, 2, 2, 2, 2, 2, 2, 2, 2, 2, 2, 2, 2, 2, 2, 2],\n",
       "         [1, 1, 1, 1, 1, 1, 1, 1, 1, 1, 1, 1, 1, 1, 1, 1, 1, 1, 1, 1],\n",
       "         [1, 1, 1, 1, 1, 1, 1, 1, 1, 1, 1, 1, 1, 1, 1, 1, 1, 1, 1, 1],\n",
       "         [1, 1, 1, 1, 1, 1, 1, 1, 1, 1, 1, 1, 1, 1, 1, 1, 1, 1, 1, 1],\n",
       "         [0, 0, 0, 0, 0, 0, 0, 0, 0, 0, 0, 0, 0, 0, 0, 0, 0, 0, 0, 0],\n",
       "         [2, 2, 2, 2, 2, 2, 2, 2, 2, 2, 2, 2, 2, 2, 2, 2, 2, 2, 1, 0],\n",
       "         [2, 2, 2, 2, 2, 2, 2, 2, 2, 2, 2, 2, 2, 2, 2, 2, 2, 2, 2, 2],\n",
       "         [1, 1, 1, 1, 1, 1, 1, 1, 1, 1, 1, 1, 1, 1, 1, 1, 1, 1, 1, 1],\n",
       "         [0, 0, 0, 0, 0, 0, 0, 0, 0, 0, 0, 0, 0, 0, 0, 0, 0, 0, 0, 0],\n",
       "         [0, 0, 0, 0, 0, 0, 0, 0, 0, 0, 0, 0, 0, 0, 0, 0, 0, 0, 0, 0],\n",
       "         [1, 1, 1, 1, 1, 1, 1, 1, 1, 1, 1, 1, 1, 1, 1, 1, 1, 1, 1, 1],\n",
       "         [2, 2, 2, 2, 2, 2, 2, 2, 2, 2, 2, 2, 2, 2, 2, 2, 2, 2, 2, 2],\n",
       "         [2, 2, 2, 2, 2, 2, 2, 2, 2, 2, 2, 2, 2, 2, 2, 2, 2, 2, 2, 2],\n",
       "         [0, 0, 0, 0, 0, 0, 0, 0, 0, 0, 0, 0, 0, 0, 0, 0, 0, 0, 0, 0],\n",
       "         [0, 0, 0, 0, 0, 0, 0, 0, 0, 0, 0, 0, 0, 0, 0, 0, 0, 0, 0, 0],\n",
       "         [0, 0, 0, 0, 0, 0, 0, 0, 0, 0, 0, 0, 0, 0, 0, 0, 0, 0, 0, 0],\n",
       "         [2, 2, 2, 2, 2, 2, 2, 2, 2, 2, 2, 2, 2, 2, 2, 2, 2, 2, 2, 2],\n",
       "         [1, 1, 1, 1, 1, 1, 1, 1, 1, 1, 1, 1, 1, 1, 1, 1, 1, 1, 1, 1],\n",
       "         [0, 0, 0, 0, 0, 0, 0, 0, 0, 0, 0, 0, 0, 0, 0, 0, 0, 0, 0, 0],\n",
       "         [2, 2, 2, 2, 2, 2, 2, 2, 2, 2, 2, 2, 2, 2, 2, 2, 2, 2, 2, 2]])]"
      ]
     },
     "execution_count": 181,
     "metadata": {},
     "output_type": "execute_result"
    }
   ],
   "source": [
    "tst"
   ]
  },
  {
   "cell_type": "code",
   "execution_count": 288,
   "metadata": {},
   "outputs": [],
   "source": [
    "curr_it = iter(curr_dl)\n",
    "for i in range(len(curr_it)):\n",
    "    tst = next(curr_it)"
   ]
  },
  {
   "cell_type": "code",
   "execution_count": 208,
   "metadata": {},
   "outputs": [],
   "source": [
    "sample_cat = tst[0][0][15][19]\n",
    "sample_cont = tst[0][1][15][19]\n",
    "sample_res = tst[1][15][19]"
   ]
  },
  {
   "cell_type": "code",
   "execution_count": 225,
   "metadata": {},
   "outputs": [
    {
     "data": {
      "text/plain": [
       "18"
      ]
     },
     "execution_count": 225,
     "metadata": {},
     "output_type": "execute_result"
    }
   ],
   "source": [
    "len(sample_cont)"
   ]
  },
  {
   "cell_type": "code",
   "execution_count": 221,
   "metadata": {},
   "outputs": [
    {
     "data": {
      "text/plain": [
       "tensor([[[-0.8220,  0.5123, -0.4454, -0.1394,  0.8653,  1.0890,  0.9801,\n",
       "           0.1642, -0.5185, -0.8218,  0.7856, -0.5247, -0.1176,  0.9761,\n",
       "          -0.8542,  0.2569, -0.9460, -0.6017]]])"
      ]
     },
     "execution_count": 221,
     "metadata": {},
     "output_type": "execute_result"
    }
   ],
   "source": [
    "sample_cont[None,None]"
   ]
  },
  {
   "cell_type": "code",
   "execution_count": 290,
   "metadata": {},
   "outputs": [
    {
     "ename": "RuntimeError",
     "evalue": "Expected hidden size (2, 1, 53), got (2, 28, 53)",
     "output_type": "error",
     "traceback": [
      "\u001b[0;31m---------------------------------------------------------------------------\u001b[0m",
      "\u001b[0;31mRuntimeError\u001b[0m                              Traceback (most recent call last)",
      "\u001b[0;32m<ipython-input-290-574478de4f9b>\u001b[0m in \u001b[0;36m<module>\u001b[0;34m()\u001b[0m\n\u001b[0;32m----> 1\u001b[0;31m \u001b[0msample_pred\u001b[0m \u001b[0;34m=\u001b[0m \u001b[0mpredict\u001b[0m\u001b[0;34m(\u001b[0m\u001b[0mmodel\u001b[0m\u001b[0;34m,\u001b[0m \u001b[0;34m(\u001b[0m\u001b[0mtst\u001b[0m\u001b[0;34m[\u001b[0m\u001b[0;36m0\u001b[0m\u001b[0;34m]\u001b[0m\u001b[0;34m[\u001b[0m\u001b[0;36m0\u001b[0m\u001b[0;34m]\u001b[0m\u001b[0;34m[\u001b[0m\u001b[0;36m15\u001b[0m\u001b[0;34m]\u001b[0m\u001b[0;34m[\u001b[0m\u001b[0;36m19\u001b[0m\u001b[0;34m]\u001b[0m\u001b[0;34m)\u001b[0m\u001b[0;34m[\u001b[0m\u001b[0;32mNone\u001b[0m\u001b[0;34m,\u001b[0m \u001b[0;32mNone\u001b[0m\u001b[0;34m]\u001b[0m\u001b[0;34m,\u001b[0m \u001b[0;34m(\u001b[0m\u001b[0mtst\u001b[0m\u001b[0;34m[\u001b[0m\u001b[0;36m0\u001b[0m\u001b[0;34m]\u001b[0m\u001b[0;34m[\u001b[0m\u001b[0;36m1\u001b[0m\u001b[0;34m]\u001b[0m\u001b[0;34m[\u001b[0m\u001b[0;36m15\u001b[0m\u001b[0;34m]\u001b[0m\u001b[0;34m[\u001b[0m\u001b[0;36m19\u001b[0m\u001b[0;34m]\u001b[0m\u001b[0;34m)\u001b[0m\u001b[0;34m[\u001b[0m\u001b[0;32mNone\u001b[0m\u001b[0;34m,\u001b[0m \u001b[0;32mNone\u001b[0m\u001b[0;34m]\u001b[0m\u001b[0;34m,\u001b[0m \u001b[0mtst\u001b[0m\u001b[0;34m[\u001b[0m\u001b[0;36m1\u001b[0m\u001b[0;34m]\u001b[0m\u001b[0;34m[\u001b[0m\u001b[0;36m15\u001b[0m\u001b[0;34m]\u001b[0m\u001b[0;34m[\u001b[0m\u001b[0;36m19\u001b[0m\u001b[0;34m]\u001b[0m\u001b[0;34m)\u001b[0m\u001b[0;34m\u001b[0m\u001b[0m\n\u001b[0m",
      "\u001b[0;32m<ipython-input-289-13fcd68f11d9>\u001b[0m in \u001b[0;36mpredict\u001b[0;34m(model, data_cat, data_cont, data_res)\u001b[0m\n\u001b[1;32m      2\u001b[0m \u001b[0;32mdef\u001b[0m \u001b[0mpredict\u001b[0m\u001b[0;34m(\u001b[0m\u001b[0mmodel\u001b[0m\u001b[0;34m,\u001b[0m \u001b[0mdata_cat\u001b[0m\u001b[0;34m,\u001b[0m \u001b[0mdata_cont\u001b[0m\u001b[0;34m,\u001b[0m \u001b[0mdata_res\u001b[0m\u001b[0;34m)\u001b[0m\u001b[0;34m:\u001b[0m\u001b[0;34m\u001b[0m\u001b[0m\n\u001b[1;32m      3\u001b[0m     \u001b[0mmodel\u001b[0m\u001b[0;34m.\u001b[0m\u001b[0meval\u001b[0m\u001b[0;34m(\u001b[0m\u001b[0;34m)\u001b[0m\u001b[0;34m\u001b[0m\u001b[0m\n\u001b[0;32m----> 4\u001b[0;31m     \u001b[0mout\u001b[0m \u001b[0;34m=\u001b[0m \u001b[0mmodel\u001b[0m\u001b[0;34m(\u001b[0m\u001b[0mdata_cat\u001b[0m\u001b[0;34m.\u001b[0m\u001b[0mto\u001b[0m\u001b[0;34m(\u001b[0m\u001b[0mdevice\u001b[0m\u001b[0;34m)\u001b[0m\u001b[0;34m,\u001b[0m \u001b[0mdata_cont\u001b[0m\u001b[0;34m.\u001b[0m\u001b[0mto\u001b[0m\u001b[0;34m(\u001b[0m\u001b[0mdevice\u001b[0m\u001b[0;34m)\u001b[0m\u001b[0;34m)\u001b[0m\u001b[0;34m\u001b[0m\u001b[0m\n\u001b[0m\u001b[1;32m      5\u001b[0m     \u001b[0mprob\u001b[0m \u001b[0;34m=\u001b[0m \u001b[0mnn\u001b[0m\u001b[0;34m.\u001b[0m\u001b[0mfunctional\u001b[0m\u001b[0;34m.\u001b[0m\u001b[0msoftmax\u001b[0m\u001b[0;34m(\u001b[0m\u001b[0mout\u001b[0m\u001b[0;34m.\u001b[0m\u001b[0mview\u001b[0m\u001b[0;34m(\u001b[0m\u001b[0;36m560\u001b[0m\u001b[0;34m,\u001b[0m \u001b[0;36m3\u001b[0m\u001b[0;34m)\u001b[0m\u001b[0;34m,\u001b[0m \u001b[0mdim\u001b[0m\u001b[0;34m=\u001b[0m\u001b[0;36m0\u001b[0m\u001b[0;34m)\u001b[0m\u001b[0;34m.\u001b[0m\u001b[0mdata\u001b[0m\u001b[0;34m\u001b[0m\u001b[0m\n\u001b[1;32m      6\u001b[0m     \u001b[0;31m# Taking the class with the highest probability score from the output\u001b[0m\u001b[0;34m\u001b[0m\u001b[0;34m\u001b[0m\u001b[0m\n",
      "\u001b[0;32m~/anaconda3/lib/python3.6/site-packages/torch/nn/modules/module.py\u001b[0m in \u001b[0;36m__call__\u001b[0;34m(self, *input, **kwargs)\u001b[0m\n\u001b[1;32m    539\u001b[0m             \u001b[0mresult\u001b[0m \u001b[0;34m=\u001b[0m \u001b[0mself\u001b[0m\u001b[0;34m.\u001b[0m\u001b[0m_slow_forward\u001b[0m\u001b[0;34m(\u001b[0m\u001b[0;34m*\u001b[0m\u001b[0minput\u001b[0m\u001b[0;34m,\u001b[0m \u001b[0;34m**\u001b[0m\u001b[0mkwargs\u001b[0m\u001b[0;34m)\u001b[0m\u001b[0;34m\u001b[0m\u001b[0m\n\u001b[1;32m    540\u001b[0m         \u001b[0;32melse\u001b[0m\u001b[0;34m:\u001b[0m\u001b[0;34m\u001b[0m\u001b[0m\n\u001b[0;32m--> 541\u001b[0;31m             \u001b[0mresult\u001b[0m \u001b[0;34m=\u001b[0m \u001b[0mself\u001b[0m\u001b[0;34m.\u001b[0m\u001b[0mforward\u001b[0m\u001b[0;34m(\u001b[0m\u001b[0;34m*\u001b[0m\u001b[0minput\u001b[0m\u001b[0;34m,\u001b[0m \u001b[0;34m**\u001b[0m\u001b[0mkwargs\u001b[0m\u001b[0;34m)\u001b[0m\u001b[0;34m\u001b[0m\u001b[0m\n\u001b[0m\u001b[1;32m    542\u001b[0m         \u001b[0;32mfor\u001b[0m \u001b[0mhook\u001b[0m \u001b[0;32min\u001b[0m \u001b[0mself\u001b[0m\u001b[0;34m.\u001b[0m\u001b[0m_forward_hooks\u001b[0m\u001b[0;34m.\u001b[0m\u001b[0mvalues\u001b[0m\u001b[0;34m(\u001b[0m\u001b[0;34m)\u001b[0m\u001b[0;34m:\u001b[0m\u001b[0;34m\u001b[0m\u001b[0m\n\u001b[1;32m    543\u001b[0m             \u001b[0mhook_result\u001b[0m \u001b[0;34m=\u001b[0m \u001b[0mhook\u001b[0m\u001b[0;34m(\u001b[0m\u001b[0mself\u001b[0m\u001b[0;34m,\u001b[0m \u001b[0minput\u001b[0m\u001b[0;34m,\u001b[0m \u001b[0mresult\u001b[0m\u001b[0;34m)\u001b[0m\u001b[0;34m\u001b[0m\u001b[0m\n",
      "\u001b[0;32m<ipython-input-154-9b1635bdf1cb>\u001b[0m in \u001b[0;36mforward\u001b[0;34m(self, x_cat, x_cont)\u001b[0m\n\u001b[1;32m     35\u001b[0m             \u001b[0mi_proc\u001b[0m\u001b[0;34m[\u001b[0m\u001b[0;34m:\u001b[0m\u001b[0;34m,\u001b[0m \u001b[0mi_bptt\u001b[0m\u001b[0;34m]\u001b[0m \u001b[0;34m=\u001b[0m \u001b[0mx\u001b[0m\u001b[0;34m\u001b[0m\u001b[0m\n\u001b[1;32m     36\u001b[0m \u001b[0;34m\u001b[0m\u001b[0m\n\u001b[0;32m---> 37\u001b[0;31m         \u001b[0mres\u001b[0m\u001b[0;34m,\u001b[0m\u001b[0mh\u001b[0m \u001b[0;34m=\u001b[0m \u001b[0mself\u001b[0m\u001b[0;34m.\u001b[0m\u001b[0mrnn\u001b[0m\u001b[0;34m(\u001b[0m\u001b[0mi_proc\u001b[0m\u001b[0;34m,\u001b[0m \u001b[0mself\u001b[0m\u001b[0;34m.\u001b[0m\u001b[0mh\u001b[0m\u001b[0;34m)\u001b[0m\u001b[0;34m\u001b[0m\u001b[0m\n\u001b[0m\u001b[1;32m     38\u001b[0m         \u001b[0mself\u001b[0m\u001b[0;34m.\u001b[0m\u001b[0mh\u001b[0m \u001b[0;34m=\u001b[0m \u001b[0mh\u001b[0m\u001b[0;34m.\u001b[0m\u001b[0mdetach\u001b[0m\u001b[0;34m(\u001b[0m\u001b[0;34m)\u001b[0m\u001b[0;34m\u001b[0m\u001b[0m\n\u001b[1;32m     39\u001b[0m         \u001b[0;32mreturn\u001b[0m \u001b[0mself\u001b[0m\u001b[0;34m.\u001b[0m\u001b[0mh_o\u001b[0m\u001b[0;34m(\u001b[0m\u001b[0mself\u001b[0m\u001b[0;34m.\u001b[0m\u001b[0mbn\u001b[0m\u001b[0;34m(\u001b[0m\u001b[0mres\u001b[0m\u001b[0;34m)\u001b[0m\u001b[0;34m)\u001b[0m\u001b[0;34m\u001b[0m\u001b[0m\n",
      "\u001b[0;32m~/anaconda3/lib/python3.6/site-packages/torch/nn/modules/module.py\u001b[0m in \u001b[0;36m__call__\u001b[0;34m(self, *input, **kwargs)\u001b[0m\n\u001b[1;32m    539\u001b[0m             \u001b[0mresult\u001b[0m \u001b[0;34m=\u001b[0m \u001b[0mself\u001b[0m\u001b[0;34m.\u001b[0m\u001b[0m_slow_forward\u001b[0m\u001b[0;34m(\u001b[0m\u001b[0;34m*\u001b[0m\u001b[0minput\u001b[0m\u001b[0;34m,\u001b[0m \u001b[0;34m**\u001b[0m\u001b[0mkwargs\u001b[0m\u001b[0;34m)\u001b[0m\u001b[0;34m\u001b[0m\u001b[0m\n\u001b[1;32m    540\u001b[0m         \u001b[0;32melse\u001b[0m\u001b[0;34m:\u001b[0m\u001b[0;34m\u001b[0m\u001b[0m\n\u001b[0;32m--> 541\u001b[0;31m             \u001b[0mresult\u001b[0m \u001b[0;34m=\u001b[0m \u001b[0mself\u001b[0m\u001b[0;34m.\u001b[0m\u001b[0mforward\u001b[0m\u001b[0;34m(\u001b[0m\u001b[0;34m*\u001b[0m\u001b[0minput\u001b[0m\u001b[0;34m,\u001b[0m \u001b[0;34m**\u001b[0m\u001b[0mkwargs\u001b[0m\u001b[0;34m)\u001b[0m\u001b[0;34m\u001b[0m\u001b[0m\n\u001b[0m\u001b[1;32m    542\u001b[0m         \u001b[0;32mfor\u001b[0m \u001b[0mhook\u001b[0m \u001b[0;32min\u001b[0m \u001b[0mself\u001b[0m\u001b[0;34m.\u001b[0m\u001b[0m_forward_hooks\u001b[0m\u001b[0;34m.\u001b[0m\u001b[0mvalues\u001b[0m\u001b[0;34m(\u001b[0m\u001b[0;34m)\u001b[0m\u001b[0;34m:\u001b[0m\u001b[0;34m\u001b[0m\u001b[0m\n\u001b[1;32m    543\u001b[0m             \u001b[0mhook_result\u001b[0m \u001b[0;34m=\u001b[0m \u001b[0mhook\u001b[0m\u001b[0;34m(\u001b[0m\u001b[0mself\u001b[0m\u001b[0;34m,\u001b[0m \u001b[0minput\u001b[0m\u001b[0;34m,\u001b[0m \u001b[0mresult\u001b[0m\u001b[0;34m)\u001b[0m\u001b[0;34m\u001b[0m\u001b[0m\n",
      "\u001b[0;32m~/anaconda3/lib/python3.6/site-packages/torch/nn/modules/rnn.py\u001b[0m in \u001b[0;36mforward\u001b[0;34m(self, input, hx)\u001b[0m\n\u001b[1;32m    727\u001b[0m             \u001b[0;32mreturn\u001b[0m \u001b[0mself\u001b[0m\u001b[0;34m.\u001b[0m\u001b[0mforward_packed\u001b[0m\u001b[0;34m(\u001b[0m\u001b[0minput\u001b[0m\u001b[0;34m,\u001b[0m \u001b[0mhx\u001b[0m\u001b[0;34m)\u001b[0m\u001b[0;34m\u001b[0m\u001b[0m\n\u001b[1;32m    728\u001b[0m         \u001b[0;32melse\u001b[0m\u001b[0;34m:\u001b[0m\u001b[0;34m\u001b[0m\u001b[0m\n\u001b[0;32m--> 729\u001b[0;31m             \u001b[0;32mreturn\u001b[0m \u001b[0mself\u001b[0m\u001b[0;34m.\u001b[0m\u001b[0mforward_tensor\u001b[0m\u001b[0;34m(\u001b[0m\u001b[0minput\u001b[0m\u001b[0;34m,\u001b[0m \u001b[0mhx\u001b[0m\u001b[0;34m)\u001b[0m\u001b[0;34m\u001b[0m\u001b[0m\n\u001b[0m\u001b[1;32m    730\u001b[0m \u001b[0;34m\u001b[0m\u001b[0m\n\u001b[1;32m    731\u001b[0m \u001b[0;34m\u001b[0m\u001b[0m\n",
      "\u001b[0;32m~/anaconda3/lib/python3.6/site-packages/torch/nn/modules/rnn.py\u001b[0m in \u001b[0;36mforward_tensor\u001b[0;34m(self, input, hx)\u001b[0m\n\u001b[1;32m    719\u001b[0m         \u001b[0msorted_indices\u001b[0m \u001b[0;34m=\u001b[0m \u001b[0;32mNone\u001b[0m\u001b[0;34m\u001b[0m\u001b[0m\n\u001b[1;32m    720\u001b[0m         \u001b[0munsorted_indices\u001b[0m \u001b[0;34m=\u001b[0m \u001b[0;32mNone\u001b[0m\u001b[0;34m\u001b[0m\u001b[0m\n\u001b[0;32m--> 721\u001b[0;31m         \u001b[0moutput\u001b[0m\u001b[0;34m,\u001b[0m \u001b[0mhidden\u001b[0m \u001b[0;34m=\u001b[0m \u001b[0mself\u001b[0m\u001b[0;34m.\u001b[0m\u001b[0mforward_impl\u001b[0m\u001b[0;34m(\u001b[0m\u001b[0minput\u001b[0m\u001b[0;34m,\u001b[0m \u001b[0mhx\u001b[0m\u001b[0;34m,\u001b[0m \u001b[0mbatch_sizes\u001b[0m\u001b[0;34m,\u001b[0m \u001b[0mmax_batch_size\u001b[0m\u001b[0;34m,\u001b[0m \u001b[0msorted_indices\u001b[0m\u001b[0;34m)\u001b[0m\u001b[0;34m\u001b[0m\u001b[0m\n\u001b[0m\u001b[1;32m    722\u001b[0m         \u001b[0;32mreturn\u001b[0m \u001b[0moutput\u001b[0m\u001b[0;34m,\u001b[0m \u001b[0mself\u001b[0m\u001b[0;34m.\u001b[0m\u001b[0mpermute_hidden\u001b[0m\u001b[0;34m(\u001b[0m\u001b[0mhidden\u001b[0m\u001b[0;34m,\u001b[0m \u001b[0munsorted_indices\u001b[0m\u001b[0;34m)\u001b[0m\u001b[0;34m\u001b[0m\u001b[0m\n\u001b[1;32m    723\u001b[0m \u001b[0;34m\u001b[0m\u001b[0m\n",
      "\u001b[0;32m~/anaconda3/lib/python3.6/site-packages/torch/nn/modules/rnn.py\u001b[0m in \u001b[0;36mforward_impl\u001b[0;34m(self, input, hx, batch_sizes, max_batch_size, sorted_indices)\u001b[0m\n\u001b[1;32m    696\u001b[0m             \u001b[0mhx\u001b[0m \u001b[0;34m=\u001b[0m \u001b[0mself\u001b[0m\u001b[0;34m.\u001b[0m\u001b[0mpermute_hidden\u001b[0m\u001b[0;34m(\u001b[0m\u001b[0mhx\u001b[0m\u001b[0;34m,\u001b[0m \u001b[0msorted_indices\u001b[0m\u001b[0;34m)\u001b[0m\u001b[0;34m\u001b[0m\u001b[0m\n\u001b[1;32m    697\u001b[0m \u001b[0;34m\u001b[0m\u001b[0m\n\u001b[0;32m--> 698\u001b[0;31m         \u001b[0mself\u001b[0m\u001b[0;34m.\u001b[0m\u001b[0mcheck_forward_args\u001b[0m\u001b[0;34m(\u001b[0m\u001b[0minput\u001b[0m\u001b[0;34m,\u001b[0m \u001b[0mhx\u001b[0m\u001b[0;34m,\u001b[0m \u001b[0mbatch_sizes\u001b[0m\u001b[0;34m)\u001b[0m\u001b[0;34m\u001b[0m\u001b[0m\n\u001b[0m\u001b[1;32m    699\u001b[0m         \u001b[0mresult\u001b[0m \u001b[0;34m=\u001b[0m \u001b[0mself\u001b[0m\u001b[0;34m.\u001b[0m\u001b[0mrun_impl\u001b[0m\u001b[0;34m(\u001b[0m\u001b[0minput\u001b[0m\u001b[0;34m,\u001b[0m \u001b[0mhx\u001b[0m\u001b[0;34m,\u001b[0m \u001b[0mbatch_sizes\u001b[0m\u001b[0;34m)\u001b[0m\u001b[0;34m\u001b[0m\u001b[0m\n\u001b[1;32m    700\u001b[0m         \u001b[0moutput\u001b[0m \u001b[0;34m=\u001b[0m \u001b[0mresult\u001b[0m\u001b[0;34m[\u001b[0m\u001b[0;36m0\u001b[0m\u001b[0;34m]\u001b[0m\u001b[0;34m\u001b[0m\u001b[0m\n",
      "\u001b[0;32m~/anaconda3/lib/python3.6/site-packages/torch/nn/modules/rnn.py\u001b[0m in \u001b[0;36mcheck_forward_args\u001b[0;34m(self, input, hidden, batch_sizes)\u001b[0m\n\u001b[1;32m    171\u001b[0m         \u001b[0mexpected_hidden_size\u001b[0m \u001b[0;34m=\u001b[0m \u001b[0mself\u001b[0m\u001b[0;34m.\u001b[0m\u001b[0mget_expected_hidden_size\u001b[0m\u001b[0;34m(\u001b[0m\u001b[0minput\u001b[0m\u001b[0;34m,\u001b[0m \u001b[0mbatch_sizes\u001b[0m\u001b[0;34m)\u001b[0m\u001b[0;34m\u001b[0m\u001b[0m\n\u001b[1;32m    172\u001b[0m \u001b[0;34m\u001b[0m\u001b[0m\n\u001b[0;32m--> 173\u001b[0;31m         \u001b[0mself\u001b[0m\u001b[0;34m.\u001b[0m\u001b[0mcheck_hidden_size\u001b[0m\u001b[0;34m(\u001b[0m\u001b[0mhidden\u001b[0m\u001b[0;34m,\u001b[0m \u001b[0mexpected_hidden_size\u001b[0m\u001b[0;34m)\u001b[0m\u001b[0;34m\u001b[0m\u001b[0m\n\u001b[0m\u001b[1;32m    174\u001b[0m \u001b[0;34m\u001b[0m\u001b[0m\n\u001b[1;32m    175\u001b[0m     \u001b[0;32mdef\u001b[0m \u001b[0mpermute_hidden\u001b[0m\u001b[0;34m(\u001b[0m\u001b[0mself\u001b[0m\u001b[0;34m,\u001b[0m \u001b[0mhx\u001b[0m\u001b[0;34m,\u001b[0m \u001b[0mpermutation\u001b[0m\u001b[0;34m)\u001b[0m\u001b[0;34m:\u001b[0m\u001b[0;34m\u001b[0m\u001b[0m\n",
      "\u001b[0;32m~/anaconda3/lib/python3.6/site-packages/torch/nn/modules/rnn.py\u001b[0m in \u001b[0;36mcheck_hidden_size\u001b[0;34m(self, hx, expected_hidden_size, msg)\u001b[0m\n\u001b[1;32m    164\u001b[0m         \u001b[0;31m# type: (Tensor, Tuple[int, int, int], str) -> None\u001b[0m\u001b[0;34m\u001b[0m\u001b[0;34m\u001b[0m\u001b[0m\n\u001b[1;32m    165\u001b[0m         \u001b[0;32mif\u001b[0m \u001b[0mhx\u001b[0m\u001b[0;34m.\u001b[0m\u001b[0msize\u001b[0m\u001b[0;34m(\u001b[0m\u001b[0;34m)\u001b[0m \u001b[0;34m!=\u001b[0m \u001b[0mexpected_hidden_size\u001b[0m\u001b[0;34m:\u001b[0m\u001b[0;34m\u001b[0m\u001b[0m\n\u001b[0;32m--> 166\u001b[0;31m             \u001b[0;32mraise\u001b[0m \u001b[0mRuntimeError\u001b[0m\u001b[0;34m(\u001b[0m\u001b[0mmsg\u001b[0m\u001b[0;34m.\u001b[0m\u001b[0mformat\u001b[0m\u001b[0;34m(\u001b[0m\u001b[0mexpected_hidden_size\u001b[0m\u001b[0;34m,\u001b[0m \u001b[0mtuple\u001b[0m\u001b[0;34m(\u001b[0m\u001b[0mhx\u001b[0m\u001b[0;34m.\u001b[0m\u001b[0msize\u001b[0m\u001b[0;34m(\u001b[0m\u001b[0;34m)\u001b[0m\u001b[0;34m)\u001b[0m\u001b[0;34m)\u001b[0m\u001b[0;34m)\u001b[0m\u001b[0;34m\u001b[0m\u001b[0m\n\u001b[0m\u001b[1;32m    167\u001b[0m \u001b[0;34m\u001b[0m\u001b[0m\n\u001b[1;32m    168\u001b[0m     \u001b[0;32mdef\u001b[0m \u001b[0mcheck_forward_args\u001b[0m\u001b[0;34m(\u001b[0m\u001b[0mself\u001b[0m\u001b[0;34m,\u001b[0m \u001b[0minput\u001b[0m\u001b[0;34m,\u001b[0m \u001b[0mhidden\u001b[0m\u001b[0;34m,\u001b[0m \u001b[0mbatch_sizes\u001b[0m\u001b[0;34m)\u001b[0m\u001b[0;34m:\u001b[0m\u001b[0;34m\u001b[0m\u001b[0m\n",
      "\u001b[0;31mRuntimeError\u001b[0m: Expected hidden size (2, 1, 53), got (2, 28, 53)"
     ]
    }
   ],
   "source": [
    "sample_pred = predict(model, (tst[0][0][15][19])[None, None], (tst[0][1][15][19])[None, None], tst[1][15][19])"
   ]
  },
  {
   "cell_type": "code",
   "execution_count": 266,
   "metadata": {},
   "outputs": [
    {
     "data": {
      "text/plain": [
       "tensor([0, 2, 2, 2, 2, 0, 2, 2, 0, 2, 2, 2, 1, 1, 0, 2, 0, 1, 1, 0, 2, 2, 1, 2,\n",
       "        0, 2, 2, 0, 0, 1, 2, 1, 2, 2, 1, 0, 1, 2, 0, 1, 2, 2, 2, 2, 0, 2, 1, 0,\n",
       "        2, 1, 0, 1, 0, 2, 2, 1, 2, 0, 1, 1, 1, 1, 0, 1, 2, 0, 2, 1, 0, 2, 0, 2,\n",
       "        0, 1, 2, 0, 1, 2, 2, 0, 0, 0, 2, 1, 2, 2, 0, 1, 2, 1, 0, 0, 2, 0, 2, 0,\n",
       "        0, 2, 2, 1, 2, 1, 1, 2, 1, 1, 1, 2, 2, 1, 2, 0, 0, 0, 0, 2, 1, 0, 0, 1,\n",
       "        0, 2, 2, 1, 2, 0, 1, 2, 0, 0, 1, 0, 2, 2, 2, 2, 0, 2, 0, 2, 2, 2, 1, 1,\n",
       "        0, 2, 2, 2, 2, 1, 2, 0, 2, 1, 2, 2, 2, 2, 1, 1, 2, 0, 2, 2, 0, 1, 2, 1,\n",
       "        2, 2, 2, 0, 1, 0, 2, 2, 1, 1, 2, 1, 1, 1, 1, 0, 2, 2, 2, 1, 2, 2, 2, 0,\n",
       "        0, 2, 1, 1, 1, 1, 1, 2, 0, 1, 2, 1, 0, 2, 0, 2, 1, 0, 2, 2, 1, 2, 2, 0,\n",
       "        0, 0, 2, 1, 2, 2, 2, 2, 2, 1, 1, 2, 1, 0, 2, 2, 1, 1, 2, 2, 1, 2, 1, 1,\n",
       "        2, 0, 1, 2, 0, 0, 0, 1, 0, 1, 0, 0, 0, 2, 2, 0, 1, 1, 2, 1, 1, 1, 1, 1,\n",
       "        1, 0, 0, 2, 0, 1, 2, 1, 1, 0, 0, 1, 2, 2, 2, 1, 0, 2, 0, 2, 0, 2, 0, 0,\n",
       "        2, 1, 2, 2, 1, 1, 0, 2, 2, 1, 0, 2, 2, 0, 1, 2, 1, 1, 1, 1, 2, 2, 0, 1,\n",
       "        2, 2, 2, 0, 2, 2, 1, 1, 0, 2, 2, 1, 2, 0, 0, 2, 1, 1, 2, 2, 0, 2, 1, 0,\n",
       "        0, 1, 1, 1, 2, 2, 0, 1, 2, 2, 0, 2, 1, 1, 0, 0, 0, 2, 2, 2, 1, 1, 1, 1,\n",
       "        2, 0, 2, 1, 0, 1, 2, 0, 2, 0, 2, 0, 0, 1, 2, 2, 1, 2, 2, 1, 2, 2, 2, 2,\n",
       "        0, 2, 0, 2, 0, 2, 2, 1, 2, 2, 1, 2, 2, 2, 2, 0, 0, 0, 0, 1, 1, 0, 2, 2,\n",
       "        0, 2, 2, 1, 2, 2, 2, 2, 2, 0, 0, 1, 1, 0, 1, 2, 1, 2, 0, 1, 2, 1, 2, 0,\n",
       "        2, 2, 2, 0, 0, 2, 2, 2, 2, 2, 2, 2, 1, 2, 2, 0, 1, 2, 2, 0, 2, 0, 0, 2,\n",
       "        2, 1, 2, 1, 0, 1, 1, 2, 0, 1, 2, 1, 0, 2, 2, 1, 2, 0, 1, 2, 2, 2, 0, 1,\n",
       "        1, 0, 1, 2, 2, 1, 2, 0, 2, 0, 0, 2, 0, 0, 2, 1, 1, 2, 0, 0, 2, 2, 2, 2,\n",
       "        0, 0, 2, 1, 2, 2, 2, 2, 0, 1, 0, 0, 0, 0, 0, 2, 1, 0, 1, 0, 0, 0, 2, 0,\n",
       "        0, 0, 2, 0, 0, 0, 2, 1, 2, 1, 1, 1, 2, 0, 2, 2, 2, 2, 1, 1, 0, 0, 0, 2,\n",
       "        2, 1, 0, 2, 1, 2, 0, 1])"
      ]
     },
     "execution_count": 266,
     "metadata": {},
     "output_type": "execute_result"
    }
   ],
   "source": [
    "tst[1].view(-1)"
   ]
  },
  {
   "cell_type": "code",
   "execution_count": 261,
   "metadata": {},
   "outputs": [
    {
     "data": {
      "text/plain": [
       "tensor([0, 0, 0, 2, 2, 0, 2, 2, 0, 2, 2, 2, 1, 1, 0, 2, 0, 2, 0, 0, 1, 1, 1, 1,\n",
       "        1, 0, 2, 0, 0, 1, 2, 1, 2, 2, 1, 0, 1, 2, 0, 1, 1, 1, 1, 2, 1, 1, 1, 0,\n",
       "        1, 1, 0, 1, 1, 2, 2, 1, 2, 0, 1, 1, 1, 0, 0, 1, 2, 0, 1, 1, 0, 0, 0, 1,\n",
       "        0, 1, 2, 0, 0, 2, 2, 0, 0, 2, 2, 1, 0, 2, 1, 1, 1, 1, 0, 0, 2, 1, 2, 0,\n",
       "        0, 2, 2, 1, 1, 1, 0, 2, 1, 2, 1, 1, 2, 2, 2, 0, 0, 0, 0, 2, 0, 0, 0, 1,\n",
       "        2, 2, 0, 2, 2, 0, 0, 2, 0, 0, 0, 0, 2, 2, 2, 2, 0, 2, 0, 2, 2, 2, 1, 0,\n",
       "        0, 2, 2, 2, 2, 1, 2, 0, 2, 1, 2, 2, 2, 2, 1, 1, 1, 0, 1, 2, 0, 0, 2, 1,\n",
       "        2, 2, 2, 0, 0, 0, 2, 2, 1, 1, 2, 1, 1, 1, 1, 2, 2, 2, 2, 2, 2, 2, 2, 0,\n",
       "        0, 2, 1, 1, 1, 1, 1, 2, 2, 2, 1, 1, 0, 2, 0, 0, 1, 0, 2, 2, 1, 2, 0, 0,\n",
       "        0, 0, 2, 1, 0, 2, 2, 2, 2, 1, 1, 2, 1, 0, 2, 2, 1, 1, 2, 2, 1, 2, 1, 1,\n",
       "        1, 1, 1, 2, 0, 0, 0, 1, 0, 0, 0, 0, 0, 2, 2, 0, 0, 1, 2, 1, 2, 0, 1, 0,\n",
       "        0, 2, 0, 2, 0, 1, 2, 1, 0, 0, 0, 1, 2, 2, 2, 1, 0, 2, 2, 2, 0, 2, 0, 0,\n",
       "        2, 1, 2, 2, 1, 1, 0, 2, 0, 0, 0, 2, 2, 2, 1, 2, 1, 1, 1, 1, 2, 2, 0, 1,\n",
       "        2, 2, 2, 0, 2, 2, 1, 1, 0, 1, 0, 1, 2, 0, 1, 2, 1, 1, 0, 2, 0, 2, 0, 0,\n",
       "        0, 1, 1, 1, 2, 1, 0, 1, 2, 2, 0, 2, 1, 0, 0, 0, 0, 2, 2, 2, 1, 1, 1, 1,\n",
       "        2, 0, 1, 1, 2, 0, 1, 0, 2, 2, 2, 2, 1, 2, 2, 2, 1, 2, 2, 1, 2, 2, 2, 2,\n",
       "        0, 2, 0, 2, 0, 2, 2, 1, 2, 0, 1, 2, 2, 2, 2, 0, 1, 0, 0, 1, 1, 0, 0, 2,\n",
       "        0, 2, 1, 1, 0, 2, 2, 2, 2, 0, 0, 1, 2, 2, 2, 2, 1, 2, 0, 1, 2, 1, 2, 0,\n",
       "        2, 0, 2, 0, 0, 0, 2, 2, 2, 1, 1, 2, 0, 0, 0, 0, 1, 2, 2, 0, 2, 0, 0, 2,\n",
       "        0, 2, 2, 1, 0, 1, 1, 0, 0, 0, 2, 1, 0, 2, 2, 1, 2, 0, 1, 2, 2, 2, 0, 0,\n",
       "        2, 2, 2, 2, 2, 1, 2, 0, 2, 0, 0, 2, 2, 0, 2, 1, 1, 1, 0, 0, 2, 0, 2, 2,\n",
       "        0, 0, 0, 1, 2, 2, 2, 2, 0, 1, 0, 0, 0, 0, 0, 2, 1, 0, 2, 2, 0, 0, 2, 0,\n",
       "        0, 0, 2, 0, 0, 0, 2, 1, 2, 1, 1, 1, 2, 0, 2, 0, 2, 2, 1, 1, 0, 2, 0, 0,\n",
       "        2, 0, 0, 2, 1, 2, 0, 1])"
      ]
     },
     "execution_count": 261,
     "metadata": {},
     "output_type": "execute_result"
    }
   ],
   "source": [
    "sample_res"
   ]
  },
  {
   "cell_type": "code",
   "execution_count": 286,
   "metadata": {},
   "outputs": [
    {
     "name": "stdout",
     "output_type": "stream",
     "text": [
      "401\n",
      "0.7160714285714286\n"
     ]
    }
   ],
   "source": [
    "ttl = 0\n",
    "for i in range(len(sample_res)):\n",
    "    if(tst[1].view(-1)[i] == sample_res[i]): ttl += 1;\n",
    "print(ttl)\n",
    "print(ttl/560)"
   ]
  },
  {
   "cell_type": "code",
   "execution_count": 284,
   "metadata": {},
   "outputs": [],
   "source": [
    "x_cat, x_cont, opt_res = tst[0][0].to(device), tst[0][1].to(device), tst[1].to(device)\n",
    "res = model(x_cat, x_cont)"
   ]
  },
  {
   "cell_type": "code",
   "execution_count": 174,
   "metadata": {},
   "outputs": [],
   "source": [
    "a = res.view(560,3)"
   ]
  },
  {
   "cell_type": "code",
   "execution_count": 175,
   "metadata": {},
   "outputs": [
    {
     "data": {
      "text/plain": [
       "torch.Size([560, 3])"
      ]
     },
     "execution_count": 175,
     "metadata": {},
     "output_type": "execute_result"
    }
   ],
   "source": [
    "a.shape"
   ]
  },
  {
   "cell_type": "code",
   "execution_count": 176,
   "metadata": {},
   "outputs": [
    {
     "data": {
      "text/plain": [
       "tensor([[ 0.4455, -0.0132,  0.0848],\n",
       "        [ 0.4438, -0.0148,  0.0774],\n",
       "        [ 0.4437, -0.0166,  0.0717],\n",
       "        ...,\n",
       "        [-2.3829, -0.3268, -0.1882],\n",
       "        [-2.3756, -0.3514, -0.2349],\n",
       "        [-2.2101, -0.2192, -0.1468]], grad_fn=<ViewBackward>)"
      ]
     },
     "execution_count": 176,
     "metadata": {},
     "output_type": "execute_result"
    }
   ],
   "source": [
    "a"
   ]
  },
  {
   "cell_type": "code",
   "execution_count": 177,
   "metadata": {
    "collapsed": true
   },
   "outputs": [
    {
     "data": {
      "text/plain": [
       "tensor([[[ 4.4550e-01, -1.3243e-02,  8.4849e-02],\n",
       "         [ 4.4380e-01, -1.4818e-02,  7.7392e-02],\n",
       "         [ 4.4372e-01, -1.6578e-02,  7.1684e-02],\n",
       "         ...,\n",
       "         [ 4.4873e-01, -1.8039e-02,  7.1475e-02],\n",
       "         [ 4.5020e-01, -3.0685e-02,  7.4440e-02],\n",
       "         [ 4.4876e-01, -1.5992e-02,  8.8905e-02]],\n",
       "\n",
       "        [[ 6.4799e-01,  1.5648e-01,  3.1094e-02],\n",
       "         [ 6.4524e-01,  1.8014e-01,  3.2276e-02],\n",
       "         [ 6.4783e-01,  1.9683e-01,  3.3386e-02],\n",
       "         ...,\n",
       "         [ 6.7868e-01,  2.1301e-01,  3.0935e-02],\n",
       "         [ 6.8152e-01,  1.9582e-01,  5.0746e-02],\n",
       "         [ 6.5946e-01,  1.4105e-01,  3.3128e-02]],\n",
       "\n",
       "        [[ 1.3796e-02,  3.2704e-01, -1.4078e-01],\n",
       "         [ 1.8715e-03,  3.4906e-01, -1.2398e-01],\n",
       "         [-2.0986e-02,  3.7055e-01, -1.2127e-01],\n",
       "         ...,\n",
       "         [-7.5900e-02,  4.0827e-01, -1.7442e-01],\n",
       "         [-7.2977e-02,  3.8313e-01, -1.4696e-01],\n",
       "         [-7.5574e-03,  3.2474e-01, -1.6616e-01]],\n",
       "\n",
       "        ...,\n",
       "\n",
       "        [[ 3.3565e-01, -1.8572e-01,  3.0215e-02],\n",
       "         [ 3.3403e-01, -2.1290e-01,  1.9004e-02],\n",
       "         [ 3.2876e-01, -2.3395e-01,  8.5639e-03],\n",
       "         ...,\n",
       "         [ 3.0014e-01, -2.5333e-01,  8.7254e-04],\n",
       "         [ 2.9453e-01, -2.6465e-01, -1.7742e-02],\n",
       "         [ 3.2688e-01, -1.7657e-01,  2.9466e-02]],\n",
       "\n",
       "        [[-1.9748e+00, -1.1550e-01, -1.0133e-01],\n",
       "         [-2.0133e+00, -1.5579e-01, -1.3033e-01],\n",
       "         [-2.0516e+00, -1.9047e-01, -1.6049e-01],\n",
       "         ...,\n",
       "         [-2.1632e+00, -2.4046e-01, -2.4441e-01],\n",
       "         [-2.1511e+00, -2.5385e-01, -2.5542e-01],\n",
       "         [-1.9731e+00, -1.0489e-01, -1.0774e-01]],\n",
       "\n",
       "        [[-2.2010e+00, -2.3462e-01, -1.2116e-01],\n",
       "         [-2.2262e+00, -2.7299e-01, -1.2212e-01],\n",
       "         [-2.2566e+00, -3.0233e-01, -1.3106e-01],\n",
       "         ...,\n",
       "         [-2.3829e+00, -3.2684e-01, -1.8825e-01],\n",
       "         [-2.3756e+00, -3.5143e-01, -2.3489e-01],\n",
       "         [-2.2101e+00, -2.1915e-01, -1.4680e-01]]], grad_fn=<AddBackward0>)"
      ]
     },
     "execution_count": 177,
     "metadata": {},
     "output_type": "execute_result"
    }
   ],
   "source": [
    "res"
   ]
  },
  {
   "cell_type": "code",
   "execution_count": 178,
   "metadata": {},
   "outputs": [
    {
     "data": {
      "text/plain": [
       "tensor(1.1363, grad_fn=<NllLossBackward>)"
      ]
     },
     "execution_count": 178,
     "metadata": {},
     "output_type": "execute_result"
    }
   ],
   "source": [
    "loss_func = nn.CrossEntropyLoss()\n",
    "loss_func(res.view(560,3), opt_res.view(-1))"
   ]
  },
  {
   "cell_type": "code",
   "execution_count": 153,
   "metadata": {},
   "outputs": [],
   "source": [
    "nn.CrossEntropyLoss??"
   ]
  },
  {
   "cell_type": "code",
   "execution_count": 147,
   "metadata": {},
   "outputs": [
    {
     "data": {
      "text/plain": [
       "560"
      ]
     },
     "execution_count": 147,
     "metadata": {},
     "output_type": "execute_result"
    }
   ],
   "source": [
    "len(opt_res.view(-1))"
   ]
  },
  {
   "cell_type": "code",
   "execution_count": 148,
   "metadata": {},
   "outputs": [
    {
     "data": {
      "text/plain": [
       "560"
      ]
     },
     "execution_count": 148,
     "metadata": {},
     "output_type": "execute_result"
    }
   ],
   "source": [
    "len(res.view(-1))"
   ]
  },
  {
   "cell_type": "code",
   "execution_count": 83,
   "metadata": {},
   "outputs": [
    {
     "data": {
      "text/plain": [
       "torch.Size([28, 20, 5])"
      ]
     },
     "execution_count": 83,
     "metadata": {},
     "output_type": "execute_result"
    }
   ],
   "source": [
    "tst[0][0].shape"
   ]
  },
  {
   "cell_type": "code",
   "execution_count": 84,
   "metadata": {},
   "outputs": [
    {
     "data": {
      "text/plain": [
       "torch.Size([28, 20, 18])"
      ]
     },
     "execution_count": 84,
     "metadata": {},
     "output_type": "execute_result"
    }
   ],
   "source": [
    "tst[0][1].shape"
   ]
  },
  {
   "cell_type": "code",
   "execution_count": 127,
   "metadata": {},
   "outputs": [
    {
     "data": {
      "text/plain": [
       "tensor([2, 2, 2, 2, 2, 2, 2, 2, 2, 2, 2, 2, 2, 2, 2, 2, 2, 2, 2, 2, 1, 1, 1, 1,\n",
       "        1, 1, 1, 1, 1, 1, 1, 1, 1, 1, 1, 1, 1, 1, 1, 1, 1, 1, 1, 1, 1, 1, 1, 1,\n",
       "        1, 1, 1, 1, 1, 1, 1, 1, 1, 1, 1, 1, 0, 0, 0, 0, 0, 0, 0, 0, 0, 0, 0, 0,\n",
       "        0, 0, 0, 0, 0, 0, 0, 0, 1, 1, 1, 1, 1, 1, 1, 1, 1, 1, 1, 1, 1, 1, 1, 1,\n",
       "        1, 1, 1, 1, 1, 1, 1, 1, 1, 1, 1, 1, 1, 1, 1, 1, 1, 1, 1, 1, 1, 1, 1, 1,\n",
       "        0, 0, 0, 0, 0, 0, 0, 0, 0, 0, 0, 0, 0, 0, 0, 0, 0, 0, 0, 0, 0, 0, 0, 0,\n",
       "        0, 0, 0, 0, 0, 0, 0, 0, 0, 0, 0, 0, 0, 0, 0, 0, 2, 2, 2, 2, 2, 2, 2, 2,\n",
       "        2, 2, 2, 2, 2, 2, 2, 2, 2, 2, 2, 2, 1, 1, 1, 1, 1, 1, 1, 1, 1, 1, 1, 1,\n",
       "        1, 1, 1, 1, 1, 1, 1, 1, 1, 1, 1, 1, 1, 1, 1, 1, 1, 1, 1, 1, 1, 1, 1, 1,\n",
       "        1, 1, 1, 1, 1, 1, 1, 1, 1, 1, 1, 1, 1, 1, 1, 1, 1, 1, 1, 1, 1, 1, 1, 1,\n",
       "        0, 0, 0, 0, 0, 0, 0, 0, 0, 0, 0, 0, 0, 0, 0, 0, 0, 0, 0, 0, 2, 2, 2, 2,\n",
       "        2, 2, 2, 2, 2, 2, 2, 2, 2, 2, 2, 2, 2, 2, 1, 0, 2, 2, 2, 2, 2, 2, 2, 2,\n",
       "        2, 2, 2, 2, 2, 2, 2, 2, 2, 2, 2, 2, 1, 1, 1, 1, 1, 1, 1, 1, 1, 1, 1, 1,\n",
       "        1, 1, 1, 1, 1, 1, 1, 1, 0, 0, 0, 0, 0, 0, 0, 0, 0, 0, 0, 0, 0, 0, 0, 0,\n",
       "        0, 0, 0, 0, 0, 0, 0, 0, 0, 0, 0, 0, 0, 0, 0, 0, 0, 0, 0, 0, 0, 0, 0, 0,\n",
       "        1, 1, 1, 1, 1, 1, 1, 1, 1, 1, 1, 1, 1, 1, 1, 1, 1, 1, 1, 1, 2, 2, 2, 2,\n",
       "        2, 2, 2, 2, 2, 2, 2, 2, 2, 2, 2, 2, 2, 2, 2, 2, 2, 2, 2, 2, 2, 2, 2, 2,\n",
       "        2, 2, 2, 2, 2, 2, 2, 2, 2, 2, 2, 2, 0, 0, 0, 0, 0, 0, 0, 0, 0, 0, 0, 0,\n",
       "        0, 0, 0, 0, 0, 0, 0, 0, 0, 0, 0, 0, 0, 0, 0, 0, 0, 0, 0, 0, 0, 0, 0, 0,\n",
       "        0, 0, 0, 0, 0, 0, 0, 0, 0, 0, 0, 0, 0, 0, 0, 0, 0, 0, 0, 0, 0, 0, 0, 0,\n",
       "        2, 2, 2, 2, 2, 2, 2, 2, 2, 2, 2, 2, 2, 2, 2, 2, 2, 2, 2, 2, 1, 1, 1, 1,\n",
       "        1, 1, 1, 1, 1, 1, 1, 1, 1, 1, 1, 1, 1, 1, 1, 1, 0, 0, 0, 0, 0, 0, 0, 0,\n",
       "        0, 0, 0, 0, 0, 0, 0, 0, 0, 0, 0, 0, 2, 2, 2, 2, 2, 2, 2, 2, 2, 2, 2, 2,\n",
       "        2, 2, 2, 2, 2, 2, 2, 2])"
      ]
     },
     "execution_count": 127,
     "metadata": {},
     "output_type": "execute_result"
    }
   ],
   "source": [
    "tst[1].view(-1)"
   ]
  }
 ],
 "metadata": {
  "kernelspec": {
   "display_name": "Python 3",
   "language": "python",
   "name": "python3"
  },
  "language_info": {
   "codemirror_mode": {
    "name": "ipython",
    "version": 3
   },
   "file_extension": ".py",
   "mimetype": "text/x-python",
   "name": "python",
   "nbconvert_exporter": "python",
   "pygments_lexer": "ipython3",
   "version": "3.7.6"
  }
 },
 "nbformat": 4,
 "nbformat_minor": 2
}
